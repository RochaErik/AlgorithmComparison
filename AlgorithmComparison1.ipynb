{
  "cells": [
    {
      "cell_type": "markdown",
      "metadata": {
        "colab_type": "text",
        "id": "view-in-github"
      },
      "source": [
        "<a href=\"https://colab.research.google.com/github/RochaErik/AlgorithmComparison/blob/main/AlgorithmComparison1.ipynb\" target=\"_parent\"><img src=\"https://colab.research.google.com/assets/colab-badge.svg\" alt=\"Open In Colab\"/></a>"
      ]
    },
    {
      "cell_type": "code",
      "execution_count": 1,
      "metadata": {
        "colab": {
          "base_uri": "https://localhost:8080/"
        },
        "id": "tnwsW6x9w1QO",
        "outputId": "fad3ad0d-f838-4cfe-e95c-f8295d5fd365"
      },
      "outputs": [
        {
          "name": "stdout",
          "output_type": "stream",
          "text": [
            "Requirement already satisfied: catboost in c:\\users\\erikc\\anaconda3\\envs\\algocomparison\\lib\\site-packages (1.2.1)\n",
            "Requirement already satisfied: graphviz in c:\\users\\erikc\\anaconda3\\envs\\algocomparison\\lib\\site-packages (from catboost) (0.20.1)\n",
            "Requirement already satisfied: matplotlib in c:\\users\\erikc\\anaconda3\\envs\\algocomparison\\lib\\site-packages (from catboost) (3.7.2)\n",
            "Requirement already satisfied: numpy>=1.16.0 in c:\\users\\erikc\\anaconda3\\envs\\algocomparison\\lib\\site-packages (from catboost) (1.25.2)\n",
            "Requirement already satisfied: pandas>=0.24 in c:\\users\\erikc\\anaconda3\\envs\\algocomparison\\lib\\site-packages (from catboost) (2.1.0)\n",
            "Requirement already satisfied: scipy in c:\\users\\erikc\\anaconda3\\envs\\algocomparison\\lib\\site-packages (from catboost) (1.11.2)\n",
            "Requirement already satisfied: plotly in c:\\users\\erikc\\anaconda3\\envs\\algocomparison\\lib\\site-packages (from catboost) (5.16.1)\n",
            "Requirement already satisfied: six in c:\\users\\erikc\\anaconda3\\envs\\algocomparison\\lib\\site-packages (from catboost) (1.16.0)\n",
            "Requirement already satisfied: python-dateutil>=2.8.2 in c:\\users\\erikc\\anaconda3\\envs\\algocomparison\\lib\\site-packages (from pandas>=0.24->catboost) (2.8.2)\n",
            "Requirement already satisfied: pytz>=2020.1 in c:\\users\\erikc\\anaconda3\\envs\\algocomparison\\lib\\site-packages (from pandas>=0.24->catboost) (2023.3.post1)\n",
            "Requirement already satisfied: tzdata>=2022.1 in c:\\users\\erikc\\anaconda3\\envs\\algocomparison\\lib\\site-packages (from pandas>=0.24->catboost) (2023.3)\n",
            "Requirement already satisfied: contourpy>=1.0.1 in c:\\users\\erikc\\anaconda3\\envs\\algocomparison\\lib\\site-packages (from matplotlib->catboost) (1.1.0)\n",
            "Requirement already satisfied: cycler>=0.10 in c:\\users\\erikc\\anaconda3\\envs\\algocomparison\\lib\\site-packages (from matplotlib->catboost) (0.11.0)\n",
            "Requirement already satisfied: fonttools>=4.22.0 in c:\\users\\erikc\\anaconda3\\envs\\algocomparison\\lib\\site-packages (from matplotlib->catboost) (4.42.1)\n",
            "Requirement already satisfied: kiwisolver>=1.0.1 in c:\\users\\erikc\\anaconda3\\envs\\algocomparison\\lib\\site-packages (from matplotlib->catboost) (1.4.5)\n",
            "Requirement already satisfied: packaging>=20.0 in c:\\users\\erikc\\anaconda3\\envs\\algocomparison\\lib\\site-packages (from matplotlib->catboost) (23.1)\n",
            "Requirement already satisfied: pillow>=6.2.0 in c:\\users\\erikc\\anaconda3\\envs\\algocomparison\\lib\\site-packages (from matplotlib->catboost) (10.0.0)\n",
            "Requirement already satisfied: pyparsing<3.1,>=2.3.1 in c:\\users\\erikc\\anaconda3\\envs\\algocomparison\\lib\\site-packages (from matplotlib->catboost) (3.0.9)\n",
            "Requirement already satisfied: importlib-resources>=3.2.0 in c:\\users\\erikc\\anaconda3\\envs\\algocomparison\\lib\\site-packages (from matplotlib->catboost) (6.0.1)\n",
            "Requirement already satisfied: tenacity>=6.2.0 in c:\\users\\erikc\\anaconda3\\envs\\algocomparison\\lib\\site-packages (from plotly->catboost) (8.2.3)\n",
            "Requirement already satisfied: zipp>=3.1.0 in c:\\users\\erikc\\anaconda3\\envs\\algocomparison\\lib\\site-packages (from importlib-resources>=3.2.0->matplotlib->catboost) (3.16.2)\n",
            "Requirement already satisfied: lightgbm in c:\\users\\erikc\\anaconda3\\envs\\algocomparison\\lib\\site-packages (4.0.0)\n",
            "Requirement already satisfied: numpy in c:\\users\\erikc\\anaconda3\\envs\\algocomparison\\lib\\site-packages (from lightgbm) (1.25.2)\n",
            "Requirement already satisfied: scipy in c:\\users\\erikc\\anaconda3\\envs\\algocomparison\\lib\\site-packages (from lightgbm) (1.11.2)\n"
          ]
        },
        {
          "name": "stdout",
          "output_type": "stream",
          "text": [
            "Requirement already satisfied: xgboost in c:\\users\\erikc\\anaconda3\\envs\\algocomparison\\lib\\site-packages (1.7.6)\n",
            "Requirement already satisfied: numpy in c:\\users\\erikc\\anaconda3\\envs\\algocomparison\\lib\\site-packages (from xgboost) (1.25.2)\n",
            "Requirement already satisfied: scipy in c:\\users\\erikc\\anaconda3\\envs\\algocomparison\\lib\\site-packages (from xgboost) (1.11.2)\n"
          ]
        }
      ],
      "source": [
        "!pip install catboost\n",
        "!pip install lightgbm\n",
        "!pip install xgboost"
      ]
    },
    {
      "cell_type": "code",
      "execution_count": 2,
      "metadata": {
        "id": "sp9bGvxdqiOw"
      },
      "outputs": [],
      "source": [
        "import numpy as np\n",
        "import pandas as pd\n",
        "import matplotlib.pyplot as plt\n",
        "import seaborn as sns\n",
        "import time\n",
        "\n",
        "from sklearn import metrics\n",
        "from sklearn.preprocessing import LabelEncoder\n",
        "from sklearn.model_selection import train_test_split\n",
        "from sklearn.model_selection import RepeatedKFold\n",
        "from sklearn.model_selection import cross_val_score\n",
        "from sklearn.ensemble import AdaBoostClassifier\n",
        "from sklearn.ensemble import GradientBoostingClassifier\n",
        "from catboost import CatBoostClassifier\n",
        "from lightgbm import LGBMClassifier\n",
        "from xgboost import XGBClassifier\n",
        "\n",
        "import warnings\n",
        "warnings.filterwarnings(\"ignore\", category=FutureWarning, module=\"xgboost\")"
      ]
    },
    {
      "cell_type": "markdown",
      "metadata": {
        "id": "5BBqjJH0_5DI"
      },
      "source": [
        "---"
      ]
    },
    {
      "cell_type": "markdown",
      "metadata": {
        "id": "DaYEQozCxuDa"
      },
      "source": [
        "# **(Unbalanced) Wine Dataset**"
      ]
    },
    {
      "cell_type": "markdown",
      "metadata": {
        "id": "EEzpklZG_6m1"
      },
      "source": [
        "---"
      ]
    },
    {
      "cell_type": "code",
      "execution_count": 3,
      "metadata": {
        "id": "cLB_RFl4272X"
      },
      "outputs": [],
      "source": [
        "wine_df = pd.read_csv('E:\\Cursos\\MestradoCienciaComputação\\Seminario\\Datasets\\Wine\\wine.data', header=None)"
      ]
    },
    {
      "cell_type": "code",
      "execution_count": 4,
      "metadata": {
        "colab": {
          "base_uri": "https://localhost:8080/",
          "height": 206
        },
        "id": "mnY6hIsov2QG",
        "outputId": "acb6dc2f-dd84-4eb2-9ffe-0a0db6223d46"
      },
      "outputs": [
        {
          "data": {
            "text/html": [
              "<div>\n",
              "<style scoped>\n",
              "    .dataframe tbody tr th:only-of-type {\n",
              "        vertical-align: middle;\n",
              "    }\n",
              "\n",
              "    .dataframe tbody tr th {\n",
              "        vertical-align: top;\n",
              "    }\n",
              "\n",
              "    .dataframe thead th {\n",
              "        text-align: right;\n",
              "    }\n",
              "</style>\n",
              "<table border=\"1\" class=\"dataframe\">\n",
              "  <thead>\n",
              "    <tr style=\"text-align: right;\">\n",
              "      <th></th>\n",
              "      <th>0</th>\n",
              "      <th>1</th>\n",
              "      <th>2</th>\n",
              "      <th>3</th>\n",
              "      <th>4</th>\n",
              "      <th>5</th>\n",
              "      <th>6</th>\n",
              "      <th>7</th>\n",
              "      <th>8</th>\n",
              "      <th>9</th>\n",
              "      <th>10</th>\n",
              "      <th>11</th>\n",
              "      <th>12</th>\n",
              "      <th>13</th>\n",
              "    </tr>\n",
              "  </thead>\n",
              "  <tbody>\n",
              "    <tr>\n",
              "      <th>0</th>\n",
              "      <td>1</td>\n",
              "      <td>14.23</td>\n",
              "      <td>1.71</td>\n",
              "      <td>2.43</td>\n",
              "      <td>15.6</td>\n",
              "      <td>127</td>\n",
              "      <td>2.80</td>\n",
              "      <td>3.06</td>\n",
              "      <td>0.28</td>\n",
              "      <td>2.29</td>\n",
              "      <td>5.64</td>\n",
              "      <td>1.04</td>\n",
              "      <td>3.92</td>\n",
              "      <td>1065</td>\n",
              "    </tr>\n",
              "    <tr>\n",
              "      <th>1</th>\n",
              "      <td>1</td>\n",
              "      <td>13.20</td>\n",
              "      <td>1.78</td>\n",
              "      <td>2.14</td>\n",
              "      <td>11.2</td>\n",
              "      <td>100</td>\n",
              "      <td>2.65</td>\n",
              "      <td>2.76</td>\n",
              "      <td>0.26</td>\n",
              "      <td>1.28</td>\n",
              "      <td>4.38</td>\n",
              "      <td>1.05</td>\n",
              "      <td>3.40</td>\n",
              "      <td>1050</td>\n",
              "    </tr>\n",
              "    <tr>\n",
              "      <th>2</th>\n",
              "      <td>1</td>\n",
              "      <td>13.16</td>\n",
              "      <td>2.36</td>\n",
              "      <td>2.67</td>\n",
              "      <td>18.6</td>\n",
              "      <td>101</td>\n",
              "      <td>2.80</td>\n",
              "      <td>3.24</td>\n",
              "      <td>0.30</td>\n",
              "      <td>2.81</td>\n",
              "      <td>5.68</td>\n",
              "      <td>1.03</td>\n",
              "      <td>3.17</td>\n",
              "      <td>1185</td>\n",
              "    </tr>\n",
              "    <tr>\n",
              "      <th>3</th>\n",
              "      <td>1</td>\n",
              "      <td>14.37</td>\n",
              "      <td>1.95</td>\n",
              "      <td>2.50</td>\n",
              "      <td>16.8</td>\n",
              "      <td>113</td>\n",
              "      <td>3.85</td>\n",
              "      <td>3.49</td>\n",
              "      <td>0.24</td>\n",
              "      <td>2.18</td>\n",
              "      <td>7.80</td>\n",
              "      <td>0.86</td>\n",
              "      <td>3.45</td>\n",
              "      <td>1480</td>\n",
              "    </tr>\n",
              "    <tr>\n",
              "      <th>4</th>\n",
              "      <td>1</td>\n",
              "      <td>13.24</td>\n",
              "      <td>2.59</td>\n",
              "      <td>2.87</td>\n",
              "      <td>21.0</td>\n",
              "      <td>118</td>\n",
              "      <td>2.80</td>\n",
              "      <td>2.69</td>\n",
              "      <td>0.39</td>\n",
              "      <td>1.82</td>\n",
              "      <td>4.32</td>\n",
              "      <td>1.04</td>\n",
              "      <td>2.93</td>\n",
              "      <td>735</td>\n",
              "    </tr>\n",
              "  </tbody>\n",
              "</table>\n",
              "</div>"
            ],
            "text/plain": [
              "   0      1     2     3     4    5     6     7     8     9     10    11    12  \\\n",
              "0   1  14.23  1.71  2.43  15.6  127  2.80  3.06  0.28  2.29  5.64  1.04  3.92   \n",
              "1   1  13.20  1.78  2.14  11.2  100  2.65  2.76  0.26  1.28  4.38  1.05  3.40   \n",
              "2   1  13.16  2.36  2.67  18.6  101  2.80  3.24  0.30  2.81  5.68  1.03  3.17   \n",
              "3   1  14.37  1.95  2.50  16.8  113  3.85  3.49  0.24  2.18  7.80  0.86  3.45   \n",
              "4   1  13.24  2.59  2.87  21.0  118  2.80  2.69  0.39  1.82  4.32  1.04  2.93   \n",
              "\n",
              "     13  \n",
              "0  1065  \n",
              "1  1050  \n",
              "2  1185  \n",
              "3  1480  \n",
              "4   735  "
            ]
          },
          "execution_count": 4,
          "metadata": {},
          "output_type": "execute_result"
        }
      ],
      "source": [
        "wine_df.head()"
      ]
    },
    {
      "cell_type": "code",
      "execution_count": 5,
      "metadata": {
        "colab": {
          "base_uri": "https://localhost:8080/"
        },
        "id": "cdrWfnm0Pz8w",
        "outputId": "6597becb-4b1d-4cd6-d45e-c17fa372fafc"
      },
      "outputs": [
        {
          "data": {
            "text/plain": [
              "(178, 14)"
            ]
          },
          "execution_count": 5,
          "metadata": {},
          "output_type": "execute_result"
        }
      ],
      "source": [
        "wine_df.shape"
      ]
    },
    {
      "cell_type": "code",
      "execution_count": 6,
      "metadata": {
        "colab": {
          "base_uri": "https://localhost:8080/"
        },
        "id": "0mA92PG9z08L",
        "outputId": "29f07026-9e9b-4677-f711-669c34af0b29"
      },
      "outputs": [
        {
          "name": "stdout",
          "output_type": "stream",
          "text": [
            "<class 'pandas.core.frame.DataFrame'>\n",
            "RangeIndex: 178 entries, 0 to 177\n",
            "Data columns (total 14 columns):\n",
            " #   Column  Non-Null Count  Dtype  \n",
            "---  ------  --------------  -----  \n",
            " 0   0       178 non-null    int64  \n",
            " 1   1       178 non-null    float64\n",
            " 2   2       178 non-null    float64\n",
            " 3   3       178 non-null    float64\n",
            " 4   4       178 non-null    float64\n",
            " 5   5       178 non-null    int64  \n",
            " 6   6       178 non-null    float64\n",
            " 7   7       178 non-null    float64\n",
            " 8   8       178 non-null    float64\n",
            " 9   9       178 non-null    float64\n",
            " 10  10      178 non-null    float64\n",
            " 11  11      178 non-null    float64\n",
            " 12  12      178 non-null    float64\n",
            " 13  13      178 non-null    int64  \n",
            "dtypes: float64(11), int64(3)\n",
            "memory usage: 19.6 KB\n"
          ]
        }
      ],
      "source": [
        "wine_df.info()"
      ]
    },
    {
      "cell_type": "code",
      "execution_count": 7,
      "metadata": {
        "colab": {
          "base_uri": "https://localhost:8080/"
        },
        "id": "zbW32kDBz-b2",
        "outputId": "c642d12d-728f-49bd-a5a7-0b3c9283e94e"
      },
      "outputs": [
        {
          "data": {
            "text/plain": [
              "0       3\n",
              "1     126\n",
              "2     133\n",
              "3      79\n",
              "4      63\n",
              "5      53\n",
              "6      97\n",
              "7     132\n",
              "8      39\n",
              "9     101\n",
              "10    132\n",
              "11     78\n",
              "12    122\n",
              "13    121\n",
              "dtype: int64"
            ]
          },
          "execution_count": 7,
          "metadata": {},
          "output_type": "execute_result"
        }
      ],
      "source": [
        "wine_df.nunique()"
      ]
    },
    {
      "cell_type": "code",
      "execution_count": 8,
      "metadata": {
        "colab": {
          "base_uri": "https://localhost:8080/"
        },
        "id": "cDhqUiGjvoMo",
        "outputId": "1ba6774b-5deb-4a38-927c-bbd91c3e5dbe"
      },
      "outputs": [
        {
          "data": {
            "text/plain": [
              "0\n",
              "2    71\n",
              "1    59\n",
              "3    48\n",
              "Name: count, dtype: int64"
            ]
          },
          "execution_count": 8,
          "metadata": {},
          "output_type": "execute_result"
        }
      ],
      "source": [
        "# Unbalanced dataset\n",
        "\n",
        "wine_df[0].value_counts()"
      ]
    },
    {
      "cell_type": "code",
      "execution_count": 9,
      "metadata": {
        "colab": {
          "base_uri": "https://localhost:8080/"
        },
        "id": "_Y0p7i8i6Dg5",
        "outputId": "4eb76a06-0b58-4ebd-ac08-e63789247abd"
      },
      "outputs": [
        {
          "data": {
            "text/plain": [
              "0     0\n",
              "1     0\n",
              "2     0\n",
              "3     0\n",
              "4     0\n",
              "5     0\n",
              "6     0\n",
              "7     0\n",
              "8     0\n",
              "9     0\n",
              "10    0\n",
              "11    0\n",
              "12    0\n",
              "13    0\n",
              "dtype: int64"
            ]
          },
          "execution_count": 9,
          "metadata": {},
          "output_type": "execute_result"
        }
      ],
      "source": [
        "wine_df.isna().sum()"
      ]
    },
    {
      "cell_type": "code",
      "execution_count": 10,
      "metadata": {
        "id": "M14nUml_1ENr"
      },
      "outputs": [],
      "source": [
        "X = wine_df.iloc[:, 1:]\n",
        "y = wine_df.iloc[:, 0]"
      ]
    },
    {
      "cell_type": "code",
      "execution_count": 11,
      "metadata": {
        "colab": {
          "base_uri": "https://localhost:8080/",
          "height": 206
        },
        "id": "_Y3bk16q2Esj",
        "outputId": "cb85ec99-c41d-4e64-8d7c-28bd90b4f7df"
      },
      "outputs": [
        {
          "data": {
            "text/html": [
              "<div>\n",
              "<style scoped>\n",
              "    .dataframe tbody tr th:only-of-type {\n",
              "        vertical-align: middle;\n",
              "    }\n",
              "\n",
              "    .dataframe tbody tr th {\n",
              "        vertical-align: top;\n",
              "    }\n",
              "\n",
              "    .dataframe thead th {\n",
              "        text-align: right;\n",
              "    }\n",
              "</style>\n",
              "<table border=\"1\" class=\"dataframe\">\n",
              "  <thead>\n",
              "    <tr style=\"text-align: right;\">\n",
              "      <th></th>\n",
              "      <th>1</th>\n",
              "      <th>2</th>\n",
              "      <th>3</th>\n",
              "      <th>4</th>\n",
              "      <th>5</th>\n",
              "      <th>6</th>\n",
              "      <th>7</th>\n",
              "      <th>8</th>\n",
              "      <th>9</th>\n",
              "      <th>10</th>\n",
              "      <th>11</th>\n",
              "      <th>12</th>\n",
              "      <th>13</th>\n",
              "    </tr>\n",
              "  </thead>\n",
              "  <tbody>\n",
              "    <tr>\n",
              "      <th>0</th>\n",
              "      <td>14.23</td>\n",
              "      <td>1.71</td>\n",
              "      <td>2.43</td>\n",
              "      <td>15.6</td>\n",
              "      <td>127</td>\n",
              "      <td>2.80</td>\n",
              "      <td>3.06</td>\n",
              "      <td>0.28</td>\n",
              "      <td>2.29</td>\n",
              "      <td>5.64</td>\n",
              "      <td>1.04</td>\n",
              "      <td>3.92</td>\n",
              "      <td>1065</td>\n",
              "    </tr>\n",
              "    <tr>\n",
              "      <th>1</th>\n",
              "      <td>13.20</td>\n",
              "      <td>1.78</td>\n",
              "      <td>2.14</td>\n",
              "      <td>11.2</td>\n",
              "      <td>100</td>\n",
              "      <td>2.65</td>\n",
              "      <td>2.76</td>\n",
              "      <td>0.26</td>\n",
              "      <td>1.28</td>\n",
              "      <td>4.38</td>\n",
              "      <td>1.05</td>\n",
              "      <td>3.40</td>\n",
              "      <td>1050</td>\n",
              "    </tr>\n",
              "    <tr>\n",
              "      <th>2</th>\n",
              "      <td>13.16</td>\n",
              "      <td>2.36</td>\n",
              "      <td>2.67</td>\n",
              "      <td>18.6</td>\n",
              "      <td>101</td>\n",
              "      <td>2.80</td>\n",
              "      <td>3.24</td>\n",
              "      <td>0.30</td>\n",
              "      <td>2.81</td>\n",
              "      <td>5.68</td>\n",
              "      <td>1.03</td>\n",
              "      <td>3.17</td>\n",
              "      <td>1185</td>\n",
              "    </tr>\n",
              "    <tr>\n",
              "      <th>3</th>\n",
              "      <td>14.37</td>\n",
              "      <td>1.95</td>\n",
              "      <td>2.50</td>\n",
              "      <td>16.8</td>\n",
              "      <td>113</td>\n",
              "      <td>3.85</td>\n",
              "      <td>3.49</td>\n",
              "      <td>0.24</td>\n",
              "      <td>2.18</td>\n",
              "      <td>7.80</td>\n",
              "      <td>0.86</td>\n",
              "      <td>3.45</td>\n",
              "      <td>1480</td>\n",
              "    </tr>\n",
              "    <tr>\n",
              "      <th>4</th>\n",
              "      <td>13.24</td>\n",
              "      <td>2.59</td>\n",
              "      <td>2.87</td>\n",
              "      <td>21.0</td>\n",
              "      <td>118</td>\n",
              "      <td>2.80</td>\n",
              "      <td>2.69</td>\n",
              "      <td>0.39</td>\n",
              "      <td>1.82</td>\n",
              "      <td>4.32</td>\n",
              "      <td>1.04</td>\n",
              "      <td>2.93</td>\n",
              "      <td>735</td>\n",
              "    </tr>\n",
              "  </tbody>\n",
              "</table>\n",
              "</div>"
            ],
            "text/plain": [
              "      1     2     3     4    5     6     7     8     9     10    11    12  \\\n",
              "0  14.23  1.71  2.43  15.6  127  2.80  3.06  0.28  2.29  5.64  1.04  3.92   \n",
              "1  13.20  1.78  2.14  11.2  100  2.65  2.76  0.26  1.28  4.38  1.05  3.40   \n",
              "2  13.16  2.36  2.67  18.6  101  2.80  3.24  0.30  2.81  5.68  1.03  3.17   \n",
              "3  14.37  1.95  2.50  16.8  113  3.85  3.49  0.24  2.18  7.80  0.86  3.45   \n",
              "4  13.24  2.59  2.87  21.0  118  2.80  2.69  0.39  1.82  4.32  1.04  2.93   \n",
              "\n",
              "     13  \n",
              "0  1065  \n",
              "1  1050  \n",
              "2  1185  \n",
              "3  1480  \n",
              "4   735  "
            ]
          },
          "execution_count": 11,
          "metadata": {},
          "output_type": "execute_result"
        }
      ],
      "source": [
        "X.head()"
      ]
    },
    {
      "cell_type": "code",
      "execution_count": 12,
      "metadata": {
        "colab": {
          "base_uri": "https://localhost:8080/"
        },
        "id": "STE2y_VH6z9W",
        "outputId": "39e84116-81f0-4032-c2df-3b7a4e0cbc1b"
      },
      "outputs": [
        {
          "data": {
            "text/plain": [
              "(178, 13)"
            ]
          },
          "execution_count": 12,
          "metadata": {},
          "output_type": "execute_result"
        }
      ],
      "source": [
        "X.shape"
      ]
    },
    {
      "cell_type": "code",
      "execution_count": 13,
      "metadata": {
        "colab": {
          "base_uri": "https://localhost:8080/"
        },
        "id": "2VEgeRAq2MPl",
        "outputId": "657e12bf-6a5b-408e-8969-ed3b85cee8bf"
      },
      "outputs": [
        {
          "data": {
            "text/plain": [
              "0    1\n",
              "1    1\n",
              "2    1\n",
              "3    1\n",
              "4    1\n",
              "Name: 0, dtype: int64"
            ]
          },
          "execution_count": 13,
          "metadata": {},
          "output_type": "execute_result"
        }
      ],
      "source": [
        "y.head()"
      ]
    },
    {
      "cell_type": "code",
      "execution_count": 14,
      "metadata": {
        "colab": {
          "base_uri": "https://localhost:8080/"
        },
        "id": "2CiRHPzR62CI",
        "outputId": "6af0561b-802b-4569-ef6b-c0638b131c4e"
      },
      "outputs": [
        {
          "data": {
            "text/plain": [
              "(178,)"
            ]
          },
          "execution_count": 14,
          "metadata": {},
          "output_type": "execute_result"
        }
      ],
      "source": [
        "y.shape"
      ]
    },
    {
      "cell_type": "code",
      "execution_count": 15,
      "metadata": {
        "id": "ROjsNxIAL9lJ"
      },
      "outputs": [],
      "source": [
        "# Since version 1.3.2 XGBoost needs target columns to start with 0 value\n",
        "\n",
        "le = LabelEncoder()\n",
        "y = le.fit_transform(y)"
      ]
    },
    {
      "cell_type": "code",
      "execution_count": 16,
      "metadata": {
        "colab": {
          "base_uri": "https://localhost:8080/"
        },
        "id": "LWaCPbhOngY0",
        "outputId": "667b898b-4842-46ae-ade4-a0ac8e77c31e"
      },
      "outputs": [
        {
          "data": {
            "text/plain": [
              "array([0, 0, 0, 0, 0, 0, 0, 0, 0, 0, 0, 0, 0, 0, 0, 0, 0, 0, 0, 0, 0, 0,\n",
              "       0, 0, 0, 0, 0, 0, 0, 0, 0, 0, 0, 0, 0, 0, 0, 0, 0, 0, 0, 0, 0, 0,\n",
              "       0, 0, 0, 0, 0, 0, 0, 0, 0, 0, 0, 0, 0, 0, 0, 1, 1, 1, 1, 1, 1, 1,\n",
              "       1, 1, 1, 1, 1, 1, 1, 1, 1, 1, 1, 1, 1, 1, 1, 1, 1, 1, 1, 1, 1, 1,\n",
              "       1, 1, 1, 1, 1, 1, 1, 1, 1, 1, 1, 1, 1, 1, 1, 1, 1, 1, 1, 1, 1, 1,\n",
              "       1, 1, 1, 1, 1, 1, 1, 1, 1, 1, 1, 1, 1, 1, 1, 1, 1, 1, 1, 1, 2, 2,\n",
              "       2, 2, 2, 2, 2, 2, 2, 2, 2, 2, 2, 2, 2, 2, 2, 2, 2, 2, 2, 2, 2, 2,\n",
              "       2, 2, 2, 2, 2, 2, 2, 2, 2, 2, 2, 2, 2, 2, 2, 2, 2, 2, 2, 2, 2, 2,\n",
              "       2, 2], dtype=int64)"
            ]
          },
          "execution_count": 16,
          "metadata": {},
          "output_type": "execute_result"
        }
      ],
      "source": [
        "y"
      ]
    },
    {
      "cell_type": "code",
      "execution_count": 186,
      "metadata": {
        "id": "I7HeY9sNRVZ4"
      },
      "outputs": [],
      "source": [
        "names = [\n",
        "          'AdaBoost',\n",
        "          'GradBoost',\n",
        "          'CatBoost',\n",
        "          'LightGBM',\n",
        "          'XGBoost'\n",
        "        ]\n",
        "\n",
        "classifiers = [\n",
        "                AdaBoostClassifier(),\n",
        "                GradientBoostingClassifier(),\n",
        "                CatBoostClassifier(silent=True),\n",
        "                LGBMClassifier(verbosity=-1),\n",
        "                XGBClassifier()\n",
        "              ]"
      ]
    },
    {
      "cell_type": "code",
      "execution_count": 18,
      "metadata": {
        "id": "OYE0u0vBO1SP"
      },
      "outputs": [],
      "source": [
        "rkf = RepeatedKFold(n_splits=10, n_repeats=10, random_state=42)"
      ]
    },
    {
      "cell_type": "code",
      "execution_count": 19,
      "metadata": {
        "colab": {
          "base_uri": "https://localhost:8080/"
        },
        "id": "P75qlMx0QRwC",
        "outputId": "20498872-e945-4428-bbb7-772762d48d7c"
      },
      "outputs": [
        {
          "name": "stdout",
          "output_type": "stream",
          "text": [
            "--------- AdaBoost on Wine Dataset ---------\n",
            "[0.94444444 0.88888889 0.72222222 0.88888889 1.         0.94444444\n",
            " 0.94444444 0.94444444 1.         0.76470588 0.94444444 0.83333333\n",
            " 0.88888889 0.83333333 0.88888889 0.83333333 1.         0.83333333\n",
            " 0.82352941 0.94117647 0.94444444 0.88888889 0.94444444 1.\n",
            " 1.         0.66666667 0.94444444 0.88888889 0.88235294 0.76470588\n",
            " 1.         1.         0.88888889 1.         0.88888889 1.\n",
            " 1.         0.77777778 0.82352941 0.94117647 0.94444444 0.83333333\n",
            " 1.         1.         0.94444444 0.94444444 0.83333333 0.83333333\n",
            " 0.94117647 0.88235294 0.94444444 1.         0.94444444 0.88888889\n",
            " 0.94444444 0.88888889 0.94444444 0.83333333 0.94117647 0.88235294\n",
            " 1.         0.88888889 0.72222222 0.88888889 1.         0.94444444\n",
            " 0.94444444 0.88888889 0.88235294 0.88235294 0.66666667 0.88888889\n",
            " 0.88888889 0.77777778 0.77777778 1.         1.         0.72222222\n",
            " 1.         0.88235294 0.88888889 0.88888889 1.         0.88888889\n",
            " 0.94444444 0.72222222 1.         0.83333333 1.         0.82352941\n",
            " 0.88888889 0.94444444 0.94444444 0.88888889 0.88888889 0.5\n",
            " 0.88888889 0.88888889 0.94117647 0.94117647]\n",
            "Accuracy: 89.83% (8.94%)\n",
            "Execution Time: 8.09 seconds\n",
            "------------------------------\n",
            "--------- GradBoost on Wine Dataset ---------\n",
            "[0.94444444 0.94444444 1.         0.94444444 0.88888889 0.94444444\n",
            " 0.94444444 0.94444444 1.         0.94117647 1.         1.\n",
            " 0.83333333 0.94444444 0.94444444 0.94444444 1.         1.\n",
            " 1.         0.94117647 0.94444444 0.94444444 0.94444444 0.88888889\n",
            " 1.         1.         0.94444444 0.94444444 1.         1.\n",
            " 0.94444444 0.94444444 1.         1.         0.94444444 1.\n",
            " 1.         0.83333333 0.94117647 0.88235294 0.88888889 0.94444444\n",
            " 0.94444444 0.94444444 0.88888889 0.83333333 0.88888889 1.\n",
            " 1.         1.         0.83333333 1.         0.94444444 0.83333333\n",
            " 0.94444444 0.94444444 1.         0.88888889 0.94117647 1.\n",
            " 1.         0.83333333 1.         0.88888889 1.         1.\n",
            " 1.         1.         0.94117647 0.94117647 0.94444444 0.94444444\n",
            " 0.94444444 0.94444444 0.94444444 0.94444444 1.         1.\n",
            " 0.88235294 0.94117647 0.94444444 0.88888889 0.94444444 0.94444444\n",
            " 0.94444444 0.88888889 1.         0.94444444 1.         1.\n",
            " 0.94444444 1.         0.88888889 0.88888889 0.94444444 1.\n",
            " 0.94444444 1.         1.         0.94117647]\n",
            "Accuracy: 95.02% (4.73%)\n",
            "Execution Time: 43.58 seconds\n",
            "------------------------------\n",
            "--------- CatBoost on Wine Dataset ---------\n",
            "[1.         1.         1.         1.         1.         0.88888889\n",
            " 0.94444444 0.94444444 1.         1.         1.         1.\n",
            " 0.94444444 0.94444444 0.94444444 1.         1.         1.\n",
            " 1.         0.94117647 1.         0.94444444 1.         0.94444444\n",
            " 1.         1.         0.94444444 1.         1.         1.\n",
            " 1.         1.         1.         1.         1.         1.\n",
            " 1.         0.94444444 1.         0.88235294 1.         0.94444444\n",
            " 1.         0.94444444 1.         0.88888889 1.         1.\n",
            " 1.         1.         0.94444444 1.         1.         1.\n",
            " 1.         1.         1.         0.88888889 0.94117647 1.\n",
            " 1.         0.88888889 1.         0.94444444 1.         1.\n",
            " 1.         1.         1.         0.94117647 0.94444444 1.\n",
            " 1.         1.         0.94444444 0.94444444 1.         1.\n",
            " 1.         1.         0.94444444 1.         1.         1.\n",
            " 1.         0.94444444 1.         0.94444444 0.94117647 1.\n",
            " 1.         1.         0.94444444 1.         1.         1.\n",
            " 0.94444444 1.         1.         0.94117647]\n",
            "Accuracy: 97.98% (3.23%)\n",
            "Execution Time: 181.49 seconds\n",
            "------------------------------\n",
            "--------- LightGBM on Wine Dataset ---------\n",
            "[1.         1.         1.         1.         0.94444444 0.94444444\n",
            " 0.94444444 0.94444444 1.         1.         1.         1.\n",
            " 0.94444444 1.         0.94444444 1.         0.94444444 1.\n",
            " 1.         0.94117647 0.94444444 0.94444444 1.         0.94444444\n",
            " 1.         0.94444444 0.94444444 1.         1.         1.\n",
            " 0.94444444 1.         1.         1.         0.94444444 1.\n",
            " 1.         0.94444444 1.         0.94117647 1.         0.94444444\n",
            " 1.         0.94444444 1.         0.88888889 1.         0.88888889\n",
            " 1.         1.         0.94444444 1.         1.         0.94444444\n",
            " 1.         1.         1.         0.88888889 0.94117647 1.\n",
            " 1.         0.88888889 1.         0.94444444 1.         0.94444444\n",
            " 1.         1.         0.94117647 0.94117647 1.         1.\n",
            " 1.         0.94444444 0.94444444 0.94444444 1.         1.\n",
            " 1.         1.         0.94444444 1.         1.         1.\n",
            " 0.94444444 0.94444444 1.         0.94444444 0.94117647 1.\n",
            " 1.         1.         0.94444444 0.94444444 1.         1.\n",
            " 0.94444444 1.         1.         0.94117647]\n",
            "Accuracy: 97.42% (3.21%)\n",
            "Execution Time: 5.01 seconds\n",
            "------------------------------\n",
            "--------- XGBoost on Wine Dataset ---------\n",
            "[0.94444444 1.         1.         1.         1.         0.88888889\n",
            " 0.94444444 0.94444444 1.         1.         1.         1.\n",
            " 0.88888889 0.94444444 0.94444444 1.         1.         1.\n",
            " 0.94117647 0.88235294 0.94444444 0.94444444 0.94444444 0.94444444\n",
            " 1.         1.         0.94444444 1.         1.         0.88235294\n",
            " 1.         1.         1.         1.         0.94444444 1.\n",
            " 1.         0.94444444 1.         0.88235294 1.         0.94444444\n",
            " 1.         0.88888889 0.94444444 0.94444444 1.         1.\n",
            " 1.         1.         0.88888889 1.         1.         0.94444444\n",
            " 1.         1.         1.         0.88888889 0.88235294 1.\n",
            " 1.         0.88888889 1.         0.88888889 1.         1.\n",
            " 1.         1.         1.         0.94117647 0.94444444 1.\n",
            " 1.         0.94444444 0.88888889 0.94444444 1.         1.\n",
            " 1.         0.88235294 0.94444444 0.88888889 1.         1.\n",
            " 1.         0.94444444 1.         0.94444444 0.94117647 1.\n",
            " 1.         1.         0.88888889 0.88888889 1.         1.\n",
            " 0.94444444 1.         1.         0.94117647]\n",
            "Accuracy: 96.68% (4.24%)\n",
            "Execution Time: 4.52 seconds\n",
            "------------------------------\n"
          ]
        }
      ],
      "source": [
        "wine_scores = []\n",
        "wine_scores_mean = []\n",
        "wine_scores_std = []\n",
        "model_names = []\n",
        "execution_times = []\n",
        "\n",
        "for name, clf in zip(names, classifiers):\n",
        "  start_time = time.time()\n",
        "  results = cross_val_score(clf, X, y, cv=rkf)\n",
        "  end_time = time.time()\n",
        "\n",
        "  wine_scores.append(results)\n",
        "  wine_scores_mean.append(results.mean()*100)\n",
        "  wine_scores_std.append(results.std()*100)\n",
        "  model_names.append(name)\n",
        "  execution_time = end_time - start_time  \n",
        "  execution_times.append(execution_time)\n",
        "  \n",
        "  print(f'--------- {name} on Wine Dataset ---------')\n",
        "  print(results)\n",
        "  print('Accuracy: %.2f%% (%.2f%%)' % (results.mean()*100, results.std()*100))\n",
        "  print(f'Execution Time: {execution_time:.2f} seconds')\n",
        "  print('------------------------------')"
      ]
    },
    {
      "cell_type": "code",
      "execution_count": 20,
      "metadata": {
        "colab": {
          "base_uri": "https://localhost:8080/",
          "height": 478
        },
        "id": "JyeMIPhKc-ur",
        "outputId": "bb2b9416-6d98-4005-f1cd-25ff846d3ec1"
      },
      "outputs": [
        {
          "data": {
            "image/png": "[encoded data removed]",
            "text/plain": [
              "<Figure size 640x480 with 1 Axes>"
            ]
          },
          "metadata": {},
          "output_type": "display_data"
        }
      ],
      "source": [
        "# algorithm comparison\n",
        "\n",
        "fig = plt.figure()\n",
        "fig.suptitle('Comparison between different Wine scores')\n",
        "ax = fig.add_subplot(111)\n",
        "plt.ylim(0.3, 1)\n",
        "plt.boxplot(wine_scores, showmeans=True)\n",
        "ax.set_xticklabels(model_names)\n",
        "plt.show()"
      ]
    },
    {
      "cell_type": "code",
      "execution_count": 21,
      "metadata": {
        "id": "vAnV1iX3nfAA"
      },
      "outputs": [],
      "source": [
        "Algo_results = pd.DataFrame()\n",
        "Algo_results['Names'] = names"
      ]
    },
    {
      "cell_type": "code",
      "execution_count": 22,
      "metadata": {
        "id": "UEQWSVTF2_f5"
      },
      "outputs": [],
      "source": [
        "Algo_results['Wine'] = wine_scores_mean"
      ]
    },
    {
      "cell_type": "code",
      "execution_count": 23,
      "metadata": {
        "colab": {
          "base_uri": "https://localhost:8080/",
          "height": 206
        },
        "id": "Fpz-TrKQSsGC",
        "outputId": "6bebad0a-b1e6-4333-c92f-f46259d3babb"
      },
      "outputs": [
        {
          "data": {
            "text/html": [
              "<div>\n",
              "<style scoped>\n",
              "    .dataframe tbody tr th:only-of-type {\n",
              "        vertical-align: middle;\n",
              "    }\n",
              "\n",
              "    .dataframe tbody tr th {\n",
              "        vertical-align: top;\n",
              "    }\n",
              "\n",
              "    .dataframe thead th {\n",
              "        text-align: right;\n",
              "    }\n",
              "</style>\n",
              "<table border=\"1\" class=\"dataframe\">\n",
              "  <thead>\n",
              "    <tr style=\"text-align: right;\">\n",
              "      <th></th>\n",
              "      <th>Names</th>\n",
              "      <th>Wine</th>\n",
              "    </tr>\n",
              "  </thead>\n",
              "  <tbody>\n",
              "    <tr>\n",
              "      <th>0</th>\n",
              "      <td>AdaBoost</td>\n",
              "      <td>89.830065</td>\n",
              "    </tr>\n",
              "    <tr>\n",
              "      <th>1</th>\n",
              "      <td>GradBoost</td>\n",
              "      <td>95.016340</td>\n",
              "    </tr>\n",
              "    <tr>\n",
              "      <th>2</th>\n",
              "      <td>CatBoost</td>\n",
              "      <td>97.977124</td>\n",
              "    </tr>\n",
              "    <tr>\n",
              "      <th>3</th>\n",
              "      <td>LightGBM</td>\n",
              "      <td>97.421569</td>\n",
              "    </tr>\n",
              "    <tr>\n",
              "      <th>4</th>\n",
              "      <td>XGBoost</td>\n",
              "      <td>96.676471</td>\n",
              "    </tr>\n",
              "  </tbody>\n",
              "</table>\n",
              "</div>"
            ],
            "text/plain": [
              "       Names       Wine\n",
              "0   AdaBoost  89.830065\n",
              "1  GradBoost  95.016340\n",
              "2   CatBoost  97.977124\n",
              "3   LightGBM  97.421569\n",
              "4    XGBoost  96.676471"
            ]
          },
          "execution_count": 23,
          "metadata": {},
          "output_type": "execute_result"
        }
      ],
      "source": [
        "Algo_results"
      ]
    },
    {
      "cell_type": "code",
      "execution_count": 24,
      "metadata": {},
      "outputs": [],
      "source": [
        "Algo_time_results = pd.DataFrame()\n",
        "Algo_time_results['Names'] = names"
      ]
    },
    {
      "cell_type": "code",
      "execution_count": 25,
      "metadata": {},
      "outputs": [],
      "source": [
        "Algo_time_results['Wine'] = pd.Series(execution_times)"
      ]
    },
    {
      "cell_type": "code",
      "execution_count": 26,
      "metadata": {},
      "outputs": [
        {
          "data": {
            "text/html": [
              "<div>\n",
              "<style scoped>\n",
              "    .dataframe tbody tr th:only-of-type {\n",
              "        vertical-align: middle;\n",
              "    }\n",
              "\n",
              "    .dataframe tbody tr th {\n",
              "        vertical-align: top;\n",
              "    }\n",
              "\n",
              "    .dataframe thead th {\n",
              "        text-align: right;\n",
              "    }\n",
              "</style>\n",
              "<table border=\"1\" class=\"dataframe\">\n",
              "  <thead>\n",
              "    <tr style=\"text-align: right;\">\n",
              "      <th></th>\n",
              "      <th>Names</th>\n",
              "      <th>Wine</th>\n",
              "    </tr>\n",
              "  </thead>\n",
              "  <tbody>\n",
              "    <tr>\n",
              "      <th>0</th>\n",
              "      <td>AdaBoost</td>\n",
              "      <td>8.091820</td>\n",
              "    </tr>\n",
              "    <tr>\n",
              "      <th>1</th>\n",
              "      <td>GradBoost</td>\n",
              "      <td>43.579652</td>\n",
              "    </tr>\n",
              "    <tr>\n",
              "      <th>2</th>\n",
              "      <td>CatBoost</td>\n",
              "      <td>181.492334</td>\n",
              "    </tr>\n",
              "    <tr>\n",
              "      <th>3</th>\n",
              "      <td>LightGBM</td>\n",
              "      <td>5.008662</td>\n",
              "    </tr>\n",
              "    <tr>\n",
              "      <th>4</th>\n",
              "      <td>XGBoost</td>\n",
              "      <td>4.517017</td>\n",
              "    </tr>\n",
              "  </tbody>\n",
              "</table>\n",
              "</div>"
            ],
            "text/plain": [
              "       Names        Wine\n",
              "0   AdaBoost    8.091820\n",
              "1  GradBoost   43.579652\n",
              "2   CatBoost  181.492334\n",
              "3   LightGBM    5.008662\n",
              "4    XGBoost    4.517017"
            ]
          },
          "execution_count": 26,
          "metadata": {},
          "output_type": "execute_result"
        }
      ],
      "source": [
        "Algo_time_results"
      ]
    },
    {
      "cell_type": "markdown",
      "metadata": {
        "id": "9RgnZO38_8oT"
      },
      "source": [
        "---"
      ]
    },
    {
      "cell_type": "markdown",
      "metadata": {
        "id": "nAozSx7Oy3yP"
      },
      "source": [
        "# **(Unbalanced) Breast Cancer Dataset**"
      ]
    },
    {
      "cell_type": "markdown",
      "metadata": {
        "id": "5RpTejMN_-SK"
      },
      "source": [
        "---"
      ]
    },
    {
      "cell_type": "code",
      "execution_count": 27,
      "metadata": {
        "id": "JbPSbYacy4e0"
      },
      "outputs": [],
      "source": [
        "breast_cancer_df = pd.read_csv('E:\\Cursos\\MestradoCienciaComputação\\Seminario\\Datasets\\BreastCancer\\Breast.dat', sep=',', header=None)"
      ]
    },
    {
      "cell_type": "code",
      "execution_count": 28,
      "metadata": {
        "colab": {
          "base_uri": "https://localhost:8080/",
          "height": 206
        },
        "id": "eCQAkcSI1_BO",
        "outputId": "f6fe750f-aeb4-465a-d418-4fdbc0a049c4"
      },
      "outputs": [
        {
          "data": {
            "text/html": [
              "<div>\n",
              "<style scoped>\n",
              "    .dataframe tbody tr th:only-of-type {\n",
              "        vertical-align: middle;\n",
              "    }\n",
              "\n",
              "    .dataframe tbody tr th {\n",
              "        vertical-align: top;\n",
              "    }\n",
              "\n",
              "    .dataframe thead th {\n",
              "        text-align: right;\n",
              "    }\n",
              "</style>\n",
              "<table border=\"1\" class=\"dataframe\">\n",
              "  <thead>\n",
              "    <tr style=\"text-align: right;\">\n",
              "      <th></th>\n",
              "      <th>0</th>\n",
              "      <th>1</th>\n",
              "      <th>2</th>\n",
              "      <th>3</th>\n",
              "      <th>4</th>\n",
              "      <th>5</th>\n",
              "      <th>6</th>\n",
              "      <th>7</th>\n",
              "      <th>8</th>\n",
              "      <th>9</th>\n",
              "    </tr>\n",
              "  </thead>\n",
              "  <tbody>\n",
              "    <tr>\n",
              "      <th>0</th>\n",
              "      <td>5</td>\n",
              "      <td>1</td>\n",
              "      <td>1</td>\n",
              "      <td>1</td>\n",
              "      <td>2</td>\n",
              "      <td>1</td>\n",
              "      <td>3</td>\n",
              "      <td>1</td>\n",
              "      <td>1</td>\n",
              "      <td>2</td>\n",
              "    </tr>\n",
              "    <tr>\n",
              "      <th>1</th>\n",
              "      <td>5</td>\n",
              "      <td>4</td>\n",
              "      <td>4</td>\n",
              "      <td>5</td>\n",
              "      <td>7</td>\n",
              "      <td>10</td>\n",
              "      <td>3</td>\n",
              "      <td>2</td>\n",
              "      <td>1</td>\n",
              "      <td>2</td>\n",
              "    </tr>\n",
              "    <tr>\n",
              "      <th>2</th>\n",
              "      <td>3</td>\n",
              "      <td>1</td>\n",
              "      <td>1</td>\n",
              "      <td>1</td>\n",
              "      <td>2</td>\n",
              "      <td>2</td>\n",
              "      <td>3</td>\n",
              "      <td>1</td>\n",
              "      <td>1</td>\n",
              "      <td>2</td>\n",
              "    </tr>\n",
              "    <tr>\n",
              "      <th>3</th>\n",
              "      <td>6</td>\n",
              "      <td>8</td>\n",
              "      <td>8</td>\n",
              "      <td>1</td>\n",
              "      <td>3</td>\n",
              "      <td>4</td>\n",
              "      <td>3</td>\n",
              "      <td>7</td>\n",
              "      <td>1</td>\n",
              "      <td>2</td>\n",
              "    </tr>\n",
              "    <tr>\n",
              "      <th>4</th>\n",
              "      <td>4</td>\n",
              "      <td>1</td>\n",
              "      <td>1</td>\n",
              "      <td>3</td>\n",
              "      <td>2</td>\n",
              "      <td>1</td>\n",
              "      <td>3</td>\n",
              "      <td>1</td>\n",
              "      <td>1</td>\n",
              "      <td>2</td>\n",
              "    </tr>\n",
              "  </tbody>\n",
              "</table>\n",
              "</div>"
            ],
            "text/plain": [
              "   0  1  2  3  4   5  6  7  8  9\n",
              "0  5  1  1  1  2   1  3  1  1  2\n",
              "1  5  4  4  5  7  10  3  2  1  2\n",
              "2  3  1  1  1  2   2  3  1  1  2\n",
              "3  6  8  8  1  3   4  3  7  1  2\n",
              "4  4  1  1  3  2   1  3  1  1  2"
            ]
          },
          "execution_count": 28,
          "metadata": {},
          "output_type": "execute_result"
        }
      ],
      "source": [
        "breast_cancer_df.head()"
      ]
    },
    {
      "cell_type": "code",
      "execution_count": 29,
      "metadata": {
        "colab": {
          "base_uri": "https://localhost:8080/"
        },
        "id": "di68UM453Qna",
        "outputId": "acdd4b80-d7dc-4ce6-e8a8-a30531f47ac2"
      },
      "outputs": [
        {
          "name": "stdout",
          "output_type": "stream",
          "text": [
            "(683, 10)\n"
          ]
        }
      ],
      "source": [
        "print(breast_cancer_df.shape)"
      ]
    },
    {
      "cell_type": "code",
      "execution_count": 30,
      "metadata": {
        "colab": {
          "base_uri": "https://localhost:8080/"
        },
        "id": "V-x6_f8y4pLk",
        "outputId": "14459719-0a4e-4b85-bd5d-d42eb4f90617"
      },
      "outputs": [
        {
          "name": "stdout",
          "output_type": "stream",
          "text": [
            "<class 'pandas.core.frame.DataFrame'>\n",
            "RangeIndex: 683 entries, 0 to 682\n",
            "Data columns (total 10 columns):\n",
            " #   Column  Non-Null Count  Dtype\n",
            "---  ------  --------------  -----\n",
            " 0   0       683 non-null    int64\n",
            " 1   1       683 non-null    int64\n",
            " 2   2       683 non-null    int64\n",
            " 3   3       683 non-null    int64\n",
            " 4   4       683 non-null    int64\n",
            " 5   5       683 non-null    int64\n",
            " 6   6       683 non-null    int64\n",
            " 7   7       683 non-null    int64\n",
            " 8   8       683 non-null    int64\n",
            " 9   9       683 non-null    int64\n",
            "dtypes: int64(10)\n",
            "memory usage: 53.5 KB\n"
          ]
        }
      ],
      "source": [
        "breast_cancer_df.info()"
      ]
    },
    {
      "cell_type": "code",
      "execution_count": 31,
      "metadata": {
        "colab": {
          "base_uri": "https://localhost:8080/"
        },
        "id": "upSoCWls5AAa",
        "outputId": "4cc5bedc-e372-4706-f855-5afc94378124"
      },
      "outputs": [
        {
          "data": {
            "text/plain": [
              "0    10\n",
              "1    10\n",
              "2    10\n",
              "3    10\n",
              "4    10\n",
              "5    10\n",
              "6    10\n",
              "7    10\n",
              "8     9\n",
              "9     2\n",
              "dtype: int64"
            ]
          },
          "execution_count": 31,
          "metadata": {},
          "output_type": "execute_result"
        }
      ],
      "source": [
        "breast_cancer_df.nunique()"
      ]
    },
    {
      "cell_type": "code",
      "execution_count": 32,
      "metadata": {
        "colab": {
          "base_uri": "https://localhost:8080/"
        },
        "id": "q5ZuOxqSwzJK",
        "outputId": "b00cf80e-b158-4b3c-c298-67b6f6c71f11"
      },
      "outputs": [
        {
          "data": {
            "text/plain": [
              "9\n",
              "2    444\n",
              "4    239\n",
              "Name: count, dtype: int64"
            ]
          },
          "execution_count": 32,
          "metadata": {},
          "output_type": "execute_result"
        }
      ],
      "source": [
        "# Unbalanced dataset\n",
        "\n",
        "breast_cancer_df[9].value_counts()"
      ]
    },
    {
      "cell_type": "code",
      "execution_count": 33,
      "metadata": {
        "colab": {
          "base_uri": "https://localhost:8080/"
        },
        "id": "I8IXu3xq5Ah0",
        "outputId": "37aee711-115f-4e21-8c1a-9acd6b4607ae"
      },
      "outputs": [
        {
          "data": {
            "text/plain": [
              "0    0\n",
              "1    0\n",
              "2    0\n",
              "3    0\n",
              "4    0\n",
              "5    0\n",
              "6    0\n",
              "7    0\n",
              "8    0\n",
              "9    0\n",
              "dtype: int64"
            ]
          },
          "execution_count": 33,
          "metadata": {},
          "output_type": "execute_result"
        }
      ],
      "source": [
        "breast_cancer_df.isna().sum()"
      ]
    },
    {
      "cell_type": "code",
      "execution_count": 34,
      "metadata": {
        "id": "WpheUIpA6o_K"
      },
      "outputs": [],
      "source": [
        "X = breast_cancer_df.iloc[:, :-1]\n",
        "y = breast_cancer_df.iloc[:, -1]"
      ]
    },
    {
      "cell_type": "code",
      "execution_count": 35,
      "metadata": {
        "colab": {
          "base_uri": "https://localhost:8080/",
          "height": 206
        },
        "id": "Lr4bR7qX65-M",
        "outputId": "ca8e71a7-7755-404d-eacb-8d80c66a8bf2"
      },
      "outputs": [
        {
          "data": {
            "text/html": [
              "<div>\n",
              "<style scoped>\n",
              "    .dataframe tbody tr th:only-of-type {\n",
              "        vertical-align: middle;\n",
              "    }\n",
              "\n",
              "    .dataframe tbody tr th {\n",
              "        vertical-align: top;\n",
              "    }\n",
              "\n",
              "    .dataframe thead th {\n",
              "        text-align: right;\n",
              "    }\n",
              "</style>\n",
              "<table border=\"1\" class=\"dataframe\">\n",
              "  <thead>\n",
              "    <tr style=\"text-align: right;\">\n",
              "      <th></th>\n",
              "      <th>0</th>\n",
              "      <th>1</th>\n",
              "      <th>2</th>\n",
              "      <th>3</th>\n",
              "      <th>4</th>\n",
              "      <th>5</th>\n",
              "      <th>6</th>\n",
              "      <th>7</th>\n",
              "      <th>8</th>\n",
              "    </tr>\n",
              "  </thead>\n",
              "  <tbody>\n",
              "    <tr>\n",
              "      <th>0</th>\n",
              "      <td>5</td>\n",
              "      <td>1</td>\n",
              "      <td>1</td>\n",
              "      <td>1</td>\n",
              "      <td>2</td>\n",
              "      <td>1</td>\n",
              "      <td>3</td>\n",
              "      <td>1</td>\n",
              "      <td>1</td>\n",
              "    </tr>\n",
              "    <tr>\n",
              "      <th>1</th>\n",
              "      <td>5</td>\n",
              "      <td>4</td>\n",
              "      <td>4</td>\n",
              "      <td>5</td>\n",
              "      <td>7</td>\n",
              "      <td>10</td>\n",
              "      <td>3</td>\n",
              "      <td>2</td>\n",
              "      <td>1</td>\n",
              "    </tr>\n",
              "    <tr>\n",
              "      <th>2</th>\n",
              "      <td>3</td>\n",
              "      <td>1</td>\n",
              "      <td>1</td>\n",
              "      <td>1</td>\n",
              "      <td>2</td>\n",
              "      <td>2</td>\n",
              "      <td>3</td>\n",
              "      <td>1</td>\n",
              "      <td>1</td>\n",
              "    </tr>\n",
              "    <tr>\n",
              "      <th>3</th>\n",
              "      <td>6</td>\n",
              "      <td>8</td>\n",
              "      <td>8</td>\n",
              "      <td>1</td>\n",
              "      <td>3</td>\n",
              "      <td>4</td>\n",
              "      <td>3</td>\n",
              "      <td>7</td>\n",
              "      <td>1</td>\n",
              "    </tr>\n",
              "    <tr>\n",
              "      <th>4</th>\n",
              "      <td>4</td>\n",
              "      <td>1</td>\n",
              "      <td>1</td>\n",
              "      <td>3</td>\n",
              "      <td>2</td>\n",
              "      <td>1</td>\n",
              "      <td>3</td>\n",
              "      <td>1</td>\n",
              "      <td>1</td>\n",
              "    </tr>\n",
              "  </tbody>\n",
              "</table>\n",
              "</div>"
            ],
            "text/plain": [
              "   0  1  2  3  4   5  6  7  8\n",
              "0  5  1  1  1  2   1  3  1  1\n",
              "1  5  4  4  5  7  10  3  2  1\n",
              "2  3  1  1  1  2   2  3  1  1\n",
              "3  6  8  8  1  3   4  3  7  1\n",
              "4  4  1  1  3  2   1  3  1  1"
            ]
          },
          "execution_count": 35,
          "metadata": {},
          "output_type": "execute_result"
        }
      ],
      "source": [
        "X.head()"
      ]
    },
    {
      "cell_type": "code",
      "execution_count": 36,
      "metadata": {
        "colab": {
          "base_uri": "https://localhost:8080/"
        },
        "id": "slq2CZ2y8zKb",
        "outputId": "4c2f50a0-efee-490a-fd49-b0ad96d5b8ef"
      },
      "outputs": [
        {
          "data": {
            "text/plain": [
              "0    2\n",
              "1    2\n",
              "2    2\n",
              "3    2\n",
              "4    2\n",
              "Name: 9, dtype: int64"
            ]
          },
          "execution_count": 36,
          "metadata": {},
          "output_type": "execute_result"
        }
      ],
      "source": [
        "y.head()"
      ]
    },
    {
      "cell_type": "code",
      "execution_count": 37,
      "metadata": {
        "id": "WAeFqL_F80wj"
      },
      "outputs": [],
      "source": [
        "# Since version 1.3.2 XGBoost needs target columns to start with 0 value\n",
        "\n",
        "le = LabelEncoder()\n",
        "y = le.fit_transform(y)"
      ]
    },
    {
      "cell_type": "code",
      "execution_count": 38,
      "metadata": {
        "colab": {
          "base_uri": "https://localhost:8080/"
        },
        "id": "A9RzMyY68_MF",
        "outputId": "46386bd1-5d8d-4dc1-9210-ed1869af732d"
      },
      "outputs": [
        {
          "data": {
            "text/plain": [
              "array([0, 0, 0, 0, 0, 1, 0, 0, 0, 0, 0, 0, 1, 1, 1, 0, 0, 1, 0, 1, 1, 0,\n",
              "       0, 1, 0, 0, 0, 0, 0, 0, 1, 0, 0, 1, 0, 1, 1, 1, 1, 1, 0, 1, 0, 0,\n",
              "       1, 1, 1, 1, 1, 1, 1, 1, 1, 1, 1, 1, 1, 1, 0, 1, 0, 1, 1, 0, 0, 1,\n",
              "       0, 1, 0, 0, 0, 0, 0, 0, 0, 0, 1, 1, 1, 1, 0, 0, 0, 0, 0, 0, 0, 0,\n",
              "       0, 0, 1, 1, 1, 1, 0, 1, 1, 1, 0, 1, 0, 1, 1, 1, 0, 0, 0, 1, 0, 0,\n",
              "       0, 0, 1, 1, 0, 1, 0, 1, 0, 0, 0, 1, 0, 0, 0, 0, 0, 0, 0, 1, 0, 1,\n",
              "       0, 1, 0, 1, 1, 0, 0, 1, 0, 0, 1, 1, 0, 0, 0, 0, 1, 0, 0, 0, 0, 0,\n",
              "       1, 1, 1, 0, 1, 0, 1, 0, 0, 0, 1, 1, 1, 1, 0, 1, 1, 0, 0, 0, 0, 0,\n",
              "       0, 1, 1, 0, 0, 0, 1, 1, 0, 0, 1, 1, 0, 1, 1, 1, 0, 0, 1, 0, 0, 1,\n",
              "       1, 1, 1, 0, 1, 1, 0, 1, 1, 0, 1, 0, 1, 1, 1, 1, 0, 0, 0, 0, 0, 0,\n",
              "       1, 1, 0, 0, 1, 0, 1, 1, 0, 0, 0, 1, 1, 1, 1, 0, 1, 1, 1, 0, 1, 1,\n",
              "       1, 0, 0, 0, 1, 0, 0, 1, 1, 1, 1, 1, 0, 1, 1, 0, 0, 1, 1, 0, 0, 1,\n",
              "       0, 0, 1, 0, 0, 1, 0, 0, 1, 0, 0, 1, 1, 0, 0, 1, 0, 0, 1, 0, 1, 1,\n",
              "       0, 0, 1, 1, 0, 1, 0, 1, 0, 0, 1, 0, 0, 0, 1, 1, 0, 1, 0, 1, 1, 1,\n",
              "       1, 1, 0, 0, 0, 0, 1, 1, 0, 0, 0, 0, 0, 0, 0, 0, 0, 0, 0, 0, 0, 1,\n",
              "       0, 0, 0, 0, 1, 0, 0, 0, 0, 1, 0, 0, 0, 0, 0, 0, 0, 1, 0, 0, 0, 0,\n",
              "       0, 0, 0, 0, 0, 1, 0, 1, 0, 1, 0, 0, 0, 1, 0, 0, 0, 1, 0, 1, 0, 0,\n",
              "       0, 0, 0, 0, 0, 1, 1, 0, 0, 1, 0, 0, 0, 0, 0, 0, 0, 0, 1, 0, 0, 0,\n",
              "       1, 0, 1, 1, 1, 0, 0, 0, 0, 0, 1, 1, 1, 0, 0, 0, 0, 0, 0, 0, 0, 0,\n",
              "       0, 1, 0, 0, 1, 1, 0, 0, 0, 1, 1, 1, 1, 0, 1, 0, 0, 0, 0, 0, 0, 0,\n",
              "       0, 0, 0, 1, 0, 0, 0, 0, 0, 0, 0, 1, 1, 0, 0, 0, 1, 0, 0, 1, 0, 0,\n",
              "       0, 0, 0, 0, 1, 0, 0, 0, 0, 0, 0, 0, 0, 0, 0, 0, 0, 0, 0, 0, 1, 0,\n",
              "       0, 1, 0, 0, 0, 0, 0, 0, 0, 0, 0, 0, 0, 0, 0, 0, 1, 0, 0, 1, 1, 0,\n",
              "       0, 1, 0, 0, 0, 0, 1, 1, 0, 0, 0, 1, 0, 1, 0, 1, 1, 1, 0, 1, 0, 0,\n",
              "       0, 0, 0, 0, 0, 0, 1, 1, 1, 0, 1, 0, 1, 1, 0, 0, 0, 0, 0, 0, 0, 0,\n",
              "       0, 0, 0, 0, 1, 0, 0, 0, 0, 1, 0, 1, 0, 0, 0, 0, 0, 0, 0, 0, 0, 1,\n",
              "       0, 0, 0, 0, 0, 0, 0, 1, 0, 0, 0, 0, 0, 0, 0, 0, 0, 1, 1, 1, 0, 0,\n",
              "       0, 0, 0, 0, 0, 0, 1, 0, 0, 0, 0, 0, 0, 0, 0, 1, 0, 0, 0, 1, 1, 1,\n",
              "       0, 0, 1, 0, 1, 0, 1, 1, 1, 0, 0, 0, 1, 1, 0, 0, 0, 0, 1, 1, 0, 1,\n",
              "       0, 0, 1, 1, 1, 0, 1, 0, 1, 0, 1, 0, 0, 0, 0, 1, 0, 0, 0, 0, 0, 0,\n",
              "       0, 0, 0, 0, 1, 0, 1, 1, 0, 0, 0, 1, 0, 0, 0, 0, 0, 0, 0, 0, 1, 0,\n",
              "       0], dtype=int64)"
            ]
          },
          "execution_count": 38,
          "metadata": {},
          "output_type": "execute_result"
        }
      ],
      "source": [
        "y"
      ]
    },
    {
      "cell_type": "code",
      "execution_count": 39,
      "metadata": {
        "colab": {
          "base_uri": "https://localhost:8080/"
        },
        "id": "ccEf4KDr9WrG",
        "outputId": "e1f1f3ff-b720-470f-d408-12b6d81390d7"
      },
      "outputs": [
        {
          "name": "stdout",
          "output_type": "stream",
          "text": [
            "--------- AdaBoost on Breast Cancer Dataset ---------\n",
            "[0.98550725 0.97101449 0.97101449 0.92647059 0.92647059 0.95588235\n",
            " 0.92647059 0.98529412 0.94117647 1.         0.95652174 0.95652174\n",
            " 0.95652174 0.97058824 0.95588235 0.95588235 0.95588235 0.92647059\n",
            " 0.98529412 0.97058824 0.97101449 0.97101449 0.89855072 0.98529412\n",
            " 1.         0.94117647 0.95588235 0.94117647 0.97058824 0.97058824\n",
            " 0.98550725 0.88405797 0.94202899 0.98529412 1.         0.95588235\n",
            " 1.         0.92647059 0.97058824 0.95588235 1.         0.89855072\n",
            " 0.92753623 0.95588235 0.94117647 0.94117647 1.         0.91176471\n",
            " 0.98529412 0.98529412 0.97101449 0.95652174 0.95652174 0.95588235\n",
            " 0.97058824 0.92647059 0.91176471 0.97058824 1.         0.92647059\n",
            " 0.94202899 0.94202899 0.98550725 0.92647059 0.97058824 0.98529412\n",
            " 0.97058824 0.98529412 0.95588235 0.95588235 0.97101449 0.97101449\n",
            " 0.94202899 0.94117647 0.97058824 0.98529412 0.94117647 0.98529412\n",
            " 0.92647059 0.95588235 0.95652174 0.92753623 0.91304348 0.94117647\n",
            " 0.95588235 0.95588235 0.97058824 0.95588235 0.98529412 0.95588235\n",
            " 0.92753623 0.98550725 0.94202899 0.95588235 0.92647059 0.98529412\n",
            " 1.         0.94117647 0.97058824 0.95588235]\n",
            "Accuracy: 95.80% (2.54%)\n",
            "Execution Time: 6.97 seconds\n",
            "------------------------------\n",
            "--------- GradBoost on Breast Cancer Dataset ---------\n",
            "[0.98550725 0.97101449 0.98550725 0.97058824 0.91176471 0.95588235\n",
            " 0.95588235 0.98529412 0.92647059 0.98529412 0.98550725 0.95652174\n",
            " 0.97101449 0.97058824 0.98529412 0.94117647 0.95588235 0.92647059\n",
            " 0.98529412 0.98529412 0.98550725 0.95652174 0.97101449 0.97058824\n",
            " 0.98529412 0.94117647 0.95588235 0.95588235 0.92647059 1.\n",
            " 0.98550725 0.86956522 0.95652174 1.         1.         0.97058824\n",
            " 1.         0.95588235 0.97058824 0.98529412 1.         0.97101449\n",
            " 0.92753623 0.95588235 0.97058824 0.92647059 1.         0.92647059\n",
            " 0.97058824 0.95588235 0.97101449 0.95652174 0.97101449 0.95588235\n",
            " 0.98529412 0.91176471 0.91176471 1.         1.         0.95588235\n",
            " 0.94202899 0.95652174 0.98550725 0.92647059 0.98529412 0.98529412\n",
            " 0.97058824 1.         0.95588235 0.98529412 1.         0.97101449\n",
            " 0.94202899 0.95588235 0.97058824 0.98529412 0.95588235 0.98529412\n",
            " 0.92647059 0.95588235 0.97101449 0.97101449 0.95652174 0.95588235\n",
            " 0.98529412 0.94117647 0.95588235 0.95588235 0.98529412 0.95588235\n",
            " 0.95652174 0.98550725 0.94202899 0.98529412 0.94117647 0.98529412\n",
            " 0.98529412 0.98529412 0.97058824 0.92647059]\n",
            "Accuracy: 96.50% (2.46%)\n",
            "Execution Time: 8.73 seconds\n",
            "------------------------------\n",
            "--------- CatBoost on Breast Cancer Dataset ---------\n",
            "[0.98550725 0.98550725 0.98550725 0.97058824 0.91176471 0.97058824\n",
            " 0.95588235 1.         0.92647059 0.98529412 0.98550725 0.94202899\n",
            " 0.97101449 0.97058824 0.98529412 0.95588235 0.98529412 0.94117647\n",
            " 1.         0.98529412 0.98550725 0.97101449 0.97101449 0.98529412\n",
            " 0.98529412 0.94117647 0.95588235 0.97058824 0.97058824 1.\n",
            " 1.         0.88405797 0.95652174 1.         1.         0.95588235\n",
            " 1.         0.94117647 0.97058824 0.98529412 1.         0.97101449\n",
            " 0.95652174 0.97058824 0.97058824 0.95588235 1.         0.92647059\n",
            " 0.97058824 0.98529412 0.97101449 0.98550725 0.95652174 0.95588235\n",
            " 0.98529412 0.95588235 0.95588235 1.         1.         0.95588235\n",
            " 0.95652174 0.95652174 0.97101449 0.92647059 0.98529412 0.97058824\n",
            " 0.98529412 1.         0.95588235 0.97058824 1.         0.98550725\n",
            " 0.94202899 0.94117647 0.97058824 0.98529412 0.95588235 1.\n",
            " 0.94117647 0.98529412 0.97101449 0.97101449 0.94202899 0.97058824\n",
            " 1.         0.97058824 0.97058824 0.95588235 0.98529412 0.97058824\n",
            " 0.95652174 1.         0.95652174 0.98529412 0.94117647 0.98529412\n",
            " 1.         0.98529412 0.98529412 0.94117647]\n",
            "Accuracy: 97.09% (2.22%)\n",
            "Execution Time: 137.70 seconds\n",
            "------------------------------\n",
            "--------- LightGBM on Breast Cancer Dataset ---------\n",
            "[0.98550725 0.97101449 0.98550725 0.97058824 0.91176471 0.97058824\n",
            " 0.95588235 0.98529412 0.92647059 0.97058824 0.98550725 0.94202899\n",
            " 0.97101449 0.97058824 0.98529412 0.95588235 0.97058824 0.92647059\n",
            " 0.97058824 0.98529412 0.98550725 0.95652174 0.97101449 0.95588235\n",
            " 0.98529412 0.95588235 0.97058824 0.98529412 0.95588235 1.\n",
            " 0.98550725 0.88405797 0.95652174 1.         1.         0.97058824\n",
            " 1.         0.94117647 0.97058824 0.97058824 1.         0.97101449\n",
            " 0.94202899 0.95588235 0.97058824 0.94117647 1.         0.89705882\n",
            " 0.97058824 0.97058824 0.97101449 0.95652174 0.95652174 0.94117647\n",
            " 0.98529412 0.94117647 0.92647059 1.         1.         0.94117647\n",
            " 0.94202899 0.95652174 0.98550725 0.92647059 1.         0.98529412\n",
            " 0.98529412 0.97058824 0.97058824 0.97058824 0.98550725 1.\n",
            " 0.94202899 0.94117647 0.98529412 0.98529412 0.95588235 0.98529412\n",
            " 0.92647059 0.97058824 0.95652174 0.97101449 0.97101449 0.95588235\n",
            " 0.98529412 0.94117647 0.97058824 0.95588235 1.         0.97058824\n",
            " 0.94202899 0.98550725 0.94202899 0.98529412 0.92647059 0.97058824\n",
            " 1.         0.97058824 0.98529412 0.94117647]\n",
            "Accuracy: 96.63% (2.37%)\n",
            "Execution Time: 4.54 seconds\n",
            "------------------------------\n",
            "--------- XGBoost on Breast Cancer Dataset ---------\n",
            "[1.         0.95652174 0.98550725 0.97058824 0.92647059 0.97058824\n",
            " 0.95588235 0.98529412 0.94117647 0.97058824 0.97101449 0.95652174\n",
            " 0.97101449 0.97058824 0.98529412 0.94117647 0.97058824 0.94117647\n",
            " 0.97058824 0.97058824 0.97101449 0.94202899 0.98550725 0.94117647\n",
            " 0.98529412 0.92647059 0.94117647 0.95588235 0.95588235 1.\n",
            " 0.98550725 0.88405797 0.95652174 1.         1.         0.95588235\n",
            " 1.         0.94117647 0.95588235 0.97058824 0.98550725 0.97101449\n",
            " 0.91304348 0.94117647 0.97058824 0.95588235 1.         0.92647059\n",
            " 0.97058824 0.97058824 0.95652174 0.97101449 0.97101449 0.95588235\n",
            " 0.97058824 0.92647059 0.92647059 0.98529412 1.         0.95588235\n",
            " 0.92753623 0.97101449 0.97101449 0.94117647 0.95588235 0.97058824\n",
            " 0.98529412 0.97058824 0.94117647 0.98529412 1.         0.97101449\n",
            " 0.94202899 0.95588235 0.95588235 0.98529412 0.94117647 0.98529412\n",
            " 0.94117647 0.98529412 0.97101449 0.95652174 0.92753623 0.98529412\n",
            " 0.98529412 0.95588235 0.97058824 0.95588235 0.98529412 0.97058824\n",
            " 0.92753623 0.98550725 0.94202899 0.98529412 0.94117647 0.98529412\n",
            " 1.         0.97058824 0.98529412 0.97058824]\n",
            "Accuracy: 96.43% (2.26%)\n",
            "Execution Time: 3.30 seconds\n",
            "------------------------------\n"
          ]
        }
      ],
      "source": [
        "breast_cancer_scores = []\n",
        "breast_cancer_mean = []\n",
        "breast_cancer_std = []\n",
        "model_names = []\n",
        "execution_times = []\n",
        "\n",
        "for name, clf in zip(names, classifiers):\n",
        "  start_time = time.time()\n",
        "  results = cross_val_score(clf, X, y, cv=rkf)\n",
        "  end_time = time.time()\n",
        "\n",
        "  breast_cancer_scores.append(results)\n",
        "  breast_cancer_mean.append(results.mean()*100)\n",
        "  breast_cancer_std.append(results.std()*100)\n",
        "  model_names.append(name)\n",
        "  execution_time = end_time - start_time  \n",
        "  execution_times.append(execution_time)\n",
        "\n",
        "  print(f'--------- {name} on Breast Cancer Dataset ---------')\n",
        "  print(results)\n",
        "  print('Accuracy: %.2f%% (%.2f%%)' % (results.mean()*100, results.std()*100))\n",
        "  print(f'Execution Time: {execution_time:.2f} seconds')\n",
        "  print('------------------------------')"
      ]
    },
    {
      "cell_type": "code",
      "execution_count": 40,
      "metadata": {
        "colab": {
          "base_uri": "https://localhost:8080/"
        },
        "id": "AkTUk4gn-FKB",
        "outputId": "e02d7dc6-5c63-4cb6-f7a6-414225a7b177"
      },
      "outputs": [
        {
          "data": {
            "text/plain": [
              "[95.8005115089514,\n",
              " 96.50063938618923,\n",
              " 97.08716965046888,\n",
              " 96.63299232736571,\n",
              " 96.42902813299233]"
            ]
          },
          "execution_count": 40,
          "metadata": {},
          "output_type": "execute_result"
        }
      ],
      "source": [
        "breast_cancer_mean"
      ]
    },
    {
      "cell_type": "code",
      "execution_count": 41,
      "metadata": {
        "colab": {
          "base_uri": "https://localhost:8080/"
        },
        "id": "xMQWf2ij-FxY",
        "outputId": "f3b9c1ea-13a5-4442-c6db-f64cc657eb8c"
      },
      "outputs": [
        {
          "data": {
            "text/plain": [
              "[2.5424281877731705,\n",
              " 2.4576222971240695,\n",
              " 2.2230461706335842,\n",
              " 2.373965102772195,\n",
              " 2.256038579109944]"
            ]
          },
          "execution_count": 41,
          "metadata": {},
          "output_type": "execute_result"
        }
      ],
      "source": [
        "breast_cancer_std"
      ]
    },
    {
      "cell_type": "code",
      "execution_count": 42,
      "metadata": {
        "colab": {
          "base_uri": "https://localhost:8080/",
          "height": 478
        },
        "id": "Yh_3nnzm06js",
        "outputId": "af781ae4-0ddc-40a5-c4bc-46454773391a"
      },
      "outputs": [
        {
          "data": {
            "image/png": "[encoded data removed]",
            "text/plain": [
              "<Figure size 640x480 with 1 Axes>"
            ]
          },
          "metadata": {},
          "output_type": "display_data"
        }
      ],
      "source": [
        "# algorithm comparison\n",
        "\n",
        "fig = plt.figure()\n",
        "fig.suptitle('Comparison between different breast cancer scores')\n",
        "ax = fig.add_subplot(111)\n",
        "plt.ylim(0.3, 1)\n",
        "plt.boxplot(breast_cancer_scores, showmeans=True)\n",
        "ax.set_xticklabels(model_names)\n",
        "plt.show()"
      ]
    },
    {
      "cell_type": "code",
      "execution_count": 43,
      "metadata": {
        "id": "9nQQkiPHN73a"
      },
      "outputs": [],
      "source": [
        "Algo_results['Breast_Cancer'] = breast_cancer_mean"
      ]
    },
    {
      "cell_type": "code",
      "execution_count": 44,
      "metadata": {
        "colab": {
          "base_uri": "https://localhost:8080/",
          "height": 206
        },
        "id": "i7iNa-cK1RLM",
        "outputId": "d4f42d44-ab5a-42e5-9d79-68c71f379601"
      },
      "outputs": [
        {
          "data": {
            "text/html": [
              "<div>\n",
              "<style scoped>\n",
              "    .dataframe tbody tr th:only-of-type {\n",
              "        vertical-align: middle;\n",
              "    }\n",
              "\n",
              "    .dataframe tbody tr th {\n",
              "        vertical-align: top;\n",
              "    }\n",
              "\n",
              "    .dataframe thead th {\n",
              "        text-align: right;\n",
              "    }\n",
              "</style>\n",
              "<table border=\"1\" class=\"dataframe\">\n",
              "  <thead>\n",
              "    <tr style=\"text-align: right;\">\n",
              "      <th></th>\n",
              "      <th>Names</th>\n",
              "      <th>Wine</th>\n",
              "      <th>Breast_Cancer</th>\n",
              "    </tr>\n",
              "  </thead>\n",
              "  <tbody>\n",
              "    <tr>\n",
              "      <th>0</th>\n",
              "      <td>AdaBoost</td>\n",
              "      <td>89.830065</td>\n",
              "      <td>95.800512</td>\n",
              "    </tr>\n",
              "    <tr>\n",
              "      <th>1</th>\n",
              "      <td>GradBoost</td>\n",
              "      <td>95.016340</td>\n",
              "      <td>96.500639</td>\n",
              "    </tr>\n",
              "    <tr>\n",
              "      <th>2</th>\n",
              "      <td>CatBoost</td>\n",
              "      <td>97.977124</td>\n",
              "      <td>97.087170</td>\n",
              "    </tr>\n",
              "    <tr>\n",
              "      <th>3</th>\n",
              "      <td>LightGBM</td>\n",
              "      <td>97.421569</td>\n",
              "      <td>96.632992</td>\n",
              "    </tr>\n",
              "    <tr>\n",
              "      <th>4</th>\n",
              "      <td>XGBoost</td>\n",
              "      <td>96.676471</td>\n",
              "      <td>96.429028</td>\n",
              "    </tr>\n",
              "  </tbody>\n",
              "</table>\n",
              "</div>"
            ],
            "text/plain": [
              "       Names       Wine  Breast_Cancer\n",
              "0   AdaBoost  89.830065      95.800512\n",
              "1  GradBoost  95.016340      96.500639\n",
              "2   CatBoost  97.977124      97.087170\n",
              "3   LightGBM  97.421569      96.632992\n",
              "4    XGBoost  96.676471      96.429028"
            ]
          },
          "execution_count": 44,
          "metadata": {},
          "output_type": "execute_result"
        }
      ],
      "source": [
        "Algo_results"
      ]
    },
    {
      "cell_type": "code",
      "execution_count": 45,
      "metadata": {},
      "outputs": [],
      "source": [
        "Algo_time_results['Breast_Cancer'] = pd.Series(execution_times)"
      ]
    },
    {
      "cell_type": "markdown",
      "metadata": {
        "id": "ZSA6hkPxABDD"
      },
      "source": [
        "---"
      ]
    },
    {
      "cell_type": "markdown",
      "metadata": {
        "id": "ZSumSo7AG3Uj"
      },
      "source": [
        "# **(Unbalanced) Sonar Dataset** #"
      ]
    },
    {
      "cell_type": "markdown",
      "metadata": {
        "id": "A5yoLZVMACu6"
      },
      "source": [
        "---"
      ]
    },
    {
      "cell_type": "code",
      "execution_count": 46,
      "metadata": {
        "id": "TE511TBWG607"
      },
      "outputs": [],
      "source": [
        "sonar_df = pd.read_csv('E:\\Cursos\\MestradoCienciaComputação\\Seminario\\Datasets\\Sonar\\Sonar.csv', header=None)"
      ]
    },
    {
      "cell_type": "code",
      "execution_count": 47,
      "metadata": {
        "colab": {
          "base_uri": "https://localhost:8080/"
        },
        "id": "4nqaFrWdI2mE",
        "outputId": "24e740e0-9813-4ac6-f9a8-f735d142b2f4"
      },
      "outputs": [
        {
          "data": {
            "text/plain": [
              "(208, 61)"
            ]
          },
          "execution_count": 47,
          "metadata": {},
          "output_type": "execute_result"
        }
      ],
      "source": [
        "sonar_df.shape"
      ]
    },
    {
      "cell_type": "code",
      "execution_count": 48,
      "metadata": {
        "colab": {
          "base_uri": "https://localhost:8080/",
          "height": 235
        },
        "id": "tre-aKRXI4u0",
        "outputId": "149ba9f3-1cfc-4454-d56f-ac0315fb0ee3"
      },
      "outputs": [
        {
          "data": {
            "text/html": [
              "<div>\n",
              "<style scoped>\n",
              "    .dataframe tbody tr th:only-of-type {\n",
              "        vertical-align: middle;\n",
              "    }\n",
              "\n",
              "    .dataframe tbody tr th {\n",
              "        vertical-align: top;\n",
              "    }\n",
              "\n",
              "    .dataframe thead th {\n",
              "        text-align: right;\n",
              "    }\n",
              "</style>\n",
              "<table border=\"1\" class=\"dataframe\">\n",
              "  <thead>\n",
              "    <tr style=\"text-align: right;\">\n",
              "      <th></th>\n",
              "      <th>0</th>\n",
              "      <th>1</th>\n",
              "      <th>2</th>\n",
              "      <th>3</th>\n",
              "      <th>4</th>\n",
              "      <th>5</th>\n",
              "      <th>6</th>\n",
              "      <th>7</th>\n",
              "      <th>8</th>\n",
              "      <th>9</th>\n",
              "      <th>...</th>\n",
              "      <th>51</th>\n",
              "      <th>52</th>\n",
              "      <th>53</th>\n",
              "      <th>54</th>\n",
              "      <th>55</th>\n",
              "      <th>56</th>\n",
              "      <th>57</th>\n",
              "      <th>58</th>\n",
              "      <th>59</th>\n",
              "      <th>60</th>\n",
              "    </tr>\n",
              "  </thead>\n",
              "  <tbody>\n",
              "    <tr>\n",
              "      <th>0</th>\n",
              "      <td>0.0200</td>\n",
              "      <td>0.0371</td>\n",
              "      <td>0.0428</td>\n",
              "      <td>0.0207</td>\n",
              "      <td>0.0954</td>\n",
              "      <td>0.0986</td>\n",
              "      <td>0.1539</td>\n",
              "      <td>0.1601</td>\n",
              "      <td>0.3109</td>\n",
              "      <td>0.2111</td>\n",
              "      <td>...</td>\n",
              "      <td>0.0027</td>\n",
              "      <td>0.0065</td>\n",
              "      <td>0.0159</td>\n",
              "      <td>0.0072</td>\n",
              "      <td>0.0167</td>\n",
              "      <td>0.0180</td>\n",
              "      <td>0.0084</td>\n",
              "      <td>0.0090</td>\n",
              "      <td>0.0032</td>\n",
              "      <td>R</td>\n",
              "    </tr>\n",
              "    <tr>\n",
              "      <th>1</th>\n",
              "      <td>0.0453</td>\n",
              "      <td>0.0523</td>\n",
              "      <td>0.0843</td>\n",
              "      <td>0.0689</td>\n",
              "      <td>0.1183</td>\n",
              "      <td>0.2583</td>\n",
              "      <td>0.2156</td>\n",
              "      <td>0.3481</td>\n",
              "      <td>0.3337</td>\n",
              "      <td>0.2872</td>\n",
              "      <td>...</td>\n",
              "      <td>0.0084</td>\n",
              "      <td>0.0089</td>\n",
              "      <td>0.0048</td>\n",
              "      <td>0.0094</td>\n",
              "      <td>0.0191</td>\n",
              "      <td>0.0140</td>\n",
              "      <td>0.0049</td>\n",
              "      <td>0.0052</td>\n",
              "      <td>0.0044</td>\n",
              "      <td>R</td>\n",
              "    </tr>\n",
              "    <tr>\n",
              "      <th>2</th>\n",
              "      <td>0.0262</td>\n",
              "      <td>0.0582</td>\n",
              "      <td>0.1099</td>\n",
              "      <td>0.1083</td>\n",
              "      <td>0.0974</td>\n",
              "      <td>0.2280</td>\n",
              "      <td>0.2431</td>\n",
              "      <td>0.3771</td>\n",
              "      <td>0.5598</td>\n",
              "      <td>0.6194</td>\n",
              "      <td>...</td>\n",
              "      <td>0.0232</td>\n",
              "      <td>0.0166</td>\n",
              "      <td>0.0095</td>\n",
              "      <td>0.0180</td>\n",
              "      <td>0.0244</td>\n",
              "      <td>0.0316</td>\n",
              "      <td>0.0164</td>\n",
              "      <td>0.0095</td>\n",
              "      <td>0.0078</td>\n",
              "      <td>R</td>\n",
              "    </tr>\n",
              "    <tr>\n",
              "      <th>3</th>\n",
              "      <td>0.0100</td>\n",
              "      <td>0.0171</td>\n",
              "      <td>0.0623</td>\n",
              "      <td>0.0205</td>\n",
              "      <td>0.0205</td>\n",
              "      <td>0.0368</td>\n",
              "      <td>0.1098</td>\n",
              "      <td>0.1276</td>\n",
              "      <td>0.0598</td>\n",
              "      <td>0.1264</td>\n",
              "      <td>...</td>\n",
              "      <td>0.0121</td>\n",
              "      <td>0.0036</td>\n",
              "      <td>0.0150</td>\n",
              "      <td>0.0085</td>\n",
              "      <td>0.0073</td>\n",
              "      <td>0.0050</td>\n",
              "      <td>0.0044</td>\n",
              "      <td>0.0040</td>\n",
              "      <td>0.0117</td>\n",
              "      <td>R</td>\n",
              "    </tr>\n",
              "    <tr>\n",
              "      <th>4</th>\n",
              "      <td>0.0762</td>\n",
              "      <td>0.0666</td>\n",
              "      <td>0.0481</td>\n",
              "      <td>0.0394</td>\n",
              "      <td>0.0590</td>\n",
              "      <td>0.0649</td>\n",
              "      <td>0.1209</td>\n",
              "      <td>0.2467</td>\n",
              "      <td>0.3564</td>\n",
              "      <td>0.4459</td>\n",
              "      <td>...</td>\n",
              "      <td>0.0031</td>\n",
              "      <td>0.0054</td>\n",
              "      <td>0.0105</td>\n",
              "      <td>0.0110</td>\n",
              "      <td>0.0015</td>\n",
              "      <td>0.0072</td>\n",
              "      <td>0.0048</td>\n",
              "      <td>0.0107</td>\n",
              "      <td>0.0094</td>\n",
              "      <td>R</td>\n",
              "    </tr>\n",
              "  </tbody>\n",
              "</table>\n",
              "<p>5 rows × 61 columns</p>\n",
              "</div>"
            ],
            "text/plain": [
              "       0       1       2       3       4       5       6       7       8   \\\n",
              "0  0.0200  0.0371  0.0428  0.0207  0.0954  0.0986  0.1539  0.1601  0.3109   \n",
              "1  0.0453  0.0523  0.0843  0.0689  0.1183  0.2583  0.2156  0.3481  0.3337   \n",
              "2  0.0262  0.0582  0.1099  0.1083  0.0974  0.2280  0.2431  0.3771  0.5598   \n",
              "3  0.0100  0.0171  0.0623  0.0205  0.0205  0.0368  0.1098  0.1276  0.0598   \n",
              "4  0.0762  0.0666  0.0481  0.0394  0.0590  0.0649  0.1209  0.2467  0.3564   \n",
              "\n",
              "       9   ...      51      52      53      54      55      56      57  \\\n",
              "0  0.2111  ...  0.0027  0.0065  0.0159  0.0072  0.0167  0.0180  0.0084   \n",
              "1  0.2872  ...  0.0084  0.0089  0.0048  0.0094  0.0191  0.0140  0.0049   \n",
              "2  0.6194  ...  0.0232  0.0166  0.0095  0.0180  0.0244  0.0316  0.0164   \n",
              "3  0.1264  ...  0.0121  0.0036  0.0150  0.0085  0.0073  0.0050  0.0044   \n",
              "4  0.4459  ...  0.0031  0.0054  0.0105  0.0110  0.0015  0.0072  0.0048   \n",
              "\n",
              "       58      59  60  \n",
              "0  0.0090  0.0032   R  \n",
              "1  0.0052  0.0044   R  \n",
              "2  0.0095  0.0078   R  \n",
              "3  0.0040  0.0117   R  \n",
              "4  0.0107  0.0094   R  \n",
              "\n",
              "[5 rows x 61 columns]"
            ]
          },
          "execution_count": 48,
          "metadata": {},
          "output_type": "execute_result"
        }
      ],
      "source": [
        "sonar_df.head()"
      ]
    },
    {
      "cell_type": "code",
      "execution_count": 49,
      "metadata": {
        "colab": {
          "base_uri": "https://localhost:8080/"
        },
        "id": "Hnem-MjxI8Gc",
        "outputId": "4d2870a0-52ff-4a9e-fb86-d96aa45184eb"
      },
      "outputs": [
        {
          "name": "stdout",
          "output_type": "stream",
          "text": [
            "<class 'pandas.core.frame.DataFrame'>\n",
            "RangeIndex: 208 entries, 0 to 207\n",
            "Data columns (total 61 columns):\n",
            " #   Column  Non-Null Count  Dtype  \n",
            "---  ------  --------------  -----  \n",
            " 0   0       208 non-null    float64\n",
            " 1   1       208 non-null    float64\n",
            " 2   2       208 non-null    float64\n",
            " 3   3       208 non-null    float64\n",
            " 4   4       208 non-null    float64\n",
            " 5   5       208 non-null    float64\n",
            " 6   6       208 non-null    float64\n",
            " 7   7       208 non-null    float64\n",
            " 8   8       208 non-null    float64\n",
            " 9   9       208 non-null    float64\n",
            " 10  10      208 non-null    float64\n",
            " 11  11      208 non-null    float64\n",
            " 12  12      208 non-null    float64\n",
            " 13  13      208 non-null    float64\n",
            " 14  14      208 non-null    float64\n",
            " 15  15      208 non-null    float64\n",
            " 16  16      208 non-null    float64\n",
            " 17  17      208 non-null    float64\n",
            " 18  18      208 non-null    float64\n",
            " 19  19      208 non-null    float64\n",
            " 20  20      208 non-null    float64\n",
            " 21  21      208 non-null    float64\n",
            " 22  22      208 non-null    float64\n",
            " 23  23      208 non-null    float64\n",
            " 24  24      208 non-null    float64\n",
            " 25  25      208 non-null    float64\n",
            " 26  26      208 non-null    float64\n",
            " 27  27      208 non-null    float64\n",
            " 28  28      208 non-null    float64\n",
            " 29  29      208 non-null    float64\n",
            " 30  30      208 non-null    float64\n",
            " 31  31      208 non-null    float64\n",
            " 32  32      208 non-null    float64\n",
            " 33  33      208 non-null    float64\n",
            " 34  34      208 non-null    float64\n",
            " 35  35      208 non-null    float64\n",
            " 36  36      208 non-null    float64\n",
            " 37  37      208 non-null    float64\n",
            " 38  38      208 non-null    float64\n",
            " 39  39      208 non-null    float64\n",
            " 40  40      208 non-null    float64\n",
            " 41  41      208 non-null    float64\n",
            " 42  42      208 non-null    float64\n",
            " 43  43      208 non-null    float64\n",
            " 44  44      208 non-null    float64\n",
            " 45  45      208 non-null    float64\n",
            " 46  46      208 non-null    float64\n",
            " 47  47      208 non-null    float64\n",
            " 48  48      208 non-null    float64\n",
            " 49  49      208 non-null    float64\n",
            " 50  50      208 non-null    float64\n",
            " 51  51      208 non-null    float64\n",
            " 52  52      208 non-null    float64\n",
            " 53  53      208 non-null    float64\n",
            " 54  54      208 non-null    float64\n",
            " 55  55      208 non-null    float64\n",
            " 56  56      208 non-null    float64\n",
            " 57  57      208 non-null    float64\n",
            " 58  58      208 non-null    float64\n",
            " 59  59      208 non-null    float64\n",
            " 60  60      208 non-null    object \n",
            "dtypes: float64(60), object(1)\n",
            "memory usage: 99.2+ KB\n"
          ]
        }
      ],
      "source": [
        "sonar_df.info()"
      ]
    },
    {
      "cell_type": "code",
      "execution_count": 50,
      "metadata": {
        "colab": {
          "base_uri": "https://localhost:8080/"
        },
        "id": "3_9Ryg6UOVpT",
        "outputId": "7baac386-aeb4-4121-e7be-69731a2546fa"
      },
      "outputs": [
        {
          "data": {
            "text/plain": [
              "60\n",
              "M    111\n",
              "R     97\n",
              "Name: count, dtype: int64"
            ]
          },
          "execution_count": 50,
          "metadata": {},
          "output_type": "execute_result"
        }
      ],
      "source": [
        "# A little unbalanced dataset\n",
        "\n",
        "sonar_df[60].value_counts()"
      ]
    },
    {
      "cell_type": "code",
      "execution_count": 51,
      "metadata": {
        "id": "SPh4tBE9O7Ad"
      },
      "outputs": [],
      "source": [
        "X = sonar_df.iloc[:, :-1]\n",
        "y = sonar_df.iloc[:, -1]"
      ]
    },
    {
      "cell_type": "code",
      "execution_count": 52,
      "metadata": {
        "colab": {
          "base_uri": "https://localhost:8080/",
          "height": 235
        },
        "id": "MZbLtYxvPO3L",
        "outputId": "95a8c1d2-08b6-4cdb-e9b9-42a983310d65"
      },
      "outputs": [
        {
          "data": {
            "text/html": [
              "<div>\n",
              "<style scoped>\n",
              "    .dataframe tbody tr th:only-of-type {\n",
              "        vertical-align: middle;\n",
              "    }\n",
              "\n",
              "    .dataframe tbody tr th {\n",
              "        vertical-align: top;\n",
              "    }\n",
              "\n",
              "    .dataframe thead th {\n",
              "        text-align: right;\n",
              "    }\n",
              "</style>\n",
              "<table border=\"1\" class=\"dataframe\">\n",
              "  <thead>\n",
              "    <tr style=\"text-align: right;\">\n",
              "      <th></th>\n",
              "      <th>0</th>\n",
              "      <th>1</th>\n",
              "      <th>2</th>\n",
              "      <th>3</th>\n",
              "      <th>4</th>\n",
              "      <th>5</th>\n",
              "      <th>6</th>\n",
              "      <th>7</th>\n",
              "      <th>8</th>\n",
              "      <th>9</th>\n",
              "      <th>...</th>\n",
              "      <th>50</th>\n",
              "      <th>51</th>\n",
              "      <th>52</th>\n",
              "      <th>53</th>\n",
              "      <th>54</th>\n",
              "      <th>55</th>\n",
              "      <th>56</th>\n",
              "      <th>57</th>\n",
              "      <th>58</th>\n",
              "      <th>59</th>\n",
              "    </tr>\n",
              "  </thead>\n",
              "  <tbody>\n",
              "    <tr>\n",
              "      <th>0</th>\n",
              "      <td>0.0200</td>\n",
              "      <td>0.0371</td>\n",
              "      <td>0.0428</td>\n",
              "      <td>0.0207</td>\n",
              "      <td>0.0954</td>\n",
              "      <td>0.0986</td>\n",
              "      <td>0.1539</td>\n",
              "      <td>0.1601</td>\n",
              "      <td>0.3109</td>\n",
              "      <td>0.2111</td>\n",
              "      <td>...</td>\n",
              "      <td>0.0232</td>\n",
              "      <td>0.0027</td>\n",
              "      <td>0.0065</td>\n",
              "      <td>0.0159</td>\n",
              "      <td>0.0072</td>\n",
              "      <td>0.0167</td>\n",
              "      <td>0.0180</td>\n",
              "      <td>0.0084</td>\n",
              "      <td>0.0090</td>\n",
              "      <td>0.0032</td>\n",
              "    </tr>\n",
              "    <tr>\n",
              "      <th>1</th>\n",
              "      <td>0.0453</td>\n",
              "      <td>0.0523</td>\n",
              "      <td>0.0843</td>\n",
              "      <td>0.0689</td>\n",
              "      <td>0.1183</td>\n",
              "      <td>0.2583</td>\n",
              "      <td>0.2156</td>\n",
              "      <td>0.3481</td>\n",
              "      <td>0.3337</td>\n",
              "      <td>0.2872</td>\n",
              "      <td>...</td>\n",
              "      <td>0.0125</td>\n",
              "      <td>0.0084</td>\n",
              "      <td>0.0089</td>\n",
              "      <td>0.0048</td>\n",
              "      <td>0.0094</td>\n",
              "      <td>0.0191</td>\n",
              "      <td>0.0140</td>\n",
              "      <td>0.0049</td>\n",
              "      <td>0.0052</td>\n",
              "      <td>0.0044</td>\n",
              "    </tr>\n",
              "    <tr>\n",
              "      <th>2</th>\n",
              "      <td>0.0262</td>\n",
              "      <td>0.0582</td>\n",
              "      <td>0.1099</td>\n",
              "      <td>0.1083</td>\n",
              "      <td>0.0974</td>\n",
              "      <td>0.2280</td>\n",
              "      <td>0.2431</td>\n",
              "      <td>0.3771</td>\n",
              "      <td>0.5598</td>\n",
              "      <td>0.6194</td>\n",
              "      <td>...</td>\n",
              "      <td>0.0033</td>\n",
              "      <td>0.0232</td>\n",
              "      <td>0.0166</td>\n",
              "      <td>0.0095</td>\n",
              "      <td>0.0180</td>\n",
              "      <td>0.0244</td>\n",
              "      <td>0.0316</td>\n",
              "      <td>0.0164</td>\n",
              "      <td>0.0095</td>\n",
              "      <td>0.0078</td>\n",
              "    </tr>\n",
              "    <tr>\n",
              "      <th>3</th>\n",
              "      <td>0.0100</td>\n",
              "      <td>0.0171</td>\n",
              "      <td>0.0623</td>\n",
              "      <td>0.0205</td>\n",
              "      <td>0.0205</td>\n",
              "      <td>0.0368</td>\n",
              "      <td>0.1098</td>\n",
              "      <td>0.1276</td>\n",
              "      <td>0.0598</td>\n",
              "      <td>0.1264</td>\n",
              "      <td>...</td>\n",
              "      <td>0.0241</td>\n",
              "      <td>0.0121</td>\n",
              "      <td>0.0036</td>\n",
              "      <td>0.0150</td>\n",
              "      <td>0.0085</td>\n",
              "      <td>0.0073</td>\n",
              "      <td>0.0050</td>\n",
              "      <td>0.0044</td>\n",
              "      <td>0.0040</td>\n",
              "      <td>0.0117</td>\n",
              "    </tr>\n",
              "    <tr>\n",
              "      <th>4</th>\n",
              "      <td>0.0762</td>\n",
              "      <td>0.0666</td>\n",
              "      <td>0.0481</td>\n",
              "      <td>0.0394</td>\n",
              "      <td>0.0590</td>\n",
              "      <td>0.0649</td>\n",
              "      <td>0.1209</td>\n",
              "      <td>0.2467</td>\n",
              "      <td>0.3564</td>\n",
              "      <td>0.4459</td>\n",
              "      <td>...</td>\n",
              "      <td>0.0156</td>\n",
              "      <td>0.0031</td>\n",
              "      <td>0.0054</td>\n",
              "      <td>0.0105</td>\n",
              "      <td>0.0110</td>\n",
              "      <td>0.0015</td>\n",
              "      <td>0.0072</td>\n",
              "      <td>0.0048</td>\n",
              "      <td>0.0107</td>\n",
              "      <td>0.0094</td>\n",
              "    </tr>\n",
              "  </tbody>\n",
              "</table>\n",
              "<p>5 rows × 60 columns</p>\n",
              "</div>"
            ],
            "text/plain": [
              "       0       1       2       3       4       5       6       7       8   \\\n",
              "0  0.0200  0.0371  0.0428  0.0207  0.0954  0.0986  0.1539  0.1601  0.3109   \n",
              "1  0.0453  0.0523  0.0843  0.0689  0.1183  0.2583  0.2156  0.3481  0.3337   \n",
              "2  0.0262  0.0582  0.1099  0.1083  0.0974  0.2280  0.2431  0.3771  0.5598   \n",
              "3  0.0100  0.0171  0.0623  0.0205  0.0205  0.0368  0.1098  0.1276  0.0598   \n",
              "4  0.0762  0.0666  0.0481  0.0394  0.0590  0.0649  0.1209  0.2467  0.3564   \n",
              "\n",
              "       9   ...      50      51      52      53      54      55      56  \\\n",
              "0  0.2111  ...  0.0232  0.0027  0.0065  0.0159  0.0072  0.0167  0.0180   \n",
              "1  0.2872  ...  0.0125  0.0084  0.0089  0.0048  0.0094  0.0191  0.0140   \n",
              "2  0.6194  ...  0.0033  0.0232  0.0166  0.0095  0.0180  0.0244  0.0316   \n",
              "3  0.1264  ...  0.0241  0.0121  0.0036  0.0150  0.0085  0.0073  0.0050   \n",
              "4  0.4459  ...  0.0156  0.0031  0.0054  0.0105  0.0110  0.0015  0.0072   \n",
              "\n",
              "       57      58      59  \n",
              "0  0.0084  0.0090  0.0032  \n",
              "1  0.0049  0.0052  0.0044  \n",
              "2  0.0164  0.0095  0.0078  \n",
              "3  0.0044  0.0040  0.0117  \n",
              "4  0.0048  0.0107  0.0094  \n",
              "\n",
              "[5 rows x 60 columns]"
            ]
          },
          "execution_count": 52,
          "metadata": {},
          "output_type": "execute_result"
        }
      ],
      "source": [
        "X.head()"
      ]
    },
    {
      "cell_type": "code",
      "execution_count": 53,
      "metadata": {
        "colab": {
          "base_uri": "https://localhost:8080/"
        },
        "id": "WuwAUv8zPSBw",
        "outputId": "84df8bb7-2b34-416c-895c-7d012f8bfffd"
      },
      "outputs": [
        {
          "data": {
            "text/plain": [
              "0    R\n",
              "1    R\n",
              "2    R\n",
              "3    R\n",
              "4    R\n",
              "Name: 60, dtype: object"
            ]
          },
          "execution_count": 53,
          "metadata": {},
          "output_type": "execute_result"
        }
      ],
      "source": [
        "y.head()"
      ]
    },
    {
      "cell_type": "code",
      "execution_count": 54,
      "metadata": {
        "id": "jVOAmeJdPTbz"
      },
      "outputs": [],
      "source": [
        "# Since version 1.3.2 XGBoost needs target columns to start with 0 value\n",
        "\n",
        "le = LabelEncoder()\n",
        "y = le.fit_transform(y)"
      ]
    },
    {
      "cell_type": "code",
      "execution_count": 55,
      "metadata": {
        "colab": {
          "base_uri": "https://localhost:8080/"
        },
        "id": "dHjeR07gPbGY",
        "outputId": "b8702231-7611-4794-8ca3-f7a7e0d0af73"
      },
      "outputs": [
        {
          "name": "stdout",
          "output_type": "stream",
          "text": [
            "--------- AdaBoost on Sonar Dataset ---------\n",
            "[0.9047619  0.76190476 0.76190476 0.76190476 0.85714286 0.80952381\n",
            " 0.9047619  0.85714286 0.9        0.8        0.80952381 0.85714286\n",
            " 0.57142857 0.76190476 0.80952381 0.85714286 0.85714286 0.80952381\n",
            " 0.75       0.85       0.9047619  0.85714286 0.9047619  0.76190476\n",
            " 0.85714286 0.85714286 0.85714286 0.80952381 0.8        0.9\n",
            " 0.76190476 0.85714286 0.80952381 0.9047619  0.85714286 0.80952381\n",
            " 0.76190476 0.71428571 0.75       0.95       0.76190476 0.80952381\n",
            " 0.76190476 0.95238095 0.9047619  0.80952381 0.95238095 0.85714286\n",
            " 0.8        0.8        0.9047619  0.9047619  0.9047619  0.66666667\n",
            " 0.76190476 0.80952381 0.9047619  0.85714286 0.9        0.95\n",
            " 0.9047619  0.85714286 0.85714286 0.9047619  0.9047619  0.80952381\n",
            " 0.85714286 0.76190476 0.85       0.7        0.66666667 0.95238095\n",
            " 0.80952381 0.66666667 0.76190476 0.9047619  0.71428571 0.9047619\n",
            " 1.         0.95       0.61904762 0.9047619  0.85714286 0.9047619\n",
            " 0.80952381 0.85714286 0.71428571 0.85714286 0.85       0.8\n",
            " 0.85714286 0.9047619  0.76190476 0.80952381 0.95238095 0.80952381\n",
            " 0.71428571 0.9047619  0.85       0.8       ]\n",
            "Accuracy: 83.19% (7.85%)\n",
            "Execution Time: 17.28 seconds\n",
            "------------------------------\n",
            "--------- GradBoost on Sonar Dataset ---------\n",
            "[0.95238095 0.71428571 0.80952381 0.76190476 0.80952381 0.80952381\n",
            " 0.80952381 0.95238095 0.85       0.8        0.95238095 0.80952381\n",
            " 0.66666667 0.95238095 0.80952381 0.71428571 0.9047619  0.85714286\n",
            " 0.75       0.85       0.95238095 0.80952381 0.95238095 0.80952381\n",
            " 0.76190476 0.80952381 0.76190476 0.9047619  0.75       0.9\n",
            " 0.85714286 0.95238095 0.76190476 0.9047619  0.76190476 0.85714286\n",
            " 0.71428571 0.85714286 0.8        1.         0.85714286 0.9047619\n",
            " 0.76190476 0.9047619  0.9047619  0.76190476 0.9047619  0.9047619\n",
            " 0.75       0.8        0.85714286 0.95238095 0.85714286 0.71428571\n",
            " 0.66666667 0.80952381 0.85714286 0.9047619  0.9        1.\n",
            " 1.         0.9047619  0.71428571 0.9047619  0.85714286 0.80952381\n",
            " 0.85714286 0.85714286 0.9        0.6        0.61904762 0.85714286\n",
            " 0.71428571 0.80952381 0.95238095 0.85714286 0.9047619  0.85714286\n",
            " 0.95       0.9        0.80952381 0.80952381 0.76190476 0.95238095\n",
            " 0.80952381 0.80952381 0.76190476 0.85714286 0.75       0.85\n",
            " 0.9047619  0.85714286 0.85714286 0.80952381 0.9047619  0.9047619\n",
            " 0.76190476 0.85714286 0.9        0.85      ]\n",
            "Accuracy: 83.99% (8.23%)\n",
            "Execution Time: 71.92 seconds\n",
            "------------------------------\n",
            "--------- CatBoost on Sonar Dataset ---------\n",
            "[0.95238095 0.80952381 0.80952381 0.85714286 0.80952381 0.85714286\n",
            " 0.9047619  0.85714286 0.95       0.8        0.95238095 0.9047619\n",
            " 0.76190476 0.85714286 0.85714286 0.85714286 0.95238095 0.85714286\n",
            " 0.75       0.95       0.9047619  0.85714286 1.         0.9047619\n",
            " 0.85714286 0.85714286 0.80952381 0.95238095 0.75       0.9\n",
            " 0.9047619  0.85714286 0.85714286 0.9047619  0.9047619  0.9047619\n",
            " 0.85714286 0.76190476 0.85       1.         0.9047619  0.9047619\n",
            " 0.76190476 0.85714286 0.95238095 0.95238095 0.95238095 0.95238095\n",
            " 0.75       0.85       1.         0.95238095 0.95238095 0.76190476\n",
            " 0.71428571 0.71428571 0.85714286 0.9047619  0.95       0.95\n",
            " 1.         0.9047619  0.80952381 0.9047619  0.85714286 0.85714286\n",
            " 0.95238095 0.80952381 0.9        0.65       0.66666667 0.95238095\n",
            " 0.76190476 0.95238095 1.         0.95238095 0.80952381 0.9047619\n",
            " 0.95       0.85       0.80952381 0.95238095 0.80952381 0.95238095\n",
            " 0.85714286 0.85714286 0.71428571 0.85714286 0.85       0.8\n",
            " 0.95238095 0.85714286 0.95238095 0.71428571 1.         0.95238095\n",
            " 0.71428571 0.85714286 0.85       0.9       ]\n",
            "Accuracy: 87.15% (8.02%)\n",
            "Execution Time: 390.41 seconds\n",
            "------------------------------\n",
            "--------- LightGBM on Sonar Dataset ---------\n",
            "[0.95238095 0.80952381 0.80952381 0.85714286 0.85714286 0.85714286\n",
            " 1.         0.85714286 0.95       0.9        0.95238095 0.9047619\n",
            " 0.80952381 0.85714286 0.9047619  0.80952381 0.9047619  0.95238095\n",
            " 0.75       0.85       0.85714286 0.85714286 1.         0.85714286\n",
            " 0.9047619  0.9047619  0.80952381 0.95238095 0.8        0.95\n",
            " 0.85714286 0.9047619  0.95238095 0.9047619  0.85714286 1.\n",
            " 0.85714286 0.71428571 0.85       1.         0.76190476 0.9047619\n",
            " 0.80952381 0.95238095 0.9047619  0.9047619  0.95238095 1.\n",
            " 0.8        0.85       0.9047619  0.95238095 0.95238095 0.80952381\n",
            " 0.76190476 0.85714286 0.80952381 0.95238095 0.9        0.9\n",
            " 0.95238095 0.95238095 0.85714286 0.9047619  0.95238095 0.9047619\n",
            " 0.85714286 0.80952381 0.95       0.7        0.61904762 0.95238095\n",
            " 0.76190476 0.9047619  0.95238095 0.85714286 0.80952381 0.85714286\n",
            " 1.         0.95       0.80952381 0.9047619  0.85714286 0.95238095\n",
            " 0.85714286 0.80952381 0.80952381 0.95238095 0.85       0.85\n",
            " 0.95238095 0.95238095 0.9047619  0.85714286 1.         0.9047619\n",
            " 0.76190476 0.85714286 0.9        0.9       ]\n",
            "Accuracy: 88.12% (7.25%)\n",
            "Execution Time: 2.37 seconds\n",
            "------------------------------\n",
            "--------- XGBoost on Sonar Dataset ---------\n",
            "[0.9047619  0.71428571 0.71428571 0.85714286 0.80952381 0.95238095\n",
            " 0.85714286 0.76190476 0.95       0.8        0.95238095 0.80952381\n",
            " 0.76190476 0.85714286 0.76190476 0.80952381 0.85714286 0.9047619\n",
            " 0.75       0.9        0.9047619  0.76190476 0.95238095 0.80952381\n",
            " 0.95238095 0.80952381 0.76190476 0.95238095 0.75       0.95\n",
            " 0.85714286 0.85714286 0.71428571 0.85714286 0.85714286 1.\n",
            " 0.76190476 0.85714286 0.9        0.95       0.76190476 0.9047619\n",
            " 0.76190476 0.85714286 0.9047619  0.9047619  0.95238095 0.9047619\n",
            " 0.7        0.8        0.80952381 0.95238095 0.80952381 0.76190476\n",
            " 0.76190476 0.80952381 0.9047619  0.9047619  0.95       1.\n",
            " 0.95238095 0.85714286 0.9047619  0.9047619  0.95238095 0.80952381\n",
            " 0.85714286 0.85714286 0.85       0.7        0.66666667 1.\n",
            " 0.71428571 0.95238095 0.9047619  0.85714286 0.80952381 0.76190476\n",
            " 0.95       0.95       0.76190476 0.95238095 0.85714286 0.9047619\n",
            " 0.80952381 0.85714286 0.61904762 0.9047619  0.8        0.85\n",
            " 0.80952381 0.9047619  0.80952381 0.76190476 0.95238095 0.95238095\n",
            " 0.76190476 0.85714286 0.85       0.8       ]\n",
            "Accuracy: 85.01% (8.25%)\n",
            "Execution Time: 5.69 seconds\n",
            "------------------------------\n"
          ]
        }
      ],
      "source": [
        "sonar_scores = []\n",
        "sonar_mean = []\n",
        "sonar_std = []\n",
        "model_names = []\n",
        "execution_times = []\n",
        "\n",
        "\n",
        "for name, clf in zip(names, classifiers):\n",
        "  start_time = time.time()\n",
        "  results = cross_val_score(clf, X, y, cv=rkf)\n",
        "  end_time = time.time()\n",
        "\n",
        "  sonar_scores.append(results)\n",
        "  sonar_mean.append(results.mean()*100)\n",
        "  sonar_std.append(results.std()*100)\n",
        "  model_names.append(name)\n",
        "  execution_time = end_time - start_time  \n",
        "  execution_times.append(execution_time)\n",
        "\n",
        "  print(f'--------- {name} on Sonar Dataset ---------')\n",
        "  print(results)\n",
        "  print('Accuracy: %.2f%% (%.2f%%)' % (results.mean()*100, results.std()*100))\n",
        "  print(f'Execution Time: {execution_time:.2f} seconds')\n",
        "  print('------------------------------')"
      ]
    },
    {
      "cell_type": "code",
      "execution_count": 56,
      "metadata": {
        "colab": {
          "base_uri": "https://localhost:8080/"
        },
        "id": "eh8lLhqlPqM8",
        "outputId": "576dd1c6-4c7c-40bd-ce3c-c81a3963f1f4"
      },
      "outputs": [
        {
          "data": {
            "text/plain": [
              "[83.18809523809522,\n",
              " 83.99285714285716,\n",
              " 87.15238095238097,\n",
              " 88.12380952380954,\n",
              " 85.00714285714285]"
            ]
          },
          "execution_count": 56,
          "metadata": {},
          "output_type": "execute_result"
        }
      ],
      "source": [
        "sonar_mean"
      ]
    },
    {
      "cell_type": "code",
      "execution_count": 57,
      "metadata": {
        "colab": {
          "base_uri": "https://localhost:8080/"
        },
        "id": "myzV6qKpPr4B",
        "outputId": "5145b221-7307-4ba9-cbda-f784a16f3736"
      },
      "outputs": [
        {
          "data": {
            "text/plain": [
              "[7.845438251655812,\n",
              " 8.228652377798475,\n",
              " 8.016770969663867,\n",
              " 7.246883762213835,\n",
              " 8.24734238785956]"
            ]
          },
          "execution_count": 57,
          "metadata": {},
          "output_type": "execute_result"
        }
      ],
      "source": [
        "sonar_std"
      ]
    },
    {
      "cell_type": "code",
      "execution_count": 58,
      "metadata": {
        "colab": {
          "base_uri": "https://localhost:8080/",
          "height": 478
        },
        "id": "cfuxv8kN1rWS",
        "outputId": "89ab1fde-e79b-406a-d085-f8b3d45aebe9"
      },
      "outputs": [
        {
          "data": {
            "image/png": "[encoded data removed]",
            "text/plain": [
              "<Figure size 640x480 with 1 Axes>"
            ]
          },
          "metadata": {},
          "output_type": "display_data"
        }
      ],
      "source": [
        "# algorithm comparison\n",
        "\n",
        "fig = plt.figure()\n",
        "fig.suptitle('Comparison between different Sonar scores')\n",
        "ax = fig.add_subplot(111)\n",
        "plt.ylim(0.3, 1)\n",
        "plt.boxplot(sonar_scores, showmeans=True)\n",
        "ax.set_xticklabels(model_names)\n",
        "plt.show()"
      ]
    },
    {
      "cell_type": "code",
      "execution_count": 59,
      "metadata": {
        "id": "x-H2UhXA2veS"
      },
      "outputs": [],
      "source": [
        "Algo_results['Sonar'] = sonar_mean"
      ]
    },
    {
      "cell_type": "code",
      "execution_count": 60,
      "metadata": {
        "colab": {
          "base_uri": "https://localhost:8080/",
          "height": 206
        },
        "id": "rP_87sjC3MlD",
        "outputId": "d035801c-7de6-4819-dd6b-e3036b10cc5b"
      },
      "outputs": [
        {
          "data": {
            "text/html": [
              "<div>\n",
              "<style scoped>\n",
              "    .dataframe tbody tr th:only-of-type {\n",
              "        vertical-align: middle;\n",
              "    }\n",
              "\n",
              "    .dataframe tbody tr th {\n",
              "        vertical-align: top;\n",
              "    }\n",
              "\n",
              "    .dataframe thead th {\n",
              "        text-align: right;\n",
              "    }\n",
              "</style>\n",
              "<table border=\"1\" class=\"dataframe\">\n",
              "  <thead>\n",
              "    <tr style=\"text-align: right;\">\n",
              "      <th></th>\n",
              "      <th>Names</th>\n",
              "      <th>Wine</th>\n",
              "      <th>Breast_Cancer</th>\n",
              "      <th>Sonar</th>\n",
              "    </tr>\n",
              "  </thead>\n",
              "  <tbody>\n",
              "    <tr>\n",
              "      <th>0</th>\n",
              "      <td>AdaBoost</td>\n",
              "      <td>89.830065</td>\n",
              "      <td>95.800512</td>\n",
              "      <td>83.188095</td>\n",
              "    </tr>\n",
              "    <tr>\n",
              "      <th>1</th>\n",
              "      <td>GradBoost</td>\n",
              "      <td>95.016340</td>\n",
              "      <td>96.500639</td>\n",
              "      <td>83.992857</td>\n",
              "    </tr>\n",
              "    <tr>\n",
              "      <th>2</th>\n",
              "      <td>CatBoost</td>\n",
              "      <td>97.977124</td>\n",
              "      <td>97.087170</td>\n",
              "      <td>87.152381</td>\n",
              "    </tr>\n",
              "    <tr>\n",
              "      <th>3</th>\n",
              "      <td>LightGBM</td>\n",
              "      <td>97.421569</td>\n",
              "      <td>96.632992</td>\n",
              "      <td>88.123810</td>\n",
              "    </tr>\n",
              "    <tr>\n",
              "      <th>4</th>\n",
              "      <td>XGBoost</td>\n",
              "      <td>96.676471</td>\n",
              "      <td>96.429028</td>\n",
              "      <td>85.007143</td>\n",
              "    </tr>\n",
              "  </tbody>\n",
              "</table>\n",
              "</div>"
            ],
            "text/plain": [
              "       Names       Wine  Breast_Cancer      Sonar\n",
              "0   AdaBoost  89.830065      95.800512  83.188095\n",
              "1  GradBoost  95.016340      96.500639  83.992857\n",
              "2   CatBoost  97.977124      97.087170  87.152381\n",
              "3   LightGBM  97.421569      96.632992  88.123810\n",
              "4    XGBoost  96.676471      96.429028  85.007143"
            ]
          },
          "execution_count": 60,
          "metadata": {},
          "output_type": "execute_result"
        }
      ],
      "source": [
        "Algo_results"
      ]
    },
    {
      "cell_type": "code",
      "execution_count": 61,
      "metadata": {},
      "outputs": [],
      "source": [
        "Algo_time_results['Sonar'] = pd.Series(execution_times)"
      ]
    },
    {
      "cell_type": "markdown",
      "metadata": {
        "id": "O7KMhnwc_uPM"
      },
      "source": [
        "---"
      ]
    },
    {
      "cell_type": "markdown",
      "metadata": {
        "id": "kz0ZzSmO_iJr"
      },
      "source": [
        "# **(Unbalanced) Ionosphere Dataset**"
      ]
    },
    {
      "cell_type": "markdown",
      "metadata": {
        "id": "DDtq-OWc_zUk"
      },
      "source": [
        "---"
      ]
    },
    {
      "cell_type": "code",
      "execution_count": 62,
      "metadata": {
        "id": "ajQJ-r9f_X7S"
      },
      "outputs": [],
      "source": [
        "ionosphere_df = pd.read_csv('E:\\Cursos\\MestradoCienciaComputação\\Seminario\\Datasets\\Ionosphere\\ionosphere.data', header=None)"
      ]
    },
    {
      "cell_type": "code",
      "execution_count": 63,
      "metadata": {
        "colab": {
          "base_uri": "https://localhost:8080/"
        },
        "id": "ITgOuyvx_UB5",
        "outputId": "924c2df2-a3f3-48a4-f8c3-59e26e37a9e3"
      },
      "outputs": [
        {
          "data": {
            "text/plain": [
              "(351, 35)"
            ]
          },
          "execution_count": 63,
          "metadata": {},
          "output_type": "execute_result"
        }
      ],
      "source": [
        "ionosphere_df.shape"
      ]
    },
    {
      "cell_type": "code",
      "execution_count": 64,
      "metadata": {
        "colab": {
          "base_uri": "https://localhost:8080/",
          "height": 235
        },
        "id": "vmmoDlxyBpdV",
        "outputId": "36346f2c-9792-449b-81b9-53ed5127c5b8"
      },
      "outputs": [
        {
          "data": {
            "text/html": [
              "<div>\n",
              "<style scoped>\n",
              "    .dataframe tbody tr th:only-of-type {\n",
              "        vertical-align: middle;\n",
              "    }\n",
              "\n",
              "    .dataframe tbody tr th {\n",
              "        vertical-align: top;\n",
              "    }\n",
              "\n",
              "    .dataframe thead th {\n",
              "        text-align: right;\n",
              "    }\n",
              "</style>\n",
              "<table border=\"1\" class=\"dataframe\">\n",
              "  <thead>\n",
              "    <tr style=\"text-align: right;\">\n",
              "      <th></th>\n",
              "      <th>0</th>\n",
              "      <th>1</th>\n",
              "      <th>2</th>\n",
              "      <th>3</th>\n",
              "      <th>4</th>\n",
              "      <th>5</th>\n",
              "      <th>6</th>\n",
              "      <th>7</th>\n",
              "      <th>8</th>\n",
              "      <th>9</th>\n",
              "      <th>...</th>\n",
              "      <th>25</th>\n",
              "      <th>26</th>\n",
              "      <th>27</th>\n",
              "      <th>28</th>\n",
              "      <th>29</th>\n",
              "      <th>30</th>\n",
              "      <th>31</th>\n",
              "      <th>32</th>\n",
              "      <th>33</th>\n",
              "      <th>34</th>\n",
              "    </tr>\n",
              "  </thead>\n",
              "  <tbody>\n",
              "    <tr>\n",
              "      <th>0</th>\n",
              "      <td>1</td>\n",
              "      <td>0</td>\n",
              "      <td>0.99539</td>\n",
              "      <td>-0.05889</td>\n",
              "      <td>0.85243</td>\n",
              "      <td>0.02306</td>\n",
              "      <td>0.83398</td>\n",
              "      <td>-0.37708</td>\n",
              "      <td>1.00000</td>\n",
              "      <td>0.03760</td>\n",
              "      <td>...</td>\n",
              "      <td>-0.51171</td>\n",
              "      <td>0.41078</td>\n",
              "      <td>-0.46168</td>\n",
              "      <td>0.21266</td>\n",
              "      <td>-0.34090</td>\n",
              "      <td>0.42267</td>\n",
              "      <td>-0.54487</td>\n",
              "      <td>0.18641</td>\n",
              "      <td>-0.45300</td>\n",
              "      <td>g</td>\n",
              "    </tr>\n",
              "    <tr>\n",
              "      <th>1</th>\n",
              "      <td>1</td>\n",
              "      <td>0</td>\n",
              "      <td>1.00000</td>\n",
              "      <td>-0.18829</td>\n",
              "      <td>0.93035</td>\n",
              "      <td>-0.36156</td>\n",
              "      <td>-0.10868</td>\n",
              "      <td>-0.93597</td>\n",
              "      <td>1.00000</td>\n",
              "      <td>-0.04549</td>\n",
              "      <td>...</td>\n",
              "      <td>-0.26569</td>\n",
              "      <td>-0.20468</td>\n",
              "      <td>-0.18401</td>\n",
              "      <td>-0.19040</td>\n",
              "      <td>-0.11593</td>\n",
              "      <td>-0.16626</td>\n",
              "      <td>-0.06288</td>\n",
              "      <td>-0.13738</td>\n",
              "      <td>-0.02447</td>\n",
              "      <td>b</td>\n",
              "    </tr>\n",
              "    <tr>\n",
              "      <th>2</th>\n",
              "      <td>1</td>\n",
              "      <td>0</td>\n",
              "      <td>1.00000</td>\n",
              "      <td>-0.03365</td>\n",
              "      <td>1.00000</td>\n",
              "      <td>0.00485</td>\n",
              "      <td>1.00000</td>\n",
              "      <td>-0.12062</td>\n",
              "      <td>0.88965</td>\n",
              "      <td>0.01198</td>\n",
              "      <td>...</td>\n",
              "      <td>-0.40220</td>\n",
              "      <td>0.58984</td>\n",
              "      <td>-0.22145</td>\n",
              "      <td>0.43100</td>\n",
              "      <td>-0.17365</td>\n",
              "      <td>0.60436</td>\n",
              "      <td>-0.24180</td>\n",
              "      <td>0.56045</td>\n",
              "      <td>-0.38238</td>\n",
              "      <td>g</td>\n",
              "    </tr>\n",
              "    <tr>\n",
              "      <th>3</th>\n",
              "      <td>1</td>\n",
              "      <td>0</td>\n",
              "      <td>1.00000</td>\n",
              "      <td>-0.45161</td>\n",
              "      <td>1.00000</td>\n",
              "      <td>1.00000</td>\n",
              "      <td>0.71216</td>\n",
              "      <td>-1.00000</td>\n",
              "      <td>0.00000</td>\n",
              "      <td>0.00000</td>\n",
              "      <td>...</td>\n",
              "      <td>0.90695</td>\n",
              "      <td>0.51613</td>\n",
              "      <td>1.00000</td>\n",
              "      <td>1.00000</td>\n",
              "      <td>-0.20099</td>\n",
              "      <td>0.25682</td>\n",
              "      <td>1.00000</td>\n",
              "      <td>-0.32382</td>\n",
              "      <td>1.00000</td>\n",
              "      <td>b</td>\n",
              "    </tr>\n",
              "    <tr>\n",
              "      <th>4</th>\n",
              "      <td>1</td>\n",
              "      <td>0</td>\n",
              "      <td>1.00000</td>\n",
              "      <td>-0.02401</td>\n",
              "      <td>0.94140</td>\n",
              "      <td>0.06531</td>\n",
              "      <td>0.92106</td>\n",
              "      <td>-0.23255</td>\n",
              "      <td>0.77152</td>\n",
              "      <td>-0.16399</td>\n",
              "      <td>...</td>\n",
              "      <td>-0.65158</td>\n",
              "      <td>0.13290</td>\n",
              "      <td>-0.53206</td>\n",
              "      <td>0.02431</td>\n",
              "      <td>-0.62197</td>\n",
              "      <td>-0.05707</td>\n",
              "      <td>-0.59573</td>\n",
              "      <td>-0.04608</td>\n",
              "      <td>-0.65697</td>\n",
              "      <td>g</td>\n",
              "    </tr>\n",
              "  </tbody>\n",
              "</table>\n",
              "<p>5 rows × 35 columns</p>\n",
              "</div>"
            ],
            "text/plain": [
              "   0   1        2        3        4        5        6        7        8   \\\n",
              "0   1   0  0.99539 -0.05889  0.85243  0.02306  0.83398 -0.37708  1.00000   \n",
              "1   1   0  1.00000 -0.18829  0.93035 -0.36156 -0.10868 -0.93597  1.00000   \n",
              "2   1   0  1.00000 -0.03365  1.00000  0.00485  1.00000 -0.12062  0.88965   \n",
              "3   1   0  1.00000 -0.45161  1.00000  1.00000  0.71216 -1.00000  0.00000   \n",
              "4   1   0  1.00000 -0.02401  0.94140  0.06531  0.92106 -0.23255  0.77152   \n",
              "\n",
              "        9   ...       25       26       27       28       29       30  \\\n",
              "0  0.03760  ... -0.51171  0.41078 -0.46168  0.21266 -0.34090  0.42267   \n",
              "1 -0.04549  ... -0.26569 -0.20468 -0.18401 -0.19040 -0.11593 -0.16626   \n",
              "2  0.01198  ... -0.40220  0.58984 -0.22145  0.43100 -0.17365  0.60436   \n",
              "3  0.00000  ...  0.90695  0.51613  1.00000  1.00000 -0.20099  0.25682   \n",
              "4 -0.16399  ... -0.65158  0.13290 -0.53206  0.02431 -0.62197 -0.05707   \n",
              "\n",
              "        31       32       33  34  \n",
              "0 -0.54487  0.18641 -0.45300   g  \n",
              "1 -0.06288 -0.13738 -0.02447   b  \n",
              "2 -0.24180  0.56045 -0.38238   g  \n",
              "3  1.00000 -0.32382  1.00000   b  \n",
              "4 -0.59573 -0.04608 -0.65697   g  \n",
              "\n",
              "[5 rows x 35 columns]"
            ]
          },
          "execution_count": 64,
          "metadata": {},
          "output_type": "execute_result"
        }
      ],
      "source": [
        "ionosphere_df.head()"
      ]
    },
    {
      "cell_type": "code",
      "execution_count": 65,
      "metadata": {
        "colab": {
          "base_uri": "https://localhost:8080/"
        },
        "id": "akdiGMMcBvF9",
        "outputId": "b3a7224d-c372-4f92-ae57-3250f44b36c3"
      },
      "outputs": [
        {
          "name": "stdout",
          "output_type": "stream",
          "text": [
            "<class 'pandas.core.frame.DataFrame'>\n",
            "RangeIndex: 351 entries, 0 to 350\n",
            "Data columns (total 35 columns):\n",
            " #   Column  Non-Null Count  Dtype  \n",
            "---  ------  --------------  -----  \n",
            " 0   0       351 non-null    int64  \n",
            " 1   1       351 non-null    int64  \n",
            " 2   2       351 non-null    float64\n",
            " 3   3       351 non-null    float64\n",
            " 4   4       351 non-null    float64\n",
            " 5   5       351 non-null    float64\n",
            " 6   6       351 non-null    float64\n",
            " 7   7       351 non-null    float64\n",
            " 8   8       351 non-null    float64\n",
            " 9   9       351 non-null    float64\n",
            " 10  10      351 non-null    float64\n",
            " 11  11      351 non-null    float64\n",
            " 12  12      351 non-null    float64\n",
            " 13  13      351 non-null    float64\n",
            " 14  14      351 non-null    float64\n",
            " 15  15      351 non-null    float64\n",
            " 16  16      351 non-null    float64\n",
            " 17  17      351 non-null    float64\n",
            " 18  18      351 non-null    float64\n",
            " 19  19      351 non-null    float64\n",
            " 20  20      351 non-null    float64\n",
            " 21  21      351 non-null    float64\n",
            " 22  22      351 non-null    float64\n",
            " 23  23      351 non-null    float64\n",
            " 24  24      351 non-null    float64\n",
            " 25  25      351 non-null    float64\n",
            " 26  26      351 non-null    float64\n",
            " 27  27      351 non-null    float64\n",
            " 28  28      351 non-null    float64\n",
            " 29  29      351 non-null    float64\n",
            " 30  30      351 non-null    float64\n",
            " 31  31      351 non-null    float64\n",
            " 32  32      351 non-null    float64\n",
            " 33  33      351 non-null    float64\n",
            " 34  34      351 non-null    object \n",
            "dtypes: float64(32), int64(2), object(1)\n",
            "memory usage: 96.1+ KB\n"
          ]
        }
      ],
      "source": [
        "ionosphere_df.info()"
      ]
    },
    {
      "cell_type": "code",
      "execution_count": 66,
      "metadata": {
        "colab": {
          "base_uri": "https://localhost:8080/"
        },
        "id": "MXxFZefgC9KO",
        "outputId": "d3601152-7803-4b34-f82c-c7fbbd14253e"
      },
      "outputs": [
        {
          "data": {
            "text/plain": [
              "0       2\n",
              "1       1\n",
              "2     219\n",
              "3     269\n",
              "4     204\n",
              "5     259\n",
              "6     231\n",
              "7     260\n",
              "8     244\n",
              "9     267\n",
              "10    246\n",
              "11    269\n",
              "12    238\n",
              "13    266\n",
              "14    234\n",
              "15    270\n",
              "16    254\n",
              "17    280\n",
              "18    254\n",
              "19    266\n",
              "20    248\n",
              "21    265\n",
              "22    248\n",
              "23    264\n",
              "24    256\n",
              "25    273\n",
              "26    256\n",
              "27    281\n",
              "28    244\n",
              "29    266\n",
              "30    243\n",
              "31    263\n",
              "32    245\n",
              "33    263\n",
              "34      2\n",
              "dtype: int64"
            ]
          },
          "execution_count": 66,
          "metadata": {},
          "output_type": "execute_result"
        }
      ],
      "source": [
        "ionosphere_df.nunique()"
      ]
    },
    {
      "cell_type": "code",
      "execution_count": 67,
      "metadata": {
        "colab": {
          "base_uri": "https://localhost:8080/"
        },
        "id": "vc6vnLxumv_p",
        "outputId": "325986f5-b4e9-41f9-9bcb-c44d64fb1012"
      },
      "outputs": [
        {
          "data": {
            "text/plain": [
              "0     0\n",
              "1     0\n",
              "2     0\n",
              "3     0\n",
              "4     0\n",
              "5     0\n",
              "6     0\n",
              "7     0\n",
              "8     0\n",
              "9     0\n",
              "10    0\n",
              "11    0\n",
              "12    0\n",
              "13    0\n",
              "14    0\n",
              "15    0\n",
              "16    0\n",
              "17    0\n",
              "18    0\n",
              "19    0\n",
              "20    0\n",
              "21    0\n",
              "22    0\n",
              "23    0\n",
              "24    0\n",
              "25    0\n",
              "26    0\n",
              "27    0\n",
              "28    0\n",
              "29    0\n",
              "30    0\n",
              "31    0\n",
              "32    0\n",
              "33    0\n",
              "34    0\n",
              "dtype: int64"
            ]
          },
          "execution_count": 67,
          "metadata": {},
          "output_type": "execute_result"
        }
      ],
      "source": [
        "ionosphere_df.isna().sum()"
      ]
    },
    {
      "cell_type": "code",
      "execution_count": 68,
      "metadata": {
        "colab": {
          "base_uri": "https://localhost:8080/"
        },
        "id": "4Nm_j2Vcm242",
        "outputId": "973d5dd6-f8f9-4c01-f123-c377441af3c4"
      },
      "outputs": [
        {
          "data": {
            "text/plain": [
              "34\n",
              "g    225\n",
              "b    126\n",
              "Name: count, dtype: int64"
            ]
          },
          "execution_count": 68,
          "metadata": {},
          "output_type": "execute_result"
        }
      ],
      "source": [
        "# This is a unbalanced dataset\n",
        "\n",
        "ionosphere_df[34].value_counts()"
      ]
    },
    {
      "cell_type": "code",
      "execution_count": 69,
      "metadata": {
        "id": "tnlzrTEPEoFt"
      },
      "outputs": [],
      "source": [
        "X = ionosphere_df.iloc[:, :-1]\n",
        "y = ionosphere_df.iloc[:, -1]"
      ]
    },
    {
      "cell_type": "code",
      "execution_count": 70,
      "metadata": {
        "colab": {
          "base_uri": "https://localhost:8080/",
          "height": 235
        },
        "id": "gDpMlk9SFPgV",
        "outputId": "519a6f76-ec02-40af-be99-f3e20ec8ba5e"
      },
      "outputs": [
        {
          "data": {
            "text/html": [
              "<div>\n",
              "<style scoped>\n",
              "    .dataframe tbody tr th:only-of-type {\n",
              "        vertical-align: middle;\n",
              "    }\n",
              "\n",
              "    .dataframe tbody tr th {\n",
              "        vertical-align: top;\n",
              "    }\n",
              "\n",
              "    .dataframe thead th {\n",
              "        text-align: right;\n",
              "    }\n",
              "</style>\n",
              "<table border=\"1\" class=\"dataframe\">\n",
              "  <thead>\n",
              "    <tr style=\"text-align: right;\">\n",
              "      <th></th>\n",
              "      <th>0</th>\n",
              "      <th>1</th>\n",
              "      <th>2</th>\n",
              "      <th>3</th>\n",
              "      <th>4</th>\n",
              "      <th>5</th>\n",
              "      <th>6</th>\n",
              "      <th>7</th>\n",
              "      <th>8</th>\n",
              "      <th>9</th>\n",
              "      <th>...</th>\n",
              "      <th>24</th>\n",
              "      <th>25</th>\n",
              "      <th>26</th>\n",
              "      <th>27</th>\n",
              "      <th>28</th>\n",
              "      <th>29</th>\n",
              "      <th>30</th>\n",
              "      <th>31</th>\n",
              "      <th>32</th>\n",
              "      <th>33</th>\n",
              "    </tr>\n",
              "  </thead>\n",
              "  <tbody>\n",
              "    <tr>\n",
              "      <th>0</th>\n",
              "      <td>1</td>\n",
              "      <td>0</td>\n",
              "      <td>0.99539</td>\n",
              "      <td>-0.05889</td>\n",
              "      <td>0.85243</td>\n",
              "      <td>0.02306</td>\n",
              "      <td>0.83398</td>\n",
              "      <td>-0.37708</td>\n",
              "      <td>1.00000</td>\n",
              "      <td>0.03760</td>\n",
              "      <td>...</td>\n",
              "      <td>0.56811</td>\n",
              "      <td>-0.51171</td>\n",
              "      <td>0.41078</td>\n",
              "      <td>-0.46168</td>\n",
              "      <td>0.21266</td>\n",
              "      <td>-0.34090</td>\n",
              "      <td>0.42267</td>\n",
              "      <td>-0.54487</td>\n",
              "      <td>0.18641</td>\n",
              "      <td>-0.45300</td>\n",
              "    </tr>\n",
              "    <tr>\n",
              "      <th>1</th>\n",
              "      <td>1</td>\n",
              "      <td>0</td>\n",
              "      <td>1.00000</td>\n",
              "      <td>-0.18829</td>\n",
              "      <td>0.93035</td>\n",
              "      <td>-0.36156</td>\n",
              "      <td>-0.10868</td>\n",
              "      <td>-0.93597</td>\n",
              "      <td>1.00000</td>\n",
              "      <td>-0.04549</td>\n",
              "      <td>...</td>\n",
              "      <td>-0.20332</td>\n",
              "      <td>-0.26569</td>\n",
              "      <td>-0.20468</td>\n",
              "      <td>-0.18401</td>\n",
              "      <td>-0.19040</td>\n",
              "      <td>-0.11593</td>\n",
              "      <td>-0.16626</td>\n",
              "      <td>-0.06288</td>\n",
              "      <td>-0.13738</td>\n",
              "      <td>-0.02447</td>\n",
              "    </tr>\n",
              "    <tr>\n",
              "      <th>2</th>\n",
              "      <td>1</td>\n",
              "      <td>0</td>\n",
              "      <td>1.00000</td>\n",
              "      <td>-0.03365</td>\n",
              "      <td>1.00000</td>\n",
              "      <td>0.00485</td>\n",
              "      <td>1.00000</td>\n",
              "      <td>-0.12062</td>\n",
              "      <td>0.88965</td>\n",
              "      <td>0.01198</td>\n",
              "      <td>...</td>\n",
              "      <td>0.57528</td>\n",
              "      <td>-0.40220</td>\n",
              "      <td>0.58984</td>\n",
              "      <td>-0.22145</td>\n",
              "      <td>0.43100</td>\n",
              "      <td>-0.17365</td>\n",
              "      <td>0.60436</td>\n",
              "      <td>-0.24180</td>\n",
              "      <td>0.56045</td>\n",
              "      <td>-0.38238</td>\n",
              "    </tr>\n",
              "    <tr>\n",
              "      <th>3</th>\n",
              "      <td>1</td>\n",
              "      <td>0</td>\n",
              "      <td>1.00000</td>\n",
              "      <td>-0.45161</td>\n",
              "      <td>1.00000</td>\n",
              "      <td>1.00000</td>\n",
              "      <td>0.71216</td>\n",
              "      <td>-1.00000</td>\n",
              "      <td>0.00000</td>\n",
              "      <td>0.00000</td>\n",
              "      <td>...</td>\n",
              "      <td>1.00000</td>\n",
              "      <td>0.90695</td>\n",
              "      <td>0.51613</td>\n",
              "      <td>1.00000</td>\n",
              "      <td>1.00000</td>\n",
              "      <td>-0.20099</td>\n",
              "      <td>0.25682</td>\n",
              "      <td>1.00000</td>\n",
              "      <td>-0.32382</td>\n",
              "      <td>1.00000</td>\n",
              "    </tr>\n",
              "    <tr>\n",
              "      <th>4</th>\n",
              "      <td>1</td>\n",
              "      <td>0</td>\n",
              "      <td>1.00000</td>\n",
              "      <td>-0.02401</td>\n",
              "      <td>0.94140</td>\n",
              "      <td>0.06531</td>\n",
              "      <td>0.92106</td>\n",
              "      <td>-0.23255</td>\n",
              "      <td>0.77152</td>\n",
              "      <td>-0.16399</td>\n",
              "      <td>...</td>\n",
              "      <td>0.03286</td>\n",
              "      <td>-0.65158</td>\n",
              "      <td>0.13290</td>\n",
              "      <td>-0.53206</td>\n",
              "      <td>0.02431</td>\n",
              "      <td>-0.62197</td>\n",
              "      <td>-0.05707</td>\n",
              "      <td>-0.59573</td>\n",
              "      <td>-0.04608</td>\n",
              "      <td>-0.65697</td>\n",
              "    </tr>\n",
              "  </tbody>\n",
              "</table>\n",
              "<p>5 rows × 34 columns</p>\n",
              "</div>"
            ],
            "text/plain": [
              "   0   1        2        3        4        5        6        7        8   \\\n",
              "0   1   0  0.99539 -0.05889  0.85243  0.02306  0.83398 -0.37708  1.00000   \n",
              "1   1   0  1.00000 -0.18829  0.93035 -0.36156 -0.10868 -0.93597  1.00000   \n",
              "2   1   0  1.00000 -0.03365  1.00000  0.00485  1.00000 -0.12062  0.88965   \n",
              "3   1   0  1.00000 -0.45161  1.00000  1.00000  0.71216 -1.00000  0.00000   \n",
              "4   1   0  1.00000 -0.02401  0.94140  0.06531  0.92106 -0.23255  0.77152   \n",
              "\n",
              "        9   ...       24       25       26       27       28       29  \\\n",
              "0  0.03760  ...  0.56811 -0.51171  0.41078 -0.46168  0.21266 -0.34090   \n",
              "1 -0.04549  ... -0.20332 -0.26569 -0.20468 -0.18401 -0.19040 -0.11593   \n",
              "2  0.01198  ...  0.57528 -0.40220  0.58984 -0.22145  0.43100 -0.17365   \n",
              "3  0.00000  ...  1.00000  0.90695  0.51613  1.00000  1.00000 -0.20099   \n",
              "4 -0.16399  ...  0.03286 -0.65158  0.13290 -0.53206  0.02431 -0.62197   \n",
              "\n",
              "        30       31       32       33  \n",
              "0  0.42267 -0.54487  0.18641 -0.45300  \n",
              "1 -0.16626 -0.06288 -0.13738 -0.02447  \n",
              "2  0.60436 -0.24180  0.56045 -0.38238  \n",
              "3  0.25682  1.00000 -0.32382  1.00000  \n",
              "4 -0.05707 -0.59573 -0.04608 -0.65697  \n",
              "\n",
              "[5 rows x 34 columns]"
            ]
          },
          "execution_count": 70,
          "metadata": {},
          "output_type": "execute_result"
        }
      ],
      "source": [
        "X.head()"
      ]
    },
    {
      "cell_type": "code",
      "execution_count": 71,
      "metadata": {
        "colab": {
          "base_uri": "https://localhost:8080/"
        },
        "id": "K6Ll2GwgFW80",
        "outputId": "c0b461c2-f884-4048-d0c6-92f1171b956a"
      },
      "outputs": [
        {
          "data": {
            "text/plain": [
              "0    g\n",
              "1    b\n",
              "2    g\n",
              "3    b\n",
              "4    g\n",
              "Name: 34, dtype: object"
            ]
          },
          "execution_count": 71,
          "metadata": {},
          "output_type": "execute_result"
        }
      ],
      "source": [
        "y.head()"
      ]
    },
    {
      "cell_type": "code",
      "execution_count": 72,
      "metadata": {
        "id": "Z1rL4KSzFa-S"
      },
      "outputs": [],
      "source": [
        "# Since version 1.3.2 XGBoost needs target columns to start with 0 value\n",
        "\n",
        "le = LabelEncoder()\n",
        "y = le.fit_transform(y)"
      ]
    },
    {
      "cell_type": "code",
      "execution_count": 73,
      "metadata": {
        "colab": {
          "base_uri": "https://localhost:8080/"
        },
        "id": "1RMApy4YFi4X",
        "outputId": "5c23cf29-c624-479d-e483-38379bd380d6"
      },
      "outputs": [
        {
          "name": "stdout",
          "output_type": "stream",
          "text": [
            "--------- AdaBoost on Ionosphere Dataset ---------\n",
            "[0.88888889 0.91428571 0.97142857 0.91428571 0.97142857 0.94285714\n",
            " 0.94285714 1.         0.88571429 0.94285714 0.88888889 0.85714286\n",
            " 0.97142857 1.         0.97142857 0.94285714 0.94285714 0.94285714\n",
            " 0.85714286 0.91428571 0.94444444 0.97142857 0.88571429 0.88571429\n",
            " 0.97142857 0.97142857 0.91428571 0.94285714 0.91428571 0.94285714\n",
            " 0.91666667 0.94285714 0.97142857 0.88571429 0.85714286 0.94285714\n",
            " 1.         0.97142857 0.88571429 0.97142857 0.91666667 0.97142857\n",
            " 0.97142857 0.85714286 0.85714286 0.91428571 0.94285714 0.97142857\n",
            " 0.97142857 0.97142857 0.91666667 0.91428571 0.94285714 1.\n",
            " 0.97142857 0.91428571 0.94285714 0.85714286 0.97142857 0.88571429\n",
            " 0.86111111 0.91428571 0.94285714 0.88571429 0.91428571 0.91428571\n",
            " 0.91428571 1.         1.         0.91428571 0.80555556 1.\n",
            " 0.97142857 0.85714286 0.94285714 0.91428571 0.97142857 0.85714286\n",
            " 1.         0.91428571 0.97222222 0.97142857 0.88571429 0.91428571\n",
            " 0.85714286 0.94285714 0.94285714 1.         0.97142857 0.82857143\n",
            " 0.91666667 0.97142857 0.94285714 0.94285714 0.85714286 0.97142857\n",
            " 0.94285714 0.88571429 0.91428571 0.88571429]\n",
            "Accuracy: 93.03% (4.48%)\n",
            "Execution Time: 15.03 seconds\n",
            "------------------------------\n",
            "--------- GradBoost on Ionosphere Dataset ---------\n",
            "[0.91666667 0.94285714 1.         0.91428571 0.97142857 0.88571429\n",
            " 0.88571429 1.         0.94285714 0.94285714 0.86111111 0.8\n",
            " 1.         1.         0.97142857 0.94285714 0.94285714 0.91428571\n",
            " 0.85714286 0.94285714 1.         0.97142857 0.85714286 0.88571429\n",
            " 0.91428571 0.97142857 0.94285714 0.91428571 0.91428571 0.94285714\n",
            " 0.91666667 0.94285714 0.94285714 0.91428571 0.85714286 0.94285714\n",
            " 1.         0.97142857 0.85714286 0.94285714 0.91666667 0.91428571\n",
            " 0.94285714 0.82857143 0.91428571 0.94285714 0.94285714 0.97142857\n",
            " 1.         0.97142857 0.91666667 0.94285714 0.94285714 1.\n",
            " 0.94285714 0.94285714 0.94285714 0.82857143 0.94285714 0.88571429\n",
            " 0.86111111 0.88571429 0.97142857 0.91428571 0.91428571 0.94285714\n",
            " 0.91428571 0.97142857 0.91428571 0.94285714 0.80555556 0.91428571\n",
            " 1.         0.88571429 0.94285714 0.91428571 0.97142857 0.88571429\n",
            " 1.         0.91428571 0.94444444 1.         0.94285714 0.8\n",
            " 0.85714286 0.97142857 0.91428571 1.         0.97142857 0.82857143\n",
            " 0.83333333 1.         1.         0.97142857 0.91428571 0.94285714\n",
            " 0.97142857 0.94285714 0.91428571 0.91428571]\n",
            "Accuracy: 92.97% (4.92%)\n",
            "Execution Time: 54.86 seconds\n",
            "------------------------------\n",
            "--------- CatBoost on Ionosphere Dataset ---------\n",
            "[0.91666667 0.94285714 1.         0.91428571 0.94285714 0.91428571\n",
            " 0.88571429 1.         0.88571429 0.94285714 0.86111111 0.88571429\n",
            " 1.         1.         0.97142857 0.97142857 0.91428571 0.94285714\n",
            " 0.82857143 0.97142857 1.         0.97142857 0.88571429 0.94285714\n",
            " 0.94285714 0.97142857 0.94285714 0.91428571 0.91428571 0.94285714\n",
            " 0.91666667 0.97142857 0.94285714 0.85714286 0.88571429 0.94285714\n",
            " 1.         0.94285714 0.88571429 0.97142857 0.91666667 0.94285714\n",
            " 0.97142857 0.8        0.91428571 0.94285714 0.94285714 0.97142857\n",
            " 1.         0.94285714 0.94444444 0.91428571 0.94285714 1.\n",
            " 0.94285714 0.94285714 0.97142857 0.85714286 0.94285714 0.88571429\n",
            " 0.91666667 0.91428571 0.94285714 0.88571429 0.94285714 0.94285714\n",
            " 0.91428571 0.97142857 0.94285714 0.94285714 0.83333333 1.\n",
            " 1.         0.88571429 0.94285714 0.88571429 0.91428571 0.91428571\n",
            " 1.         0.97142857 0.97222222 1.         0.94285714 0.82857143\n",
            " 0.85714286 0.94285714 0.94285714 1.         0.97142857 0.82857143\n",
            " 0.86111111 1.         1.         0.94285714 0.91428571 0.94285714\n",
            " 0.97142857 0.94285714 0.91428571 0.88571429]\n",
            "Accuracy: 93.45% (4.59%)\n",
            "Execution Time: 326.21 seconds\n",
            "------------------------------\n",
            "--------- LightGBM on Ionosphere Dataset ---------\n",
            "[0.91666667 0.94285714 1.         0.94285714 0.94285714 0.88571429\n",
            " 0.94285714 1.         0.85714286 0.94285714 0.91666667 0.85714286\n",
            " 1.         1.         0.97142857 0.97142857 0.91428571 0.94285714\n",
            " 0.85714286 0.97142857 1.         0.97142857 0.88571429 0.85714286\n",
            " 0.97142857 0.97142857 0.91428571 0.91428571 0.94285714 0.94285714\n",
            " 0.91666667 0.97142857 0.97142857 0.88571429 0.82857143 0.94285714\n",
            " 1.         0.94285714 0.88571429 0.97142857 0.91666667 0.94285714\n",
            " 0.97142857 0.8        0.91428571 0.94285714 0.94285714 0.97142857\n",
            " 1.         0.91428571 0.94444444 0.91428571 0.88571429 1.\n",
            " 0.94285714 0.94285714 0.97142857 0.88571429 0.97142857 0.91428571\n",
            " 0.97222222 0.91428571 0.97142857 0.88571429 0.94285714 0.91428571\n",
            " 0.91428571 0.97142857 0.94285714 0.94285714 0.86111111 1.\n",
            " 1.         0.91428571 0.94285714 0.91428571 0.91428571 0.91428571\n",
            " 0.97142857 0.97142857 0.97222222 1.         0.91428571 0.88571429\n",
            " 0.85714286 0.97142857 0.91428571 1.         0.97142857 0.88571429\n",
            " 0.86111111 1.         1.         0.94285714 0.91428571 0.97142857\n",
            " 0.97142857 0.94285714 0.91428571 0.88571429]\n",
            "Accuracy: 93.71% (4.41%)\n",
            "Execution Time: 3.90 seconds\n",
            "------------------------------\n",
            "--------- XGBoost on Ionosphere Dataset ---------\n",
            "[0.91666667 0.94285714 1.         0.91428571 0.94285714 0.91428571\n",
            " 0.88571429 1.         0.82857143 0.91428571 0.88888889 0.91428571\n",
            " 1.         1.         0.97142857 0.97142857 0.91428571 0.94285714\n",
            " 0.8        0.94285714 1.         0.97142857 0.88571429 0.91428571\n",
            " 0.94285714 0.91428571 0.97142857 0.91428571 0.91428571 0.88571429\n",
            " 0.88888889 0.97142857 0.97142857 0.88571429 0.8        0.94285714\n",
            " 1.         0.94285714 0.88571429 0.91428571 0.86111111 0.97142857\n",
            " 0.94285714 0.8        0.88571429 0.94285714 0.94285714 0.97142857\n",
            " 1.         0.91428571 0.91666667 0.91428571 0.88571429 0.97142857\n",
            " 0.94285714 0.88571429 0.97142857 0.88571429 0.97142857 0.88571429\n",
            " 0.83333333 0.91428571 0.97142857 0.88571429 0.91428571 0.94285714\n",
            " 0.91428571 0.91428571 0.97142857 0.94285714 0.83333333 0.91428571\n",
            " 1.         0.91428571 0.97142857 0.91428571 0.88571429 0.88571429\n",
            " 1.         0.97142857 0.97222222 1.         0.94285714 0.74285714\n",
            " 0.88571429 0.97142857 0.88571429 1.         0.97142857 0.82857143\n",
            " 0.83333333 0.97142857 0.91428571 0.94285714 0.85714286 0.97142857\n",
            " 0.97142857 0.94285714 0.91428571 0.82857143]\n",
            "Accuracy: 92.43% (5.31%)\n",
            "Execution Time: 4.98 seconds\n",
            "------------------------------\n"
          ]
        }
      ],
      "source": [
        "ionosphere_scores = []\n",
        "ionosphere_mean = []\n",
        "ionosphere_std = []\n",
        "model_names = []\n",
        "execution_times = []\n",
        "\n",
        "for name, clf in zip(names, classifiers):\n",
        "  start_time = time.time()\n",
        "  results = cross_val_score(clf, X, y, cv=rkf)\n",
        "  end_time = time.time()\n",
        "\n",
        "  ionosphere_scores.append(results)\n",
        "  ionosphere_mean.append(results.mean()*100)\n",
        "  ionosphere_std.append(results.std()*100)\n",
        "  model_names.append(name)\n",
        "  execution_time = end_time - start_time  \n",
        "  execution_times.append(execution_time)\n",
        "  \n",
        "  print(f'--------- {name} on Ionosphere Dataset ---------')\n",
        "  print(results)\n",
        "  print('Accuracy: %.2f%% (%.2f%%)' % (results.mean()*100, results.std()*100))\n",
        "  print(f'Execution Time: {execution_time:.2f} seconds')\n",
        "  print('------------------------------')"
      ]
    },
    {
      "cell_type": "code",
      "execution_count": 74,
      "metadata": {
        "colab": {
          "base_uri": "https://localhost:8080/"
        },
        "id": "zCwmHNHDFs5j",
        "outputId": "0df331b4-7da1-4b9e-e2c3-72ff85edd25a"
      },
      "outputs": [
        {
          "data": {
            "text/plain": [
              "[93.02777777777777,\n",
              " 92.97222222222223,\n",
              " 93.4531746031746,\n",
              " 93.7063492063492,\n",
              " 92.43015873015872]"
            ]
          },
          "execution_count": 74,
          "metadata": {},
          "output_type": "execute_result"
        }
      ],
      "source": [
        "ionosphere_mean"
      ]
    },
    {
      "cell_type": "code",
      "execution_count": 75,
      "metadata": {
        "colab": {
          "base_uri": "https://localhost:8080/"
        },
        "id": "PEK182-LFuYN",
        "outputId": "df27747e-208d-4297-b836-12bcd858953f"
      },
      "outputs": [
        {
          "data": {
            "text/plain": [
              "[4.4762520399909125,\n",
              " 4.918847281527163,\n",
              " 4.589216591001476,\n",
              " 4.414603619768994,\n",
              " 5.314317716237489]"
            ]
          },
          "execution_count": 75,
          "metadata": {},
          "output_type": "execute_result"
        }
      ],
      "source": [
        "ionosphere_std"
      ]
    },
    {
      "cell_type": "code",
      "execution_count": 76,
      "metadata": {
        "colab": {
          "base_uri": "https://localhost:8080/",
          "height": 478
        },
        "id": "nJETohzo1-r8",
        "outputId": "8862d485-68f1-4635-ee8a-3817303a7aea"
      },
      "outputs": [
        {
          "data": {
            "image/png": "[encoded data removed]",
            "text/plain": [
              "<Figure size 640x480 with 1 Axes>"
            ]
          },
          "metadata": {},
          "output_type": "display_data"
        }
      ],
      "source": [
        "# algorithm comparison\n",
        "\n",
        "fig = plt.figure()\n",
        "fig.suptitle('Comparison between different Ionosphere scores')\n",
        "ax = fig.add_subplot(111)\n",
        "plt.ylim(0.3, 1)\n",
        "plt.boxplot(ionosphere_scores, showmeans=True)\n",
        "ax.set_xticklabels(model_names)\n",
        "plt.show()"
      ]
    },
    {
      "cell_type": "code",
      "execution_count": 77,
      "metadata": {
        "id": "fo0Bqj0SMK6T"
      },
      "outputs": [],
      "source": [
        "Algo_results['Ionosphere'] = ionosphere_mean"
      ]
    },
    {
      "cell_type": "code",
      "execution_count": 78,
      "metadata": {
        "colab": {
          "base_uri": "https://localhost:8080/",
          "height": 206
        },
        "id": "XrvHCsfxMcaI",
        "outputId": "eb498976-7d8d-41f5-c531-9e2a08001f8a"
      },
      "outputs": [
        {
          "data": {
            "text/html": [
              "<div>\n",
              "<style scoped>\n",
              "    .dataframe tbody tr th:only-of-type {\n",
              "        vertical-align: middle;\n",
              "    }\n",
              "\n",
              "    .dataframe tbody tr th {\n",
              "        vertical-align: top;\n",
              "    }\n",
              "\n",
              "    .dataframe thead th {\n",
              "        text-align: right;\n",
              "    }\n",
              "</style>\n",
              "<table border=\"1\" class=\"dataframe\">\n",
              "  <thead>\n",
              "    <tr style=\"text-align: right;\">\n",
              "      <th></th>\n",
              "      <th>Names</th>\n",
              "      <th>Wine</th>\n",
              "      <th>Breast_Cancer</th>\n",
              "      <th>Sonar</th>\n",
              "      <th>Ionosphere</th>\n",
              "    </tr>\n",
              "  </thead>\n",
              "  <tbody>\n",
              "    <tr>\n",
              "      <th>0</th>\n",
              "      <td>AdaBoost</td>\n",
              "      <td>89.830065</td>\n",
              "      <td>95.800512</td>\n",
              "      <td>83.188095</td>\n",
              "      <td>93.027778</td>\n",
              "    </tr>\n",
              "    <tr>\n",
              "      <th>1</th>\n",
              "      <td>GradBoost</td>\n",
              "      <td>95.016340</td>\n",
              "      <td>96.500639</td>\n",
              "      <td>83.992857</td>\n",
              "      <td>92.972222</td>\n",
              "    </tr>\n",
              "    <tr>\n",
              "      <th>2</th>\n",
              "      <td>CatBoost</td>\n",
              "      <td>97.977124</td>\n",
              "      <td>97.087170</td>\n",
              "      <td>87.152381</td>\n",
              "      <td>93.453175</td>\n",
              "    </tr>\n",
              "    <tr>\n",
              "      <th>3</th>\n",
              "      <td>LightGBM</td>\n",
              "      <td>97.421569</td>\n",
              "      <td>96.632992</td>\n",
              "      <td>88.123810</td>\n",
              "      <td>93.706349</td>\n",
              "    </tr>\n",
              "    <tr>\n",
              "      <th>4</th>\n",
              "      <td>XGBoost</td>\n",
              "      <td>96.676471</td>\n",
              "      <td>96.429028</td>\n",
              "      <td>85.007143</td>\n",
              "      <td>92.430159</td>\n",
              "    </tr>\n",
              "  </tbody>\n",
              "</table>\n",
              "</div>"
            ],
            "text/plain": [
              "       Names       Wine  Breast_Cancer      Sonar  Ionosphere\n",
              "0   AdaBoost  89.830065      95.800512  83.188095   93.027778\n",
              "1  GradBoost  95.016340      96.500639  83.992857   92.972222\n",
              "2   CatBoost  97.977124      97.087170  87.152381   93.453175\n",
              "3   LightGBM  97.421569      96.632992  88.123810   93.706349\n",
              "4    XGBoost  96.676471      96.429028  85.007143   92.430159"
            ]
          },
          "execution_count": 78,
          "metadata": {},
          "output_type": "execute_result"
        }
      ],
      "source": [
        "Algo_results"
      ]
    },
    {
      "cell_type": "code",
      "execution_count": 79,
      "metadata": {},
      "outputs": [],
      "source": [
        "Algo_time_results['Ionosphere'] = pd.Series(execution_times)"
      ]
    },
    {
      "cell_type": "markdown",
      "metadata": {
        "id": "EM2SfsPt7_9i"
      },
      "source": [
        "---"
      ]
    },
    {
      "cell_type": "markdown",
      "metadata": {
        "id": "EDFLJEX_7_3e"
      },
      "source": [
        "# **(Unbalanced) Bupa**"
      ]
    },
    {
      "cell_type": "markdown",
      "metadata": {
        "id": "ZgymIqS_7_wq"
      },
      "source": [
        "---"
      ]
    },
    {
      "cell_type": "code",
      "execution_count": 80,
      "metadata": {
        "id": "gTOBrsuz7-1D"
      },
      "outputs": [],
      "source": [
        "bupa_df = pd.read_csv('E:\\Cursos\\MestradoCienciaComputação\\Seminario\\Datasets\\Bupa\\Bupa.data', header=None)"
      ]
    },
    {
      "cell_type": "code",
      "execution_count": 81,
      "metadata": {
        "colab": {
          "base_uri": "https://localhost:8080/"
        },
        "id": "rw3t4eya8XiH",
        "outputId": "6839be78-47b7-45fc-caf2-b409c57f4162"
      },
      "outputs": [
        {
          "data": {
            "text/plain": [
              "(345, 7)"
            ]
          },
          "execution_count": 81,
          "metadata": {},
          "output_type": "execute_result"
        }
      ],
      "source": [
        "bupa_df.shape"
      ]
    },
    {
      "cell_type": "code",
      "execution_count": 82,
      "metadata": {
        "colab": {
          "base_uri": "https://localhost:8080/",
          "height": 206
        },
        "id": "RGgy7sw38R6S",
        "outputId": "e8e75cd3-6d28-4ed3-d4c2-5a4a6464d8df"
      },
      "outputs": [
        {
          "data": {
            "text/html": [
              "<div>\n",
              "<style scoped>\n",
              "    .dataframe tbody tr th:only-of-type {\n",
              "        vertical-align: middle;\n",
              "    }\n",
              "\n",
              "    .dataframe tbody tr th {\n",
              "        vertical-align: top;\n",
              "    }\n",
              "\n",
              "    .dataframe thead th {\n",
              "        text-align: right;\n",
              "    }\n",
              "</style>\n",
              "<table border=\"1\" class=\"dataframe\">\n",
              "  <thead>\n",
              "    <tr style=\"text-align: right;\">\n",
              "      <th></th>\n",
              "      <th>0</th>\n",
              "      <th>1</th>\n",
              "      <th>2</th>\n",
              "      <th>3</th>\n",
              "      <th>4</th>\n",
              "      <th>5</th>\n",
              "      <th>6</th>\n",
              "    </tr>\n",
              "  </thead>\n",
              "  <tbody>\n",
              "    <tr>\n",
              "      <th>0</th>\n",
              "      <td>85</td>\n",
              "      <td>92</td>\n",
              "      <td>45</td>\n",
              "      <td>27</td>\n",
              "      <td>31</td>\n",
              "      <td>0.0</td>\n",
              "      <td>1</td>\n",
              "    </tr>\n",
              "    <tr>\n",
              "      <th>1</th>\n",
              "      <td>85</td>\n",
              "      <td>64</td>\n",
              "      <td>59</td>\n",
              "      <td>32</td>\n",
              "      <td>23</td>\n",
              "      <td>0.0</td>\n",
              "      <td>2</td>\n",
              "    </tr>\n",
              "    <tr>\n",
              "      <th>2</th>\n",
              "      <td>86</td>\n",
              "      <td>54</td>\n",
              "      <td>33</td>\n",
              "      <td>16</td>\n",
              "      <td>54</td>\n",
              "      <td>0.0</td>\n",
              "      <td>2</td>\n",
              "    </tr>\n",
              "    <tr>\n",
              "      <th>3</th>\n",
              "      <td>91</td>\n",
              "      <td>78</td>\n",
              "      <td>34</td>\n",
              "      <td>24</td>\n",
              "      <td>36</td>\n",
              "      <td>0.0</td>\n",
              "      <td>2</td>\n",
              "    </tr>\n",
              "    <tr>\n",
              "      <th>4</th>\n",
              "      <td>87</td>\n",
              "      <td>70</td>\n",
              "      <td>12</td>\n",
              "      <td>28</td>\n",
              "      <td>10</td>\n",
              "      <td>0.0</td>\n",
              "      <td>2</td>\n",
              "    </tr>\n",
              "  </tbody>\n",
              "</table>\n",
              "</div>"
            ],
            "text/plain": [
              "    0   1   2   3   4    5  6\n",
              "0  85  92  45  27  31  0.0  1\n",
              "1  85  64  59  32  23  0.0  2\n",
              "2  86  54  33  16  54  0.0  2\n",
              "3  91  78  34  24  36  0.0  2\n",
              "4  87  70  12  28  10  0.0  2"
            ]
          },
          "execution_count": 82,
          "metadata": {},
          "output_type": "execute_result"
        }
      ],
      "source": [
        "bupa_df.head()"
      ]
    },
    {
      "cell_type": "code",
      "execution_count": 83,
      "metadata": {
        "colab": {
          "base_uri": "https://localhost:8080/"
        },
        "id": "TGr6Oz__8UG1",
        "outputId": "b4b04f52-9817-404f-c356-4298454db7ca"
      },
      "outputs": [
        {
          "name": "stdout",
          "output_type": "stream",
          "text": [
            "<class 'pandas.core.frame.DataFrame'>\n",
            "RangeIndex: 345 entries, 0 to 344\n",
            "Data columns (total 7 columns):\n",
            " #   Column  Non-Null Count  Dtype  \n",
            "---  ------  --------------  -----  \n",
            " 0   0       345 non-null    int64  \n",
            " 1   1       345 non-null    int64  \n",
            " 2   2       345 non-null    int64  \n",
            " 3   3       345 non-null    int64  \n",
            " 4   4       345 non-null    int64  \n",
            " 5   5       345 non-null    float64\n",
            " 6   6       345 non-null    int64  \n",
            "dtypes: float64(1), int64(6)\n",
            "memory usage: 19.0 KB\n"
          ]
        }
      ],
      "source": [
        "bupa_df.info()"
      ]
    },
    {
      "cell_type": "code",
      "execution_count": 84,
      "metadata": {
        "colab": {
          "base_uri": "https://localhost:8080/"
        },
        "id": "eaYnRrkf8n4c",
        "outputId": "3d7e50ca-ed2d-4de8-fa30-a9f64a1fd038"
      },
      "outputs": [
        {
          "data": {
            "text/plain": [
              "0    26\n",
              "1    78\n",
              "2    67\n",
              "3    47\n",
              "4    94\n",
              "5    16\n",
              "6     2\n",
              "dtype: int64"
            ]
          },
          "execution_count": 84,
          "metadata": {},
          "output_type": "execute_result"
        }
      ],
      "source": [
        "bupa_df.nunique()"
      ]
    },
    {
      "cell_type": "code",
      "execution_count": 85,
      "metadata": {
        "colab": {
          "base_uri": "https://localhost:8080/"
        },
        "id": "tZigCKS_8u3E",
        "outputId": "3affa0e5-1715-458c-ebe0-f10400696b2f"
      },
      "outputs": [
        {
          "data": {
            "text/plain": [
              "0    0\n",
              "1    0\n",
              "2    0\n",
              "3    0\n",
              "4    0\n",
              "5    0\n",
              "6    0\n",
              "dtype: int64"
            ]
          },
          "execution_count": 85,
          "metadata": {},
          "output_type": "execute_result"
        }
      ],
      "source": [
        "bupa_df.isna().sum()"
      ]
    },
    {
      "cell_type": "code",
      "execution_count": 86,
      "metadata": {
        "colab": {
          "base_uri": "https://localhost:8080/"
        },
        "id": "ShgSkjYb8238",
        "outputId": "441000a7-ab37-471c-bc4a-84bcf692d7ab"
      },
      "outputs": [
        {
          "data": {
            "text/plain": [
              "6\n",
              "2    200\n",
              "1    145\n",
              "Name: count, dtype: int64"
            ]
          },
          "execution_count": 86,
          "metadata": {},
          "output_type": "execute_result"
        }
      ],
      "source": [
        "# Unbalanced dataset\n",
        "\n",
        "bupa_df[6].value_counts()"
      ]
    },
    {
      "cell_type": "code",
      "execution_count": 87,
      "metadata": {
        "id": "ZBUXN1kp9CFs"
      },
      "outputs": [],
      "source": [
        "X = bupa_df.iloc[:, :-1]\n",
        "y = bupa_df.iloc[:, -1]"
      ]
    },
    {
      "cell_type": "code",
      "execution_count": 88,
      "metadata": {
        "colab": {
          "base_uri": "https://localhost:8080/",
          "height": 206
        },
        "id": "pcqPfXCE9jAe",
        "outputId": "55943678-a1fe-45ee-ea3d-18a72edc04f4"
      },
      "outputs": [
        {
          "data": {
            "text/html": [
              "<div>\n",
              "<style scoped>\n",
              "    .dataframe tbody tr th:only-of-type {\n",
              "        vertical-align: middle;\n",
              "    }\n",
              "\n",
              "    .dataframe tbody tr th {\n",
              "        vertical-align: top;\n",
              "    }\n",
              "\n",
              "    .dataframe thead th {\n",
              "        text-align: right;\n",
              "    }\n",
              "</style>\n",
              "<table border=\"1\" class=\"dataframe\">\n",
              "  <thead>\n",
              "    <tr style=\"text-align: right;\">\n",
              "      <th></th>\n",
              "      <th>0</th>\n",
              "      <th>1</th>\n",
              "      <th>2</th>\n",
              "      <th>3</th>\n",
              "      <th>4</th>\n",
              "      <th>5</th>\n",
              "    </tr>\n",
              "  </thead>\n",
              "  <tbody>\n",
              "    <tr>\n",
              "      <th>0</th>\n",
              "      <td>85</td>\n",
              "      <td>92</td>\n",
              "      <td>45</td>\n",
              "      <td>27</td>\n",
              "      <td>31</td>\n",
              "      <td>0.0</td>\n",
              "    </tr>\n",
              "    <tr>\n",
              "      <th>1</th>\n",
              "      <td>85</td>\n",
              "      <td>64</td>\n",
              "      <td>59</td>\n",
              "      <td>32</td>\n",
              "      <td>23</td>\n",
              "      <td>0.0</td>\n",
              "    </tr>\n",
              "    <tr>\n",
              "      <th>2</th>\n",
              "      <td>86</td>\n",
              "      <td>54</td>\n",
              "      <td>33</td>\n",
              "      <td>16</td>\n",
              "      <td>54</td>\n",
              "      <td>0.0</td>\n",
              "    </tr>\n",
              "    <tr>\n",
              "      <th>3</th>\n",
              "      <td>91</td>\n",
              "      <td>78</td>\n",
              "      <td>34</td>\n",
              "      <td>24</td>\n",
              "      <td>36</td>\n",
              "      <td>0.0</td>\n",
              "    </tr>\n",
              "    <tr>\n",
              "      <th>4</th>\n",
              "      <td>87</td>\n",
              "      <td>70</td>\n",
              "      <td>12</td>\n",
              "      <td>28</td>\n",
              "      <td>10</td>\n",
              "      <td>0.0</td>\n",
              "    </tr>\n",
              "  </tbody>\n",
              "</table>\n",
              "</div>"
            ],
            "text/plain": [
              "    0   1   2   3   4    5\n",
              "0  85  92  45  27  31  0.0\n",
              "1  85  64  59  32  23  0.0\n",
              "2  86  54  33  16  54  0.0\n",
              "3  91  78  34  24  36  0.0\n",
              "4  87  70  12  28  10  0.0"
            ]
          },
          "execution_count": 88,
          "metadata": {},
          "output_type": "execute_result"
        }
      ],
      "source": [
        "X.head()"
      ]
    },
    {
      "cell_type": "code",
      "execution_count": 89,
      "metadata": {
        "colab": {
          "base_uri": "https://localhost:8080/"
        },
        "id": "WxcLKUgo9kCc",
        "outputId": "940aed84-4b66-4987-9600-edccf22832ea"
      },
      "outputs": [
        {
          "data": {
            "text/plain": [
              "0    1\n",
              "1    2\n",
              "2    2\n",
              "3    2\n",
              "4    2\n",
              "Name: 6, dtype: int64"
            ]
          },
          "execution_count": 89,
          "metadata": {},
          "output_type": "execute_result"
        }
      ],
      "source": [
        "y.head()"
      ]
    },
    {
      "cell_type": "code",
      "execution_count": 90,
      "metadata": {
        "id": "x6zJOJjI9l3j"
      },
      "outputs": [],
      "source": [
        "# Since version 1.3.2 XGBoost needs target columns to start with 0 value\n",
        "\n",
        "le = LabelEncoder()\n",
        "y = le.fit_transform(y)"
      ]
    },
    {
      "cell_type": "code",
      "execution_count": 91,
      "metadata": {
        "colab": {
          "base_uri": "https://localhost:8080/"
        },
        "id": "hD8SYMMs9qsl",
        "outputId": "e0e4cac8-a0f8-4ef3-9821-e8210b6520bc"
      },
      "outputs": [
        {
          "name": "stdout",
          "output_type": "stream",
          "text": [
            "--------- AdaBoost on Bupa Dataset ---------\n",
            "[0.8        0.8        0.65714286 0.74285714 0.71428571 0.64705882\n",
            " 0.67647059 0.79411765 0.70588235 0.64705882 0.71428571 0.77142857\n",
            " 0.71428571 0.65714286 0.65714286 0.79411765 0.55882353 0.76470588\n",
            " 0.70588235 0.82352941 0.74285714 0.62857143 0.71428571 0.74285714\n",
            " 0.68571429 0.73529412 0.79411765 0.82352941 0.82352941 0.58823529\n",
            " 0.62857143 0.74285714 0.8        0.62857143 0.71428571 0.79411765\n",
            " 0.70588235 0.67647059 0.67647059 0.55882353 0.74285714 0.77142857\n",
            " 0.74285714 0.71428571 0.77142857 0.79411765 0.70588235 0.73529412\n",
            " 0.73529412 0.70588235 0.68571429 0.8        0.62857143 0.82857143\n",
            " 0.71428571 0.67647059 0.64705882 0.70588235 0.85294118 0.73529412\n",
            " 0.62857143 0.62857143 0.77142857 0.68571429 0.8        0.61764706\n",
            " 0.61764706 0.85294118 0.76470588 0.76470588 0.71428571 0.68571429\n",
            " 0.82857143 0.74285714 0.71428571 0.76470588 0.70588235 0.85294118\n",
            " 0.61764706 0.70588235 0.88571429 0.6        0.74285714 0.71428571\n",
            " 0.74285714 0.73529412 0.70588235 0.70588235 0.67647059 0.82352941\n",
            " 0.8        0.8        0.74285714 0.65714286 0.8        0.61764706\n",
            " 0.64705882 0.61764706 0.76470588 0.76470588]\n",
            "Accuracy: 72.25% (7.03%)\n",
            "Execution Time: 6.66 seconds\n",
            "------------------------------\n",
            "--------- GradBoost on Bupa Dataset ---------\n",
            "[0.68571429 0.77142857 0.71428571 0.68571429 0.68571429 0.73529412\n",
            " 0.76470588 0.73529412 0.73529412 0.67647059 0.71428571 0.68571429\n",
            " 0.71428571 0.62857143 0.71428571 0.82352941 0.64705882 0.67647059\n",
            " 0.70588235 0.88235294 0.74285714 0.65714286 0.8        0.77142857\n",
            " 0.65714286 0.73529412 0.70588235 0.70588235 0.70588235 0.76470588\n",
            " 0.71428571 0.71428571 0.77142857 0.65714286 0.74285714 0.73529412\n",
            " 0.79411765 0.64705882 0.58823529 0.5        0.71428571 0.82857143\n",
            " 0.62857143 0.74285714 0.77142857 0.79411765 0.76470588 0.64705882\n",
            " 0.73529412 0.58823529 0.74285714 0.74285714 0.6        0.74285714\n",
            " 0.71428571 0.76470588 0.67647059 0.73529412 0.73529412 0.79411765\n",
            " 0.74285714 0.68571429 0.82857143 0.68571429 0.8        0.73529412\n",
            " 0.70588235 0.85294118 0.76470588 0.82352941 0.65714286 0.65714286\n",
            " 0.82857143 0.77142857 0.77142857 0.76470588 0.73529412 0.73529412\n",
            " 0.70588235 0.79411765 0.8        0.65714286 0.62857143 0.8\n",
            " 0.65714286 0.70588235 0.67647059 0.79411765 0.67647059 0.82352941\n",
            " 0.71428571 0.74285714 0.71428571 0.6        0.82857143 0.58823529\n",
            " 0.70588235 0.70588235 0.79411765 0.70588235]\n",
            "Accuracy: 72.32% (6.57%)\n",
            "Execution Time: 9.04 seconds\n",
            "------------------------------\n",
            "--------- CatBoost on Bupa Dataset ---------\n",
            "[0.8        0.77142857 0.71428571 0.71428571 0.68571429 0.73529412\n",
            " 0.70588235 0.76470588 0.73529412 0.64705882 0.71428571 0.74285714\n",
            " 0.85714286 0.65714286 0.74285714 0.76470588 0.67647059 0.73529412\n",
            " 0.73529412 0.88235294 0.74285714 0.71428571 0.82857143 0.77142857\n",
            " 0.68571429 0.79411765 0.70588235 0.79411765 0.76470588 0.70588235\n",
            " 0.77142857 0.8        0.8        0.71428571 0.77142857 0.82352941\n",
            " 0.67647059 0.70588235 0.64705882 0.64705882 0.74285714 0.8\n",
            " 0.65714286 0.77142857 0.85714286 0.76470588 0.76470588 0.70588235\n",
            " 0.67647059 0.67647059 0.82857143 0.71428571 0.65714286 0.77142857\n",
            " 0.65714286 0.73529412 0.76470588 0.79411765 0.79411765 0.82352941\n",
            " 0.68571429 0.65714286 0.82857143 0.62857143 0.85714286 0.79411765\n",
            " 0.70588235 0.91176471 0.70588235 0.79411765 0.6        0.68571429\n",
            " 0.82857143 0.74285714 0.77142857 0.76470588 0.76470588 0.79411765\n",
            " 0.70588235 0.76470588 0.8        0.65714286 0.8        0.82857143\n",
            " 0.65714286 0.67647059 0.73529412 0.73529412 0.76470588 0.82352941\n",
            " 0.77142857 0.85714286 0.65714286 0.65714286 0.85714286 0.64705882\n",
            " 0.70588235 0.70588235 0.79411765 0.67647059]\n",
            "Accuracy: 74.40% (6.45%)\n",
            "Execution Time: 135.74 seconds\n",
            "------------------------------\n",
            "--------- LightGBM on Bupa Dataset ---------\n",
            "[0.77142857 0.77142857 0.68571429 0.71428571 0.62857143 0.70588235\n",
            " 0.64705882 0.85294118 0.76470588 0.70588235 0.6        0.68571429\n",
            " 0.77142857 0.68571429 0.71428571 0.73529412 0.61764706 0.70588235\n",
            " 0.67647059 0.76470588 0.71428571 0.65714286 0.74285714 0.71428571\n",
            " 0.77142857 0.73529412 0.61764706 0.67647059 0.76470588 0.67647059\n",
            " 0.8        0.77142857 0.77142857 0.71428571 0.65714286 0.73529412\n",
            " 0.70588235 0.67647059 0.67647059 0.61764706 0.77142857 0.8\n",
            " 0.77142857 0.74285714 0.8        0.73529412 0.73529412 0.70588235\n",
            " 0.64705882 0.67647059 0.71428571 0.65714286 0.62857143 0.74285714\n",
            " 0.71428571 0.67647059 0.76470588 0.82352941 0.73529412 0.85294118\n",
            " 0.54285714 0.71428571 0.8        0.65714286 0.68571429 0.70588235\n",
            " 0.70588235 0.73529412 0.70588235 0.79411765 0.62857143 0.65714286\n",
            " 0.88571429 0.74285714 0.65714286 0.82352941 0.67647059 0.76470588\n",
            " 0.73529412 0.73529412 0.8        0.62857143 0.68571429 0.74285714\n",
            " 0.6        0.70588235 0.67647059 0.73529412 0.73529412 0.79411765\n",
            " 0.77142857 0.82857143 0.62857143 0.65714286 0.74285714 0.67647059\n",
            " 0.70588235 0.67647059 0.79411765 0.76470588]\n",
            "Accuracy: 71.80% (6.22%)\n",
            "Execution Time: 2.29 seconds\n",
            "------------------------------\n",
            "--------- XGBoost on Bupa Dataset ---------\n",
            "[0.82857143 0.77142857 0.65714286 0.74285714 0.71428571 0.70588235\n",
            " 0.70588235 0.73529412 0.76470588 0.64705882 0.6        0.68571429\n",
            " 0.74285714 0.62857143 0.71428571 0.67647059 0.64705882 0.73529412\n",
            " 0.64705882 0.70588235 0.65714286 0.68571429 0.71428571 0.77142857\n",
            " 0.71428571 0.76470588 0.61764706 0.70588235 0.64705882 0.67647059\n",
            " 0.74285714 0.71428571 0.74285714 0.74285714 0.6        0.82352941\n",
            " 0.73529412 0.58823529 0.64705882 0.61764706 0.8        0.82857143\n",
            " 0.65714286 0.71428571 0.8        0.64705882 0.70588235 0.67647059\n",
            " 0.64705882 0.67647059 0.68571429 0.62857143 0.6        0.65714286\n",
            " 0.71428571 0.76470588 0.79411765 0.76470588 0.76470588 0.76470588\n",
            " 0.65714286 0.74285714 0.8        0.62857143 0.68571429 0.70588235\n",
            " 0.70588235 0.82352941 0.61764706 0.76470588 0.51428571 0.6\n",
            " 0.85714286 0.71428571 0.65714286 0.70588235 0.70588235 0.73529412\n",
            " 0.76470588 0.73529412 0.8        0.62857143 0.71428571 0.77142857\n",
            " 0.54285714 0.73529412 0.64705882 0.76470588 0.70588235 0.79411765\n",
            " 0.71428571 0.8        0.65714286 0.68571429 0.85714286 0.58823529\n",
            " 0.70588235 0.70588235 0.64705882 0.73529412]\n",
            "Accuracy: 70.58% (6.77%)\n",
            "Execution Time: 3.56 seconds\n",
            "------------------------------\n"
          ]
        }
      ],
      "source": [
        "bupa_scores = []\n",
        "bupa_mean = []\n",
        "bupa_std = []\n",
        "model_names = []\n",
        "execution_times = []\n",
        "\n",
        "for name, clf in zip(names, classifiers):\n",
        "  start_time = time.time()\n",
        "  results = cross_val_score(clf, X, y, cv=rkf)\n",
        "  end_time = time.time()\n",
        "\n",
        "  bupa_scores.append(results)\n",
        "  bupa_mean.append(results.mean()*100)\n",
        "  bupa_std.append(results.std()*100)\n",
        "  model_names.append(name)\n",
        "  execution_time = end_time - start_time  \n",
        "  execution_times.append(execution_time)\n",
        "\n",
        "  print(f'--------- {name} on Bupa Dataset ---------')\n",
        "  print(results)\n",
        "  print('Accuracy: %.2f%% (%.2f%%)' % (results.mean()*100, results.std()*100))\n",
        "  print(f'Execution Time: {execution_time:.2f} seconds')\n",
        "  print('------------------------------')"
      ]
    },
    {
      "cell_type": "code",
      "execution_count": 92,
      "metadata": {
        "colab": {
          "base_uri": "https://localhost:8080/"
        },
        "id": "6qxJTM3D-7nZ",
        "outputId": "5e20cc86-b73c-46ea-c7d6-1fd2800ae31b"
      },
      "outputs": [
        {
          "data": {
            "text/plain": [
              "[72.25462184873949,\n",
              " 72.32268907563025,\n",
              " 74.40336134453781,\n",
              " 71.8016806722689,\n",
              " 70.57983193277309]"
            ]
          },
          "execution_count": 92,
          "metadata": {},
          "output_type": "execute_result"
        }
      ],
      "source": [
        "bupa_mean"
      ]
    },
    {
      "cell_type": "code",
      "execution_count": 93,
      "metadata": {
        "colab": {
          "base_uri": "https://localhost:8080/"
        },
        "id": "4FjORnk--9w4",
        "outputId": "59905a1a-63bb-4eea-88d3-ceb6873983ae"
      },
      "outputs": [
        {
          "data": {
            "text/plain": [
              "[7.026728304847883,\n",
              " 6.574947154896601,\n",
              " 6.450640429588332,\n",
              " 6.215299205426823,\n",
              " 6.773062326505143]"
            ]
          },
          "execution_count": 93,
          "metadata": {},
          "output_type": "execute_result"
        }
      ],
      "source": [
        "bupa_std"
      ]
    },
    {
      "cell_type": "code",
      "execution_count": 94,
      "metadata": {
        "colab": {
          "base_uri": "https://localhost:8080/",
          "height": 478
        },
        "id": "0T_OcTxz2umM",
        "outputId": "b3fba177-01da-429f-f06e-1b4f138b0d29"
      },
      "outputs": [
        {
          "data": {
            "image/png": "[encoded data removed]",
            "text/plain": [
              "<Figure size 640x480 with 1 Axes>"
            ]
          },
          "metadata": {},
          "output_type": "display_data"
        }
      ],
      "source": [
        "# algorithm comparison\n",
        "\n",
        "fig = plt.figure()\n",
        "fig.suptitle('Comparison between different Bupa scores')\n",
        "ax = fig.add_subplot(111)\n",
        "plt.ylim(0.3, 1)\n",
        "plt.boxplot(bupa_scores, showmeans=True)\n",
        "ax.set_xticklabels(model_names)\n",
        "plt.show()"
      ]
    },
    {
      "cell_type": "code",
      "execution_count": 95,
      "metadata": {
        "id": "qhCCuXSE_QTD"
      },
      "outputs": [],
      "source": [
        "Algo_results['Bupa'] = bupa_mean"
      ]
    },
    {
      "cell_type": "code",
      "execution_count": 96,
      "metadata": {
        "colab": {
          "base_uri": "https://localhost:8080/",
          "height": 206
        },
        "id": "pJ4oJxNu_T0X",
        "outputId": "9b5aae8a-b6f2-4bf7-b4db-34984e7ab5cd"
      },
      "outputs": [
        {
          "data": {
            "text/html": [
              "<div>\n",
              "<style scoped>\n",
              "    .dataframe tbody tr th:only-of-type {\n",
              "        vertical-align: middle;\n",
              "    }\n",
              "\n",
              "    .dataframe tbody tr th {\n",
              "        vertical-align: top;\n",
              "    }\n",
              "\n",
              "    .dataframe thead th {\n",
              "        text-align: right;\n",
              "    }\n",
              "</style>\n",
              "<table border=\"1\" class=\"dataframe\">\n",
              "  <thead>\n",
              "    <tr style=\"text-align: right;\">\n",
              "      <th></th>\n",
              "      <th>Names</th>\n",
              "      <th>Wine</th>\n",
              "      <th>Breast_Cancer</th>\n",
              "      <th>Sonar</th>\n",
              "      <th>Ionosphere</th>\n",
              "      <th>Bupa</th>\n",
              "    </tr>\n",
              "  </thead>\n",
              "  <tbody>\n",
              "    <tr>\n",
              "      <th>0</th>\n",
              "      <td>AdaBoost</td>\n",
              "      <td>89.830065</td>\n",
              "      <td>95.800512</td>\n",
              "      <td>83.188095</td>\n",
              "      <td>93.027778</td>\n",
              "      <td>72.254622</td>\n",
              "    </tr>\n",
              "    <tr>\n",
              "      <th>1</th>\n",
              "      <td>GradBoost</td>\n",
              "      <td>95.016340</td>\n",
              "      <td>96.500639</td>\n",
              "      <td>83.992857</td>\n",
              "      <td>92.972222</td>\n",
              "      <td>72.322689</td>\n",
              "    </tr>\n",
              "    <tr>\n",
              "      <th>2</th>\n",
              "      <td>CatBoost</td>\n",
              "      <td>97.977124</td>\n",
              "      <td>97.087170</td>\n",
              "      <td>87.152381</td>\n",
              "      <td>93.453175</td>\n",
              "      <td>74.403361</td>\n",
              "    </tr>\n",
              "    <tr>\n",
              "      <th>3</th>\n",
              "      <td>LightGBM</td>\n",
              "      <td>97.421569</td>\n",
              "      <td>96.632992</td>\n",
              "      <td>88.123810</td>\n",
              "      <td>93.706349</td>\n",
              "      <td>71.801681</td>\n",
              "    </tr>\n",
              "    <tr>\n",
              "      <th>4</th>\n",
              "      <td>XGBoost</td>\n",
              "      <td>96.676471</td>\n",
              "      <td>96.429028</td>\n",
              "      <td>85.007143</td>\n",
              "      <td>92.430159</td>\n",
              "      <td>70.579832</td>\n",
              "    </tr>\n",
              "  </tbody>\n",
              "</table>\n",
              "</div>"
            ],
            "text/plain": [
              "       Names       Wine  Breast_Cancer      Sonar  Ionosphere       Bupa\n",
              "0   AdaBoost  89.830065      95.800512  83.188095   93.027778  72.254622\n",
              "1  GradBoost  95.016340      96.500639  83.992857   92.972222  72.322689\n",
              "2   CatBoost  97.977124      97.087170  87.152381   93.453175  74.403361\n",
              "3   LightGBM  97.421569      96.632992  88.123810   93.706349  71.801681\n",
              "4    XGBoost  96.676471      96.429028  85.007143   92.430159  70.579832"
            ]
          },
          "execution_count": 96,
          "metadata": {},
          "output_type": "execute_result"
        }
      ],
      "source": [
        "Algo_results"
      ]
    },
    {
      "cell_type": "code",
      "execution_count": 97,
      "metadata": {},
      "outputs": [],
      "source": [
        "Algo_time_results['Bupa'] = pd.Series(execution_times)"
      ]
    },
    {
      "cell_type": "markdown",
      "metadata": {
        "id": "uaPWZXnE8OVw"
      },
      "source": [
        "---"
      ]
    },
    {
      "cell_type": "markdown",
      "metadata": {
        "id": "qE054BbS8OIJ"
      },
      "source": [
        "# **(Unbalanced) Pima**"
      ]
    },
    {
      "cell_type": "markdown",
      "metadata": {
        "id": "0wAdeR3l8OE1"
      },
      "source": [
        "---"
      ]
    },
    {
      "cell_type": "code",
      "execution_count": 98,
      "metadata": {
        "id": "v0D6PiaS6unA"
      },
      "outputs": [],
      "source": [
        "pima_df = pd.read_csv('E:\\Cursos\\MestradoCienciaComputação\\Seminario\\Datasets\\Pima\\Diabetes.csv')"
      ]
    },
    {
      "cell_type": "code",
      "execution_count": 99,
      "metadata": {
        "colab": {
          "base_uri": "https://localhost:8080/",
          "height": 206
        },
        "id": "8FVGKn9T8oQa",
        "outputId": "62af683a-b69c-4acf-c4ae-e63ab02da852"
      },
      "outputs": [
        {
          "data": {
            "text/html": [
              "<div>\n",
              "<style scoped>\n",
              "    .dataframe tbody tr th:only-of-type {\n",
              "        vertical-align: middle;\n",
              "    }\n",
              "\n",
              "    .dataframe tbody tr th {\n",
              "        vertical-align: top;\n",
              "    }\n",
              "\n",
              "    .dataframe thead th {\n",
              "        text-align: right;\n",
              "    }\n",
              "</style>\n",
              "<table border=\"1\" class=\"dataframe\">\n",
              "  <thead>\n",
              "    <tr style=\"text-align: right;\">\n",
              "      <th></th>\n",
              "      <th>Pregnancies</th>\n",
              "      <th>Glucose</th>\n",
              "      <th>BloodPressure</th>\n",
              "      <th>SkinThickness</th>\n",
              "      <th>Insulin</th>\n",
              "      <th>BMI</th>\n",
              "      <th>DiabetesPedigreeFunction</th>\n",
              "      <th>Age</th>\n",
              "      <th>Outcome</th>\n",
              "    </tr>\n",
              "  </thead>\n",
              "  <tbody>\n",
              "    <tr>\n",
              "      <th>0</th>\n",
              "      <td>6</td>\n",
              "      <td>148</td>\n",
              "      <td>72</td>\n",
              "      <td>35</td>\n",
              "      <td>0</td>\n",
              "      <td>33.6</td>\n",
              "      <td>0.627</td>\n",
              "      <td>50</td>\n",
              "      <td>1</td>\n",
              "    </tr>\n",
              "    <tr>\n",
              "      <th>1</th>\n",
              "      <td>1</td>\n",
              "      <td>85</td>\n",
              "      <td>66</td>\n",
              "      <td>29</td>\n",
              "      <td>0</td>\n",
              "      <td>26.6</td>\n",
              "      <td>0.351</td>\n",
              "      <td>31</td>\n",
              "      <td>0</td>\n",
              "    </tr>\n",
              "    <tr>\n",
              "      <th>2</th>\n",
              "      <td>8</td>\n",
              "      <td>183</td>\n",
              "      <td>64</td>\n",
              "      <td>0</td>\n",
              "      <td>0</td>\n",
              "      <td>23.3</td>\n",
              "      <td>0.672</td>\n",
              "      <td>32</td>\n",
              "      <td>1</td>\n",
              "    </tr>\n",
              "    <tr>\n",
              "      <th>3</th>\n",
              "      <td>1</td>\n",
              "      <td>89</td>\n",
              "      <td>66</td>\n",
              "      <td>23</td>\n",
              "      <td>94</td>\n",
              "      <td>28.1</td>\n",
              "      <td>0.167</td>\n",
              "      <td>21</td>\n",
              "      <td>0</td>\n",
              "    </tr>\n",
              "    <tr>\n",
              "      <th>4</th>\n",
              "      <td>0</td>\n",
              "      <td>137</td>\n",
              "      <td>40</td>\n",
              "      <td>35</td>\n",
              "      <td>168</td>\n",
              "      <td>43.1</td>\n",
              "      <td>2.288</td>\n",
              "      <td>33</td>\n",
              "      <td>1</td>\n",
              "    </tr>\n",
              "  </tbody>\n",
              "</table>\n",
              "</div>"
            ],
            "text/plain": [
              "   Pregnancies  Glucose  BloodPressure  SkinThickness  Insulin   BMI  \\\n",
              "0            6      148             72             35        0  33.6   \n",
              "1            1       85             66             29        0  26.6   \n",
              "2            8      183             64              0        0  23.3   \n",
              "3            1       89             66             23       94  28.1   \n",
              "4            0      137             40             35      168  43.1   \n",
              "\n",
              "   DiabetesPedigreeFunction  Age  Outcome  \n",
              "0                     0.627   50        1  \n",
              "1                     0.351   31        0  \n",
              "2                     0.672   32        1  \n",
              "3                     0.167   21        0  \n",
              "4                     2.288   33        1  "
            ]
          },
          "execution_count": 99,
          "metadata": {},
          "output_type": "execute_result"
        }
      ],
      "source": [
        "pima_df.head()"
      ]
    },
    {
      "cell_type": "code",
      "execution_count": 100,
      "metadata": {
        "colab": {
          "base_uri": "https://localhost:8080/"
        },
        "id": "1u04WXBl87wb",
        "outputId": "3403f731-e422-4a22-9cc2-904b3bce120b"
      },
      "outputs": [
        {
          "data": {
            "text/plain": [
              "(768, 9)"
            ]
          },
          "execution_count": 100,
          "metadata": {},
          "output_type": "execute_result"
        }
      ],
      "source": [
        "pima_df.shape"
      ]
    },
    {
      "cell_type": "code",
      "execution_count": 101,
      "metadata": {
        "colab": {
          "base_uri": "https://localhost:8080/"
        },
        "id": "rufrOK0T9Gl2",
        "outputId": "d5fe0ebf-6d40-41bc-9711-ea5a13a7384d"
      },
      "outputs": [
        {
          "name": "stdout",
          "output_type": "stream",
          "text": [
            "<class 'pandas.core.frame.DataFrame'>\n",
            "RangeIndex: 768 entries, 0 to 767\n",
            "Data columns (total 9 columns):\n",
            " #   Column                    Non-Null Count  Dtype  \n",
            "---  ------                    --------------  -----  \n",
            " 0   Pregnancies               768 non-null    int64  \n",
            " 1   Glucose                   768 non-null    int64  \n",
            " 2   BloodPressure             768 non-null    int64  \n",
            " 3   SkinThickness             768 non-null    int64  \n",
            " 4   Insulin                   768 non-null    int64  \n",
            " 5   BMI                       768 non-null    float64\n",
            " 6   DiabetesPedigreeFunction  768 non-null    float64\n",
            " 7   Age                       768 non-null    int64  \n",
            " 8   Outcome                   768 non-null    int64  \n",
            "dtypes: float64(2), int64(7)\n",
            "memory usage: 54.1 KB\n"
          ]
        }
      ],
      "source": [
        "pima_df.info()"
      ]
    },
    {
      "cell_type": "code",
      "execution_count": 102,
      "metadata": {
        "colab": {
          "base_uri": "https://localhost:8080/"
        },
        "id": "9ptJ30jJ9IlD",
        "outputId": "bec03908-a05b-4c3d-8542-a28cc7f78164"
      },
      "outputs": [
        {
          "data": {
            "text/plain": [
              "Pregnancies                 0\n",
              "Glucose                     0\n",
              "BloodPressure               0\n",
              "SkinThickness               0\n",
              "Insulin                     0\n",
              "BMI                         0\n",
              "DiabetesPedigreeFunction    0\n",
              "Age                         0\n",
              "Outcome                     0\n",
              "dtype: int64"
            ]
          },
          "execution_count": 102,
          "metadata": {},
          "output_type": "execute_result"
        }
      ],
      "source": [
        "pima_df.isna().sum()"
      ]
    },
    {
      "cell_type": "code",
      "execution_count": 103,
      "metadata": {
        "colab": {
          "base_uri": "https://localhost:8080/"
        },
        "id": "e3Yof4IC_PRD",
        "outputId": "0ecc66ad-ac2b-4f3b-9e91-6d3ba3ed1f79"
      },
      "outputs": [
        {
          "data": {
            "text/plain": [
              "Pregnancies                  17\n",
              "Glucose                     136\n",
              "BloodPressure                47\n",
              "SkinThickness                51\n",
              "Insulin                     186\n",
              "BMI                         248\n",
              "DiabetesPedigreeFunction    517\n",
              "Age                          52\n",
              "Outcome                       2\n",
              "dtype: int64"
            ]
          },
          "execution_count": 103,
          "metadata": {},
          "output_type": "execute_result"
        }
      ],
      "source": [
        "pima_df.nunique()"
      ]
    },
    {
      "cell_type": "code",
      "execution_count": 104,
      "metadata": {
        "colab": {
          "base_uri": "https://localhost:8080/"
        },
        "id": "q7PpLSxS_U7D",
        "outputId": "fb70f588-129e-4f22-d25e-f78447de8b1a"
      },
      "outputs": [
        {
          "data": {
            "text/plain": [
              "Outcome\n",
              "0    500\n",
              "1    268\n",
              "Name: count, dtype: int64"
            ]
          },
          "execution_count": 104,
          "metadata": {},
          "output_type": "execute_result"
        }
      ],
      "source": [
        "# It is a unbalanced dataset\n",
        "\n",
        "pima_df['Outcome'].value_counts()"
      ]
    },
    {
      "cell_type": "code",
      "execution_count": 105,
      "metadata": {
        "id": "08el-PRF_hrl"
      },
      "outputs": [],
      "source": [
        "X = pima_df.iloc[:, :-1]\n",
        "y = pima_df.iloc[:, -1]"
      ]
    },
    {
      "cell_type": "code",
      "execution_count": 106,
      "metadata": {
        "colab": {
          "base_uri": "https://localhost:8080/",
          "height": 206
        },
        "id": "iw4P1s3DAHun",
        "outputId": "e2dfc4c3-58f3-46ac-8b9b-537bda1c323f"
      },
      "outputs": [
        {
          "data": {
            "text/html": [
              "<div>\n",
              "<style scoped>\n",
              "    .dataframe tbody tr th:only-of-type {\n",
              "        vertical-align: middle;\n",
              "    }\n",
              "\n",
              "    .dataframe tbody tr th {\n",
              "        vertical-align: top;\n",
              "    }\n",
              "\n",
              "    .dataframe thead th {\n",
              "        text-align: right;\n",
              "    }\n",
              "</style>\n",
              "<table border=\"1\" class=\"dataframe\">\n",
              "  <thead>\n",
              "    <tr style=\"text-align: right;\">\n",
              "      <th></th>\n",
              "      <th>Pregnancies</th>\n",
              "      <th>Glucose</th>\n",
              "      <th>BloodPressure</th>\n",
              "      <th>SkinThickness</th>\n",
              "      <th>Insulin</th>\n",
              "      <th>BMI</th>\n",
              "      <th>DiabetesPedigreeFunction</th>\n",
              "      <th>Age</th>\n",
              "    </tr>\n",
              "  </thead>\n",
              "  <tbody>\n",
              "    <tr>\n",
              "      <th>0</th>\n",
              "      <td>6</td>\n",
              "      <td>148</td>\n",
              "      <td>72</td>\n",
              "      <td>35</td>\n",
              "      <td>0</td>\n",
              "      <td>33.6</td>\n",
              "      <td>0.627</td>\n",
              "      <td>50</td>\n",
              "    </tr>\n",
              "    <tr>\n",
              "      <th>1</th>\n",
              "      <td>1</td>\n",
              "      <td>85</td>\n",
              "      <td>66</td>\n",
              "      <td>29</td>\n",
              "      <td>0</td>\n",
              "      <td>26.6</td>\n",
              "      <td>0.351</td>\n",
              "      <td>31</td>\n",
              "    </tr>\n",
              "    <tr>\n",
              "      <th>2</th>\n",
              "      <td>8</td>\n",
              "      <td>183</td>\n",
              "      <td>64</td>\n",
              "      <td>0</td>\n",
              "      <td>0</td>\n",
              "      <td>23.3</td>\n",
              "      <td>0.672</td>\n",
              "      <td>32</td>\n",
              "    </tr>\n",
              "    <tr>\n",
              "      <th>3</th>\n",
              "      <td>1</td>\n",
              "      <td>89</td>\n",
              "      <td>66</td>\n",
              "      <td>23</td>\n",
              "      <td>94</td>\n",
              "      <td>28.1</td>\n",
              "      <td>0.167</td>\n",
              "      <td>21</td>\n",
              "    </tr>\n",
              "    <tr>\n",
              "      <th>4</th>\n",
              "      <td>0</td>\n",
              "      <td>137</td>\n",
              "      <td>40</td>\n",
              "      <td>35</td>\n",
              "      <td>168</td>\n",
              "      <td>43.1</td>\n",
              "      <td>2.288</td>\n",
              "      <td>33</td>\n",
              "    </tr>\n",
              "  </tbody>\n",
              "</table>\n",
              "</div>"
            ],
            "text/plain": [
              "   Pregnancies  Glucose  BloodPressure  SkinThickness  Insulin   BMI  \\\n",
              "0            6      148             72             35        0  33.6   \n",
              "1            1       85             66             29        0  26.6   \n",
              "2            8      183             64              0        0  23.3   \n",
              "3            1       89             66             23       94  28.1   \n",
              "4            0      137             40             35      168  43.1   \n",
              "\n",
              "   DiabetesPedigreeFunction  Age  \n",
              "0                     0.627   50  \n",
              "1                     0.351   31  \n",
              "2                     0.672   32  \n",
              "3                     0.167   21  \n",
              "4                     2.288   33  "
            ]
          },
          "execution_count": 106,
          "metadata": {},
          "output_type": "execute_result"
        }
      ],
      "source": [
        "X.head()"
      ]
    },
    {
      "cell_type": "code",
      "execution_count": 107,
      "metadata": {
        "colab": {
          "base_uri": "https://localhost:8080/"
        },
        "id": "KggzEPYuAIyG",
        "outputId": "a80dfaca-8ee2-4009-9c6a-03abe06f99ea"
      },
      "outputs": [
        {
          "data": {
            "text/plain": [
              "0    1\n",
              "1    0\n",
              "2    1\n",
              "3    0\n",
              "4    1\n",
              "Name: Outcome, dtype: int64"
            ]
          },
          "execution_count": 107,
          "metadata": {},
          "output_type": "execute_result"
        }
      ],
      "source": [
        "y.head()"
      ]
    },
    {
      "cell_type": "code",
      "execution_count": 108,
      "metadata": {
        "colab": {
          "base_uri": "https://localhost:8080/"
        },
        "id": "I4CT9myEALFN",
        "outputId": "1fe84e1c-b60e-42a3-cec5-ba15177822e4"
      },
      "outputs": [
        {
          "name": "stdout",
          "output_type": "stream",
          "text": [
            "--------- AdaBoost on Pima Dataset ---------\n",
            "[0.75324675 0.77922078 0.71428571 0.76623377 0.80519481 0.7012987\n",
            " 0.80519481 0.74025974 0.67105263 0.84210526 0.79220779 0.76623377\n",
            " 0.76623377 0.83116883 0.76623377 0.71428571 0.67532468 0.75324675\n",
            " 0.69736842 0.71052632 0.72727273 0.79220779 0.77922078 0.77922078\n",
            " 0.67532468 0.68831169 0.7012987  0.87012987 0.77631579 0.82894737\n",
            " 0.71428571 0.76623377 0.81818182 0.67532468 0.68831169 0.75324675\n",
            " 0.74025974 0.75324675 0.71052632 0.81578947 0.76623377 0.74025974\n",
            " 0.77922078 0.67532468 0.75324675 0.68831169 0.75324675 0.72727273\n",
            " 0.77631579 0.77631579 0.75324675 0.76623377 0.75324675 0.72727273\n",
            " 0.72727273 0.72727273 0.75324675 0.76623377 0.77631579 0.73684211\n",
            " 0.72727273 0.75324675 0.64935065 0.83116883 0.71428571 0.80519481\n",
            " 0.75324675 0.67532468 0.73684211 0.84210526 0.79220779 0.67532468\n",
            " 0.72727273 0.79220779 0.74025974 0.81818182 0.7012987  0.77922078\n",
            " 0.71052632 0.78947368 0.76623377 0.79220779 0.87012987 0.80519481\n",
            " 0.66233766 0.68831169 0.68831169 0.74025974 0.76315789 0.67105263\n",
            " 0.87012987 0.75324675 0.83116883 0.83116883 0.76623377 0.67532468\n",
            " 0.67532468 0.72727273 0.76315789 0.73684211]\n",
            "Accuracy: 75.12% (5.08%)\n",
            "Execution Time: 8.74 seconds\n",
            "------------------------------\n",
            "--------- GradBoost on Pima Dataset ---------\n",
            "[0.72727273 0.77922078 0.75324675 0.87012987 0.81818182 0.71428571\n",
            " 0.80519481 0.74025974 0.65789474 0.77631579 0.79220779 0.81818182\n",
            " 0.72727273 0.75324675 0.81818182 0.79220779 0.63636364 0.72727273\n",
            " 0.68421053 0.77631579 0.74025974 0.76623377 0.76623377 0.75324675\n",
            " 0.71428571 0.75324675 0.71428571 0.81818182 0.80263158 0.85526316\n",
            " 0.72727273 0.79220779 0.79220779 0.67532468 0.7012987  0.75324675\n",
            " 0.72727273 0.79220779 0.73684211 0.80263158 0.76623377 0.76623377\n",
            " 0.77922078 0.7012987  0.71428571 0.76623377 0.74025974 0.75324675\n",
            " 0.75       0.78947368 0.81818182 0.77922078 0.76623377 0.76623377\n",
            " 0.74025974 0.76623377 0.75324675 0.81818182 0.84210526 0.71052632\n",
            " 0.74025974 0.76623377 0.74025974 0.80519481 0.76623377 0.79220779\n",
            " 0.77922078 0.67532468 0.73684211 0.82894737 0.84415584 0.76623377\n",
            " 0.72727273 0.81818182 0.79220779 0.83116883 0.74025974 0.77922078\n",
            " 0.68421053 0.78947368 0.71428571 0.81818182 0.81818182 0.83116883\n",
            " 0.71428571 0.74025974 0.71428571 0.72727273 0.73684211 0.71052632\n",
            " 0.8961039  0.77922078 0.79220779 0.83116883 0.75324675 0.64935065\n",
            " 0.7012987  0.75324675 0.75       0.76315789]\n",
            "Accuracy: 76.24% (4.80%)\n",
            "Execution Time: 18.75 seconds\n",
            "------------------------------\n",
            "--------- CatBoost on Pima Dataset ---------\n",
            "[0.7012987  0.77922078 0.76623377 0.87012987 0.81818182 0.72727273\n",
            " 0.83116883 0.74025974 0.68421053 0.81578947 0.80519481 0.81818182\n",
            " 0.71428571 0.80519481 0.79220779 0.7012987  0.68831169 0.74025974\n",
            " 0.69736842 0.80263158 0.72727273 0.74025974 0.72727273 0.74025974\n",
            " 0.71428571 0.74025974 0.71428571 0.87012987 0.77631579 0.81578947\n",
            " 0.74025974 0.79220779 0.80519481 0.66233766 0.76623377 0.75324675\n",
            " 0.71428571 0.81818182 0.73684211 0.86842105 0.75324675 0.77922078\n",
            " 0.72727273 0.71428571 0.77922078 0.74025974 0.80519481 0.77922078\n",
            " 0.73684211 0.81578947 0.81818182 0.74025974 0.72727273 0.74025974\n",
            " 0.77922078 0.75324675 0.76623377 0.77922078 0.81578947 0.71052632\n",
            " 0.74025974 0.75324675 0.79220779 0.83116883 0.75324675 0.75324675\n",
            " 0.77922078 0.68831169 0.68421053 0.85526316 0.80519481 0.71428571\n",
            " 0.72727273 0.84415584 0.77922078 0.77922078 0.72727273 0.80519481\n",
            " 0.72368421 0.77631579 0.79220779 0.81818182 0.84415584 0.83116883\n",
            " 0.64935065 0.75324675 0.74025974 0.74025974 0.73684211 0.69736842\n",
            " 0.87012987 0.79220779 0.77922078 0.81818182 0.74025974 0.68831169\n",
            " 0.66233766 0.75324675 0.72368421 0.72368421]\n",
            "Accuracy: 76.25% (4.99%)\n",
            "Execution Time: 177.13 seconds\n",
            "------------------------------\n",
            "--------- LightGBM on Pima Dataset ---------\n",
            "[0.71428571 0.72727273 0.67532468 0.80519481 0.80519481 0.66233766\n",
            " 0.77922078 0.71428571 0.68421053 0.78947368 0.79220779 0.75324675\n",
            " 0.67532468 0.77922078 0.84415584 0.72727273 0.58441558 0.71428571\n",
            " 0.63157895 0.76315789 0.72727273 0.74025974 0.71428571 0.76623377\n",
            " 0.63636364 0.72727273 0.75324675 0.81818182 0.73684211 0.78947368\n",
            " 0.72727273 0.77922078 0.74025974 0.63636364 0.76623377 0.77922078\n",
            " 0.74025974 0.84415584 0.73684211 0.84210526 0.7012987  0.79220779\n",
            " 0.63636364 0.72727273 0.72727273 0.72727273 0.84415584 0.72727273\n",
            " 0.73684211 0.77631579 0.80519481 0.68831169 0.76623377 0.68831169\n",
            " 0.71428571 0.72727273 0.75324675 0.74025974 0.75       0.75\n",
            " 0.66233766 0.74025974 0.71428571 0.81818182 0.76623377 0.71428571\n",
            " 0.77922078 0.68831169 0.71052632 0.81578947 0.75324675 0.68831169\n",
            " 0.71428571 0.80519481 0.74025974 0.75324675 0.74025974 0.75324675\n",
            " 0.68421053 0.78947368 0.76623377 0.81818182 0.81818182 0.74025974\n",
            " 0.64935065 0.67532468 0.71428571 0.76623377 0.76315789 0.67105263\n",
            " 0.87012987 0.74025974 0.77922078 0.74025974 0.72727273 0.67532468\n",
            " 0.66233766 0.74025974 0.71052632 0.72368421]\n",
            "Accuracy: 73.99% (5.30%)\n",
            "Execution Time: 5.16 seconds\n",
            "------------------------------\n",
            "--------- XGBoost on Pima Dataset ---------\n",
            "[0.72727273 0.72727273 0.7012987  0.80519481 0.77922078 0.66233766\n",
            " 0.80519481 0.75324675 0.67105263 0.77631579 0.79220779 0.76623377\n",
            " 0.72727273 0.74025974 0.81818182 0.76623377 0.63636364 0.7012987\n",
            " 0.65789474 0.76315789 0.72727273 0.71428571 0.74025974 0.80519481\n",
            " 0.67532468 0.72727273 0.75324675 0.79220779 0.73684211 0.75\n",
            " 0.7012987  0.75324675 0.71428571 0.62337662 0.72727273 0.75324675\n",
            " 0.75324675 0.81818182 0.75       0.84210526 0.7012987  0.71428571\n",
            " 0.64935065 0.7012987  0.71428571 0.68831169 0.79220779 0.75324675\n",
            " 0.72368421 0.78947368 0.80519481 0.72727273 0.71428571 0.72727273\n",
            " 0.75324675 0.7012987  0.72727273 0.76623377 0.78947368 0.73684211\n",
            " 0.66233766 0.74025974 0.7012987  0.79220779 0.75324675 0.72727273\n",
            " 0.77922078 0.66233766 0.68421053 0.77631579 0.77922078 0.72727273\n",
            " 0.68831169 0.84415584 0.7012987  0.76623377 0.74025974 0.75324675\n",
            " 0.73684211 0.77631579 0.79220779 0.80519481 0.81818182 0.72727273\n",
            " 0.64935065 0.68831169 0.7012987  0.75324675 0.73684211 0.72368421\n",
            " 0.84415584 0.7012987  0.76623377 0.75324675 0.75324675 0.64935065\n",
            " 0.67532468 0.75324675 0.73684211 0.71052632]\n",
            "Accuracy: 73.84% (4.74%)\n",
            "Execution Time: 5.74 seconds\n",
            "------------------------------\n"
          ]
        }
      ],
      "source": [
        "pima_scores = []\n",
        "pima_mean = []\n",
        "pima_std = []\n",
        "model_names = []\n",
        "execution_times = []\n",
        "\n",
        "for name, clf in zip(names, classifiers):\n",
        "  start_time = time.time()\n",
        "  results = cross_val_score(clf, X, y, cv=rkf)\n",
        "  end_time = time.time()\n",
        "\n",
        "  pima_scores.append(results)\n",
        "  pima_mean.append(results.mean()*100)\n",
        "  pima_std.append(results.std()*100)\n",
        "  model_names.append(name)\n",
        "  execution_time = end_time - start_time  \n",
        "  execution_times.append(execution_time)\n",
        "\n",
        "  print(f'--------- {name} on Pima Dataset ---------')\n",
        "  print(results)\n",
        "  print('Accuracy: %.2f%% (%.2f%%)' % (results.mean()*100, results.std()*100))\n",
        "  print(f'Execution Time: {execution_time:.2f} seconds')\n",
        "  print('------------------------------')"
      ]
    },
    {
      "cell_type": "code",
      "execution_count": 109,
      "metadata": {
        "colab": {
          "base_uri": "https://localhost:8080/"
        },
        "id": "gLhEYTIGCUkM",
        "outputId": "699e35a6-2258-4a5b-b6ae-2ae39ab1ba4f"
      },
      "outputs": [
        {
          "data": {
            "text/plain": [
              "[75.11859193438143,\n",
              " 76.23615857826383,\n",
              " 76.24931647300069,\n",
              " 73.98513328776488,\n",
              " 73.84244702665757]"
            ]
          },
          "execution_count": 109,
          "metadata": {},
          "output_type": "execute_result"
        }
      ],
      "source": [
        "pima_mean"
      ]
    },
    {
      "cell_type": "code",
      "execution_count": 110,
      "metadata": {
        "colab": {
          "base_uri": "https://localhost:8080/"
        },
        "id": "fxRpG7ImCnwE",
        "outputId": "52928bc3-ff6f-4501-be4b-94bd08db9985"
      },
      "outputs": [
        {
          "data": {
            "text/plain": [
              "[5.077770573084834,\n",
              " 4.804471736253556,\n",
              " 4.987577768282925,\n",
              " 5.301428805296274,\n",
              " 4.741009133635159]"
            ]
          },
          "execution_count": 110,
          "metadata": {},
          "output_type": "execute_result"
        }
      ],
      "source": [
        "pima_std"
      ]
    },
    {
      "cell_type": "code",
      "execution_count": 111,
      "metadata": {
        "colab": {
          "base_uri": "https://localhost:8080/",
          "height": 478
        },
        "id": "mje4vBW43JG7",
        "outputId": "fb765497-0e09-44ac-8ccc-f63210447a77"
      },
      "outputs": [
        {
          "data": {
            "image/png": "[encoded data removed]",
            "text/plain": [
              "<Figure size 640x480 with 1 Axes>"
            ]
          },
          "metadata": {},
          "output_type": "display_data"
        }
      ],
      "source": [
        "# algorithm comparison\n",
        "\n",
        "fig = plt.figure()\n",
        "fig.suptitle('Comparison between different Pima scores')\n",
        "ax = fig.add_subplot(111)\n",
        "plt.ylim(0.3, 1)\n",
        "plt.boxplot(pima_scores, showmeans=True)\n",
        "ax.set_xticklabels(model_names)\n",
        "plt.show()"
      ]
    },
    {
      "cell_type": "code",
      "execution_count": 112,
      "metadata": {
        "id": "QpOXO8vUCRpb"
      },
      "outputs": [],
      "source": [
        "Algo_results['Pima'] = pima_mean"
      ]
    },
    {
      "cell_type": "code",
      "execution_count": 113,
      "metadata": {},
      "outputs": [],
      "source": [
        "Algo_time_results['Pima'] = pd.Series(execution_times)"
      ]
    },
    {
      "cell_type": "markdown",
      "metadata": {
        "id": "g46GU-iICvoq"
      },
      "source": [
        "---"
      ]
    },
    {
      "cell_type": "markdown",
      "metadata": {
        "id": "Fxa2x7XtCvij"
      },
      "source": [
        "# **(Unbalanced) Heart**"
      ]
    },
    {
      "cell_type": "markdown",
      "metadata": {
        "id": "-P_hqPQGCvb5"
      },
      "source": [
        "---"
      ]
    },
    {
      "cell_type": "code",
      "execution_count": 114,
      "metadata": {
        "id": "a4EKbE7NCuqY"
      },
      "outputs": [],
      "source": [
        "heart_df = pd.read_csv('E:\\Cursos\\MestradoCienciaComputação\\Seminario\\Datasets\\Heart\\Heart.csv')"
      ]
    },
    {
      "cell_type": "code",
      "execution_count": 115,
      "metadata": {
        "colab": {
          "base_uri": "https://localhost:8080/",
          "height": 206
        },
        "id": "z1vwoJd6HGFw",
        "outputId": "5bda0dc8-0519-4e0f-83d1-1de00af5f7bf"
      },
      "outputs": [
        {
          "data": {
            "text/html": [
              "<div>\n",
              "<style scoped>\n",
              "    .dataframe tbody tr th:only-of-type {\n",
              "        vertical-align: middle;\n",
              "    }\n",
              "\n",
              "    .dataframe tbody tr th {\n",
              "        vertical-align: top;\n",
              "    }\n",
              "\n",
              "    .dataframe thead th {\n",
              "        text-align: right;\n",
              "    }\n",
              "</style>\n",
              "<table border=\"1\" class=\"dataframe\">\n",
              "  <thead>\n",
              "    <tr style=\"text-align: right;\">\n",
              "      <th></th>\n",
              "      <th>age</th>\n",
              "      <th>sex</th>\n",
              "      <th>cp</th>\n",
              "      <th>trestbps</th>\n",
              "      <th>chol</th>\n",
              "      <th>fbs</th>\n",
              "      <th>restecg</th>\n",
              "      <th>thalach</th>\n",
              "      <th>exang</th>\n",
              "      <th>oldpeak</th>\n",
              "      <th>slope</th>\n",
              "      <th>ca</th>\n",
              "      <th>thal</th>\n",
              "      <th>presence</th>\n",
              "    </tr>\n",
              "  </thead>\n",
              "  <tbody>\n",
              "    <tr>\n",
              "      <th>0</th>\n",
              "      <td>70.0</td>\n",
              "      <td>1.0</td>\n",
              "      <td>4.0</td>\n",
              "      <td>130.0</td>\n",
              "      <td>322.0</td>\n",
              "      <td>0.0</td>\n",
              "      <td>2.0</td>\n",
              "      <td>109.0</td>\n",
              "      <td>0.0</td>\n",
              "      <td>2.4</td>\n",
              "      <td>2.0</td>\n",
              "      <td>3.0</td>\n",
              "      <td>3.0</td>\n",
              "      <td>2</td>\n",
              "    </tr>\n",
              "    <tr>\n",
              "      <th>1</th>\n",
              "      <td>67.0</td>\n",
              "      <td>0.0</td>\n",
              "      <td>3.0</td>\n",
              "      <td>115.0</td>\n",
              "      <td>564.0</td>\n",
              "      <td>0.0</td>\n",
              "      <td>2.0</td>\n",
              "      <td>160.0</td>\n",
              "      <td>0.0</td>\n",
              "      <td>1.6</td>\n",
              "      <td>2.0</td>\n",
              "      <td>0.0</td>\n",
              "      <td>7.0</td>\n",
              "      <td>1</td>\n",
              "    </tr>\n",
              "    <tr>\n",
              "      <th>2</th>\n",
              "      <td>57.0</td>\n",
              "      <td>1.0</td>\n",
              "      <td>2.0</td>\n",
              "      <td>124.0</td>\n",
              "      <td>261.0</td>\n",
              "      <td>0.0</td>\n",
              "      <td>0.0</td>\n",
              "      <td>141.0</td>\n",
              "      <td>0.0</td>\n",
              "      <td>0.3</td>\n",
              "      <td>1.0</td>\n",
              "      <td>0.0</td>\n",
              "      <td>7.0</td>\n",
              "      <td>2</td>\n",
              "    </tr>\n",
              "    <tr>\n",
              "      <th>3</th>\n",
              "      <td>64.0</td>\n",
              "      <td>1.0</td>\n",
              "      <td>4.0</td>\n",
              "      <td>128.0</td>\n",
              "      <td>263.0</td>\n",
              "      <td>0.0</td>\n",
              "      <td>0.0</td>\n",
              "      <td>105.0</td>\n",
              "      <td>1.0</td>\n",
              "      <td>0.2</td>\n",
              "      <td>2.0</td>\n",
              "      <td>1.0</td>\n",
              "      <td>7.0</td>\n",
              "      <td>1</td>\n",
              "    </tr>\n",
              "    <tr>\n",
              "      <th>4</th>\n",
              "      <td>74.0</td>\n",
              "      <td>0.0</td>\n",
              "      <td>2.0</td>\n",
              "      <td>120.0</td>\n",
              "      <td>269.0</td>\n",
              "      <td>0.0</td>\n",
              "      <td>2.0</td>\n",
              "      <td>121.0</td>\n",
              "      <td>1.0</td>\n",
              "      <td>0.2</td>\n",
              "      <td>1.0</td>\n",
              "      <td>1.0</td>\n",
              "      <td>3.0</td>\n",
              "      <td>1</td>\n",
              "    </tr>\n",
              "  </tbody>\n",
              "</table>\n",
              "</div>"
            ],
            "text/plain": [
              "    age  sex   cp  trestbps   chol  fbs  restecg  thalach  exang  oldpeak  \\\n",
              "0  70.0  1.0  4.0     130.0  322.0  0.0      2.0    109.0    0.0      2.4   \n",
              "1  67.0  0.0  3.0     115.0  564.0  0.0      2.0    160.0    0.0      1.6   \n",
              "2  57.0  1.0  2.0     124.0  261.0  0.0      0.0    141.0    0.0      0.3   \n",
              "3  64.0  1.0  4.0     128.0  263.0  0.0      0.0    105.0    1.0      0.2   \n",
              "4  74.0  0.0  2.0     120.0  269.0  0.0      2.0    121.0    1.0      0.2   \n",
              "\n",
              "   slope   ca  thal  presence  \n",
              "0    2.0  3.0   3.0         2  \n",
              "1    2.0  0.0   7.0         1  \n",
              "2    1.0  0.0   7.0         2  \n",
              "3    2.0  1.0   7.0         1  \n",
              "4    1.0  1.0   3.0         1  "
            ]
          },
          "execution_count": 115,
          "metadata": {},
          "output_type": "execute_result"
        }
      ],
      "source": [
        "heart_df.head()"
      ]
    },
    {
      "cell_type": "code",
      "execution_count": 116,
      "metadata": {
        "colab": {
          "base_uri": "https://localhost:8080/"
        },
        "id": "NySHrvriHIft",
        "outputId": "8735ba2a-cdb5-44d9-8e69-81ed50240c7e"
      },
      "outputs": [
        {
          "data": {
            "text/plain": [
              "(270, 14)"
            ]
          },
          "execution_count": 116,
          "metadata": {},
          "output_type": "execute_result"
        }
      ],
      "source": [
        "heart_df.shape"
      ]
    },
    {
      "cell_type": "code",
      "execution_count": 117,
      "metadata": {
        "colab": {
          "base_uri": "https://localhost:8080/"
        },
        "id": "67Tux5-WHMUd",
        "outputId": "13e80abe-1dd8-4512-ba2e-56033360cba8"
      },
      "outputs": [
        {
          "name": "stdout",
          "output_type": "stream",
          "text": [
            "<class 'pandas.core.frame.DataFrame'>\n",
            "RangeIndex: 270 entries, 0 to 269\n",
            "Data columns (total 14 columns):\n",
            " #   Column    Non-Null Count  Dtype  \n",
            "---  ------    --------------  -----  \n",
            " 0   age       270 non-null    float64\n",
            " 1   sex       270 non-null    float64\n",
            " 2   cp        270 non-null    float64\n",
            " 3   trestbps  270 non-null    float64\n",
            " 4   chol      270 non-null    float64\n",
            " 5   fbs       270 non-null    float64\n",
            " 6   restecg   270 non-null    float64\n",
            " 7   thalach   270 non-null    float64\n",
            " 8   exang     270 non-null    float64\n",
            " 9   oldpeak   270 non-null    float64\n",
            " 10  slope     270 non-null    float64\n",
            " 11  ca        270 non-null    float64\n",
            " 12  thal      270 non-null    float64\n",
            " 13  presence  270 non-null    int64  \n",
            "dtypes: float64(13), int64(1)\n",
            "memory usage: 29.7 KB\n"
          ]
        }
      ],
      "source": [
        "heart_df.info()"
      ]
    },
    {
      "cell_type": "code",
      "execution_count": 118,
      "metadata": {
        "colab": {
          "base_uri": "https://localhost:8080/"
        },
        "id": "AV15hP78HPmd",
        "outputId": "e370e2f6-a9cf-45fb-f391-cfdd7db6b657"
      },
      "outputs": [
        {
          "data": {
            "text/plain": [
              "age         0\n",
              "sex         0\n",
              "cp          0\n",
              "trestbps    0\n",
              "chol        0\n",
              "fbs         0\n",
              "restecg     0\n",
              "thalach     0\n",
              "exang       0\n",
              "oldpeak     0\n",
              "slope       0\n",
              "ca          0\n",
              "thal        0\n",
              "presence    0\n",
              "dtype: int64"
            ]
          },
          "execution_count": 118,
          "metadata": {},
          "output_type": "execute_result"
        }
      ],
      "source": [
        "heart_df.isna().sum()"
      ]
    },
    {
      "cell_type": "code",
      "execution_count": 119,
      "metadata": {
        "colab": {
          "base_uri": "https://localhost:8080/"
        },
        "id": "S8qI9ZrJKzoF",
        "outputId": "a587461b-ba18-455f-a6de-6e089e54991a"
      },
      "outputs": [
        {
          "data": {
            "text/plain": [
              "presence\n",
              "1    150\n",
              "2    120\n",
              "Name: count, dtype: int64"
            ]
          },
          "execution_count": 119,
          "metadata": {},
          "output_type": "execute_result"
        }
      ],
      "source": [
        "# Almost balanced dataset\n",
        "\n",
        "heart_df['presence'].value_counts()"
      ]
    },
    {
      "cell_type": "code",
      "execution_count": 120,
      "metadata": {
        "id": "bvq_IMi9K8al"
      },
      "outputs": [],
      "source": [
        "X = heart_df.iloc[:, :-1]\n",
        "y = heart_df.iloc[:, -1]"
      ]
    },
    {
      "cell_type": "code",
      "execution_count": 121,
      "metadata": {
        "colab": {
          "base_uri": "https://localhost:8080/",
          "height": 206
        },
        "id": "CDviVZ3iLSsf",
        "outputId": "830b7a01-cc0e-4cd4-ca04-aaf047810bb2"
      },
      "outputs": [
        {
          "data": {
            "text/html": [
              "<div>\n",
              "<style scoped>\n",
              "    .dataframe tbody tr th:only-of-type {\n",
              "        vertical-align: middle;\n",
              "    }\n",
              "\n",
              "    .dataframe tbody tr th {\n",
              "        vertical-align: top;\n",
              "    }\n",
              "\n",
              "    .dataframe thead th {\n",
              "        text-align: right;\n",
              "    }\n",
              "</style>\n",
              "<table border=\"1\" class=\"dataframe\">\n",
              "  <thead>\n",
              "    <tr style=\"text-align: right;\">\n",
              "      <th></th>\n",
              "      <th>age</th>\n",
              "      <th>sex</th>\n",
              "      <th>cp</th>\n",
              "      <th>trestbps</th>\n",
              "      <th>chol</th>\n",
              "      <th>fbs</th>\n",
              "      <th>restecg</th>\n",
              "      <th>thalach</th>\n",
              "      <th>exang</th>\n",
              "      <th>oldpeak</th>\n",
              "      <th>slope</th>\n",
              "      <th>ca</th>\n",
              "      <th>thal</th>\n",
              "    </tr>\n",
              "  </thead>\n",
              "  <tbody>\n",
              "    <tr>\n",
              "      <th>0</th>\n",
              "      <td>70.0</td>\n",
              "      <td>1.0</td>\n",
              "      <td>4.0</td>\n",
              "      <td>130.0</td>\n",
              "      <td>322.0</td>\n",
              "      <td>0.0</td>\n",
              "      <td>2.0</td>\n",
              "      <td>109.0</td>\n",
              "      <td>0.0</td>\n",
              "      <td>2.4</td>\n",
              "      <td>2.0</td>\n",
              "      <td>3.0</td>\n",
              "      <td>3.0</td>\n",
              "    </tr>\n",
              "    <tr>\n",
              "      <th>1</th>\n",
              "      <td>67.0</td>\n",
              "      <td>0.0</td>\n",
              "      <td>3.0</td>\n",
              "      <td>115.0</td>\n",
              "      <td>564.0</td>\n",
              "      <td>0.0</td>\n",
              "      <td>2.0</td>\n",
              "      <td>160.0</td>\n",
              "      <td>0.0</td>\n",
              "      <td>1.6</td>\n",
              "      <td>2.0</td>\n",
              "      <td>0.0</td>\n",
              "      <td>7.0</td>\n",
              "    </tr>\n",
              "    <tr>\n",
              "      <th>2</th>\n",
              "      <td>57.0</td>\n",
              "      <td>1.0</td>\n",
              "      <td>2.0</td>\n",
              "      <td>124.0</td>\n",
              "      <td>261.0</td>\n",
              "      <td>0.0</td>\n",
              "      <td>0.0</td>\n",
              "      <td>141.0</td>\n",
              "      <td>0.0</td>\n",
              "      <td>0.3</td>\n",
              "      <td>1.0</td>\n",
              "      <td>0.0</td>\n",
              "      <td>7.0</td>\n",
              "    </tr>\n",
              "    <tr>\n",
              "      <th>3</th>\n",
              "      <td>64.0</td>\n",
              "      <td>1.0</td>\n",
              "      <td>4.0</td>\n",
              "      <td>128.0</td>\n",
              "      <td>263.0</td>\n",
              "      <td>0.0</td>\n",
              "      <td>0.0</td>\n",
              "      <td>105.0</td>\n",
              "      <td>1.0</td>\n",
              "      <td>0.2</td>\n",
              "      <td>2.0</td>\n",
              "      <td>1.0</td>\n",
              "      <td>7.0</td>\n",
              "    </tr>\n",
              "    <tr>\n",
              "      <th>4</th>\n",
              "      <td>74.0</td>\n",
              "      <td>0.0</td>\n",
              "      <td>2.0</td>\n",
              "      <td>120.0</td>\n",
              "      <td>269.0</td>\n",
              "      <td>0.0</td>\n",
              "      <td>2.0</td>\n",
              "      <td>121.0</td>\n",
              "      <td>1.0</td>\n",
              "      <td>0.2</td>\n",
              "      <td>1.0</td>\n",
              "      <td>1.0</td>\n",
              "      <td>3.0</td>\n",
              "    </tr>\n",
              "  </tbody>\n",
              "</table>\n",
              "</div>"
            ],
            "text/plain": [
              "    age  sex   cp  trestbps   chol  fbs  restecg  thalach  exang  oldpeak  \\\n",
              "0  70.0  1.0  4.0     130.0  322.0  0.0      2.0    109.0    0.0      2.4   \n",
              "1  67.0  0.0  3.0     115.0  564.0  0.0      2.0    160.0    0.0      1.6   \n",
              "2  57.0  1.0  2.0     124.0  261.0  0.0      0.0    141.0    0.0      0.3   \n",
              "3  64.0  1.0  4.0     128.0  263.0  0.0      0.0    105.0    1.0      0.2   \n",
              "4  74.0  0.0  2.0     120.0  269.0  0.0      2.0    121.0    1.0      0.2   \n",
              "\n",
              "   slope   ca  thal  \n",
              "0    2.0  3.0   3.0  \n",
              "1    2.0  0.0   7.0  \n",
              "2    1.0  0.0   7.0  \n",
              "3    2.0  1.0   7.0  \n",
              "4    1.0  1.0   3.0  "
            ]
          },
          "execution_count": 121,
          "metadata": {},
          "output_type": "execute_result"
        }
      ],
      "source": [
        "X.head()"
      ]
    },
    {
      "cell_type": "code",
      "execution_count": 122,
      "metadata": {
        "colab": {
          "base_uri": "https://localhost:8080/"
        },
        "id": "NoDhUUSQLoMN",
        "outputId": "f5713dc3-d72e-4d18-cff2-55e866127542"
      },
      "outputs": [
        {
          "data": {
            "text/plain": [
              "0    2\n",
              "1    1\n",
              "2    2\n",
              "3    1\n",
              "4    1\n",
              "Name: presence, dtype: int64"
            ]
          },
          "execution_count": 122,
          "metadata": {},
          "output_type": "execute_result"
        }
      ],
      "source": [
        "y.head()"
      ]
    },
    {
      "cell_type": "code",
      "execution_count": 123,
      "metadata": {
        "id": "lB7hCzyWTb_9"
      },
      "outputs": [],
      "source": [
        "# Since version 1.3.2 XGBoost needs target columns to start with 0 value\n",
        "\n",
        "le = LabelEncoder()\n",
        "y = le.fit_transform(y)"
      ]
    },
    {
      "cell_type": "code",
      "execution_count": 124,
      "metadata": {
        "colab": {
          "base_uri": "https://localhost:8080/"
        },
        "id": "vQnWtQsHTdsu",
        "outputId": "c1f43d40-5c96-43a7-c7dd-fb39d8e6c7f7"
      },
      "outputs": [
        {
          "data": {
            "text/plain": [
              "array([1, 0, 1, 0, 0, 0, 1, 1, 1, 1, 0, 0, 0, 1, 0, 0, 1, 1, 0, 0, 1, 0,\n",
              "       0, 0, 0, 0, 0, 0, 1, 0, 1, 0, 0, 1, 1, 1, 1, 1, 0, 0, 1, 0, 0, 0,\n",
              "       1, 0, 1, 1, 1, 1, 1, 0, 0, 0, 0, 0, 1, 0, 1, 1, 0, 1, 0, 0, 0, 1,\n",
              "       0, 1, 0, 1, 1, 0, 0, 0, 0, 1, 0, 0, 0, 0, 1, 1, 1, 0, 0, 0, 0, 0,\n",
              "       0, 1, 0, 1, 1, 1, 1, 1, 0, 1, 0, 0, 0, 1, 0, 1, 1, 1, 0, 1, 1, 0,\n",
              "       1, 0, 1, 0, 0, 0, 1, 1, 0, 1, 1, 1, 1, 0, 0, 0, 1, 0, 0, 1, 1, 1,\n",
              "       0, 1, 0, 0, 0, 1, 0, 0, 1, 0, 1, 0, 1, 1, 1, 1, 1, 0, 0, 0, 0, 0,\n",
              "       0, 0, 1, 0, 0, 1, 1, 1, 0, 1, 0, 0, 0, 0, 0, 1, 0, 1, 1, 0, 0, 1,\n",
              "       1, 1, 1, 0, 0, 1, 1, 0, 0, 0, 1, 0, 0, 1, 0, 1, 0, 1, 0, 0, 0, 0,\n",
              "       0, 1, 0, 1, 1, 1, 1, 0, 0, 0, 1, 0, 1, 0, 0, 1, 0, 0, 0, 0, 0, 0,\n",
              "       1, 1, 0, 1, 0, 0, 1, 1, 0, 0, 1, 1, 0, 1, 0, 1, 0, 1, 0, 0, 1, 0,\n",
              "       0, 1, 0, 1, 1, 0, 1, 1, 1, 0, 1, 0, 0, 0, 0, 1, 1, 0, 0, 1, 1, 0,\n",
              "       1, 0, 0, 0, 0, 1], dtype=int64)"
            ]
          },
          "execution_count": 124,
          "metadata": {},
          "output_type": "execute_result"
        }
      ],
      "source": [
        "y"
      ]
    },
    {
      "cell_type": "code",
      "execution_count": 125,
      "metadata": {
        "colab": {
          "base_uri": "https://localhost:8080/"
        },
        "id": "X3TRFpCWLput",
        "outputId": "e46234e8-a4f1-4c3c-f870-87e4ee33d23e"
      },
      "outputs": [
        {
          "name": "stdout",
          "output_type": "stream",
          "text": [
            "--------- AdaBoost on Heart Dataset ---------\n",
            "[0.77777778 0.88888889 0.77777778 0.77777778 0.74074074 0.77777778\n",
            " 0.77777778 0.81481481 0.81481481 0.7037037  0.77777778 0.92592593\n",
            " 0.81481481 0.77777778 0.74074074 0.74074074 0.74074074 0.81481481\n",
            " 0.85185185 0.85185185 0.74074074 0.74074074 0.7037037  0.7037037\n",
            " 0.85185185 0.77777778 0.74074074 0.81481481 0.85185185 0.85185185\n",
            " 0.81481481 0.7037037  0.81481481 0.81481481 0.88888889 0.74074074\n",
            " 0.81481481 0.77777778 0.81481481 0.81481481 0.7037037  0.77777778\n",
            " 0.81481481 0.88888889 0.74074074 0.77777778 0.77777778 0.88888889\n",
            " 0.88888889 0.88888889 0.85185185 0.66666667 0.77777778 0.81481481\n",
            " 0.74074074 0.81481481 0.77777778 0.81481481 0.88888889 0.81481481\n",
            " 0.77777778 0.92592593 0.85185185 0.81481481 0.81481481 0.77777778\n",
            " 0.77777778 0.92592593 0.77777778 0.66666667 0.88888889 0.81481481\n",
            " 0.85185185 0.66666667 0.81481481 0.81481481 0.88888889 0.77777778\n",
            " 0.77777778 0.81481481 0.81481481 0.7037037  0.81481481 0.85185185\n",
            " 0.81481481 0.74074074 0.7037037  0.74074074 0.85185185 0.81481481\n",
            " 0.81481481 0.85185185 0.66666667 0.7037037  0.88888889 0.7037037\n",
            " 0.81481481 0.81481481 0.88888889 0.81481481]\n",
            "Accuracy: 79.81% (6.14%)\n",
            "Execution Time: 6.66 seconds\n",
            "------------------------------\n",
            "--------- GradBoost on Heart Dataset ---------\n",
            "[0.81481481 0.88888889 0.66666667 0.7037037  0.81481481 0.81481481\n",
            " 0.88888889 0.81481481 0.77777778 0.7037037  0.77777778 0.77777778\n",
            " 0.74074074 0.77777778 0.81481481 0.66666667 0.88888889 0.88888889\n",
            " 0.81481481 0.81481481 0.74074074 0.81481481 0.77777778 0.74074074\n",
            " 0.85185185 0.77777778 0.81481481 0.92592593 0.81481481 0.88888889\n",
            " 0.81481481 0.7037037  0.77777778 0.85185185 0.92592593 0.81481481\n",
            " 0.77777778 0.74074074 0.74074074 0.77777778 0.77777778 0.85185185\n",
            " 0.74074074 0.85185185 0.81481481 0.74074074 0.81481481 0.85185185\n",
            " 0.85185185 0.88888889 0.88888889 0.85185185 0.81481481 0.74074074\n",
            " 0.77777778 0.88888889 0.77777778 0.74074074 0.81481481 0.81481481\n",
            " 0.85185185 0.85185185 0.88888889 0.74074074 0.74074074 0.92592593\n",
            " 0.81481481 0.85185185 0.62962963 0.59259259 0.81481481 0.85185185\n",
            " 0.88888889 0.59259259 0.96296296 0.85185185 0.74074074 0.77777778\n",
            " 0.85185185 0.85185185 0.81481481 0.74074074 0.74074074 0.77777778\n",
            " 0.77777778 0.7037037  0.77777778 0.77777778 0.85185185 0.88888889\n",
            " 0.77777778 0.85185185 0.7037037  0.74074074 0.85185185 0.66666667\n",
            " 0.85185185 0.88888889 0.85185185 0.74074074]\n",
            "Accuracy: 80.07% (7.10%)\n",
            "Execution Time: 9.63 seconds\n",
            "------------------------------\n",
            "--------- CatBoost on Heart Dataset ---------\n",
            "[0.85185185 0.92592593 0.7037037  0.74074074 0.85185185 0.88888889\n",
            " 0.88888889 0.85185185 0.85185185 0.7037037  0.81481481 0.81481481\n",
            " 0.77777778 0.77777778 0.81481481 0.7037037  0.88888889 0.81481481\n",
            " 0.92592593 0.85185185 0.74074074 0.74074074 0.77777778 0.74074074\n",
            " 0.85185185 0.77777778 0.81481481 0.85185185 0.92592593 0.85185185\n",
            " 0.85185185 0.74074074 0.88888889 0.85185185 0.92592593 0.85185185\n",
            " 0.85185185 0.74074074 0.85185185 0.77777778 0.81481481 0.85185185\n",
            " 0.7037037  0.81481481 0.74074074 0.81481481 0.88888889 0.92592593\n",
            " 0.81481481 0.88888889 0.92592593 0.77777778 0.77777778 0.74074074\n",
            " 0.81481481 0.81481481 0.81481481 0.81481481 0.85185185 0.81481481\n",
            " 0.88888889 0.88888889 0.88888889 0.77777778 0.81481481 0.88888889\n",
            " 0.77777778 0.85185185 0.62962963 0.62962963 0.88888889 0.81481481\n",
            " 0.88888889 0.66666667 0.88888889 0.81481481 0.77777778 0.81481481\n",
            " 0.81481481 0.81481481 0.77777778 0.74074074 0.88888889 0.77777778\n",
            " 0.85185185 0.81481481 0.81481481 0.7037037  0.88888889 0.92592593\n",
            " 0.81481481 0.92592593 0.7037037  0.74074074 0.88888889 0.74074074\n",
            " 0.88888889 0.88888889 0.85185185 0.77777778]\n",
            "Accuracy: 81.89% (6.81%)\n",
            "Execution Time: 151.83 seconds\n",
            "------------------------------\n",
            "--------- LightGBM on Heart Dataset ---------\n",
            "[0.85185185 0.92592593 0.74074074 0.7037037  0.85185185 0.88888889\n",
            " 0.88888889 0.85185185 0.77777778 0.7037037  0.7037037  0.77777778\n",
            " 0.7037037  0.85185185 0.77777778 0.7037037  0.88888889 0.88888889\n",
            " 0.92592593 0.88888889 0.66666667 0.74074074 0.81481481 0.7037037\n",
            " 0.85185185 0.77777778 0.81481481 0.88888889 0.81481481 0.88888889\n",
            " 0.85185185 0.74074074 0.81481481 0.85185185 0.88888889 0.77777778\n",
            " 0.81481481 0.74074074 0.77777778 0.7037037  0.66666667 0.85185185\n",
            " 0.7037037  0.88888889 0.77777778 0.77777778 0.81481481 0.85185185\n",
            " 0.85185185 0.88888889 0.85185185 0.85185185 0.74074074 0.77777778\n",
            " 0.77777778 0.77777778 0.74074074 0.74074074 0.88888889 0.85185185\n",
            " 0.88888889 0.92592593 0.88888889 0.85185185 0.7037037  0.88888889\n",
            " 0.81481481 0.85185185 0.7037037  0.62962963 0.85185185 0.81481481\n",
            " 0.88888889 0.62962963 0.88888889 0.85185185 0.77777778 0.81481481\n",
            " 0.85185185 0.81481481 0.81481481 0.77777778 0.77777778 0.77777778\n",
            " 0.81481481 0.74074074 0.81481481 0.77777778 0.85185185 0.92592593\n",
            " 0.88888889 0.88888889 0.74074074 0.74074074 0.85185185 0.66666667\n",
            " 0.92592593 0.88888889 0.81481481 0.77777778]\n",
            "Accuracy: 80.89% (7.25%)\n",
            "Execution Time: 2.78 seconds\n",
            "------------------------------\n",
            "--------- XGBoost on Heart Dataset ---------\n",
            "[0.85185185 0.85185185 0.7037037  0.66666667 0.85185185 0.81481481\n",
            " 0.88888889 0.85185185 0.85185185 0.7037037  0.81481481 0.81481481\n",
            " 0.7037037  0.81481481 0.81481481 0.7037037  0.92592593 0.92592593\n",
            " 0.85185185 0.85185185 0.7037037  0.77777778 0.77777778 0.74074074\n",
            " 0.85185185 0.7037037  0.81481481 0.81481481 0.85185185 0.85185185\n",
            " 0.81481481 0.81481481 0.77777778 0.88888889 0.85185185 0.77777778\n",
            " 0.77777778 0.7037037  0.85185185 0.77777778 0.7037037  0.81481481\n",
            " 0.74074074 0.88888889 0.77777778 0.81481481 0.81481481 0.85185185\n",
            " 0.85185185 0.88888889 0.85185185 0.85185185 0.77777778 0.77777778\n",
            " 0.81481481 0.77777778 0.77777778 0.74074074 0.88888889 0.74074074\n",
            " 0.85185185 0.77777778 0.88888889 0.88888889 0.7037037  0.88888889\n",
            " 0.77777778 0.85185185 0.7037037  0.59259259 0.85185185 0.81481481\n",
            " 0.92592593 0.74074074 0.92592593 0.81481481 0.74074074 0.77777778\n",
            " 0.74074074 0.81481481 0.81481481 0.74074074 0.81481481 0.74074074\n",
            " 0.77777778 0.77777778 0.81481481 0.74074074 0.81481481 0.88888889\n",
            " 0.77777778 0.85185185 0.74074074 0.74074074 0.85185185 0.66666667\n",
            " 0.88888889 0.88888889 0.85185185 0.77777778]\n",
            "Accuracy: 80.37% (6.59%)\n",
            "Execution Time: 3.50 seconds\n",
            "------------------------------\n"
          ]
        }
      ],
      "source": [
        "heart_scores = []\n",
        "heart_mean = []\n",
        "heart_std = []\n",
        "model_names = []\n",
        "execution_times = []\n",
        "\n",
        "for name, clf in zip(names, classifiers):\n",
        "  start_time = time.time()\n",
        "  results = cross_val_score(clf, X, y, cv=rkf)\n",
        "  end_time = time.time()\n",
        "\n",
        "  heart_scores.append(results)\n",
        "  heart_mean.append(results.mean()*100)\n",
        "  heart_std.append(results.std()*100)\n",
        "  model_names.append(name)\n",
        "  execution_time = end_time - start_time  \n",
        "  execution_times.append(execution_time)\n",
        "  \n",
        "  print(f'--------- {name} on Heart Dataset ---------')\n",
        "  print(results)\n",
        "  print('Accuracy: %.2f%% (%.2f%%)' % (results.mean()*100, results.std()*100))\n",
        "  print(f'Execution Time: {execution_time:.2f} seconds')\n",
        "  print('------------------------------')"
      ]
    },
    {
      "cell_type": "code",
      "execution_count": 126,
      "metadata": {
        "colab": {
          "base_uri": "https://localhost:8080/"
        },
        "id": "E_aJHJuhL3jF",
        "outputId": "736c1bc8-eb5c-48db-84b6-274b00add583"
      },
      "outputs": [
        {
          "data": {
            "text/plain": [
              "[79.8148148148148,\n",
              " 80.07407407407408,\n",
              " 81.88888888888887,\n",
              " 80.88888888888889,\n",
              " 80.37037037037035]"
            ]
          },
          "execution_count": 126,
          "metadata": {},
          "output_type": "execute_result"
        }
      ],
      "source": [
        "heart_mean"
      ]
    },
    {
      "cell_type": "code",
      "execution_count": 127,
      "metadata": {
        "colab": {
          "base_uri": "https://localhost:8080/"
        },
        "id": "MpVZdwPdL6vD",
        "outputId": "0f6e98e1-9342-484d-b9fe-82cbf970a797"
      },
      "outputs": [
        {
          "data": {
            "text/plain": [
              "[6.1391053534262126,\n",
              " 7.100686803853535,\n",
              " 6.807060806071759,\n",
              " 7.252453347732925,\n",
              " 6.594256968431428]"
            ]
          },
          "execution_count": 127,
          "metadata": {},
          "output_type": "execute_result"
        }
      ],
      "source": [
        "heart_std"
      ]
    },
    {
      "cell_type": "code",
      "execution_count": 128,
      "metadata": {
        "colab": {
          "base_uri": "https://localhost:8080/",
          "height": 478
        },
        "id": "sRbMBvIh3d7a",
        "outputId": "12bc5ffe-2170-422b-ed49-6aa442a3ead8"
      },
      "outputs": [
        {
          "data": {
            "image/png": "[encoded data removed]",
            "text/plain": [
              "<Figure size 640x480 with 1 Axes>"
            ]
          },
          "metadata": {},
          "output_type": "display_data"
        }
      ],
      "source": [
        "# algorithm comparison\n",
        "\n",
        "fig = plt.figure()\n",
        "fig.suptitle('Comparison between different Heart scores')\n",
        "ax = fig.add_subplot(111)\n",
        "plt.ylim(0.3, 1)\n",
        "plt.boxplot(heart_scores, showmeans=True)\n",
        "ax.set_xticklabels(model_names)\n",
        "plt.show()"
      ]
    },
    {
      "cell_type": "code",
      "execution_count": 129,
      "metadata": {
        "id": "pC4VNw3uL-ck"
      },
      "outputs": [],
      "source": [
        "Algo_results['Heart'] = heart_mean"
      ]
    },
    {
      "cell_type": "code",
      "execution_count": 130,
      "metadata": {},
      "outputs": [],
      "source": [
        "Algo_time_results['Heart'] = pd.Series(execution_times)"
      ]
    },
    {
      "cell_type": "markdown",
      "metadata": {},
      "source": [
        "---"
      ]
    },
    {
      "cell_type": "markdown",
      "metadata": {},
      "source": [
        "# **(Unbalanced) Tic-Tac-Toe Dataset**"
      ]
    },
    {
      "cell_type": "markdown",
      "metadata": {},
      "source": [
        "---"
      ]
    },
    {
      "cell_type": "code",
      "execution_count": 157,
      "metadata": {},
      "outputs": [],
      "source": [
        "tictactoe_df = pd.read_csv('E:\\Cursos\\MestradoCienciaComputação\\Seminario\\Datasets\\Datasets2\\TicTacToe\\TicTacToe.data', header=None)"
      ]
    },
    {
      "cell_type": "code",
      "execution_count": 158,
      "metadata": {},
      "outputs": [
        {
          "data": {
            "text/html": [
              "<div>\n",
              "<style scoped>\n",
              "    .dataframe tbody tr th:only-of-type {\n",
              "        vertical-align: middle;\n",
              "    }\n",
              "\n",
              "    .dataframe tbody tr th {\n",
              "        vertical-align: top;\n",
              "    }\n",
              "\n",
              "    .dataframe thead th {\n",
              "        text-align: right;\n",
              "    }\n",
              "</style>\n",
              "<table border=\"1\" class=\"dataframe\">\n",
              "  <thead>\n",
              "    <tr style=\"text-align: right;\">\n",
              "      <th></th>\n",
              "      <th>0</th>\n",
              "      <th>1</th>\n",
              "      <th>2</th>\n",
              "      <th>3</th>\n",
              "      <th>4</th>\n",
              "      <th>5</th>\n",
              "      <th>6</th>\n",
              "      <th>7</th>\n",
              "      <th>8</th>\n",
              "      <th>9</th>\n",
              "    </tr>\n",
              "  </thead>\n",
              "  <tbody>\n",
              "    <tr>\n",
              "      <th>0</th>\n",
              "      <td>x</td>\n",
              "      <td>x</td>\n",
              "      <td>x</td>\n",
              "      <td>x</td>\n",
              "      <td>o</td>\n",
              "      <td>o</td>\n",
              "      <td>x</td>\n",
              "      <td>o</td>\n",
              "      <td>o</td>\n",
              "      <td>positive</td>\n",
              "    </tr>\n",
              "    <tr>\n",
              "      <th>1</th>\n",
              "      <td>x</td>\n",
              "      <td>x</td>\n",
              "      <td>x</td>\n",
              "      <td>x</td>\n",
              "      <td>o</td>\n",
              "      <td>o</td>\n",
              "      <td>o</td>\n",
              "      <td>x</td>\n",
              "      <td>o</td>\n",
              "      <td>positive</td>\n",
              "    </tr>\n",
              "    <tr>\n",
              "      <th>2</th>\n",
              "      <td>x</td>\n",
              "      <td>x</td>\n",
              "      <td>x</td>\n",
              "      <td>x</td>\n",
              "      <td>o</td>\n",
              "      <td>o</td>\n",
              "      <td>o</td>\n",
              "      <td>o</td>\n",
              "      <td>x</td>\n",
              "      <td>positive</td>\n",
              "    </tr>\n",
              "    <tr>\n",
              "      <th>3</th>\n",
              "      <td>x</td>\n",
              "      <td>x</td>\n",
              "      <td>x</td>\n",
              "      <td>x</td>\n",
              "      <td>o</td>\n",
              "      <td>o</td>\n",
              "      <td>o</td>\n",
              "      <td>b</td>\n",
              "      <td>b</td>\n",
              "      <td>positive</td>\n",
              "    </tr>\n",
              "    <tr>\n",
              "      <th>4</th>\n",
              "      <td>x</td>\n",
              "      <td>x</td>\n",
              "      <td>x</td>\n",
              "      <td>x</td>\n",
              "      <td>o</td>\n",
              "      <td>o</td>\n",
              "      <td>b</td>\n",
              "      <td>o</td>\n",
              "      <td>b</td>\n",
              "      <td>positive</td>\n",
              "    </tr>\n",
              "  </tbody>\n",
              "</table>\n",
              "</div>"
            ],
            "text/plain": [
              "   0  1  2  3  4  5  6  7  8         9\n",
              "0  x  x  x  x  o  o  x  o  o  positive\n",
              "1  x  x  x  x  o  o  o  x  o  positive\n",
              "2  x  x  x  x  o  o  o  o  x  positive\n",
              "3  x  x  x  x  o  o  o  b  b  positive\n",
              "4  x  x  x  x  o  o  b  o  b  positive"
            ]
          },
          "execution_count": 158,
          "metadata": {},
          "output_type": "execute_result"
        }
      ],
      "source": [
        "tictactoe_df.head()"
      ]
    },
    {
      "cell_type": "code",
      "execution_count": 159,
      "metadata": {},
      "outputs": [],
      "source": [
        "X = tictactoe_df.iloc[:, :-1]\n",
        "y = tictactoe_df.iloc[:, -1]"
      ]
    },
    {
      "cell_type": "code",
      "execution_count": 160,
      "metadata": {},
      "outputs": [],
      "source": [
        "dummies = {\n",
        "            'x': 0,\n",
        "            'o': 1,\n",
        "            'b': 2,\n",
        "          }\n",
        "Xdummies = X.iloc[:, 0: 9].replace(dummies)"
      ]
    },
    {
      "cell_type": "code",
      "execution_count": 161,
      "metadata": {},
      "outputs": [],
      "source": [
        "X = X.iloc[:, 0:9].astype('category')"
      ]
    },
    {
      "cell_type": "code",
      "execution_count": 162,
      "metadata": {},
      "outputs": [
        {
          "name": "stdout",
          "output_type": "stream",
          "text": [
            "<class 'pandas.core.frame.DataFrame'>\n",
            "RangeIndex: 958 entries, 0 to 957\n",
            "Data columns (total 9 columns):\n",
            " #   Column  Non-Null Count  Dtype   \n",
            "---  ------  --------------  -----   \n",
            " 0   0       958 non-null    category\n",
            " 1   1       958 non-null    category\n",
            " 2   2       958 non-null    category\n",
            " 3   3       958 non-null    category\n",
            " 4   4       958 non-null    category\n",
            " 5   5       958 non-null    category\n",
            " 6   6       958 non-null    category\n",
            " 7   7       958 non-null    category\n",
            " 8   8       958 non-null    category\n",
            "dtypes: category(9)\n",
            "memory usage: 9.7 KB\n"
          ]
        }
      ],
      "source": [
        "X.info()"
      ]
    },
    {
      "cell_type": "code",
      "execution_count": 163,
      "metadata": {},
      "outputs": [],
      "source": [
        "# Since version 1.3.2 XGBoost needs target columns to start with 0 value\n",
        "\n",
        "le = LabelEncoder()\n",
        "y = le.fit_transform(y)"
      ]
    },
    {
      "cell_type": "code",
      "execution_count": 221,
      "metadata": {},
      "outputs": [],
      "source": [
        "d_names = [\n",
        "          'AdaBoost',\n",
        "          'GradBoost',\n",
        "          ]\n",
        "c_names =   [      \n",
        "          'CatBoost',\n",
        "          'LightGBM',\n",
        "          'XGBoost'\n",
        "          ]\n",
        "\n",
        "classi1 = [\n",
        "            AdaBoostClassifier(),\n",
        "            GradientBoostingClassifier()\n",
        "          ]\n",
        "\n",
        "classi2 = [\n",
        "            CatBoostClassifier(cat_features=list(X.columns), silent=True),\n",
        "            LGBMClassifier(categorical_feature=list(X.columns), feature_name=list(X.columns), verbosity=-1),\n",
        "            XGBClassifier(enable_categorical=True, tree_method='hist')\n",
        "          ]"
      ]
    },
    {
      "cell_type": "code",
      "execution_count": 166,
      "metadata": {},
      "outputs": [
        {
          "name": "stdout",
          "output_type": "stream",
          "text": [
            "--------- AdaBoost on Tictactoe Dataset ---------\n",
            "[0.73958333 0.8125     0.69791667 0.8125     0.82291667 0.82291667\n",
            " 0.72916667 0.6875     0.76842105 0.77894737 0.875      0.69791667\n",
            " 0.84375    0.78125    0.8125     0.6875     0.76041667 0.77083333\n",
            " 0.72631579 0.83157895 0.82291667 0.75       0.70833333 0.72916667\n",
            " 0.70833333 0.75       0.77083333 0.82291667 0.81052632 0.78947368\n",
            " 0.79166667 0.82291667 0.71875    0.75       0.83333333 0.64583333\n",
            " 0.80208333 0.79166667 0.75789474 0.81052632 0.77083333 0.76041667\n",
            " 0.80208333 0.84375    0.72916667 0.80208333 0.83333333 0.6875\n",
            " 0.77894737 0.76842105 0.77083333 0.77083333 0.75       0.76041667\n",
            " 0.73958333 0.75       0.78125    0.82291667 0.8        0.84210526\n",
            " 0.80208333 0.66666667 0.67708333 0.80208333 0.80208333 0.78125\n",
            " 0.77083333 0.80208333 0.75789474 0.8        0.82291667 0.80208333\n",
            " 0.75       0.78125    0.8125     0.79166667 0.76041667 0.79166667\n",
            " 0.8        0.75789474 0.71875    0.75       0.77083333 0.79166667\n",
            " 0.77083333 0.76041667 0.79166667 0.82291667 0.78947368 0.77894737\n",
            " 0.70833333 0.82291667 0.80208333 0.71875    0.80208333 0.76041667\n",
            " 0.78125    0.82291667 0.76842105 0.70526316]\n",
            "Accuracy: 77.38% (4.42%)\n",
            "Execution Time: 6.85 seconds\n",
            "------------------------------\n",
            "--------- GradBoost on Tictactoe Dataset ---------\n",
            "[0.89583333 0.9375     0.9375     0.90625    0.95833333 0.92708333\n",
            " 0.92708333 0.9375     0.90526316 0.93684211 0.94791667 0.89583333\n",
            " 0.91666667 0.90625    0.91666667 0.90625    0.94791667 0.90625\n",
            " 0.92631579 0.93684211 0.95833333 0.90625    0.89583333 0.90625\n",
            " 0.91666667 0.90625    0.90625    0.89583333 0.95789474 0.97894737\n",
            " 0.89583333 0.95833333 0.89583333 0.94791667 0.94791667 0.875\n",
            " 0.89583333 0.95833333 0.91578947 0.94736842 0.92708333 0.85416667\n",
            " 0.9375     0.94791667 0.85416667 0.9375     0.94791667 0.90625\n",
            " 0.94736842 0.94736842 0.91666667 0.95833333 0.97916667 0.94791667\n",
            " 0.85416667 0.88541667 0.90625    0.94791667 0.92631579 0.87368421\n",
            " 0.97916667 0.86458333 0.85416667 0.90625    0.90625    0.92708333\n",
            " 0.94791667 0.94791667 0.94736842 0.87368421 0.9375     0.85416667\n",
            " 0.97916667 0.89583333 0.9375     0.86458333 0.90625    0.94791667\n",
            " 0.93684211 0.89473684 0.9375     0.875      0.92708333 0.91666667\n",
            " 0.89583333 0.95833333 0.90625    0.91666667 0.90526316 0.94736842\n",
            " 0.9375     0.91666667 0.95833333 0.9375     0.97916667 0.91666667\n",
            " 0.92708333 0.86458333 0.92631579 0.87368421]\n",
            "Accuracy: 92.08% (3.12%)\n",
            "Execution Time: 8.49 seconds\n",
            "------------------------------\n",
            "--------- CatBoost on Tictactoe Dataset ---------\n",
            "[1.         1.         1.         1.         1.         1.\n",
            " 0.98958333 1.         0.98947368 1.         1.         0.97916667\n",
            " 1.         1.         1.         1.         1.         1.\n",
            " 1.         1.         1.         1.         1.         1.\n",
            " 1.         1.         1.         1.         1.         0.98947368\n",
            " 1.         1.         1.         1.         1.         1.\n",
            " 1.         1.         1.         0.97894737 1.         1.\n",
            " 1.         1.         1.         1.         1.         1.\n",
            " 1.         0.98947368 1.         1.         0.96875    1.\n",
            " 1.         1.         1.         1.         1.         1.\n",
            " 1.         1.         1.         1.         1.         1.\n",
            " 1.         1.         1.         1.         1.         1.\n",
            " 1.         1.         1.         1.         1.         1.\n",
            " 1.         1.         1.         1.         1.         1.\n",
            " 1.         1.         1.         1.         1.         1.\n",
            " 1.         1.         1.         1.         1.         1.\n",
            " 1.         1.         1.         1.        ]\n",
            "Accuracy: 99.88% (0.46%)\n",
            "Execution Time: 2289.09 seconds\n",
            "------------------------------\n",
            "--------- LightGBM on Tictactoe Dataset ---------\n",
            "[1.         0.98958333 1.         0.98958333 1.         0.97916667\n",
            " 0.97916667 0.98958333 0.98947368 0.98947368 1.         0.96875\n",
            " 0.98958333 1.         0.98958333 1.         1.         1.\n",
            " 0.97894737 0.98947368 0.98958333 0.97916667 0.96875    0.98958333\n",
            " 1.         1.         1.         0.98958333 0.98947368 0.97894737\n",
            " 1.         0.97916667 1.         0.98958333 1.         1.\n",
            " 1.         0.98958333 0.98947368 0.96842105 0.96875    1.\n",
            " 1.         1.         0.97916667 0.98958333 1.         1.\n",
            " 1.         0.98947368 0.98958333 1.         0.96875    0.98958333\n",
            " 0.98958333 0.98958333 0.98958333 1.         0.98947368 1.\n",
            " 1.         0.98958333 0.98958333 0.98958333 0.97916667 0.97916667\n",
            " 0.98958333 0.98958333 1.         1.         1.         1.\n",
            " 0.96875    1.         0.97916667 1.         0.97916667 1.\n",
            " 0.98947368 1.         0.98958333 0.98958333 0.97916667 1.\n",
            " 0.97916667 1.         0.98958333 1.         1.         0.98947368\n",
            " 0.98958333 0.98958333 0.97916667 0.98958333 1.         1.\n",
            " 0.98958333 0.98958333 0.98947368 1.        ]\n",
            "Accuracy: 99.11% (0.91%)\n",
            "Execution Time: 5.36 seconds\n",
            "------------------------------\n",
            "--------- XGBoost on Tictactoe Dataset ---------\n",
            "[1.         0.98958333 0.98958333 0.98958333 1.         0.97916667\n",
            " 0.97916667 0.98958333 0.98947368 0.98947368 1.         0.94791667\n",
            " 0.97916667 1.         0.98958333 1.         1.         1.\n",
            " 0.97894737 0.97894737 0.98958333 0.97916667 0.97916667 0.95833333\n",
            " 0.97916667 1.         1.         0.98958333 0.98947368 0.98947368\n",
            " 0.98958333 0.95833333 1.         0.97916667 0.98958333 1.\n",
            " 1.         0.98958333 0.98947368 0.97894737 0.96875    0.98958333\n",
            " 0.98958333 1.         0.97916667 0.98958333 0.98958333 1.\n",
            " 1.         0.98947368 1.         0.97916667 0.95833333 0.98958333\n",
            " 0.97916667 0.98958333 1.         1.         0.98947368 0.97894737\n",
            " 1.         1.         0.97916667 0.97916667 0.96875    0.98958333\n",
            " 0.98958333 0.98958333 1.         0.98947368 0.98958333 1.\n",
            " 0.97916667 1.         0.97916667 0.98958333 0.96875    1.\n",
            " 1.         0.97894737 0.97916667 0.98958333 0.97916667 0.98958333\n",
            " 0.96875    1.         0.98958333 0.98958333 1.         0.98947368\n",
            " 0.98958333 0.98958333 0.96875    0.98958333 1.         1.\n",
            " 0.98958333 0.98958333 0.98947368 1.        ]\n",
            "Accuracy: 98.81% (1.10%)\n",
            "Execution Time: 5.98 seconds\n",
            "------------------------------\n"
          ]
        }
      ],
      "source": [
        "warnings.filterwarnings(\"ignore\", category=UserWarning)\n",
        "\n",
        "tictactoe_scores = []\n",
        "tictactoe_scores_mean = []\n",
        "tictactoe_scores_std = []\n",
        "model_names = []\n",
        "execution_times = []\n",
        "\n",
        "for name, clf in zip(d_names, classi1):\n",
        "  start_time = time.time()\n",
        "  results = cross_val_score(clf, Xdummies, y, cv=rkf)\n",
        "  end_time = time.time()\n",
        "  tictactoe_scores.append(results)\n",
        "  tictactoe_scores_mean.append(results.mean()*100)\n",
        "  tictactoe_scores_std.append(results.std()*100)\n",
        "  model_names.append(name)\n",
        "  execution_time = end_time - start_time  \n",
        "  execution_times.append(execution_time)\n",
        "\n",
        "  print(f'--------- {name} on Tictactoe Dataset ---------')\n",
        "  print(results)\n",
        "  print('Accuracy: %.2f%% (%.2f%%)' % (results.mean()*100, results.std()*100))\n",
        "  print(f'Execution Time: {execution_time:.2f} seconds')\n",
        "  print('------------------------------')\n",
        "\n",
        "for name, clf in zip(c_names, classi2):\n",
        "  start_time = time.time()\n",
        "  results = cross_val_score(clf, X, y, cv=rkf)\n",
        "  end_time = time.time()\n",
        "  tictactoe_scores.append(results)\n",
        "  tictactoe_scores_mean.append(results.mean()*100)\n",
        "  tictactoe_scores_std.append(results.std()*100)\n",
        "  model_names.append(name)\n",
        "  execution_time = end_time - start_time  \n",
        "  execution_times.append(execution_time)\n",
        "\n",
        "  print(f'--------- {name} on Tictactoe Dataset ---------')\n",
        "  print(results)\n",
        "  print('Accuracy: %.2f%% (%.2f%%)' % (results.mean()*100, results.std()*100))\n",
        "  print(f'Execution Time: {execution_time:.2f} seconds')\n",
        "  print('------------------------------')"
      ]
    },
    {
      "cell_type": "code",
      "execution_count": 167,
      "metadata": {},
      "outputs": [
        {
          "data": {
            "image/png": "[encoded data removed]",
            "text/plain": [
              "<Figure size 640x480 with 1 Axes>"
            ]
          },
          "metadata": {},
          "output_type": "display_data"
        }
      ],
      "source": [
        "# algorithm comparison\n",
        "\n",
        "fig = plt.figure()\n",
        "fig.suptitle('Comparison between different Tictactoe scores')\n",
        "ax = fig.add_subplot(111)\n",
        "plt.ylim(0.3, 1)\n",
        "plt.boxplot(tictactoe_scores, showmeans=True)\n",
        "ax.set_xticklabels(model_names)\n",
        "plt.show()"
      ]
    },
    {
      "cell_type": "code",
      "execution_count": 168,
      "metadata": {},
      "outputs": [],
      "source": [
        "Algo_results['TicTacToe'] = tictactoe_scores_mean"
      ]
    },
    {
      "cell_type": "code",
      "execution_count": 169,
      "metadata": {},
      "outputs": [],
      "source": [
        "Algo_time_results['TicTacToe'] = pd.Series(execution_times)"
      ]
    },
    {
      "cell_type": "markdown",
      "metadata": {
        "id": "S8bC0IVRMCx4"
      },
      "source": [
        "---"
      ]
    },
    {
      "cell_type": "markdown",
      "metadata": {
        "id": "jDcirJEuMDqT"
      },
      "source": [
        "# **(Unbalanced) Liver**"
      ]
    },
    {
      "cell_type": "markdown",
      "metadata": {
        "id": "gf7-6_3lMEIk"
      },
      "source": [
        "---"
      ]
    },
    {
      "cell_type": "code",
      "execution_count": 187,
      "metadata": {
        "id": "HOARC7vxMGYl"
      },
      "outputs": [],
      "source": [
        "liver_df = pd.read_csv('E:\\Cursos\\MestradoCienciaComputação\\Seminario\\Datasets\\Liver\\Bupa.data', header=None)"
      ]
    },
    {
      "cell_type": "code",
      "execution_count": 188,
      "metadata": {
        "colab": {
          "base_uri": "https://localhost:8080/"
        },
        "id": "cBB4WHy9QnhI",
        "outputId": "8880eb6f-f536-4069-cb35-0a22637789b7"
      },
      "outputs": [
        {
          "data": {
            "text/plain": [
              "(345, 7)"
            ]
          },
          "execution_count": 188,
          "metadata": {},
          "output_type": "execute_result"
        }
      ],
      "source": [
        "liver_df.shape"
      ]
    },
    {
      "cell_type": "code",
      "execution_count": 189,
      "metadata": {
        "colab": {
          "base_uri": "https://localhost:8080/",
          "height": 206
        },
        "id": "8pWwrcG-Qp81",
        "outputId": "1a7ff5c1-a135-4f83-c2ed-582bd824e574"
      },
      "outputs": [
        {
          "data": {
            "text/html": [
              "<div>\n",
              "<style scoped>\n",
              "    .dataframe tbody tr th:only-of-type {\n",
              "        vertical-align: middle;\n",
              "    }\n",
              "\n",
              "    .dataframe tbody tr th {\n",
              "        vertical-align: top;\n",
              "    }\n",
              "\n",
              "    .dataframe thead th {\n",
              "        text-align: right;\n",
              "    }\n",
              "</style>\n",
              "<table border=\"1\" class=\"dataframe\">\n",
              "  <thead>\n",
              "    <tr style=\"text-align: right;\">\n",
              "      <th></th>\n",
              "      <th>0</th>\n",
              "      <th>1</th>\n",
              "      <th>2</th>\n",
              "      <th>3</th>\n",
              "      <th>4</th>\n",
              "      <th>5</th>\n",
              "      <th>6</th>\n",
              "    </tr>\n",
              "  </thead>\n",
              "  <tbody>\n",
              "    <tr>\n",
              "      <th>0</th>\n",
              "      <td>85</td>\n",
              "      <td>92</td>\n",
              "      <td>45</td>\n",
              "      <td>27</td>\n",
              "      <td>31</td>\n",
              "      <td>0.0</td>\n",
              "      <td>1</td>\n",
              "    </tr>\n",
              "    <tr>\n",
              "      <th>1</th>\n",
              "      <td>85</td>\n",
              "      <td>64</td>\n",
              "      <td>59</td>\n",
              "      <td>32</td>\n",
              "      <td>23</td>\n",
              "      <td>0.0</td>\n",
              "      <td>2</td>\n",
              "    </tr>\n",
              "    <tr>\n",
              "      <th>2</th>\n",
              "      <td>86</td>\n",
              "      <td>54</td>\n",
              "      <td>33</td>\n",
              "      <td>16</td>\n",
              "      <td>54</td>\n",
              "      <td>0.0</td>\n",
              "      <td>2</td>\n",
              "    </tr>\n",
              "    <tr>\n",
              "      <th>3</th>\n",
              "      <td>91</td>\n",
              "      <td>78</td>\n",
              "      <td>34</td>\n",
              "      <td>24</td>\n",
              "      <td>36</td>\n",
              "      <td>0.0</td>\n",
              "      <td>2</td>\n",
              "    </tr>\n",
              "    <tr>\n",
              "      <th>4</th>\n",
              "      <td>87</td>\n",
              "      <td>70</td>\n",
              "      <td>12</td>\n",
              "      <td>28</td>\n",
              "      <td>10</td>\n",
              "      <td>0.0</td>\n",
              "      <td>2</td>\n",
              "    </tr>\n",
              "  </tbody>\n",
              "</table>\n",
              "</div>"
            ],
            "text/plain": [
              "    0   1   2   3   4    5  6\n",
              "0  85  92  45  27  31  0.0  1\n",
              "1  85  64  59  32  23  0.0  2\n",
              "2  86  54  33  16  54  0.0  2\n",
              "3  91  78  34  24  36  0.0  2\n",
              "4  87  70  12  28  10  0.0  2"
            ]
          },
          "execution_count": 189,
          "metadata": {},
          "output_type": "execute_result"
        }
      ],
      "source": [
        "liver_df.head()"
      ]
    },
    {
      "cell_type": "code",
      "execution_count": 190,
      "metadata": {
        "colab": {
          "base_uri": "https://localhost:8080/"
        },
        "id": "T5ek83VtQwvM",
        "outputId": "31457b62-5b8d-4846-a64c-a9af56afad2e"
      },
      "outputs": [
        {
          "name": "stdout",
          "output_type": "stream",
          "text": [
            "<class 'pandas.core.frame.DataFrame'>\n",
            "RangeIndex: 345 entries, 0 to 344\n",
            "Data columns (total 7 columns):\n",
            " #   Column  Non-Null Count  Dtype  \n",
            "---  ------  --------------  -----  \n",
            " 0   0       345 non-null    int64  \n",
            " 1   1       345 non-null    int64  \n",
            " 2   2       345 non-null    int64  \n",
            " 3   3       345 non-null    int64  \n",
            " 4   4       345 non-null    int64  \n",
            " 5   5       345 non-null    float64\n",
            " 6   6       345 non-null    int64  \n",
            "dtypes: float64(1), int64(6)\n",
            "memory usage: 19.0 KB\n"
          ]
        }
      ],
      "source": [
        "liver_df.info()"
      ]
    },
    {
      "cell_type": "code",
      "execution_count": 191,
      "metadata": {
        "colab": {
          "base_uri": "https://localhost:8080/"
        },
        "id": "zBkiyL0fQ2H9",
        "outputId": "c1c6422e-4581-4307-984d-3cfb593736a1"
      },
      "outputs": [
        {
          "data": {
            "text/plain": [
              "0    0\n",
              "1    0\n",
              "2    0\n",
              "3    0\n",
              "4    0\n",
              "5    0\n",
              "6    0\n",
              "dtype: int64"
            ]
          },
          "execution_count": 191,
          "metadata": {},
          "output_type": "execute_result"
        }
      ],
      "source": [
        "liver_df.isna().sum()"
      ]
    },
    {
      "cell_type": "code",
      "execution_count": 192,
      "metadata": {
        "colab": {
          "base_uri": "https://localhost:8080/"
        },
        "id": "Ycqw0X7bQ7Vs",
        "outputId": "c7df8b06-e8c0-4991-ea46-bc12f8c9765c"
      },
      "outputs": [
        {
          "data": {
            "text/plain": [
              "6\n",
              "2    200\n",
              "1    145\n",
              "Name: count, dtype: int64"
            ]
          },
          "execution_count": 192,
          "metadata": {},
          "output_type": "execute_result"
        }
      ],
      "source": [
        "# Unbalanced dataset\n",
        "\n",
        "liver_df[6].value_counts()"
      ]
    },
    {
      "cell_type": "code",
      "execution_count": 193,
      "metadata": {
        "id": "XgfkEnnnRZoT"
      },
      "outputs": [],
      "source": [
        "X = liver_df.iloc[:, :-1]\n",
        "y = liver_df.iloc[:, -1]"
      ]
    },
    {
      "cell_type": "code",
      "execution_count": 194,
      "metadata": {
        "colab": {
          "base_uri": "https://localhost:8080/",
          "height": 206
        },
        "id": "S2SC8d4aRraI",
        "outputId": "638bfd13-2b94-4ad8-d564-eaf3c1676df8"
      },
      "outputs": [
        {
          "data": {
            "text/html": [
              "<div>\n",
              "<style scoped>\n",
              "    .dataframe tbody tr th:only-of-type {\n",
              "        vertical-align: middle;\n",
              "    }\n",
              "\n",
              "    .dataframe tbody tr th {\n",
              "        vertical-align: top;\n",
              "    }\n",
              "\n",
              "    .dataframe thead th {\n",
              "        text-align: right;\n",
              "    }\n",
              "</style>\n",
              "<table border=\"1\" class=\"dataframe\">\n",
              "  <thead>\n",
              "    <tr style=\"text-align: right;\">\n",
              "      <th></th>\n",
              "      <th>0</th>\n",
              "      <th>1</th>\n",
              "      <th>2</th>\n",
              "      <th>3</th>\n",
              "      <th>4</th>\n",
              "      <th>5</th>\n",
              "    </tr>\n",
              "  </thead>\n",
              "  <tbody>\n",
              "    <tr>\n",
              "      <th>0</th>\n",
              "      <td>85</td>\n",
              "      <td>92</td>\n",
              "      <td>45</td>\n",
              "      <td>27</td>\n",
              "      <td>31</td>\n",
              "      <td>0.0</td>\n",
              "    </tr>\n",
              "    <tr>\n",
              "      <th>1</th>\n",
              "      <td>85</td>\n",
              "      <td>64</td>\n",
              "      <td>59</td>\n",
              "      <td>32</td>\n",
              "      <td>23</td>\n",
              "      <td>0.0</td>\n",
              "    </tr>\n",
              "    <tr>\n",
              "      <th>2</th>\n",
              "      <td>86</td>\n",
              "      <td>54</td>\n",
              "      <td>33</td>\n",
              "      <td>16</td>\n",
              "      <td>54</td>\n",
              "      <td>0.0</td>\n",
              "    </tr>\n",
              "    <tr>\n",
              "      <th>3</th>\n",
              "      <td>91</td>\n",
              "      <td>78</td>\n",
              "      <td>34</td>\n",
              "      <td>24</td>\n",
              "      <td>36</td>\n",
              "      <td>0.0</td>\n",
              "    </tr>\n",
              "    <tr>\n",
              "      <th>4</th>\n",
              "      <td>87</td>\n",
              "      <td>70</td>\n",
              "      <td>12</td>\n",
              "      <td>28</td>\n",
              "      <td>10</td>\n",
              "      <td>0.0</td>\n",
              "    </tr>\n",
              "  </tbody>\n",
              "</table>\n",
              "</div>"
            ],
            "text/plain": [
              "    0   1   2   3   4    5\n",
              "0  85  92  45  27  31  0.0\n",
              "1  85  64  59  32  23  0.0\n",
              "2  86  54  33  16  54  0.0\n",
              "3  91  78  34  24  36  0.0\n",
              "4  87  70  12  28  10  0.0"
            ]
          },
          "execution_count": 194,
          "metadata": {},
          "output_type": "execute_result"
        }
      ],
      "source": [
        "X.head()"
      ]
    },
    {
      "cell_type": "code",
      "execution_count": 195,
      "metadata": {
        "colab": {
          "base_uri": "https://localhost:8080/"
        },
        "id": "mBjrBExWRtVn",
        "outputId": "d7c26c8a-5504-4bb1-86ca-ce2ae17bf644"
      },
      "outputs": [
        {
          "data": {
            "text/plain": [
              "0    1\n",
              "1    2\n",
              "2    2\n",
              "3    2\n",
              "4    2\n",
              "Name: 6, dtype: int64"
            ]
          },
          "execution_count": 195,
          "metadata": {},
          "output_type": "execute_result"
        }
      ],
      "source": [
        "y.head()"
      ]
    },
    {
      "cell_type": "code",
      "execution_count": 196,
      "metadata": {
        "id": "OdvxSN1QRSo9"
      },
      "outputs": [],
      "source": [
        "# Since version 1.3.2 XGBoost needs target columns to start with 0 value\n",
        "\n",
        "le = LabelEncoder()\n",
        "y = le.fit_transform(y)"
      ]
    },
    {
      "cell_type": "code",
      "execution_count": 197,
      "metadata": {
        "colab": {
          "base_uri": "https://localhost:8080/"
        },
        "id": "XS28nqJ7Rv7D",
        "outputId": "cd06c6ab-fdc4-4769-9414-9b76d6da1b6d"
      },
      "outputs": [
        {
          "data": {
            "text/plain": [
              "array([0, 1, 1, 1, 1, 1, 0, 0, 0, 0, 0, 0, 0, 0, 0, 0, 0, 0, 0, 0, 0, 0,\n",
              "       0, 0, 0, 0, 0, 0, 0, 0, 0, 0, 0, 0, 0, 1, 1, 1, 1, 1, 1, 1, 1, 1,\n",
              "       1, 1, 1, 1, 1, 1, 1, 1, 1, 1, 1, 1, 1, 1, 1, 1, 1, 1, 1, 1, 0, 0,\n",
              "       1, 1, 1, 1, 0, 0, 0, 0, 0, 0, 1, 1, 1, 1, 1, 1, 1, 1, 1, 1, 1, 1,\n",
              "       0, 0, 0, 0, 0, 0, 0, 0, 1, 1, 1, 1, 1, 1, 0, 0, 0, 0, 0, 0, 0, 1,\n",
              "       1, 1, 1, 1, 1, 1, 1, 1, 1, 1, 1, 1, 1, 1, 1, 1, 1, 1, 1, 1, 0, 0,\n",
              "       1, 1, 1, 1, 1, 1, 1, 1, 0, 0, 0, 0, 0, 0, 0, 0, 0, 0, 1, 1, 1, 1,\n",
              "       1, 1, 1, 1, 1, 1, 1, 1, 1, 1, 1, 1, 0, 0, 1, 0, 0, 0, 0, 0, 0, 0,\n",
              "       1, 1, 1, 1, 1, 0, 0, 1, 1, 1, 1, 1, 0, 0, 0, 0, 1, 0, 0, 0, 0, 0,\n",
              "       0, 0, 0, 0, 0, 0, 0, 0, 0, 0, 0, 0, 0, 0, 0, 0, 0, 0, 0, 1, 1, 1,\n",
              "       1, 1, 1, 1, 1, 1, 1, 1, 1, 1, 1, 1, 1, 1, 1, 1, 1, 1, 1, 1, 1, 1,\n",
              "       1, 0, 0, 0, 0, 0, 0, 1, 1, 1, 1, 1, 0, 0, 0, 0, 0, 0, 0, 0, 0, 1,\n",
              "       1, 1, 1, 1, 1, 1, 1, 0, 0, 0, 1, 1, 1, 1, 0, 1, 1, 1, 1, 1, 1, 1,\n",
              "       1, 1, 1, 1, 1, 1, 1, 1, 1, 1, 1, 1, 1, 1, 1, 1, 1, 1, 1, 1, 1, 0,\n",
              "       0, 0, 0, 0, 0, 0, 0, 0, 0, 0, 1, 1, 1, 1, 1, 1, 0, 0, 0, 0, 0, 1,\n",
              "       1, 1, 1, 1, 0, 0, 1, 1, 1, 1, 0, 1, 0, 0, 0], dtype=int64)"
            ]
          },
          "execution_count": 197,
          "metadata": {},
          "output_type": "execute_result"
        }
      ],
      "source": [
        "y"
      ]
    },
    {
      "cell_type": "code",
      "execution_count": 198,
      "metadata": {
        "colab": {
          "base_uri": "https://localhost:8080/"
        },
        "id": "-bEnmPeDRwR9",
        "outputId": "6596afe1-3221-4a56-b46f-01e046f66a0a"
      },
      "outputs": [
        {
          "name": "stdout",
          "output_type": "stream",
          "text": [
            "--------- AdaBoost on Liver Dataset ---------\n",
            "[0.8        0.8        0.65714286 0.74285714 0.71428571 0.64705882\n",
            " 0.67647059 0.79411765 0.70588235 0.64705882 0.71428571 0.77142857\n",
            " 0.71428571 0.65714286 0.65714286 0.79411765 0.55882353 0.76470588\n",
            " 0.70588235 0.82352941 0.74285714 0.62857143 0.71428571 0.74285714\n",
            " 0.68571429 0.73529412 0.79411765 0.82352941 0.82352941 0.58823529\n",
            " 0.62857143 0.74285714 0.8        0.62857143 0.71428571 0.79411765\n",
            " 0.70588235 0.67647059 0.67647059 0.55882353 0.74285714 0.77142857\n",
            " 0.74285714 0.71428571 0.77142857 0.79411765 0.70588235 0.73529412\n",
            " 0.73529412 0.70588235 0.68571429 0.8        0.62857143 0.82857143\n",
            " 0.71428571 0.67647059 0.64705882 0.70588235 0.85294118 0.73529412\n",
            " 0.62857143 0.62857143 0.77142857 0.68571429 0.8        0.61764706\n",
            " 0.61764706 0.85294118 0.76470588 0.76470588 0.71428571 0.68571429\n",
            " 0.82857143 0.74285714 0.71428571 0.76470588 0.70588235 0.85294118\n",
            " 0.61764706 0.70588235 0.88571429 0.6        0.74285714 0.71428571\n",
            " 0.74285714 0.73529412 0.70588235 0.70588235 0.67647059 0.82352941\n",
            " 0.8        0.8        0.74285714 0.65714286 0.8        0.61764706\n",
            " 0.64705882 0.61764706 0.76470588 0.76470588]\n",
            "Accuracy: 72.25% (7.03%)\n",
            "Execution Time: 6.36 seconds\n",
            "------------------------------\n",
            "--------- GradBoost on Liver Dataset ---------\n",
            "[0.68571429 0.77142857 0.71428571 0.65714286 0.68571429 0.73529412\n",
            " 0.76470588 0.73529412 0.73529412 0.67647059 0.71428571 0.68571429\n",
            " 0.71428571 0.62857143 0.71428571 0.82352941 0.64705882 0.67647059\n",
            " 0.70588235 0.88235294 0.74285714 0.65714286 0.8        0.77142857\n",
            " 0.65714286 0.73529412 0.70588235 0.70588235 0.70588235 0.73529412\n",
            " 0.71428571 0.71428571 0.77142857 0.65714286 0.74285714 0.73529412\n",
            " 0.79411765 0.64705882 0.58823529 0.5        0.71428571 0.82857143\n",
            " 0.62857143 0.74285714 0.8        0.79411765 0.76470588 0.64705882\n",
            " 0.73529412 0.58823529 0.71428571 0.74285714 0.6        0.74285714\n",
            " 0.74285714 0.76470588 0.67647059 0.73529412 0.73529412 0.79411765\n",
            " 0.74285714 0.68571429 0.82857143 0.68571429 0.8        0.73529412\n",
            " 0.67647059 0.85294118 0.76470588 0.82352941 0.65714286 0.65714286\n",
            " 0.82857143 0.77142857 0.77142857 0.76470588 0.73529412 0.73529412\n",
            " 0.70588235 0.79411765 0.8        0.65714286 0.62857143 0.8\n",
            " 0.62857143 0.70588235 0.67647059 0.79411765 0.67647059 0.82352941\n",
            " 0.71428571 0.74285714 0.71428571 0.6        0.8        0.58823529\n",
            " 0.70588235 0.70588235 0.79411765 0.73529412]\n",
            "Accuracy: 72.24% (6.62%)\n",
            "Execution Time: 8.78 seconds\n",
            "------------------------------\n",
            "--------- CatBoost on Liver Dataset ---------\n",
            "[0.8        0.77142857 0.71428571 0.71428571 0.68571429 0.73529412\n",
            " 0.70588235 0.76470588 0.73529412 0.64705882 0.71428571 0.74285714\n",
            " 0.85714286 0.65714286 0.74285714 0.76470588 0.67647059 0.73529412\n",
            " 0.73529412 0.88235294 0.74285714 0.71428571 0.82857143 0.77142857\n",
            " 0.68571429 0.79411765 0.70588235 0.79411765 0.76470588 0.70588235\n",
            " 0.77142857 0.8        0.8        0.71428571 0.77142857 0.82352941\n",
            " 0.67647059 0.70588235 0.64705882 0.64705882 0.74285714 0.8\n",
            " 0.65714286 0.77142857 0.85714286 0.76470588 0.76470588 0.70588235\n",
            " 0.67647059 0.67647059 0.82857143 0.71428571 0.65714286 0.77142857\n",
            " 0.65714286 0.73529412 0.76470588 0.79411765 0.79411765 0.82352941\n",
            " 0.68571429 0.65714286 0.82857143 0.62857143 0.85714286 0.79411765\n",
            " 0.70588235 0.91176471 0.70588235 0.79411765 0.6        0.68571429\n",
            " 0.82857143 0.74285714 0.77142857 0.76470588 0.76470588 0.79411765\n",
            " 0.70588235 0.76470588 0.8        0.65714286 0.8        0.82857143\n",
            " 0.65714286 0.67647059 0.73529412 0.73529412 0.76470588 0.82352941\n",
            " 0.77142857 0.85714286 0.65714286 0.65714286 0.85714286 0.64705882\n",
            " 0.70588235 0.70588235 0.79411765 0.67647059]\n",
            "Accuracy: 74.40% (6.45%)\n",
            "Execution Time: 134.18 seconds\n",
            "------------------------------\n",
            "--------- LightGBM on Liver Dataset ---------\n",
            "[0.77142857 0.77142857 0.68571429 0.71428571 0.62857143 0.70588235\n",
            " 0.64705882 0.85294118 0.76470588 0.70588235 0.6        0.68571429\n",
            " 0.77142857 0.68571429 0.71428571 0.73529412 0.61764706 0.70588235\n",
            " 0.67647059 0.76470588 0.71428571 0.65714286 0.74285714 0.71428571\n",
            " 0.77142857 0.73529412 0.61764706 0.67647059 0.76470588 0.67647059\n",
            " 0.8        0.77142857 0.77142857 0.71428571 0.65714286 0.73529412\n",
            " 0.70588235 0.67647059 0.67647059 0.61764706 0.77142857 0.8\n",
            " 0.77142857 0.74285714 0.8        0.73529412 0.73529412 0.70588235\n",
            " 0.64705882 0.67647059 0.71428571 0.65714286 0.62857143 0.74285714\n",
            " 0.71428571 0.67647059 0.76470588 0.82352941 0.73529412 0.85294118\n",
            " 0.54285714 0.71428571 0.8        0.65714286 0.68571429 0.70588235\n",
            " 0.70588235 0.73529412 0.70588235 0.79411765 0.62857143 0.65714286\n",
            " 0.88571429 0.74285714 0.65714286 0.82352941 0.67647059 0.76470588\n",
            " 0.73529412 0.73529412 0.8        0.62857143 0.68571429 0.74285714\n",
            " 0.6        0.70588235 0.67647059 0.73529412 0.73529412 0.79411765\n",
            " 0.77142857 0.82857143 0.62857143 0.65714286 0.74285714 0.67647059\n",
            " 0.70588235 0.67647059 0.79411765 0.76470588]\n",
            "Accuracy: 71.80% (6.22%)\n",
            "Execution Time: 2.36 seconds\n",
            "------------------------------\n",
            "--------- XGBoost on Liver Dataset ---------\n",
            "[0.82857143 0.77142857 0.65714286 0.74285714 0.71428571 0.70588235\n",
            " 0.70588235 0.73529412 0.76470588 0.64705882 0.6        0.68571429\n",
            " 0.74285714 0.62857143 0.71428571 0.67647059 0.64705882 0.73529412\n",
            " 0.64705882 0.70588235 0.65714286 0.68571429 0.71428571 0.77142857\n",
            " 0.71428571 0.76470588 0.61764706 0.70588235 0.64705882 0.67647059\n",
            " 0.74285714 0.71428571 0.74285714 0.74285714 0.6        0.82352941\n",
            " 0.73529412 0.58823529 0.64705882 0.61764706 0.8        0.82857143\n",
            " 0.65714286 0.71428571 0.8        0.64705882 0.70588235 0.67647059\n",
            " 0.64705882 0.67647059 0.68571429 0.62857143 0.6        0.65714286\n",
            " 0.71428571 0.76470588 0.79411765 0.76470588 0.76470588 0.76470588\n",
            " 0.65714286 0.74285714 0.8        0.62857143 0.68571429 0.70588235\n",
            " 0.70588235 0.82352941 0.61764706 0.76470588 0.51428571 0.6\n",
            " 0.85714286 0.71428571 0.65714286 0.70588235 0.70588235 0.73529412\n",
            " 0.76470588 0.73529412 0.8        0.62857143 0.71428571 0.77142857\n",
            " 0.54285714 0.73529412 0.64705882 0.76470588 0.70588235 0.79411765\n",
            " 0.71428571 0.8        0.65714286 0.68571429 0.85714286 0.58823529\n",
            " 0.70588235 0.70588235 0.64705882 0.73529412]\n",
            "Accuracy: 70.58% (6.77%)\n",
            "Execution Time: 3.43 seconds\n",
            "------------------------------\n"
          ]
        }
      ],
      "source": [
        "liver_scores = []\n",
        "liver_mean = []\n",
        "liver_std = []\n",
        "model_names = []\n",
        "execution_times = []\n",
        "\n",
        "for name, clf in zip(names, classifiers):\n",
        "  start_time = time.time()\n",
        "  results = cross_val_score(clf, X, y, cv=rkf)\n",
        "  end_time = time.time()\n",
        "\n",
        "  liver_scores.append(results)\n",
        "  liver_mean.append(results.mean()*100)\n",
        "  liver_std.append(results.std()*100)\n",
        "  model_names.append(name)\n",
        "  execution_time = end_time - start_time  \n",
        "  execution_times.append(execution_time)\n",
        "\n",
        "  print(f'--------- {name} on Liver Dataset ---------')\n",
        "  print(results)\n",
        "  print('Accuracy: %.2f%% (%.2f%%)' % (results.mean()*100, results.std()*100))\n",
        "  print(f'Execution Time: {execution_time:.2f} seconds')\n",
        "  print('------------------------------')"
      ]
    },
    {
      "cell_type": "code",
      "execution_count": 199,
      "metadata": {
        "colab": {
          "base_uri": "https://localhost:8080/"
        },
        "id": "RzaiNvbHSBqB",
        "outputId": "593a5a95-5a06-4c3e-8aeb-2be2391bb491"
      },
      "outputs": [
        {
          "data": {
            "text/plain": [
              "[72.25462184873949,\n",
              " 72.23613445378152,\n",
              " 74.40336134453781,\n",
              " 71.8016806722689,\n",
              " 70.57983193277309]"
            ]
          },
          "execution_count": 199,
          "metadata": {},
          "output_type": "execute_result"
        }
      ],
      "source": [
        "liver_mean"
      ]
    },
    {
      "cell_type": "code",
      "execution_count": 200,
      "metadata": {
        "colab": {
          "base_uri": "https://localhost:8080/"
        },
        "id": "BulSs8uLSElJ",
        "outputId": "6297bf5e-54a0-46b2-990b-1c2270249487"
      },
      "outputs": [
        {
          "data": {
            "text/plain": [
              "[7.026728304847883,\n",
              " 6.620418467299119,\n",
              " 6.450640429588332,\n",
              " 6.215299205426823,\n",
              " 6.773062326505143]"
            ]
          },
          "execution_count": 200,
          "metadata": {},
          "output_type": "execute_result"
        }
      ],
      "source": [
        "liver_std"
      ]
    },
    {
      "cell_type": "code",
      "execution_count": 201,
      "metadata": {
        "colab": {
          "base_uri": "https://localhost:8080/",
          "height": 478
        },
        "id": "oAfu6-n13pKR",
        "outputId": "0939b024-e4ac-4ef0-de05-d7e45289c64c"
      },
      "outputs": [
        {
          "data": {
            "image/png": "[encoded data removed]",
            "text/plain": [
              "<Figure size 640x480 with 1 Axes>"
            ]
          },
          "metadata": {},
          "output_type": "display_data"
        }
      ],
      "source": [
        "# algorithm comparison\n",
        "\n",
        "fig = plt.figure()\n",
        "fig.suptitle('Comparison between different Liver scores')\n",
        "ax = fig.add_subplot(111)\n",
        "plt.ylim(0.3, 1)\n",
        "plt.boxplot(liver_scores, showmeans=True)\n",
        "ax.set_xticklabels(model_names)\n",
        "plt.show()"
      ]
    },
    {
      "cell_type": "code",
      "execution_count": 202,
      "metadata": {
        "id": "Bj67LjWXSJ-e"
      },
      "outputs": [],
      "source": [
        "Algo_results['Liver'] = liver_mean"
      ]
    },
    {
      "cell_type": "code",
      "execution_count": 203,
      "metadata": {
        "colab": {
          "base_uri": "https://localhost:8080/"
        },
        "id": "3TSUzfSsoHS3",
        "outputId": "3be6002c-4ded-4f00-d407-b7c1280d8079"
      },
      "outputs": [
        {
          "data": {
            "text/html": [
              "<div>\n",
              "<style scoped>\n",
              "    .dataframe tbody tr th:only-of-type {\n",
              "        vertical-align: middle;\n",
              "    }\n",
              "\n",
              "    .dataframe tbody tr th {\n",
              "        vertical-align: top;\n",
              "    }\n",
              "\n",
              "    .dataframe thead th {\n",
              "        text-align: right;\n",
              "    }\n",
              "</style>\n",
              "<table border=\"1\" class=\"dataframe\">\n",
              "  <thead>\n",
              "    <tr style=\"text-align: right;\">\n",
              "      <th></th>\n",
              "      <th>Names</th>\n",
              "      <th>Wine</th>\n",
              "      <th>Breast_Cancer</th>\n",
              "      <th>Sonar</th>\n",
              "      <th>Ionosphere</th>\n",
              "      <th>Bupa</th>\n",
              "      <th>Pima</th>\n",
              "      <th>Heart</th>\n",
              "      <th>TicTacToe</th>\n",
              "      <th>Liver</th>\n",
              "    </tr>\n",
              "  </thead>\n",
              "  <tbody>\n",
              "    <tr>\n",
              "      <th>0</th>\n",
              "      <td>AdaBoost</td>\n",
              "      <td>89.830065</td>\n",
              "      <td>95.800512</td>\n",
              "      <td>83.188095</td>\n",
              "      <td>93.027778</td>\n",
              "      <td>72.254622</td>\n",
              "      <td>75.118592</td>\n",
              "      <td>79.814815</td>\n",
              "      <td>77.381469</td>\n",
              "      <td>72.254622</td>\n",
              "    </tr>\n",
              "    <tr>\n",
              "      <th>1</th>\n",
              "      <td>GradBoost</td>\n",
              "      <td>95.016340</td>\n",
              "      <td>96.500639</td>\n",
              "      <td>83.992857</td>\n",
              "      <td>92.972222</td>\n",
              "      <td>72.322689</td>\n",
              "      <td>76.236159</td>\n",
              "      <td>80.074074</td>\n",
              "      <td>92.078180</td>\n",
              "      <td>72.236134</td>\n",
              "    </tr>\n",
              "    <tr>\n",
              "      <th>2</th>\n",
              "      <td>CatBoost</td>\n",
              "      <td>97.977124</td>\n",
              "      <td>97.087170</td>\n",
              "      <td>87.152381</td>\n",
              "      <td>93.453175</td>\n",
              "      <td>74.403361</td>\n",
              "      <td>76.249316</td>\n",
              "      <td>81.888889</td>\n",
              "      <td>99.884868</td>\n",
              "      <td>74.403361</td>\n",
              "    </tr>\n",
              "    <tr>\n",
              "      <th>3</th>\n",
              "      <td>LightGBM</td>\n",
              "      <td>97.421569</td>\n",
              "      <td>96.632992</td>\n",
              "      <td>88.123810</td>\n",
              "      <td>93.706349</td>\n",
              "      <td>71.801681</td>\n",
              "      <td>73.985133</td>\n",
              "      <td>80.888889</td>\n",
              "      <td>99.112719</td>\n",
              "      <td>71.801681</td>\n",
              "    </tr>\n",
              "    <tr>\n",
              "      <th>4</th>\n",
              "      <td>XGBoost</td>\n",
              "      <td>96.676471</td>\n",
              "      <td>96.429028</td>\n",
              "      <td>85.007143</td>\n",
              "      <td>92.430159</td>\n",
              "      <td>70.579832</td>\n",
              "      <td>73.842447</td>\n",
              "      <td>80.370370</td>\n",
              "      <td>98.810307</td>\n",
              "      <td>70.579832</td>\n",
              "    </tr>\n",
              "  </tbody>\n",
              "</table>\n",
              "</div>"
            ],
            "text/plain": [
              "       Names       Wine  Breast_Cancer      Sonar  Ionosphere       Bupa  \\\n",
              "0   AdaBoost  89.830065      95.800512  83.188095   93.027778  72.254622   \n",
              "1  GradBoost  95.016340      96.500639  83.992857   92.972222  72.322689   \n",
              "2   CatBoost  97.977124      97.087170  87.152381   93.453175  74.403361   \n",
              "3   LightGBM  97.421569      96.632992  88.123810   93.706349  71.801681   \n",
              "4    XGBoost  96.676471      96.429028  85.007143   92.430159  70.579832   \n",
              "\n",
              "        Pima      Heart  TicTacToe      Liver  \n",
              "0  75.118592  79.814815  77.381469  72.254622  \n",
              "1  76.236159  80.074074  92.078180  72.236134  \n",
              "2  76.249316  81.888889  99.884868  74.403361  \n",
              "3  73.985133  80.888889  99.112719  71.801681  \n",
              "4  73.842447  80.370370  98.810307  70.579832  "
            ]
          },
          "execution_count": 203,
          "metadata": {},
          "output_type": "execute_result"
        }
      ],
      "source": [
        "Algo_results"
      ]
    },
    {
      "cell_type": "code",
      "execution_count": 204,
      "metadata": {
        "id": "tZqkWBmLr1tu"
      },
      "outputs": [],
      "source": [
        "Algo_results_tr = Algo_results.set_index('Names').T"
      ]
    },
    {
      "cell_type": "code",
      "execution_count": 205,
      "metadata": {
        "id": "SMnbVxHmvY2z"
      },
      "outputs": [],
      "source": [
        "Algo_results_tr.to_csv('E:\\Cursos\\MestradoCienciaComputação\\Seminario\\Datasets\\Algo_Results\\AlgoResults.csv', index=False)"
      ]
    },
    {
      "cell_type": "code",
      "execution_count": 206,
      "metadata": {
        "colab": {
          "base_uri": "https://localhost:8080/",
          "height": 331
        },
        "id": "4P4vCHsKxCss",
        "outputId": "794dedd4-6dea-4df3-fc40-0eec3714b3cb"
      },
      "outputs": [
        {
          "data": {
            "text/html": [
              "<div>\n",
              "<style scoped>\n",
              "    .dataframe tbody tr th:only-of-type {\n",
              "        vertical-align: middle;\n",
              "    }\n",
              "\n",
              "    .dataframe tbody tr th {\n",
              "        vertical-align: top;\n",
              "    }\n",
              "\n",
              "    .dataframe thead th {\n",
              "        text-align: right;\n",
              "    }\n",
              "</style>\n",
              "<table border=\"1\" class=\"dataframe\">\n",
              "  <thead>\n",
              "    <tr style=\"text-align: right;\">\n",
              "      <th>Names</th>\n",
              "      <th>AdaBoost</th>\n",
              "      <th>GradBoost</th>\n",
              "      <th>CatBoost</th>\n",
              "      <th>LightGBM</th>\n",
              "      <th>XGBoost</th>\n",
              "    </tr>\n",
              "  </thead>\n",
              "  <tbody>\n",
              "    <tr>\n",
              "      <th>Wine</th>\n",
              "      <td>89.830065</td>\n",
              "      <td>95.016340</td>\n",
              "      <td>97.977124</td>\n",
              "      <td>97.421569</td>\n",
              "      <td>96.676471</td>\n",
              "    </tr>\n",
              "    <tr>\n",
              "      <th>Breast_Cancer</th>\n",
              "      <td>95.800512</td>\n",
              "      <td>96.500639</td>\n",
              "      <td>97.087170</td>\n",
              "      <td>96.632992</td>\n",
              "      <td>96.429028</td>\n",
              "    </tr>\n",
              "    <tr>\n",
              "      <th>Sonar</th>\n",
              "      <td>83.188095</td>\n",
              "      <td>83.992857</td>\n",
              "      <td>87.152381</td>\n",
              "      <td>88.123810</td>\n",
              "      <td>85.007143</td>\n",
              "    </tr>\n",
              "    <tr>\n",
              "      <th>Ionosphere</th>\n",
              "      <td>93.027778</td>\n",
              "      <td>92.972222</td>\n",
              "      <td>93.453175</td>\n",
              "      <td>93.706349</td>\n",
              "      <td>92.430159</td>\n",
              "    </tr>\n",
              "    <tr>\n",
              "      <th>Bupa</th>\n",
              "      <td>72.254622</td>\n",
              "      <td>72.322689</td>\n",
              "      <td>74.403361</td>\n",
              "      <td>71.801681</td>\n",
              "      <td>70.579832</td>\n",
              "    </tr>\n",
              "    <tr>\n",
              "      <th>Pima</th>\n",
              "      <td>75.118592</td>\n",
              "      <td>76.236159</td>\n",
              "      <td>76.249316</td>\n",
              "      <td>73.985133</td>\n",
              "      <td>73.842447</td>\n",
              "    </tr>\n",
              "    <tr>\n",
              "      <th>Heart</th>\n",
              "      <td>79.814815</td>\n",
              "      <td>80.074074</td>\n",
              "      <td>81.888889</td>\n",
              "      <td>80.888889</td>\n",
              "      <td>80.370370</td>\n",
              "    </tr>\n",
              "    <tr>\n",
              "      <th>TicTacToe</th>\n",
              "      <td>77.381469</td>\n",
              "      <td>92.078180</td>\n",
              "      <td>99.884868</td>\n",
              "      <td>99.112719</td>\n",
              "      <td>98.810307</td>\n",
              "    </tr>\n",
              "    <tr>\n",
              "      <th>Liver</th>\n",
              "      <td>72.254622</td>\n",
              "      <td>72.236134</td>\n",
              "      <td>74.403361</td>\n",
              "      <td>71.801681</td>\n",
              "      <td>70.579832</td>\n",
              "    </tr>\n",
              "  </tbody>\n",
              "</table>\n",
              "</div>"
            ],
            "text/plain": [
              "Names           AdaBoost  GradBoost   CatBoost   LightGBM    XGBoost\n",
              "Wine           89.830065  95.016340  97.977124  97.421569  96.676471\n",
              "Breast_Cancer  95.800512  96.500639  97.087170  96.632992  96.429028\n",
              "Sonar          83.188095  83.992857  87.152381  88.123810  85.007143\n",
              "Ionosphere     93.027778  92.972222  93.453175  93.706349  92.430159\n",
              "Bupa           72.254622  72.322689  74.403361  71.801681  70.579832\n",
              "Pima           75.118592  76.236159  76.249316  73.985133  73.842447\n",
              "Heart          79.814815  80.074074  81.888889  80.888889  80.370370\n",
              "TicTacToe      77.381469  92.078180  99.884868  99.112719  98.810307\n",
              "Liver          72.254622  72.236134  74.403361  71.801681  70.579832"
            ]
          },
          "execution_count": 206,
          "metadata": {},
          "output_type": "execute_result"
        }
      ],
      "source": [
        "Algo_results_tr"
      ]
    },
    {
      "cell_type": "code",
      "execution_count": 207,
      "metadata": {},
      "outputs": [],
      "source": [
        "Algo_time_results['Liver'] = pd.Series(execution_times)"
      ]
    },
    {
      "cell_type": "code",
      "execution_count": 208,
      "metadata": {},
      "outputs": [
        {
          "data": {
            "text/html": [
              "<div>\n",
              "<style scoped>\n",
              "    .dataframe tbody tr th:only-of-type {\n",
              "        vertical-align: middle;\n",
              "    }\n",
              "\n",
              "    .dataframe tbody tr th {\n",
              "        vertical-align: top;\n",
              "    }\n",
              "\n",
              "    .dataframe thead th {\n",
              "        text-align: right;\n",
              "    }\n",
              "</style>\n",
              "<table border=\"1\" class=\"dataframe\">\n",
              "  <thead>\n",
              "    <tr style=\"text-align: right;\">\n",
              "      <th></th>\n",
              "      <th>Names</th>\n",
              "      <th>Wine</th>\n",
              "      <th>Breast_Cancer</th>\n",
              "      <th>Sonar</th>\n",
              "      <th>Ionosphere</th>\n",
              "      <th>Bupa</th>\n",
              "      <th>Pima</th>\n",
              "      <th>Heart</th>\n",
              "      <th>TicTacToe</th>\n",
              "      <th>Liver</th>\n",
              "    </tr>\n",
              "  </thead>\n",
              "  <tbody>\n",
              "    <tr>\n",
              "      <th>0</th>\n",
              "      <td>AdaBoost</td>\n",
              "      <td>8.091820</td>\n",
              "      <td>6.973568</td>\n",
              "      <td>17.283237</td>\n",
              "      <td>15.034794</td>\n",
              "      <td>6.663499</td>\n",
              "      <td>8.742967</td>\n",
              "      <td>6.660468</td>\n",
              "      <td>6.853541</td>\n",
              "      <td>6.357430</td>\n",
              "    </tr>\n",
              "    <tr>\n",
              "      <th>1</th>\n",
              "      <td>GradBoost</td>\n",
              "      <td>43.579652</td>\n",
              "      <td>8.729106</td>\n",
              "      <td>71.924225</td>\n",
              "      <td>54.862787</td>\n",
              "      <td>9.043034</td>\n",
              "      <td>18.745218</td>\n",
              "      <td>9.625604</td>\n",
              "      <td>8.492928</td>\n",
              "      <td>8.777976</td>\n",
              "    </tr>\n",
              "    <tr>\n",
              "      <th>2</th>\n",
              "      <td>CatBoost</td>\n",
              "      <td>181.492334</td>\n",
              "      <td>137.698660</td>\n",
              "      <td>390.407832</td>\n",
              "      <td>326.205667</td>\n",
              "      <td>135.738801</td>\n",
              "      <td>177.131458</td>\n",
              "      <td>151.832469</td>\n",
              "      <td>2289.089232</td>\n",
              "      <td>134.181895</td>\n",
              "    </tr>\n",
              "    <tr>\n",
              "      <th>3</th>\n",
              "      <td>LightGBM</td>\n",
              "      <td>5.008662</td>\n",
              "      <td>4.538977</td>\n",
              "      <td>2.366532</td>\n",
              "      <td>3.903878</td>\n",
              "      <td>2.291516</td>\n",
              "      <td>5.163160</td>\n",
              "      <td>2.779624</td>\n",
              "      <td>5.361206</td>\n",
              "      <td>2.359530</td>\n",
              "    </tr>\n",
              "    <tr>\n",
              "      <th>4</th>\n",
              "      <td>XGBoost</td>\n",
              "      <td>4.517017</td>\n",
              "      <td>3.296188</td>\n",
              "      <td>5.692282</td>\n",
              "      <td>4.981120</td>\n",
              "      <td>3.556800</td>\n",
              "      <td>5.744292</td>\n",
              "      <td>3.503789</td>\n",
              "      <td>5.979345</td>\n",
              "      <td>3.429776</td>\n",
              "    </tr>\n",
              "  </tbody>\n",
              "</table>\n",
              "</div>"
            ],
            "text/plain": [
              "       Names        Wine  Breast_Cancer       Sonar  Ionosphere        Bupa  \\\n",
              "0   AdaBoost    8.091820       6.973568   17.283237   15.034794    6.663499   \n",
              "1  GradBoost   43.579652       8.729106   71.924225   54.862787    9.043034   \n",
              "2   CatBoost  181.492334     137.698660  390.407832  326.205667  135.738801   \n",
              "3   LightGBM    5.008662       4.538977    2.366532    3.903878    2.291516   \n",
              "4    XGBoost    4.517017       3.296188    5.692282    4.981120    3.556800   \n",
              "\n",
              "         Pima       Heart    TicTacToe       Liver  \n",
              "0    8.742967    6.660468     6.853541    6.357430  \n",
              "1   18.745218    9.625604     8.492928    8.777976  \n",
              "2  177.131458  151.832469  2289.089232  134.181895  \n",
              "3    5.163160    2.779624     5.361206    2.359530  \n",
              "4    5.744292    3.503789     5.979345    3.429776  "
            ]
          },
          "execution_count": 208,
          "metadata": {},
          "output_type": "execute_result"
        }
      ],
      "source": [
        "Algo_time_results"
      ]
    },
    {
      "cell_type": "code",
      "execution_count": 209,
      "metadata": {},
      "outputs": [],
      "source": [
        "Algo_time_results_tr = Algo_results.set_index('Names').T"
      ]
    },
    {
      "cell_type": "code",
      "execution_count": 210,
      "metadata": {},
      "outputs": [],
      "source": [
        "Algo_time_results_tr.to_csv('E:\\Cursos\\MestradoCienciaComputação\\Seminario\\Datasets\\Algo_Results\\AlgoTimeResults.csv', index=False)"
      ]
    },
    {
      "cell_type": "markdown",
      "metadata": {
        "id": "tbGLU51qj2Pz"
      },
      "source": [
        "---"
      ]
    },
    {
      "cell_type": "markdown",
      "metadata": {
        "id": "su-CfOlHj7d2"
      },
      "source": [
        "# **Friedman's Test**"
      ]
    },
    {
      "cell_type": "markdown",
      "metadata": {
        "id": "pa59ipyPoLri"
      },
      "source": [
        "---"
      ]
    },
    {
      "cell_type": "code",
      "execution_count": 211,
      "metadata": {
        "id": "4rYO6n391rtL"
      },
      "outputs": [
        {
          "name": "stdout",
          "output_type": "stream",
          "text": [
            "Requirement already satisfied: scikit-posthocs in c:\\users\\erikc\\anaconda3\\envs\\algocomparison\\lib\\site-packages (0.7.0)\n",
            "Requirement already satisfied: numpy in c:\\users\\erikc\\anaconda3\\envs\\algocomparison\\lib\\site-packages (from scikit-posthocs) (1.25.2)\n",
            "Requirement already satisfied: scipy in c:\\users\\erikc\\anaconda3\\envs\\algocomparison\\lib\\site-packages (from scikit-posthocs) (1.11.2)\n",
            "Requirement already satisfied: statsmodels in c:\\users\\erikc\\anaconda3\\envs\\algocomparison\\lib\\site-packages (from scikit-posthocs) (0.14.0)\n",
            "Requirement already satisfied: pandas>=0.20.0 in c:\\users\\erikc\\anaconda3\\envs\\algocomparison\\lib\\site-packages (from scikit-posthocs) (2.1.0)\n",
            "Requirement already satisfied: seaborn in c:\\users\\erikc\\anaconda3\\envs\\algocomparison\\lib\\site-packages (from scikit-posthocs) (0.12.2)\n",
            "Requirement already satisfied: matplotlib in c:\\users\\erikc\\anaconda3\\envs\\algocomparison\\lib\\site-packages (from scikit-posthocs) (3.7.2)\n",
            "Requirement already satisfied: python-dateutil>=2.8.2 in c:\\users\\erikc\\anaconda3\\envs\\algocomparison\\lib\\site-packages (from pandas>=0.20.0->scikit-posthocs) (2.8.2)\n",
            "Requirement already satisfied: pytz>=2020.1 in c:\\users\\erikc\\anaconda3\\envs\\algocomparison\\lib\\site-packages (from pandas>=0.20.0->scikit-posthocs) (2023.3.post1)\n",
            "Requirement already satisfied: tzdata>=2022.1 in c:\\users\\erikc\\anaconda3\\envs\\algocomparison\\lib\\site-packages (from pandas>=0.20.0->scikit-posthocs) (2023.3)\n",
            "Requirement already satisfied: contourpy>=1.0.1 in c:\\users\\erikc\\anaconda3\\envs\\algocomparison\\lib\\site-packages (from matplotlib->scikit-posthocs) (1.1.0)\n",
            "Requirement already satisfied: cycler>=0.10 in c:\\users\\erikc\\anaconda3\\envs\\algocomparison\\lib\\site-packages (from matplotlib->scikit-posthocs) (0.11.0)\n",
            "Requirement already satisfied: fonttools>=4.22.0 in c:\\users\\erikc\\anaconda3\\envs\\algocomparison\\lib\\site-packages (from matplotlib->scikit-posthocs) (4.42.1)\n",
            "Requirement already satisfied: kiwisolver>=1.0.1 in c:\\users\\erikc\\anaconda3\\envs\\algocomparison\\lib\\site-packages (from matplotlib->scikit-posthocs) (1.4.5)\n",
            "Requirement already satisfied: packaging>=20.0 in c:\\users\\erikc\\anaconda3\\envs\\algocomparison\\lib\\site-packages (from matplotlib->scikit-posthocs) (23.1)\n",
            "Requirement already satisfied: pillow>=6.2.0 in c:\\users\\erikc\\anaconda3\\envs\\algocomparison\\lib\\site-packages (from matplotlib->scikit-posthocs) (10.0.0)\n",
            "Requirement already satisfied: pyparsing<3.1,>=2.3.1 in c:\\users\\erikc\\anaconda3\\envs\\algocomparison\\lib\\site-packages (from matplotlib->scikit-posthocs) (3.0.9)\n",
            "Requirement already satisfied: importlib-resources>=3.2.0 in c:\\users\\erikc\\anaconda3\\envs\\algocomparison\\lib\\site-packages (from matplotlib->scikit-posthocs) (6.0.1)\n",
            "Requirement already satisfied: patsy>=0.5.2 in c:\\users\\erikc\\anaconda3\\envs\\algocomparison\\lib\\site-packages (from statsmodels->scikit-posthocs) (0.5.3)\n",
            "Requirement already satisfied: zipp>=3.1.0 in c:\\users\\erikc\\anaconda3\\envs\\algocomparison\\lib\\site-packages (from importlib-resources>=3.2.0->matplotlib->scikit-posthocs) (3.16.2)\n",
            "Requirement already satisfied: six in c:\\users\\erikc\\anaconda3\\envs\\algocomparison\\lib\\site-packages (from patsy>=0.5.2->statsmodels->scikit-posthocs) (1.16.0)\n"
          ]
        }
      ],
      "source": [
        "!pip install scikit-posthocs"
      ]
    },
    {
      "cell_type": "code",
      "execution_count": 212,
      "metadata": {
        "id": "4VNr0Yir1i4K"
      },
      "outputs": [],
      "source": [
        "import scikit_posthocs as sp\n",
        "from scipy.stats import friedmanchisquare"
      ]
    },
    {
      "cell_type": "code",
      "execution_count": 213,
      "metadata": {
        "id": "cJxO315dpo9G"
      },
      "outputs": [],
      "source": [
        "Algo_results_tr = pd.read_csv('E:\\Cursos\\MestradoCienciaComputação\\Seminario\\Datasets\\Algo_Results\\AlgoResults.csv')"
      ]
    },
    {
      "cell_type": "code",
      "execution_count": 214,
      "metadata": {
        "colab": {
          "base_uri": "https://localhost:8080/",
          "height": 331
        },
        "id": "vUmCXG1FrkFk",
        "outputId": "c40fe0a7-75a1-4639-8c21-e3db7b01b110"
      },
      "outputs": [
        {
          "data": {
            "text/html": [
              "<div>\n",
              "<style scoped>\n",
              "    .dataframe tbody tr th:only-of-type {\n",
              "        vertical-align: middle;\n",
              "    }\n",
              "\n",
              "    .dataframe tbody tr th {\n",
              "        vertical-align: top;\n",
              "    }\n",
              "\n",
              "    .dataframe thead th {\n",
              "        text-align: right;\n",
              "    }\n",
              "</style>\n",
              "<table border=\"1\" class=\"dataframe\">\n",
              "  <thead>\n",
              "    <tr style=\"text-align: right;\">\n",
              "      <th></th>\n",
              "      <th>AdaBoost</th>\n",
              "      <th>GradBoost</th>\n",
              "      <th>CatBoost</th>\n",
              "      <th>LightGBM</th>\n",
              "      <th>XGBoost</th>\n",
              "    </tr>\n",
              "  </thead>\n",
              "  <tbody>\n",
              "    <tr>\n",
              "      <th>0</th>\n",
              "      <td>89.830065</td>\n",
              "      <td>95.016340</td>\n",
              "      <td>97.977124</td>\n",
              "      <td>97.421569</td>\n",
              "      <td>96.676471</td>\n",
              "    </tr>\n",
              "    <tr>\n",
              "      <th>1</th>\n",
              "      <td>95.800512</td>\n",
              "      <td>96.500639</td>\n",
              "      <td>97.087170</td>\n",
              "      <td>96.632992</td>\n",
              "      <td>96.429028</td>\n",
              "    </tr>\n",
              "    <tr>\n",
              "      <th>2</th>\n",
              "      <td>83.188095</td>\n",
              "      <td>83.992857</td>\n",
              "      <td>87.152381</td>\n",
              "      <td>88.123810</td>\n",
              "      <td>85.007143</td>\n",
              "    </tr>\n",
              "    <tr>\n",
              "      <th>3</th>\n",
              "      <td>93.027778</td>\n",
              "      <td>92.972222</td>\n",
              "      <td>93.453175</td>\n",
              "      <td>93.706349</td>\n",
              "      <td>92.430159</td>\n",
              "    </tr>\n",
              "    <tr>\n",
              "      <th>4</th>\n",
              "      <td>72.254622</td>\n",
              "      <td>72.322689</td>\n",
              "      <td>74.403361</td>\n",
              "      <td>71.801681</td>\n",
              "      <td>70.579832</td>\n",
              "    </tr>\n",
              "    <tr>\n",
              "      <th>5</th>\n",
              "      <td>75.118592</td>\n",
              "      <td>76.236159</td>\n",
              "      <td>76.249316</td>\n",
              "      <td>73.985133</td>\n",
              "      <td>73.842447</td>\n",
              "    </tr>\n",
              "    <tr>\n",
              "      <th>6</th>\n",
              "      <td>79.814815</td>\n",
              "      <td>80.074074</td>\n",
              "      <td>81.888889</td>\n",
              "      <td>80.888889</td>\n",
              "      <td>80.370370</td>\n",
              "    </tr>\n",
              "    <tr>\n",
              "      <th>7</th>\n",
              "      <td>77.381469</td>\n",
              "      <td>92.078180</td>\n",
              "      <td>99.884868</td>\n",
              "      <td>99.112719</td>\n",
              "      <td>98.810307</td>\n",
              "    </tr>\n",
              "    <tr>\n",
              "      <th>8</th>\n",
              "      <td>72.254622</td>\n",
              "      <td>72.236134</td>\n",
              "      <td>74.403361</td>\n",
              "      <td>71.801681</td>\n",
              "      <td>70.579832</td>\n",
              "    </tr>\n",
              "  </tbody>\n",
              "</table>\n",
              "</div>"
            ],
            "text/plain": [
              "    AdaBoost  GradBoost   CatBoost   LightGBM    XGBoost\n",
              "0  89.830065  95.016340  97.977124  97.421569  96.676471\n",
              "1  95.800512  96.500639  97.087170  96.632992  96.429028\n",
              "2  83.188095  83.992857  87.152381  88.123810  85.007143\n",
              "3  93.027778  92.972222  93.453175  93.706349  92.430159\n",
              "4  72.254622  72.322689  74.403361  71.801681  70.579832\n",
              "5  75.118592  76.236159  76.249316  73.985133  73.842447\n",
              "6  79.814815  80.074074  81.888889  80.888889  80.370370\n",
              "7  77.381469  92.078180  99.884868  99.112719  98.810307\n",
              "8  72.254622  72.236134  74.403361  71.801681  70.579832"
            ]
          },
          "execution_count": 214,
          "metadata": {},
          "output_type": "execute_result"
        }
      ],
      "source": [
        "Algo_results_tr"
      ]
    },
    {
      "cell_type": "code",
      "execution_count": 215,
      "metadata": {
        "id": "wUqD-hCsj3In"
      },
      "outputs": [],
      "source": [
        "stat, p_value = friedmanchisquare(Algo_results_tr['AdaBoost'], Algo_results_tr['GradBoost'], Algo_results_tr['CatBoost'], Algo_results_tr['LightGBM'], Algo_results_tr['XGBoost'])"
      ]
    },
    {
      "cell_type": "code",
      "execution_count": 216,
      "metadata": {
        "colab": {
          "base_uri": "https://localhost:8080/"
        },
        "id": "JfHUN2tlxVTY",
        "outputId": "0262bbe9-c85a-45cd-af02-d53e4077a137"
      },
      "outputs": [
        {
          "data": {
            "text/plain": [
              "0.0004796197727294332"
            ]
          },
          "execution_count": 216,
          "metadata": {},
          "output_type": "execute_result"
        }
      ],
      "source": [
        "p_value"
      ]
    },
    {
      "cell_type": "code",
      "execution_count": 217,
      "metadata": {
        "colab": {
          "base_uri": "https://localhost:8080/"
        },
        "id": "reprvZdFuqyR",
        "outputId": "57a09eb9-193a-4bb2-b920-2f3aa9ecba96"
      },
      "outputs": [
        {
          "name": "stdout",
          "output_type": "stream",
          "text": [
            "There are significant differences among the models.\n"
          ]
        }
      ],
      "source": [
        "alpha = 0.05\n",
        "if p_value < alpha:\n",
        "    print('There are significant differences among the models.')\n",
        "else:\n",
        "    print('There are no significant differences among the models.')"
      ]
    },
    {
      "cell_type": "markdown",
      "metadata": {
        "id": "PhdzNCb-x2I9"
      },
      "source": [
        "---"
      ]
    },
    {
      "cell_type": "markdown",
      "metadata": {
        "id": "FjYBbvR7yAQl"
      },
      "source": [
        "# **Nemenyi test**"
      ]
    },
    {
      "cell_type": "markdown",
      "metadata": {
        "id": "uXIQ9unSyDtG"
      },
      "source": [
        "---"
      ]
    },
    {
      "cell_type": "code",
      "execution_count": 218,
      "metadata": {
        "id": "TXAePdgP6bsk"
      },
      "outputs": [],
      "source": [
        "nemenyi_results = sp.posthoc_nemenyi_friedman(a=Algo_results_tr)"
      ]
    },
    {
      "cell_type": "code",
      "execution_count": 219,
      "metadata": {
        "colab": {
          "base_uri": "https://localhost:8080/"
        },
        "id": "5RR8Z-7K0qtg",
        "outputId": "30a986df-bd5a-4f68-92aa-782bf419f936"
      },
      "outputs": [
        {
          "data": {
            "text/html": [
              "<div>\n",
              "<style scoped>\n",
              "    .dataframe tbody tr th:only-of-type {\n",
              "        vertical-align: middle;\n",
              "    }\n",
              "\n",
              "    .dataframe tbody tr th {\n",
              "        vertical-align: top;\n",
              "    }\n",
              "\n",
              "    .dataframe thead th {\n",
              "        text-align: right;\n",
              "    }\n",
              "</style>\n",
              "<table border=\"1\" class=\"dataframe\">\n",
              "  <thead>\n",
              "    <tr style=\"text-align: right;\">\n",
              "      <th></th>\n",
              "      <th>AdaBoost</th>\n",
              "      <th>GradBoost</th>\n",
              "      <th>CatBoost</th>\n",
              "      <th>LightGBM</th>\n",
              "      <th>XGBoost</th>\n",
              "    </tr>\n",
              "  </thead>\n",
              "  <tbody>\n",
              "    <tr>\n",
              "      <th>AdaBoost</th>\n",
              "      <td>1.000000</td>\n",
              "      <td>0.897740</td>\n",
              "      <td>0.001816</td>\n",
              "      <td>0.225673</td>\n",
              "      <td>0.900000</td>\n",
              "    </tr>\n",
              "    <tr>\n",
              "      <th>GradBoost</th>\n",
              "      <td>0.897740</td>\n",
              "      <td>1.000000</td>\n",
              "      <td>0.037299</td>\n",
              "      <td>0.728536</td>\n",
              "      <td>0.897740</td>\n",
              "    </tr>\n",
              "    <tr>\n",
              "      <th>CatBoost</th>\n",
              "      <td>0.001816</td>\n",
              "      <td>0.037299</td>\n",
              "      <td>1.000000</td>\n",
              "      <td>0.472825</td>\n",
              "      <td>0.001816</td>\n",
              "    </tr>\n",
              "    <tr>\n",
              "      <th>LightGBM</th>\n",
              "      <td>0.225673</td>\n",
              "      <td>0.728536</td>\n",
              "      <td>0.472825</td>\n",
              "      <td>1.000000</td>\n",
              "      <td>0.225673</td>\n",
              "    </tr>\n",
              "    <tr>\n",
              "      <th>XGBoost</th>\n",
              "      <td>0.900000</td>\n",
              "      <td>0.897740</td>\n",
              "      <td>0.001816</td>\n",
              "      <td>0.225673</td>\n",
              "      <td>1.000000</td>\n",
              "    </tr>\n",
              "  </tbody>\n",
              "</table>\n",
              "</div>"
            ],
            "text/plain": [
              "           AdaBoost  GradBoost  CatBoost  LightGBM   XGBoost\n",
              "AdaBoost   1.000000   0.897740  0.001816  0.225673  0.900000\n",
              "GradBoost  0.897740   1.000000  0.037299  0.728536  0.897740\n",
              "CatBoost   0.001816   0.037299  1.000000  0.472825  0.001816\n",
              "LightGBM   0.225673   0.728536  0.472825  1.000000  0.225673\n",
              "XGBoost    0.900000   0.897740  0.001816  0.225673  1.000000"
            ]
          },
          "execution_count": 219,
          "metadata": {},
          "output_type": "execute_result"
        }
      ],
      "source": [
        "nemenyi_results"
      ]
    },
    {
      "cell_type": "code",
      "execution_count": 220,
      "metadata": {
        "colab": {
          "base_uri": "https://localhost:8080/"
        },
        "id": "I0FsDJGc3i3Y",
        "outputId": "d4bb5c80-862f-43de-8f04-0ad622ff40c6"
      },
      "outputs": [
        {
          "name": "stdout",
          "output_type": "stream",
          "text": [
            "Models 1 and 2 are not significantly different (p-value = 0.8977).\n",
            "Models 1 and 3 are significantly different (p-value = 0.0018).\n",
            "Models 1 and 4 are not significantly different (p-value = 0.2257).\n",
            "Models 1 and 5 are not significantly different (p-value = 0.9000).\n",
            "Models 2 and 3 are significantly different (p-value = 0.0373).\n",
            "Models 2 and 4 are not significantly different (p-value = 0.7285).\n",
            "Models 2 and 5 are not significantly different (p-value = 0.8977).\n",
            "Models 3 and 4 are not significantly different (p-value = 0.4728).\n",
            "Models 3 and 5 are significantly different (p-value = 0.0018).\n",
            "Models 4 and 5 are not significantly different (p-value = 0.2257).\n"
          ]
        }
      ],
      "source": [
        "alpha = 0.05\n",
        "\n",
        "# Print p-values for all pairs of models\n",
        "for i in range(nemenyi_results.shape[0]):\n",
        "    for j in range(i + 1, nemenyi_results.shape[1]):\n",
        "        model1 = i + 1\n",
        "        model2 = j + 1\n",
        "        p_value = nemenyi_results.iloc[i, j]\n",
        "\n",
        "        if p_value < alpha:\n",
        "            print(f\"Models {model1} and {model2} are significantly different (p-value = {p_value:.4f}).\")\n",
        "        else:\n",
        "            print(f\"Models {model1} and {model2} are not significantly different (p-value = {p_value:.4f}).\")"
      ]
    }
  ],
  "metadata": {
    "colab": {
      "authorship_tag": "ABX9TyNw5jN1UyORU/7hmxtr5wR2",
      "include_colab_link": true,
      "provenance": []
    },
    "kernelspec": {
      "display_name": "Python 3",
      "name": "python3"
    },
    "language_info": {
      "codemirror_mode": {
        "name": "ipython",
        "version": 3
      },
      "file_extension": ".py",
      "mimetype": "text/x-python",
      "name": "python",
      "nbconvert_exporter": "python",
      "pygments_lexer": "ipython3",
      "version": "3.9.17"
    }
  },
  "nbformat": 4,
  "nbformat_minor": 0
}
