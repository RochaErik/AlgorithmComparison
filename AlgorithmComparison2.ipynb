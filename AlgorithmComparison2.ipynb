{
  "cells": [
    {
      "cell_type": "markdown",
      "metadata": {
        "colab_type": "text",
        "id": "view-in-github"
      },
      "source": [
        "<a href=\"https://colab.research.google.com/github/RochaErik/AlgorithmComparison/blob/main/AlgorithmComparison2.ipynb\" target=\"_parent\"><img src=\"https://colab.research.google.com/assets/colab-badge.svg\" alt=\"Open In Colab\"/></a>"
      ]
    },
    {
      "cell_type": "markdown",
      "metadata": {
        "id": "jaRIhXfW5aNR"
      },
      "source": [
        "# **Balanced Datasets (Stratified)**"
      ]
    },
    {
      "cell_type": "markdown",
      "metadata": {
        "id": "FEa9KPJG5WLJ"
      },
      "source": [
        "---"
      ]
    },
    {
      "cell_type": "markdown",
      "metadata": {
        "id": "MGOBnpE17sH7"
      },
      "source": [
        "\"A 10-fold cross-validation, in particular, the most commonly used error-estimation method in machine learning, can easily break down in the case of class imbalances, even if the skew is less extreme than the one previously considered.\"\n",
        "\n",
        "— Page 188, Imbalanced Learning: Foundations, Algorithms, and Applications, 2013.\n",
        "\n",
        "from: https://machinelearningmastery.com/cross-validation-for-imbalanced-classification/"
      ]
    },
    {
      "cell_type": "markdown",
      "metadata": {
        "id": "iPiqiLL4vT5O"
      },
      "source": [
        "---"
      ]
    },
    {
      "cell_type": "code",
      "execution_count": 80,
      "metadata": {
        "id": "mkm9Q-B5qVXz"
      },
      "outputs": [
        {
          "name": "stdout",
          "output_type": "stream",
          "text": [
            "Requirement already satisfied: catboost in c:\\users\\erikc\\anaconda3\\envs\\algocomparison\\lib\\site-packages (1.2.1)\n",
            "Requirement already satisfied: graphviz in c:\\users\\erikc\\anaconda3\\envs\\algocomparison\\lib\\site-packages (from catboost) (0.20.1)\n",
            "Requirement already satisfied: matplotlib in c:\\users\\erikc\\anaconda3\\envs\\algocomparison\\lib\\site-packages (from catboost) (3.7.2)\n",
            "Requirement already satisfied: numpy>=1.16.0 in c:\\users\\erikc\\anaconda3\\envs\\algocomparison\\lib\\site-packages (from catboost) (1.25.2)\n",
            "Requirement already satisfied: pandas>=0.24 in c:\\users\\erikc\\anaconda3\\envs\\algocomparison\\lib\\site-packages (from catboost) (2.1.0)\n",
            "Requirement already satisfied: scipy in c:\\users\\erikc\\anaconda3\\envs\\algocomparison\\lib\\site-packages (from catboost) (1.11.2)\n",
            "Requirement already satisfied: plotly in c:\\users\\erikc\\anaconda3\\envs\\algocomparison\\lib\\site-packages (from catboost) (5.16.1)\n",
            "Requirement already satisfied: six in c:\\users\\erikc\\anaconda3\\envs\\algocomparison\\lib\\site-packages (from catboost) (1.16.0)\n",
            "Requirement already satisfied: python-dateutil>=2.8.2 in c:\\users\\erikc\\anaconda3\\envs\\algocomparison\\lib\\site-packages (from pandas>=0.24->catboost) (2.8.2)\n",
            "Requirement already satisfied: pytz>=2020.1 in c:\\users\\erikc\\anaconda3\\envs\\algocomparison\\lib\\site-packages (from pandas>=0.24->catboost) (2023.3.post1)\n",
            "Requirement already satisfied: tzdata>=2022.1 in c:\\users\\erikc\\anaconda3\\envs\\algocomparison\\lib\\site-packages (from pandas>=0.24->catboost) (2023.3)\n",
            "Requirement already satisfied: contourpy>=1.0.1 in c:\\users\\erikc\\anaconda3\\envs\\algocomparison\\lib\\site-packages (from matplotlib->catboost) (1.1.0)\n",
            "Requirement already satisfied: cycler>=0.10 in c:\\users\\erikc\\anaconda3\\envs\\algocomparison\\lib\\site-packages (from matplotlib->catboost) (0.11.0)\n",
            "Requirement already satisfied: fonttools>=4.22.0 in c:\\users\\erikc\\anaconda3\\envs\\algocomparison\\lib\\site-packages (from matplotlib->catboost) (4.42.1)\n",
            "Requirement already satisfied: kiwisolver>=1.0.1 in c:\\users\\erikc\\anaconda3\\envs\\algocomparison\\lib\\site-packages (from matplotlib->catboost) (1.4.5)\n",
            "Requirement already satisfied: packaging>=20.0 in c:\\users\\erikc\\anaconda3\\envs\\algocomparison\\lib\\site-packages (from matplotlib->catboost) (23.1)\n",
            "Requirement already satisfied: pillow>=6.2.0 in c:\\users\\erikc\\anaconda3\\envs\\algocomparison\\lib\\site-packages (from matplotlib->catboost) (10.0.0)\n",
            "Requirement already satisfied: pyparsing<3.1,>=2.3.1 in c:\\users\\erikc\\anaconda3\\envs\\algocomparison\\lib\\site-packages (from matplotlib->catboost) (3.0.9)\n",
            "Requirement already satisfied: importlib-resources>=3.2.0 in c:\\users\\erikc\\anaconda3\\envs\\algocomparison\\lib\\site-packages (from matplotlib->catboost) (6.0.1)\n",
            "Requirement already satisfied: tenacity>=6.2.0 in c:\\users\\erikc\\anaconda3\\envs\\algocomparison\\lib\\site-packages (from plotly->catboost) (8.2.3)\n",
            "Requirement already satisfied: zipp>=3.1.0 in c:\\users\\erikc\\anaconda3\\envs\\algocomparison\\lib\\site-packages (from importlib-resources>=3.2.0->matplotlib->catboost) (3.16.2)\n",
            "Requirement already satisfied: lightgbm in c:\\users\\erikc\\anaconda3\\envs\\algocomparison\\lib\\site-packages (4.0.0)\n",
            "Requirement already satisfied: numpy in c:\\users\\erikc\\anaconda3\\envs\\algocomparison\\lib\\site-packages (from lightgbm) (1.25.2)\n",
            "Requirement already satisfied: scipy in c:\\users\\erikc\\anaconda3\\envs\\algocomparison\\lib\\site-packages (from lightgbm) (1.11.2)\n"
          ]
        },
        {
          "name": "stdout",
          "output_type": "stream",
          "text": [
            "Requirement already satisfied: xgboost in c:\\users\\erikc\\anaconda3\\envs\\algocomparison\\lib\\site-packages (1.7.6)\n",
            "Requirement already satisfied: numpy in c:\\users\\erikc\\anaconda3\\envs\\algocomparison\\lib\\site-packages (from xgboost) (1.25.2)\n",
            "Requirement already satisfied: scipy in c:\\users\\erikc\\anaconda3\\envs\\algocomparison\\lib\\site-packages (from xgboost) (1.11.2)\n"
          ]
        }
      ],
      "source": [
        "!pip install catboost\n",
        "!pip install lightgbm\n",
        "!pip install xgboost"
      ]
    },
    {
      "cell_type": "code",
      "execution_count": 2,
      "metadata": {
        "id": "UEr-vQtsqTPa"
      },
      "outputs": [],
      "source": [
        "import numpy as np\n",
        "import pandas as pd\n",
        "import matplotlib.pyplot as plt\n",
        "import seaborn as sns\n",
        "import time\n",
        "\n",
        "from sklearn import metrics\n",
        "from sklearn.preprocessing import LabelEncoder\n",
        "from sklearn.model_selection import train_test_split\n",
        "from sklearn.model_selection import RepeatedStratifiedKFold\n",
        "from sklearn.model_selection import cross_val_score\n",
        "from sklearn.ensemble import AdaBoostClassifier\n",
        "from sklearn.ensemble import GradientBoostingClassifier\n",
        "from catboost import CatBoostClassifier\n",
        "from lightgbm import LGBMClassifier\n",
        "from xgboost import XGBClassifier\n",
        "\n",
        "import warnings\n",
        "warnings.filterwarnings(\"ignore\", category=FutureWarning, module=\"xgboost\")"
      ]
    },
    {
      "cell_type": "markdown",
      "metadata": {
        "id": "5oEmIweAvVYX"
      },
      "source": [
        "# **Wine Dataset**"
      ]
    },
    {
      "cell_type": "markdown",
      "metadata": {
        "id": "uAwrj8CqvZxf"
      },
      "source": [
        "---"
      ]
    },
    {
      "cell_type": "code",
      "execution_count": 82,
      "metadata": {
        "id": "qAsciyGL5SZ_"
      },
      "outputs": [],
      "source": [
        "wine_df = pd.read_csv('E:\\Cursos\\MestradoCienciaComputação\\Seminario\\Datasets\\Wine\\wine.data', header=None)"
      ]
    },
    {
      "cell_type": "code",
      "execution_count": 83,
      "metadata": {
        "colab": {
          "base_uri": "https://localhost:8080/",
          "height": 206
        },
        "id": "paElZnWG5SaF",
        "outputId": "f2441d80-bcf5-44a0-b044-bab9b9d18bc5"
      },
      "outputs": [
        {
          "data": {
            "text/html": [
              "<div>\n",
              "<style scoped>\n",
              "    .dataframe tbody tr th:only-of-type {\n",
              "        vertical-align: middle;\n",
              "    }\n",
              "\n",
              "    .dataframe tbody tr th {\n",
              "        vertical-align: top;\n",
              "    }\n",
              "\n",
              "    .dataframe thead th {\n",
              "        text-align: right;\n",
              "    }\n",
              "</style>\n",
              "<table border=\"1\" class=\"dataframe\">\n",
              "  <thead>\n",
              "    <tr style=\"text-align: right;\">\n",
              "      <th></th>\n",
              "      <th>0</th>\n",
              "      <th>1</th>\n",
              "      <th>2</th>\n",
              "      <th>3</th>\n",
              "      <th>4</th>\n",
              "      <th>5</th>\n",
              "      <th>6</th>\n",
              "      <th>7</th>\n",
              "      <th>8</th>\n",
              "      <th>9</th>\n",
              "      <th>10</th>\n",
              "      <th>11</th>\n",
              "      <th>12</th>\n",
              "      <th>13</th>\n",
              "    </tr>\n",
              "  </thead>\n",
              "  <tbody>\n",
              "    <tr>\n",
              "      <th>0</th>\n",
              "      <td>1</td>\n",
              "      <td>14.23</td>\n",
              "      <td>1.71</td>\n",
              "      <td>2.43</td>\n",
              "      <td>15.6</td>\n",
              "      <td>127</td>\n",
              "      <td>2.80</td>\n",
              "      <td>3.06</td>\n",
              "      <td>0.28</td>\n",
              "      <td>2.29</td>\n",
              "      <td>5.64</td>\n",
              "      <td>1.04</td>\n",
              "      <td>3.92</td>\n",
              "      <td>1065</td>\n",
              "    </tr>\n",
              "    <tr>\n",
              "      <th>1</th>\n",
              "      <td>1</td>\n",
              "      <td>13.20</td>\n",
              "      <td>1.78</td>\n",
              "      <td>2.14</td>\n",
              "      <td>11.2</td>\n",
              "      <td>100</td>\n",
              "      <td>2.65</td>\n",
              "      <td>2.76</td>\n",
              "      <td>0.26</td>\n",
              "      <td>1.28</td>\n",
              "      <td>4.38</td>\n",
              "      <td>1.05</td>\n",
              "      <td>3.40</td>\n",
              "      <td>1050</td>\n",
              "    </tr>\n",
              "    <tr>\n",
              "      <th>2</th>\n",
              "      <td>1</td>\n",
              "      <td>13.16</td>\n",
              "      <td>2.36</td>\n",
              "      <td>2.67</td>\n",
              "      <td>18.6</td>\n",
              "      <td>101</td>\n",
              "      <td>2.80</td>\n",
              "      <td>3.24</td>\n",
              "      <td>0.30</td>\n",
              "      <td>2.81</td>\n",
              "      <td>5.68</td>\n",
              "      <td>1.03</td>\n",
              "      <td>3.17</td>\n",
              "      <td>1185</td>\n",
              "    </tr>\n",
              "    <tr>\n",
              "      <th>3</th>\n",
              "      <td>1</td>\n",
              "      <td>14.37</td>\n",
              "      <td>1.95</td>\n",
              "      <td>2.50</td>\n",
              "      <td>16.8</td>\n",
              "      <td>113</td>\n",
              "      <td>3.85</td>\n",
              "      <td>3.49</td>\n",
              "      <td>0.24</td>\n",
              "      <td>2.18</td>\n",
              "      <td>7.80</td>\n",
              "      <td>0.86</td>\n",
              "      <td>3.45</td>\n",
              "      <td>1480</td>\n",
              "    </tr>\n",
              "    <tr>\n",
              "      <th>4</th>\n",
              "      <td>1</td>\n",
              "      <td>13.24</td>\n",
              "      <td>2.59</td>\n",
              "      <td>2.87</td>\n",
              "      <td>21.0</td>\n",
              "      <td>118</td>\n",
              "      <td>2.80</td>\n",
              "      <td>2.69</td>\n",
              "      <td>0.39</td>\n",
              "      <td>1.82</td>\n",
              "      <td>4.32</td>\n",
              "      <td>1.04</td>\n",
              "      <td>2.93</td>\n",
              "      <td>735</td>\n",
              "    </tr>\n",
              "  </tbody>\n",
              "</table>\n",
              "</div>"
            ],
            "text/plain": [
              "   0      1     2     3     4    5     6     7     8     9     10    11    12  \\\n",
              "0   1  14.23  1.71  2.43  15.6  127  2.80  3.06  0.28  2.29  5.64  1.04  3.92   \n",
              "1   1  13.20  1.78  2.14  11.2  100  2.65  2.76  0.26  1.28  4.38  1.05  3.40   \n",
              "2   1  13.16  2.36  2.67  18.6  101  2.80  3.24  0.30  2.81  5.68  1.03  3.17   \n",
              "3   1  14.37  1.95  2.50  16.8  113  3.85  3.49  0.24  2.18  7.80  0.86  3.45   \n",
              "4   1  13.24  2.59  2.87  21.0  118  2.80  2.69  0.39  1.82  4.32  1.04  2.93   \n",
              "\n",
              "     13  \n",
              "0  1065  \n",
              "1  1050  \n",
              "2  1185  \n",
              "3  1480  \n",
              "4   735  "
            ]
          },
          "execution_count": 83,
          "metadata": {},
          "output_type": "execute_result"
        }
      ],
      "source": [
        "wine_df.head()"
      ]
    },
    {
      "cell_type": "code",
      "execution_count": 84,
      "metadata": {
        "colab": {
          "base_uri": "https://localhost:8080/"
        },
        "id": "9d7rnOl25SaG",
        "outputId": "c136822d-7399-4a1e-8ddd-e217f55cc8ce"
      },
      "outputs": [
        {
          "data": {
            "text/plain": [
              "(178, 14)"
            ]
          },
          "execution_count": 84,
          "metadata": {},
          "output_type": "execute_result"
        }
      ],
      "source": [
        "wine_df.shape"
      ]
    },
    {
      "cell_type": "code",
      "execution_count": 85,
      "metadata": {
        "colab": {
          "base_uri": "https://localhost:8080/"
        },
        "id": "WNSjxlsO5SaG",
        "outputId": "6d15f609-874a-43bf-e11d-826eadf19bb6"
      },
      "outputs": [
        {
          "data": {
            "text/plain": [
              "0\n",
              "2    71\n",
              "1    59\n",
              "3    48\n",
              "Name: count, dtype: int64"
            ]
          },
          "execution_count": 85,
          "metadata": {},
          "output_type": "execute_result"
        }
      ],
      "source": [
        "# Unbalanced dataset\n",
        "\n",
        "wine_df[0].value_counts()"
      ]
    },
    {
      "cell_type": "code",
      "execution_count": 86,
      "metadata": {
        "id": "C5Rle4oa5SaG"
      },
      "outputs": [],
      "source": [
        "X = wine_df.iloc[:, 1:]\n",
        "y = wine_df.iloc[:, 0]"
      ]
    },
    {
      "cell_type": "code",
      "execution_count": 87,
      "metadata": {
        "colab": {
          "base_uri": "https://localhost:8080/",
          "height": 206
        },
        "id": "SvRgmKHF5SaG",
        "outputId": "2c763d28-c736-4d33-c084-89a3ba7537b0"
      },
      "outputs": [
        {
          "data": {
            "text/html": [
              "<div>\n",
              "<style scoped>\n",
              "    .dataframe tbody tr th:only-of-type {\n",
              "        vertical-align: middle;\n",
              "    }\n",
              "\n",
              "    .dataframe tbody tr th {\n",
              "        vertical-align: top;\n",
              "    }\n",
              "\n",
              "    .dataframe thead th {\n",
              "        text-align: right;\n",
              "    }\n",
              "</style>\n",
              "<table border=\"1\" class=\"dataframe\">\n",
              "  <thead>\n",
              "    <tr style=\"text-align: right;\">\n",
              "      <th></th>\n",
              "      <th>1</th>\n",
              "      <th>2</th>\n",
              "      <th>3</th>\n",
              "      <th>4</th>\n",
              "      <th>5</th>\n",
              "      <th>6</th>\n",
              "      <th>7</th>\n",
              "      <th>8</th>\n",
              "      <th>9</th>\n",
              "      <th>10</th>\n",
              "      <th>11</th>\n",
              "      <th>12</th>\n",
              "      <th>13</th>\n",
              "    </tr>\n",
              "  </thead>\n",
              "  <tbody>\n",
              "    <tr>\n",
              "      <th>0</th>\n",
              "      <td>14.23</td>\n",
              "      <td>1.71</td>\n",
              "      <td>2.43</td>\n",
              "      <td>15.6</td>\n",
              "      <td>127</td>\n",
              "      <td>2.80</td>\n",
              "      <td>3.06</td>\n",
              "      <td>0.28</td>\n",
              "      <td>2.29</td>\n",
              "      <td>5.64</td>\n",
              "      <td>1.04</td>\n",
              "      <td>3.92</td>\n",
              "      <td>1065</td>\n",
              "    </tr>\n",
              "    <tr>\n",
              "      <th>1</th>\n",
              "      <td>13.20</td>\n",
              "      <td>1.78</td>\n",
              "      <td>2.14</td>\n",
              "      <td>11.2</td>\n",
              "      <td>100</td>\n",
              "      <td>2.65</td>\n",
              "      <td>2.76</td>\n",
              "      <td>0.26</td>\n",
              "      <td>1.28</td>\n",
              "      <td>4.38</td>\n",
              "      <td>1.05</td>\n",
              "      <td>3.40</td>\n",
              "      <td>1050</td>\n",
              "    </tr>\n",
              "    <tr>\n",
              "      <th>2</th>\n",
              "      <td>13.16</td>\n",
              "      <td>2.36</td>\n",
              "      <td>2.67</td>\n",
              "      <td>18.6</td>\n",
              "      <td>101</td>\n",
              "      <td>2.80</td>\n",
              "      <td>3.24</td>\n",
              "      <td>0.30</td>\n",
              "      <td>2.81</td>\n",
              "      <td>5.68</td>\n",
              "      <td>1.03</td>\n",
              "      <td>3.17</td>\n",
              "      <td>1185</td>\n",
              "    </tr>\n",
              "    <tr>\n",
              "      <th>3</th>\n",
              "      <td>14.37</td>\n",
              "      <td>1.95</td>\n",
              "      <td>2.50</td>\n",
              "      <td>16.8</td>\n",
              "      <td>113</td>\n",
              "      <td>3.85</td>\n",
              "      <td>3.49</td>\n",
              "      <td>0.24</td>\n",
              "      <td>2.18</td>\n",
              "      <td>7.80</td>\n",
              "      <td>0.86</td>\n",
              "      <td>3.45</td>\n",
              "      <td>1480</td>\n",
              "    </tr>\n",
              "    <tr>\n",
              "      <th>4</th>\n",
              "      <td>13.24</td>\n",
              "      <td>2.59</td>\n",
              "      <td>2.87</td>\n",
              "      <td>21.0</td>\n",
              "      <td>118</td>\n",
              "      <td>2.80</td>\n",
              "      <td>2.69</td>\n",
              "      <td>0.39</td>\n",
              "      <td>1.82</td>\n",
              "      <td>4.32</td>\n",
              "      <td>1.04</td>\n",
              "      <td>2.93</td>\n",
              "      <td>735</td>\n",
              "    </tr>\n",
              "  </tbody>\n",
              "</table>\n",
              "</div>"
            ],
            "text/plain": [
              "      1     2     3     4    5     6     7     8     9     10    11    12  \\\n",
              "0  14.23  1.71  2.43  15.6  127  2.80  3.06  0.28  2.29  5.64  1.04  3.92   \n",
              "1  13.20  1.78  2.14  11.2  100  2.65  2.76  0.26  1.28  4.38  1.05  3.40   \n",
              "2  13.16  2.36  2.67  18.6  101  2.80  3.24  0.30  2.81  5.68  1.03  3.17   \n",
              "3  14.37  1.95  2.50  16.8  113  3.85  3.49  0.24  2.18  7.80  0.86  3.45   \n",
              "4  13.24  2.59  2.87  21.0  118  2.80  2.69  0.39  1.82  4.32  1.04  2.93   \n",
              "\n",
              "     13  \n",
              "0  1065  \n",
              "1  1050  \n",
              "2  1185  \n",
              "3  1480  \n",
              "4   735  "
            ]
          },
          "execution_count": 87,
          "metadata": {},
          "output_type": "execute_result"
        }
      ],
      "source": [
        "X.head()"
      ]
    },
    {
      "cell_type": "code",
      "execution_count": 88,
      "metadata": {
        "colab": {
          "base_uri": "https://localhost:8080/"
        },
        "id": "tKsde3zG5SaG",
        "outputId": "821e7018-53ad-4cf9-a99c-f59726e2cb3b"
      },
      "outputs": [
        {
          "data": {
            "text/plain": [
              "(178, 13)"
            ]
          },
          "execution_count": 88,
          "metadata": {},
          "output_type": "execute_result"
        }
      ],
      "source": [
        "X.shape"
      ]
    },
    {
      "cell_type": "code",
      "execution_count": 89,
      "metadata": {
        "colab": {
          "base_uri": "https://localhost:8080/"
        },
        "id": "_K9KyrMd5SaH",
        "outputId": "e10f92b1-0dbe-457d-ee26-40fb8f75b815"
      },
      "outputs": [
        {
          "data": {
            "text/plain": [
              "0    1\n",
              "1    1\n",
              "2    1\n",
              "3    1\n",
              "4    1\n",
              "Name: 0, dtype: int64"
            ]
          },
          "execution_count": 89,
          "metadata": {},
          "output_type": "execute_result"
        }
      ],
      "source": [
        "y.head()"
      ]
    },
    {
      "cell_type": "code",
      "execution_count": 90,
      "metadata": {
        "colab": {
          "base_uri": "https://localhost:8080/"
        },
        "id": "YLSIAR0w5SaH",
        "outputId": "60fbe2ba-8a45-4317-ff9b-e7a3aa439e32"
      },
      "outputs": [
        {
          "data": {
            "text/plain": [
              "(178,)"
            ]
          },
          "execution_count": 90,
          "metadata": {},
          "output_type": "execute_result"
        }
      ],
      "source": [
        "y.shape"
      ]
    },
    {
      "cell_type": "code",
      "execution_count": 91,
      "metadata": {
        "id": "2JkB83JR5SaH"
      },
      "outputs": [],
      "source": [
        "# Since version 1.3.2 XGBoost needs target columns to start with 0 value\n",
        "\n",
        "le = LabelEncoder()\n",
        "y = le.fit_transform(y)"
      ]
    },
    {
      "cell_type": "code",
      "execution_count": 92,
      "metadata": {
        "colab": {
          "base_uri": "https://localhost:8080/"
        },
        "id": "YyHX6UCa5SaH",
        "outputId": "360fd3ce-449f-4741-835d-7da613b29e01"
      },
      "outputs": [
        {
          "data": {
            "text/plain": [
              "array([0, 0, 0, 0, 0, 0, 0, 0, 0, 0, 0, 0, 0, 0, 0, 0, 0, 0, 0, 0, 0, 0,\n",
              "       0, 0, 0, 0, 0, 0, 0, 0, 0, 0, 0, 0, 0, 0, 0, 0, 0, 0, 0, 0, 0, 0,\n",
              "       0, 0, 0, 0, 0, 0, 0, 0, 0, 0, 0, 0, 0, 0, 0, 1, 1, 1, 1, 1, 1, 1,\n",
              "       1, 1, 1, 1, 1, 1, 1, 1, 1, 1, 1, 1, 1, 1, 1, 1, 1, 1, 1, 1, 1, 1,\n",
              "       1, 1, 1, 1, 1, 1, 1, 1, 1, 1, 1, 1, 1, 1, 1, 1, 1, 1, 1, 1, 1, 1,\n",
              "       1, 1, 1, 1, 1, 1, 1, 1, 1, 1, 1, 1, 1, 1, 1, 1, 1, 1, 1, 1, 2, 2,\n",
              "       2, 2, 2, 2, 2, 2, 2, 2, 2, 2, 2, 2, 2, 2, 2, 2, 2, 2, 2, 2, 2, 2,\n",
              "       2, 2, 2, 2, 2, 2, 2, 2, 2, 2, 2, 2, 2, 2, 2, 2, 2, 2, 2, 2, 2, 2,\n",
              "       2, 2], dtype=int64)"
            ]
          },
          "execution_count": 92,
          "metadata": {},
          "output_type": "execute_result"
        }
      ],
      "source": [
        "y"
      ]
    },
    {
      "cell_type": "code",
      "execution_count": 93,
      "metadata": {
        "id": "2VGLioiV5SaH"
      },
      "outputs": [],
      "source": [
        "names = [\n",
        "          'AdaBoost',\n",
        "          'GradBoost',\n",
        "          'CatBoost',\n",
        "          'LightGBM',\n",
        "          'XGBoost'\n",
        "        ]\n",
        "\n",
        "classifiers = [\n",
        "                AdaBoostClassifier(),\n",
        "                GradientBoostingClassifier(),\n",
        "                CatBoostClassifier(silent=True),\n",
        "                LGBMClassifier(verbosity=-1),\n",
        "                XGBClassifier()\n",
        "              ]"
      ]
    },
    {
      "cell_type": "code",
      "execution_count": 94,
      "metadata": {
        "id": "cauZjGMV5SaH"
      },
      "outputs": [],
      "source": [
        "rskf = RepeatedStratifiedKFold(n_splits=10, n_repeats=10, random_state=42)"
      ]
    },
    {
      "cell_type": "code",
      "execution_count": 95,
      "metadata": {
        "colab": {
          "base_uri": "https://localhost:8080/"
        },
        "id": "eb3-F_WQM3z6",
        "outputId": "879dea74-cff7-48fa-806f-649c1468e223"
      },
      "outputs": [
        {
          "name": "stdout",
          "output_type": "stream",
          "text": [
            "--------- AdaBoost on Wine Dataset ---------\n",
            "[1.         0.88888889 0.77777778 0.77777778 0.94444444 1.\n",
            " 1.         0.77777778 0.94117647 1.         1.         0.94444444\n",
            " 0.94444444 0.77777778 1.         0.94444444 1.         0.94444444\n",
            " 0.82352941 1.         1.         0.83333333 0.88888889 1.\n",
            " 0.94444444 0.88888889 0.77777778 1.         1.         0.82352941\n",
            " 1.         1.         0.72222222 0.83333333 1.         0.83333333\n",
            " 0.94444444 0.83333333 0.94117647 0.88235294 0.88888889 0.94444444\n",
            " 1.         0.83333333 0.88888889 0.94444444 1.         0.94444444\n",
            " 0.94117647 1.         0.94444444 0.88888889 0.83333333 0.83333333\n",
            " 0.83333333 0.94444444 0.88888889 1.         1.         1.\n",
            " 0.94444444 0.83333333 0.83333333 1.         0.72222222 0.94444444\n",
            " 0.88888889 0.83333333 0.88235294 0.94117647 0.94444444 0.94444444\n",
            " 1.         1.         1.         0.83333333 1.         0.72222222\n",
            " 0.94117647 1.         1.         0.88888889 1.         0.88888889\n",
            " 0.88888889 0.94444444 0.77777778 0.94444444 0.76470588 0.94117647\n",
            " 1.         1.         0.94444444 0.88888889 1.         1.\n",
            " 0.88888889 0.83333333 0.70588235 1.        ]\n",
            "Accuracy: 91.70% (8.19%)\n",
            "Execution Time: 7.66 seconds\n",
            "------------------------------\n",
            "--------- GradBoost on Wine Dataset ---------\n",
            "[0.94444444 0.88888889 0.83333333 1.         0.88888889 1.\n",
            " 1.         0.77777778 1.         1.         1.         0.94444444\n",
            " 0.94444444 0.94444444 0.94444444 1.         0.94444444 0.94444444\n",
            " 1.         0.88235294 0.94444444 1.         0.94444444 0.88888889\n",
            " 1.         1.         0.88888889 1.         0.88235294 0.94117647\n",
            " 0.94444444 1.         0.94444444 0.88888889 1.         0.94444444\n",
            " 1.         0.88888889 0.94117647 0.94117647 0.88888889 1.\n",
            " 1.         0.88888889 0.94444444 0.94444444 1.         1.\n",
            " 0.82352941 0.94117647 1.         0.88888889 0.94444444 0.94444444\n",
            " 0.94444444 0.88888889 1.         0.94444444 1.         0.94117647\n",
            " 0.94444444 1.         0.88888889 1.         0.94444444 1.\n",
            " 0.94444444 0.94444444 0.82352941 1.         0.94444444 0.94444444\n",
            " 0.94444444 0.94444444 0.94444444 1.         1.         0.77777778\n",
            " 0.94117647 0.94117647 1.         0.94444444 0.94444444 0.83333333\n",
            " 0.94444444 0.94444444 1.         1.         0.88235294 1.\n",
            " 0.88888889 0.94444444 1.         0.88888889 0.88888889 0.94444444\n",
            " 0.94444444 0.94444444 0.88235294 1.        ]\n",
            "Accuracy: 94.49% (5.23%)\n",
            "Execution Time: 44.71 seconds\n",
            "------------------------------\n",
            "--------- CatBoost on Wine Dataset ---------\n",
            "[1.         0.94444444 1.         1.         0.94444444 1.\n",
            " 1.         0.88888889 1.         1.         1.         1.\n",
            " 1.         1.         1.         1.         0.88888889 0.94444444\n",
            " 1.         0.94117647 1.         1.         1.         0.94444444\n",
            " 1.         1.         1.         1.         0.94117647 0.94117647\n",
            " 0.94444444 1.         1.         0.94444444 1.         1.\n",
            " 1.         1.         0.94117647 0.94117647 0.94444444 1.\n",
            " 1.         0.94444444 1.         1.         1.         1.\n",
            " 0.94117647 1.         1.         0.94444444 1.         0.88888889\n",
            " 1.         1.         1.         1.         1.         0.94117647\n",
            " 1.         1.         0.88888889 1.         1.         1.\n",
            " 0.94444444 0.94444444 1.         1.         1.         1.\n",
            " 1.         0.94444444 1.         1.         1.         0.94444444\n",
            " 0.94117647 0.94117647 1.         1.         1.         0.94444444\n",
            " 1.         0.88888889 1.         1.         0.94117647 1.\n",
            " 1.         0.94444444 1.         0.94444444 0.94444444 1.\n",
            " 1.         1.         0.94117647 1.        ]\n",
            "Accuracy: 97.85% (3.26%)\n",
            "Execution Time: 176.05 seconds\n",
            "------------------------------\n",
            "--------- LightGBM on Wine Dataset ---------\n",
            "[1.         0.94444444 1.         1.         0.94444444 1.\n",
            " 1.         0.77777778 1.         1.         1.         1.\n",
            " 0.94444444 1.         1.         1.         0.94444444 0.88888889\n",
            " 1.         1.         1.         1.         1.         1.\n",
            " 1.         1.         1.         1.         0.94117647 0.94117647\n",
            " 0.94444444 1.         1.         0.94444444 1.         1.\n",
            " 1.         1.         1.         0.94117647 0.88888889 1.\n",
            " 1.         0.94444444 1.         1.         1.         1.\n",
            " 0.94117647 0.88235294 1.         0.94444444 1.         0.94444444\n",
            " 1.         1.         0.94444444 1.         1.         0.94117647\n",
            " 1.         1.         0.94444444 1.         1.         1.\n",
            " 0.94444444 0.94444444 0.94117647 1.         1.         1.\n",
            " 1.         0.94444444 1.         1.         1.         0.88888889\n",
            " 0.94117647 1.         1.         1.         1.         0.94444444\n",
            " 1.         0.94444444 1.         1.         0.94117647 1.\n",
            " 1.         0.94444444 1.         0.94444444 0.88888889 1.\n",
            " 1.         0.88888889 0.94117647 1.        ]\n",
            "Accuracy: 97.58% (3.91%)\n",
            "Execution Time: 4.27 seconds\n",
            "------------------------------\n",
            "--------- XGBoost on Wine Dataset ---------\n",
            "[1.         0.94444444 0.88888889 1.         0.94444444 1.\n",
            " 1.         0.83333333 1.         1.         1.         0.94444444\n",
            " 0.94444444 0.94444444 1.         1.         0.94444444 0.94444444\n",
            " 1.         0.88235294 1.         1.         0.83333333 0.94444444\n",
            " 1.         1.         0.94444444 1.         0.94117647 0.94117647\n",
            " 0.94444444 1.         1.         0.94444444 1.         1.\n",
            " 1.         0.94444444 0.94117647 0.94117647 0.88888889 1.\n",
            " 1.         0.94444444 1.         0.94444444 1.         1.\n",
            " 0.94117647 0.88235294 1.         0.94444444 1.         0.94444444\n",
            " 1.         1.         1.         0.94444444 1.         0.88235294\n",
            " 0.94444444 1.         0.88888889 1.         1.         1.\n",
            " 0.94444444 0.94444444 0.94117647 1.         1.         1.\n",
            " 1.         0.94444444 0.94444444 1.         1.         0.88888889\n",
            " 0.94117647 0.94117647 1.         1.         1.         0.94444444\n",
            " 1.         0.88888889 1.         1.         0.94117647 1.\n",
            " 1.         0.94444444 1.         0.94444444 0.88888889 1.\n",
            " 0.94444444 1.         0.94117647 1.        ]\n",
            "Accuracy: 96.61% (4.14%)\n",
            "Execution Time: 3.89 seconds\n",
            "------------------------------\n"
          ]
        }
      ],
      "source": [
        "wine_scores = []\n",
        "wine_scores_mean = []\n",
        "wine_scores_std = []\n",
        "model_names = []\n",
        "execution_times = []\n",
        "\n",
        "for name, clf in zip(names, classifiers):\n",
        "  start_time = time.time()\n",
        "  results = cross_val_score(clf, X, y, cv=rskf)\n",
        "  end_time = time.time()\n",
        "\n",
        "  wine_scores.append(results)\n",
        "  wine_scores_mean.append(results.mean()*100)\n",
        "  wine_scores_std.append(results.std()*100)\n",
        "  model_names.append(name)\n",
        "  execution_time = end_time - start_time  \n",
        "  execution_times.append(execution_time)\n",
        "  \n",
        "  print(f'--------- {name} on Wine Dataset ---------')\n",
        "  print(results)\n",
        "  print('Accuracy: %.2f%% (%.2f%%)' % (results.mean()*100, results.std()*100))\n",
        "  print(f'Execution Time: {execution_time:.2f} seconds')\n",
        "  print('------------------------------')"
      ]
    },
    {
      "cell_type": "code",
      "execution_count": 96,
      "metadata": {
        "colab": {
          "base_uri": "https://localhost:8080/",
          "height": 478
        },
        "id": "T2szw6iu5SaI",
        "outputId": "19a6e13e-c8d5-4ffd-8f5a-d7f9fee54915"
      },
      "outputs": [
        {
          "data": {
            "image/png": "[encoded data removed]",
            "text/plain": [
              "<Figure size 640x480 with 1 Axes>"
            ]
          },
          "metadata": {},
          "output_type": "display_data"
        }
      ],
      "source": [
        "# algorithm comparison\n",
        "\n",
        "fig = plt.figure()\n",
        "fig.suptitle('Comparison between different Wine scores')\n",
        "ax = fig.add_subplot(111)\n",
        "plt.ylim(0.3, 1)\n",
        "plt.boxplot(wine_scores, showmeans=True)\n",
        "ax.set_xticklabels(model_names)\n",
        "plt.show()"
      ]
    },
    {
      "cell_type": "code",
      "execution_count": 97,
      "metadata": {
        "id": "KnFXqFUB5SaI"
      },
      "outputs": [],
      "source": [
        "Algo_results = pd.DataFrame()\n",
        "Algo_results['Names'] = names"
      ]
    },
    {
      "cell_type": "code",
      "execution_count": 98,
      "metadata": {
        "id": "0KU1l7LU5SaI"
      },
      "outputs": [],
      "source": [
        "Algo_results['Wine'] = wine_scores_mean"
      ]
    },
    {
      "cell_type": "code",
      "execution_count": 99,
      "metadata": {
        "colab": {
          "base_uri": "https://localhost:8080/",
          "height": 206
        },
        "id": "vrwgWE_J5SaI",
        "outputId": "a1e87106-f471-4b6b-dbf3-4db8af6395c8"
      },
      "outputs": [
        {
          "data": {
            "text/html": [
              "<div>\n",
              "<style scoped>\n",
              "    .dataframe tbody tr th:only-of-type {\n",
              "        vertical-align: middle;\n",
              "    }\n",
              "\n",
              "    .dataframe tbody tr th {\n",
              "        vertical-align: top;\n",
              "    }\n",
              "\n",
              "    .dataframe thead th {\n",
              "        text-align: right;\n",
              "    }\n",
              "</style>\n",
              "<table border=\"1\" class=\"dataframe\">\n",
              "  <thead>\n",
              "    <tr style=\"text-align: right;\">\n",
              "      <th></th>\n",
              "      <th>Names</th>\n",
              "      <th>Wine</th>\n",
              "    </tr>\n",
              "  </thead>\n",
              "  <tbody>\n",
              "    <tr>\n",
              "      <th>0</th>\n",
              "      <td>AdaBoost</td>\n",
              "      <td>91.696078</td>\n",
              "    </tr>\n",
              "    <tr>\n",
              "      <th>1</th>\n",
              "      <td>GradBoost</td>\n",
              "      <td>94.486928</td>\n",
              "    </tr>\n",
              "    <tr>\n",
              "      <th>2</th>\n",
              "      <td>CatBoost</td>\n",
              "      <td>97.852941</td>\n",
              "    </tr>\n",
              "    <tr>\n",
              "      <th>3</th>\n",
              "      <td>LightGBM</td>\n",
              "      <td>97.575163</td>\n",
              "    </tr>\n",
              "    <tr>\n",
              "      <th>4</th>\n",
              "      <td>XGBoost</td>\n",
              "      <td>96.614379</td>\n",
              "    </tr>\n",
              "  </tbody>\n",
              "</table>\n",
              "</div>"
            ],
            "text/plain": [
              "       Names       Wine\n",
              "0   AdaBoost  91.696078\n",
              "1  GradBoost  94.486928\n",
              "2   CatBoost  97.852941\n",
              "3   LightGBM  97.575163\n",
              "4    XGBoost  96.614379"
            ]
          },
          "execution_count": 99,
          "metadata": {},
          "output_type": "execute_result"
        }
      ],
      "source": [
        "Algo_results"
      ]
    },
    {
      "cell_type": "code",
      "execution_count": 100,
      "metadata": {},
      "outputs": [],
      "source": [
        "Algo_time_results = pd.DataFrame()\n",
        "Algo_time_results['Names'] = names"
      ]
    },
    {
      "cell_type": "code",
      "execution_count": 101,
      "metadata": {
        "id": "IOVkIN0ZvJ_a"
      },
      "outputs": [],
      "source": [
        "Algo_time_results['Wine'] = pd.Series(execution_times)"
      ]
    },
    {
      "cell_type": "code",
      "execution_count": 102,
      "metadata": {},
      "outputs": [
        {
          "data": {
            "text/html": [
              "<div>\n",
              "<style scoped>\n",
              "    .dataframe tbody tr th:only-of-type {\n",
              "        vertical-align: middle;\n",
              "    }\n",
              "\n",
              "    .dataframe tbody tr th {\n",
              "        vertical-align: top;\n",
              "    }\n",
              "\n",
              "    .dataframe thead th {\n",
              "        text-align: right;\n",
              "    }\n",
              "</style>\n",
              "<table border=\"1\" class=\"dataframe\">\n",
              "  <thead>\n",
              "    <tr style=\"text-align: right;\">\n",
              "      <th></th>\n",
              "      <th>Names</th>\n",
              "      <th>Wine</th>\n",
              "    </tr>\n",
              "  </thead>\n",
              "  <tbody>\n",
              "    <tr>\n",
              "      <th>0</th>\n",
              "      <td>AdaBoost</td>\n",
              "      <td>7.663740</td>\n",
              "    </tr>\n",
              "    <tr>\n",
              "      <th>1</th>\n",
              "      <td>GradBoost</td>\n",
              "      <td>44.714145</td>\n",
              "    </tr>\n",
              "    <tr>\n",
              "      <th>2</th>\n",
              "      <td>CatBoost</td>\n",
              "      <td>176.051039</td>\n",
              "    </tr>\n",
              "    <tr>\n",
              "      <th>3</th>\n",
              "      <td>LightGBM</td>\n",
              "      <td>4.273965</td>\n",
              "    </tr>\n",
              "    <tr>\n",
              "      <th>4</th>\n",
              "      <td>XGBoost</td>\n",
              "      <td>3.890878</td>\n",
              "    </tr>\n",
              "  </tbody>\n",
              "</table>\n",
              "</div>"
            ],
            "text/plain": [
              "       Names        Wine\n",
              "0   AdaBoost    7.663740\n",
              "1  GradBoost   44.714145\n",
              "2   CatBoost  176.051039\n",
              "3   LightGBM    4.273965\n",
              "4    XGBoost    3.890878"
            ]
          },
          "execution_count": 102,
          "metadata": {},
          "output_type": "execute_result"
        }
      ],
      "source": [
        "Algo_time_results"
      ]
    },
    {
      "cell_type": "markdown",
      "metadata": {
        "id": "AdzQIBUkvKVF"
      },
      "source": [
        "---"
      ]
    },
    {
      "cell_type": "markdown",
      "metadata": {
        "id": "un1HusTlvKVF"
      },
      "source": [
        "# **Breast Cancer Dataset**"
      ]
    },
    {
      "cell_type": "markdown",
      "metadata": {
        "id": "65Z3uxDGvKVF"
      },
      "source": [
        "---"
      ]
    },
    {
      "cell_type": "code",
      "execution_count": 103,
      "metadata": {
        "id": "NwAepzKHvKVF"
      },
      "outputs": [],
      "source": [
        "breast_cancer_df = pd.read_csv('E:\\Cursos\\MestradoCienciaComputação\\Seminario\\Datasets\\BreastCancer\\Breast.dat', sep=',', header=None)"
      ]
    },
    {
      "cell_type": "code",
      "execution_count": 104,
      "metadata": {
        "colab": {
          "base_uri": "https://localhost:8080/",
          "height": 206
        },
        "id": "XGnZabpYvKVG",
        "outputId": "fab473fe-1275-433f-d32d-b29c8e1f8763"
      },
      "outputs": [
        {
          "data": {
            "text/html": [
              "<div>\n",
              "<style scoped>\n",
              "    .dataframe tbody tr th:only-of-type {\n",
              "        vertical-align: middle;\n",
              "    }\n",
              "\n",
              "    .dataframe tbody tr th {\n",
              "        vertical-align: top;\n",
              "    }\n",
              "\n",
              "    .dataframe thead th {\n",
              "        text-align: right;\n",
              "    }\n",
              "</style>\n",
              "<table border=\"1\" class=\"dataframe\">\n",
              "  <thead>\n",
              "    <tr style=\"text-align: right;\">\n",
              "      <th></th>\n",
              "      <th>0</th>\n",
              "      <th>1</th>\n",
              "      <th>2</th>\n",
              "      <th>3</th>\n",
              "      <th>4</th>\n",
              "      <th>5</th>\n",
              "      <th>6</th>\n",
              "      <th>7</th>\n",
              "      <th>8</th>\n",
              "      <th>9</th>\n",
              "    </tr>\n",
              "  </thead>\n",
              "  <tbody>\n",
              "    <tr>\n",
              "      <th>0</th>\n",
              "      <td>5</td>\n",
              "      <td>1</td>\n",
              "      <td>1</td>\n",
              "      <td>1</td>\n",
              "      <td>2</td>\n",
              "      <td>1</td>\n",
              "      <td>3</td>\n",
              "      <td>1</td>\n",
              "      <td>1</td>\n",
              "      <td>2</td>\n",
              "    </tr>\n",
              "    <tr>\n",
              "      <th>1</th>\n",
              "      <td>5</td>\n",
              "      <td>4</td>\n",
              "      <td>4</td>\n",
              "      <td>5</td>\n",
              "      <td>7</td>\n",
              "      <td>10</td>\n",
              "      <td>3</td>\n",
              "      <td>2</td>\n",
              "      <td>1</td>\n",
              "      <td>2</td>\n",
              "    </tr>\n",
              "    <tr>\n",
              "      <th>2</th>\n",
              "      <td>3</td>\n",
              "      <td>1</td>\n",
              "      <td>1</td>\n",
              "      <td>1</td>\n",
              "      <td>2</td>\n",
              "      <td>2</td>\n",
              "      <td>3</td>\n",
              "      <td>1</td>\n",
              "      <td>1</td>\n",
              "      <td>2</td>\n",
              "    </tr>\n",
              "    <tr>\n",
              "      <th>3</th>\n",
              "      <td>6</td>\n",
              "      <td>8</td>\n",
              "      <td>8</td>\n",
              "      <td>1</td>\n",
              "      <td>3</td>\n",
              "      <td>4</td>\n",
              "      <td>3</td>\n",
              "      <td>7</td>\n",
              "      <td>1</td>\n",
              "      <td>2</td>\n",
              "    </tr>\n",
              "    <tr>\n",
              "      <th>4</th>\n",
              "      <td>4</td>\n",
              "      <td>1</td>\n",
              "      <td>1</td>\n",
              "      <td>3</td>\n",
              "      <td>2</td>\n",
              "      <td>1</td>\n",
              "      <td>3</td>\n",
              "      <td>1</td>\n",
              "      <td>1</td>\n",
              "      <td>2</td>\n",
              "    </tr>\n",
              "  </tbody>\n",
              "</table>\n",
              "</div>"
            ],
            "text/plain": [
              "   0  1  2  3  4   5  6  7  8  9\n",
              "0  5  1  1  1  2   1  3  1  1  2\n",
              "1  5  4  4  5  7  10  3  2  1  2\n",
              "2  3  1  1  1  2   2  3  1  1  2\n",
              "3  6  8  8  1  3   4  3  7  1  2\n",
              "4  4  1  1  3  2   1  3  1  1  2"
            ]
          },
          "execution_count": 104,
          "metadata": {},
          "output_type": "execute_result"
        }
      ],
      "source": [
        "breast_cancer_df.head()"
      ]
    },
    {
      "cell_type": "code",
      "execution_count": 105,
      "metadata": {
        "colab": {
          "base_uri": "https://localhost:8080/"
        },
        "id": "BHKH26YKvKVG",
        "outputId": "b84d2fcb-b155-4e0e-fae4-4ecb6d22c150"
      },
      "outputs": [
        {
          "name": "stdout",
          "output_type": "stream",
          "text": [
            "(683, 10)\n"
          ]
        }
      ],
      "source": [
        "print(breast_cancer_df.shape)"
      ]
    },
    {
      "cell_type": "code",
      "execution_count": 106,
      "metadata": {
        "colab": {
          "base_uri": "https://localhost:8080/"
        },
        "id": "4DdzSoLtvKVG",
        "outputId": "2b161673-eaaa-4678-d204-71187e659a01"
      },
      "outputs": [
        {
          "name": "stdout",
          "output_type": "stream",
          "text": [
            "<class 'pandas.core.frame.DataFrame'>\n",
            "RangeIndex: 683 entries, 0 to 682\n",
            "Data columns (total 10 columns):\n",
            " #   Column  Non-Null Count  Dtype\n",
            "---  ------  --------------  -----\n",
            " 0   0       683 non-null    int64\n",
            " 1   1       683 non-null    int64\n",
            " 2   2       683 non-null    int64\n",
            " 3   3       683 non-null    int64\n",
            " 4   4       683 non-null    int64\n",
            " 5   5       683 non-null    int64\n",
            " 6   6       683 non-null    int64\n",
            " 7   7       683 non-null    int64\n",
            " 8   8       683 non-null    int64\n",
            " 9   9       683 non-null    int64\n",
            "dtypes: int64(10)\n",
            "memory usage: 53.5 KB\n"
          ]
        }
      ],
      "source": [
        "breast_cancer_df.info()"
      ]
    },
    {
      "cell_type": "code",
      "execution_count": 107,
      "metadata": {
        "colab": {
          "base_uri": "https://localhost:8080/"
        },
        "id": "0LXrkN_rvKVG",
        "outputId": "79a54307-2180-4168-819a-73e87e23a0a9"
      },
      "outputs": [
        {
          "data": {
            "text/plain": [
              "0    10\n",
              "1    10\n",
              "2    10\n",
              "3    10\n",
              "4    10\n",
              "5    10\n",
              "6    10\n",
              "7    10\n",
              "8     9\n",
              "9     2\n",
              "dtype: int64"
            ]
          },
          "execution_count": 107,
          "metadata": {},
          "output_type": "execute_result"
        }
      ],
      "source": [
        "breast_cancer_df.nunique()"
      ]
    },
    {
      "cell_type": "code",
      "execution_count": 108,
      "metadata": {
        "colab": {
          "base_uri": "https://localhost:8080/"
        },
        "id": "sSpHLZRvvKVG",
        "outputId": "ce96f984-ccc2-4cb9-fcdb-f902be2acb07"
      },
      "outputs": [
        {
          "data": {
            "text/plain": [
              "9\n",
              "2    444\n",
              "4    239\n",
              "Name: count, dtype: int64"
            ]
          },
          "execution_count": 108,
          "metadata": {},
          "output_type": "execute_result"
        }
      ],
      "source": [
        "# Unbalanced dataset\n",
        "\n",
        "breast_cancer_df[9].value_counts()"
      ]
    },
    {
      "cell_type": "code",
      "execution_count": 109,
      "metadata": {
        "colab": {
          "base_uri": "https://localhost:8080/"
        },
        "id": "USKkVcG4vKVG",
        "outputId": "b9d195f9-b313-420f-868d-5757dae20e2f"
      },
      "outputs": [
        {
          "data": {
            "text/plain": [
              "0    0\n",
              "1    0\n",
              "2    0\n",
              "3    0\n",
              "4    0\n",
              "5    0\n",
              "6    0\n",
              "7    0\n",
              "8    0\n",
              "9    0\n",
              "dtype: int64"
            ]
          },
          "execution_count": 109,
          "metadata": {},
          "output_type": "execute_result"
        }
      ],
      "source": [
        "breast_cancer_df.isna().sum()"
      ]
    },
    {
      "cell_type": "code",
      "execution_count": 110,
      "metadata": {
        "id": "pmj3swW9vKVG"
      },
      "outputs": [],
      "source": [
        "X = breast_cancer_df.iloc[:, :-1]\n",
        "y = breast_cancer_df.iloc[:, -1]"
      ]
    },
    {
      "cell_type": "code",
      "execution_count": 111,
      "metadata": {
        "colab": {
          "base_uri": "https://localhost:8080/",
          "height": 206
        },
        "id": "zwl7z41UvKVG",
        "outputId": "35c7922c-0111-420b-bed7-cb08c49ce8bc"
      },
      "outputs": [
        {
          "data": {
            "text/html": [
              "<div>\n",
              "<style scoped>\n",
              "    .dataframe tbody tr th:only-of-type {\n",
              "        vertical-align: middle;\n",
              "    }\n",
              "\n",
              "    .dataframe tbody tr th {\n",
              "        vertical-align: top;\n",
              "    }\n",
              "\n",
              "    .dataframe thead th {\n",
              "        text-align: right;\n",
              "    }\n",
              "</style>\n",
              "<table border=\"1\" class=\"dataframe\">\n",
              "  <thead>\n",
              "    <tr style=\"text-align: right;\">\n",
              "      <th></th>\n",
              "      <th>0</th>\n",
              "      <th>1</th>\n",
              "      <th>2</th>\n",
              "      <th>3</th>\n",
              "      <th>4</th>\n",
              "      <th>5</th>\n",
              "      <th>6</th>\n",
              "      <th>7</th>\n",
              "      <th>8</th>\n",
              "    </tr>\n",
              "  </thead>\n",
              "  <tbody>\n",
              "    <tr>\n",
              "      <th>0</th>\n",
              "      <td>5</td>\n",
              "      <td>1</td>\n",
              "      <td>1</td>\n",
              "      <td>1</td>\n",
              "      <td>2</td>\n",
              "      <td>1</td>\n",
              "      <td>3</td>\n",
              "      <td>1</td>\n",
              "      <td>1</td>\n",
              "    </tr>\n",
              "    <tr>\n",
              "      <th>1</th>\n",
              "      <td>5</td>\n",
              "      <td>4</td>\n",
              "      <td>4</td>\n",
              "      <td>5</td>\n",
              "      <td>7</td>\n",
              "      <td>10</td>\n",
              "      <td>3</td>\n",
              "      <td>2</td>\n",
              "      <td>1</td>\n",
              "    </tr>\n",
              "    <tr>\n",
              "      <th>2</th>\n",
              "      <td>3</td>\n",
              "      <td>1</td>\n",
              "      <td>1</td>\n",
              "      <td>1</td>\n",
              "      <td>2</td>\n",
              "      <td>2</td>\n",
              "      <td>3</td>\n",
              "      <td>1</td>\n",
              "      <td>1</td>\n",
              "    </tr>\n",
              "    <tr>\n",
              "      <th>3</th>\n",
              "      <td>6</td>\n",
              "      <td>8</td>\n",
              "      <td>8</td>\n",
              "      <td>1</td>\n",
              "      <td>3</td>\n",
              "      <td>4</td>\n",
              "      <td>3</td>\n",
              "      <td>7</td>\n",
              "      <td>1</td>\n",
              "    </tr>\n",
              "    <tr>\n",
              "      <th>4</th>\n",
              "      <td>4</td>\n",
              "      <td>1</td>\n",
              "      <td>1</td>\n",
              "      <td>3</td>\n",
              "      <td>2</td>\n",
              "      <td>1</td>\n",
              "      <td>3</td>\n",
              "      <td>1</td>\n",
              "      <td>1</td>\n",
              "    </tr>\n",
              "  </tbody>\n",
              "</table>\n",
              "</div>"
            ],
            "text/plain": [
              "   0  1  2  3  4   5  6  7  8\n",
              "0  5  1  1  1  2   1  3  1  1\n",
              "1  5  4  4  5  7  10  3  2  1\n",
              "2  3  1  1  1  2   2  3  1  1\n",
              "3  6  8  8  1  3   4  3  7  1\n",
              "4  4  1  1  3  2   1  3  1  1"
            ]
          },
          "execution_count": 111,
          "metadata": {},
          "output_type": "execute_result"
        }
      ],
      "source": [
        "X.head()"
      ]
    },
    {
      "cell_type": "code",
      "execution_count": 112,
      "metadata": {
        "colab": {
          "base_uri": "https://localhost:8080/"
        },
        "id": "MR9Ac_NuvKVG",
        "outputId": "d333115a-c213-4dad-bb15-9a18ab9b9877"
      },
      "outputs": [
        {
          "data": {
            "text/plain": [
              "0    2\n",
              "1    2\n",
              "2    2\n",
              "3    2\n",
              "4    2\n",
              "Name: 9, dtype: int64"
            ]
          },
          "execution_count": 112,
          "metadata": {},
          "output_type": "execute_result"
        }
      ],
      "source": [
        "y.head()"
      ]
    },
    {
      "cell_type": "code",
      "execution_count": 113,
      "metadata": {
        "id": "_4-x_o-svKVH"
      },
      "outputs": [],
      "source": [
        "# Since version 1.3.2 XGBoost needs target columns to start with 0 value\n",
        "\n",
        "le = LabelEncoder()\n",
        "y = le.fit_transform(y)"
      ]
    },
    {
      "cell_type": "code",
      "execution_count": 114,
      "metadata": {
        "colab": {
          "base_uri": "https://localhost:8080/"
        },
        "id": "JAODxb-TvKVH",
        "outputId": "9b55aee3-9aab-4bdf-f969-8ea53087f910"
      },
      "outputs": [
        {
          "data": {
            "text/plain": [
              "array([0, 0, 0, 0, 0, 1, 0, 0, 0, 0, 0, 0, 1, 1, 1, 0, 0, 1, 0, 1, 1, 0,\n",
              "       0, 1, 0, 0, 0, 0, 0, 0, 1, 0, 0, 1, 0, 1, 1, 1, 1, 1, 0, 1, 0, 0,\n",
              "       1, 1, 1, 1, 1, 1, 1, 1, 1, 1, 1, 1, 1, 1, 0, 1, 0, 1, 1, 0, 0, 1,\n",
              "       0, 1, 0, 0, 0, 0, 0, 0, 0, 0, 1, 1, 1, 1, 0, 0, 0, 0, 0, 0, 0, 0,\n",
              "       0, 0, 1, 1, 1, 1, 0, 1, 1, 1, 0, 1, 0, 1, 1, 1, 0, 0, 0, 1, 0, 0,\n",
              "       0, 0, 1, 1, 0, 1, 0, 1, 0, 0, 0, 1, 0, 0, 0, 0, 0, 0, 0, 1, 0, 1,\n",
              "       0, 1, 0, 1, 1, 0, 0, 1, 0, 0, 1, 1, 0, 0, 0, 0, 1, 0, 0, 0, 0, 0,\n",
              "       1, 1, 1, 0, 1, 0, 1, 0, 0, 0, 1, 1, 1, 1, 0, 1, 1, 0, 0, 0, 0, 0,\n",
              "       0, 1, 1, 0, 0, 0, 1, 1, 0, 0, 1, 1, 0, 1, 1, 1, 0, 0, 1, 0, 0, 1,\n",
              "       1, 1, 1, 0, 1, 1, 0, 1, 1, 0, 1, 0, 1, 1, 1, 1, 0, 0, 0, 0, 0, 0,\n",
              "       1, 1, 0, 0, 1, 0, 1, 1, 0, 0, 0, 1, 1, 1, 1, 0, 1, 1, 1, 0, 1, 1,\n",
              "       1, 0, 0, 0, 1, 0, 0, 1, 1, 1, 1, 1, 0, 1, 1, 0, 0, 1, 1, 0, 0, 1,\n",
              "       0, 0, 1, 0, 0, 1, 0, 0, 1, 0, 0, 1, 1, 0, 0, 1, 0, 0, 1, 0, 1, 1,\n",
              "       0, 0, 1, 1, 0, 1, 0, 1, 0, 0, 1, 0, 0, 0, 1, 1, 0, 1, 0, 1, 1, 1,\n",
              "       1, 1, 0, 0, 0, 0, 1, 1, 0, 0, 0, 0, 0, 0, 0, 0, 0, 0, 0, 0, 0, 1,\n",
              "       0, 0, 0, 0, 1, 0, 0, 0, 0, 1, 0, 0, 0, 0, 0, 0, 0, 1, 0, 0, 0, 0,\n",
              "       0, 0, 0, 0, 0, 1, 0, 1, 0, 1, 0, 0, 0, 1, 0, 0, 0, 1, 0, 1, 0, 0,\n",
              "       0, 0, 0, 0, 0, 1, 1, 0, 0, 1, 0, 0, 0, 0, 0, 0, 0, 0, 1, 0, 0, 0,\n",
              "       1, 0, 1, 1, 1, 0, 0, 0, 0, 0, 1, 1, 1, 0, 0, 0, 0, 0, 0, 0, 0, 0,\n",
              "       0, 1, 0, 0, 1, 1, 0, 0, 0, 1, 1, 1, 1, 0, 1, 0, 0, 0, 0, 0, 0, 0,\n",
              "       0, 0, 0, 1, 0, 0, 0, 0, 0, 0, 0, 1, 1, 0, 0, 0, 1, 0, 0, 1, 0, 0,\n",
              "       0, 0, 0, 0, 1, 0, 0, 0, 0, 0, 0, 0, 0, 0, 0, 0, 0, 0, 0, 0, 1, 0,\n",
              "       0, 1, 0, 0, 0, 0, 0, 0, 0, 0, 0, 0, 0, 0, 0, 0, 1, 0, 0, 1, 1, 0,\n",
              "       0, 1, 0, 0, 0, 0, 1, 1, 0, 0, 0, 1, 0, 1, 0, 1, 1, 1, 0, 1, 0, 0,\n",
              "       0, 0, 0, 0, 0, 0, 1, 1, 1, 0, 1, 0, 1, 1, 0, 0, 0, 0, 0, 0, 0, 0,\n",
              "       0, 0, 0, 0, 1, 0, 0, 0, 0, 1, 0, 1, 0, 0, 0, 0, 0, 0, 0, 0, 0, 1,\n",
              "       0, 0, 0, 0, 0, 0, 0, 1, 0, 0, 0, 0, 0, 0, 0, 0, 0, 1, 1, 1, 0, 0,\n",
              "       0, 0, 0, 0, 0, 0, 1, 0, 0, 0, 0, 0, 0, 0, 0, 1, 0, 0, 0, 1, 1, 1,\n",
              "       0, 0, 1, 0, 1, 0, 1, 1, 1, 0, 0, 0, 1, 1, 0, 0, 0, 0, 1, 1, 0, 1,\n",
              "       0, 0, 1, 1, 1, 0, 1, 0, 1, 0, 1, 0, 0, 0, 0, 1, 0, 0, 0, 0, 0, 0,\n",
              "       0, 0, 0, 0, 1, 0, 1, 1, 0, 0, 0, 1, 0, 0, 0, 0, 0, 0, 0, 0, 1, 0,\n",
              "       0], dtype=int64)"
            ]
          },
          "execution_count": 114,
          "metadata": {},
          "output_type": "execute_result"
        }
      ],
      "source": [
        "y"
      ]
    },
    {
      "cell_type": "code",
      "execution_count": 115,
      "metadata": {
        "colab": {
          "base_uri": "https://localhost:8080/"
        },
        "id": "dKWIn_favKVH",
        "outputId": "1ae55134-d53c-401f-f4ec-3a04a6509f39"
      },
      "outputs": [
        {
          "name": "stdout",
          "output_type": "stream",
          "text": [
            "--------- AdaBoost on Breast Cancer Dataset ---------\n",
            "[0.97101449 0.97101449 0.92753623 0.94117647 0.97058824 0.97058824\n",
            " 0.94117647 0.92647059 0.95588235 0.94117647 0.95652174 0.94202899\n",
            " 0.98550725 0.97058824 0.95588235 0.92647059 1.         0.89705882\n",
            " 0.94117647 0.94117647 0.98550725 0.97101449 0.95652174 0.95588235\n",
            " 0.94117647 0.97058824 0.95588235 0.97058824 0.92647059 0.95588235\n",
            " 0.95652174 0.91304348 0.94202899 0.95588235 0.97058824 0.97058824\n",
            " 0.98529412 0.94117647 0.94117647 0.97058824 0.97101449 0.95652174\n",
            " 0.97101449 0.97058824 0.95588235 0.92647059 0.95588235 0.98529412\n",
            " 0.94117647 0.91176471 1.         0.86956522 1.         1.\n",
            " 0.92647059 0.95588235 0.95588235 0.98529412 0.92647059 0.95588235\n",
            " 0.94202899 0.98550725 0.97101449 0.91176471 0.98529412 0.98529412\n",
            " 0.89705882 0.97058824 0.98529412 0.97058824 0.95652174 0.97101449\n",
            " 0.95652174 0.95588235 0.98529412 0.91176471 0.95588235 0.94117647\n",
            " 0.95588235 0.97058824 0.97101449 0.94202899 0.94202899 0.95588235\n",
            " 0.98529412 0.97058824 0.95588235 0.94117647 0.97058824 0.94117647\n",
            " 0.98550725 0.95652174 0.97101449 1.         0.97058824 0.97058824\n",
            " 0.94117647 0.92647059 0.94117647 0.92647059]\n",
            "Accuracy: 95.62% (2.44%)\n",
            "Execution Time: 6.76 seconds\n",
            "------------------------------\n",
            "--------- GradBoost on Breast Cancer Dataset ---------\n",
            "[0.95652174 0.97101449 0.94202899 0.95588235 0.97058824 1.\n",
            " 0.95588235 0.97058824 0.97058824 0.98529412 0.97101449 0.95652174\n",
            " 0.94202899 0.98529412 0.97058824 0.94117647 1.         0.95588235\n",
            " 0.97058824 0.94117647 0.98550725 0.95652174 0.94202899 0.97058824\n",
            " 0.94117647 1.         0.97058824 0.98529412 0.95588235 0.97058824\n",
            " 0.97101449 0.94202899 0.97101449 0.97058824 0.97058824 0.98529412\n",
            " 0.97058824 0.97058824 0.94117647 0.97058824 0.97101449 0.97101449\n",
            " 1.         0.97058824 0.97058824 0.94117647 0.95588235 0.98529412\n",
            " 0.94117647 0.94117647 1.         0.92753623 1.         1.\n",
            " 0.92647059 0.97058824 0.97058824 0.98529412 0.98529412 0.95588235\n",
            " 0.94202899 0.97101449 0.97101449 0.95588235 0.98529412 0.97058824\n",
            " 0.94117647 0.97058824 1.         0.97058824 0.97101449 0.97101449\n",
            " 0.97101449 0.95588235 0.98529412 0.97058824 0.97058824 0.95588235\n",
            " 0.95588235 0.95588235 0.94202899 0.97101449 0.94202899 0.98529412\n",
            " 0.97058824 0.97058824 0.97058824 0.97058824 0.98529412 0.97058824\n",
            " 0.98550725 0.94202899 0.97101449 1.         0.97058824 0.98529412\n",
            " 0.97058824 0.97058824 0.94117647 0.92647059]\n",
            "Accuracy: 96.71% (1.81%)\n",
            "Execution Time: 8.42 seconds\n",
            "------------------------------\n",
            "--------- CatBoost on Breast Cancer Dataset ---------\n",
            "[0.94202899 0.97101449 0.97101449 0.97058824 0.97058824 1.\n",
            " 0.97058824 0.97058824 0.97058824 0.98529412 0.98550725 0.97101449\n",
            " 0.97101449 0.97058824 0.97058824 0.95588235 1.         0.95588235\n",
            " 0.97058824 0.95588235 1.         0.95652174 0.95652174 0.97058824\n",
            " 0.95588235 0.98529412 0.95588235 0.98529412 0.95588235 0.98529412\n",
            " 0.97101449 0.95652174 0.97101449 0.98529412 0.98529412 0.98529412\n",
            " 0.97058824 0.95588235 0.94117647 0.97058824 0.97101449 0.98550725\n",
            " 1.         0.98529412 0.98529412 0.95588235 0.95588235 0.97058824\n",
            " 0.94117647 0.95588235 1.         0.94202899 1.         1.\n",
            " 0.92647059 0.98529412 0.97058824 0.98529412 0.98529412 0.97058824\n",
            " 0.95652174 0.97101449 0.98550725 0.92647059 0.98529412 1.\n",
            " 0.94117647 0.97058824 0.98529412 0.98529412 1.         1.\n",
            " 0.97101449 0.95588235 0.98529412 0.94117647 0.97058824 0.97058824\n",
            " 0.95588235 0.95588235 0.97101449 0.97101449 0.94202899 0.97058824\n",
            " 0.98529412 0.97058824 0.97058824 0.98529412 0.98529412 0.98529412\n",
            " 0.98550725 0.95652174 0.98550725 1.         0.97058824 1.\n",
            " 0.95588235 0.98529412 0.95588235 0.92647059]\n",
            "Accuracy: 97.17% (1.79%)\n",
            "Execution Time: 131.68 seconds\n",
            "------------------------------\n",
            "--------- LightGBM on Breast Cancer Dataset ---------\n",
            "[0.94202899 0.97101449 0.92753623 0.95588235 0.97058824 1.\n",
            " 0.95588235 0.97058824 0.98529412 0.98529412 0.97101449 0.97101449\n",
            " 0.97101449 0.97058824 0.97058824 0.95588235 1.         0.92647059\n",
            " 0.97058824 0.94117647 0.98550725 0.95652174 0.98550725 0.92647059\n",
            " 0.94117647 0.98529412 0.97058824 0.98529412 0.94117647 0.98529412\n",
            " 0.98550725 0.92753623 0.98550725 0.97058824 0.98529412 0.97058824\n",
            " 0.98529412 0.97058824 0.94117647 0.97058824 0.95652174 0.98550725\n",
            " 1.         0.98529412 0.97058824 0.97058824 0.95588235 0.98529412\n",
            " 0.92647059 0.94117647 1.         0.92753623 1.         1.\n",
            " 0.91176471 0.97058824 0.97058824 0.98529412 0.97058824 0.95588235\n",
            " 0.94202899 0.98550725 0.97101449 0.91176471 0.98529412 0.98529412\n",
            " 0.94117647 0.97058824 0.95588235 1.         0.97101449 0.98550725\n",
            " 0.95652174 0.95588235 0.98529412 0.94117647 0.98529412 0.98529412\n",
            " 0.95588235 0.97058824 0.97101449 0.97101449 0.95652174 0.98529412\n",
            " 0.98529412 0.97058824 0.97058824 0.97058824 0.97058824 0.95588235\n",
            " 0.98550725 0.95652174 0.98550725 1.         0.95588235 1.\n",
            " 0.97058824 0.97058824 0.95588235 0.92647059]\n",
            "Accuracy: 96.79% (2.10%)\n",
            "Execution Time: 4.47 seconds\n",
            "------------------------------\n",
            "--------- XGBoost on Breast Cancer Dataset ---------\n",
            "[0.92753623 0.97101449 0.92753623 0.95588235 0.97058824 1.\n",
            " 0.94117647 0.97058824 0.97058824 0.98529412 0.95652174 0.97101449\n",
            " 0.95652174 0.95588235 0.97058824 0.92647059 1.         0.92647059\n",
            " 0.95588235 0.94117647 0.98550725 0.95652174 0.94202899 0.95588235\n",
            " 0.92647059 1.         0.95588235 0.97058824 0.95588235 0.98529412\n",
            " 0.97101449 0.94202899 0.97101449 0.98529412 0.97058824 0.98529412\n",
            " 0.97058824 0.98529412 0.94117647 0.95588235 0.97101449 0.97101449\n",
            " 1.         1.         0.97058824 0.95588235 0.97058824 0.98529412\n",
            " 0.92647059 0.95588235 1.         0.89855072 0.98550725 1.\n",
            " 0.89705882 0.95588235 0.97058824 0.95588235 0.97058824 0.95588235\n",
            " 0.94202899 0.98550725 0.98550725 0.92647059 0.98529412 0.97058824\n",
            " 0.94117647 0.95588235 0.98529412 0.97058824 0.97101449 0.97101449\n",
            " 0.97101449 0.95588235 0.98529412 0.95588235 0.95588235 0.97058824\n",
            " 0.94117647 0.95588235 0.95652174 0.95652174 0.94202899 0.97058824\n",
            " 0.98529412 0.97058824 0.97058824 0.97058824 0.97058824 0.94117647\n",
            " 0.98550725 0.95652174 0.97101449 1.         0.95588235 0.98529412\n",
            " 0.97058824 0.97058824 0.95588235 0.94117647]\n",
            "Accuracy: 96.40% (2.11%)\n",
            "Execution Time: 3.22 seconds\n",
            "------------------------------\n"
          ]
        }
      ],
      "source": [
        "breast_cancer_scores = []\n",
        "breast_cancer_mean = []\n",
        "breast_cancer_std = []\n",
        "model_names = []\n",
        "execution_times = []\n",
        "\n",
        "for name, clf in zip(names, classifiers):\n",
        "  start_time = time.time()\n",
        "  results = cross_val_score(clf, X, y, cv=rskf)\n",
        "  end_time = time.time()\n",
        "\n",
        "  breast_cancer_scores.append(results)\n",
        "  breast_cancer_mean.append(results.mean()*100)\n",
        "  breast_cancer_std.append(results.std()*100)\n",
        "  model_names.append(name)\n",
        "  execution_time = end_time - start_time  \n",
        "  execution_times.append(execution_time)\n",
        "\n",
        "  print(f'--------- {name} on Breast Cancer Dataset ---------')\n",
        "  print(results)\n",
        "  print('Accuracy: %.2f%% (%.2f%%)' % (results.mean()*100, results.std()*100))\n",
        "  print(f'Execution Time: {execution_time:.2f} seconds')\n",
        "  print('------------------------------')"
      ]
    },
    {
      "cell_type": "code",
      "execution_count": 116,
      "metadata": {
        "colab": {
          "base_uri": "https://localhost:8080/"
        },
        "id": "OzzANhaavKVH",
        "outputId": "4a306766-6748-491d-eac7-46a5c0ada79c"
      },
      "outputs": [
        {
          "data": {
            "text/plain": [
              "[95.62063086104006,\n",
              " 96.70694799658993,\n",
              " 97.173273657289,\n",
              " 96.7928388746803,\n",
              " 96.39855072463767]"
            ]
          },
          "execution_count": 116,
          "metadata": {},
          "output_type": "execute_result"
        }
      ],
      "source": [
        "breast_cancer_mean"
      ]
    },
    {
      "cell_type": "code",
      "execution_count": 117,
      "metadata": {
        "colab": {
          "base_uri": "https://localhost:8080/"
        },
        "id": "03dVMJxfvKVH",
        "outputId": "32418eff-4bd3-4ccd-dd08-716ac8f8a737"
      },
      "outputs": [
        {
          "data": {
            "text/plain": [
              "[2.4378824196461406,\n",
              " 1.806078295881533,\n",
              " 1.7856516046254058,\n",
              " 2.099529980944241,\n",
              " 2.1143142998683886]"
            ]
          },
          "execution_count": 117,
          "metadata": {},
          "output_type": "execute_result"
        }
      ],
      "source": [
        "breast_cancer_std"
      ]
    },
    {
      "cell_type": "code",
      "execution_count": 118,
      "metadata": {
        "colab": {
          "base_uri": "https://localhost:8080/",
          "height": 478
        },
        "id": "gqF6GBAqvKVH",
        "outputId": "75b01a95-bbbd-489c-f237-d37c80ee10cd"
      },
      "outputs": [
        {
          "data": {
            "image/png": "[encoded data removed]",
            "text/plain": [
              "<Figure size 640x480 with 1 Axes>"
            ]
          },
          "metadata": {},
          "output_type": "display_data"
        }
      ],
      "source": [
        "# algorithm comparison\n",
        "\n",
        "fig = plt.figure()\n",
        "fig.suptitle('Comparison between different breast cancer scores')\n",
        "ax = fig.add_subplot(111)\n",
        "plt.ylim(0.3, 1)\n",
        "plt.boxplot(breast_cancer_scores, showmeans=True)\n",
        "ax.set_xticklabels(model_names)\n",
        "plt.show()"
      ]
    },
    {
      "cell_type": "code",
      "execution_count": 119,
      "metadata": {
        "id": "yWIX7dQfvKVH"
      },
      "outputs": [],
      "source": [
        "Algo_results['Breast_Cancer'] = breast_cancer_mean"
      ]
    },
    {
      "cell_type": "code",
      "execution_count": 120,
      "metadata": {
        "colab": {
          "base_uri": "https://localhost:8080/",
          "height": 206
        },
        "id": "IBQRqUG-vKVH",
        "outputId": "53a6b79d-daef-4f0d-f227-d9449807e07b"
      },
      "outputs": [
        {
          "data": {
            "text/html": [
              "<div>\n",
              "<style scoped>\n",
              "    .dataframe tbody tr th:only-of-type {\n",
              "        vertical-align: middle;\n",
              "    }\n",
              "\n",
              "    .dataframe tbody tr th {\n",
              "        vertical-align: top;\n",
              "    }\n",
              "\n",
              "    .dataframe thead th {\n",
              "        text-align: right;\n",
              "    }\n",
              "</style>\n",
              "<table border=\"1\" class=\"dataframe\">\n",
              "  <thead>\n",
              "    <tr style=\"text-align: right;\">\n",
              "      <th></th>\n",
              "      <th>Names</th>\n",
              "      <th>Wine</th>\n",
              "      <th>Breast_Cancer</th>\n",
              "    </tr>\n",
              "  </thead>\n",
              "  <tbody>\n",
              "    <tr>\n",
              "      <th>0</th>\n",
              "      <td>AdaBoost</td>\n",
              "      <td>91.696078</td>\n",
              "      <td>95.620631</td>\n",
              "    </tr>\n",
              "    <tr>\n",
              "      <th>1</th>\n",
              "      <td>GradBoost</td>\n",
              "      <td>94.486928</td>\n",
              "      <td>96.706948</td>\n",
              "    </tr>\n",
              "    <tr>\n",
              "      <th>2</th>\n",
              "      <td>CatBoost</td>\n",
              "      <td>97.852941</td>\n",
              "      <td>97.173274</td>\n",
              "    </tr>\n",
              "    <tr>\n",
              "      <th>3</th>\n",
              "      <td>LightGBM</td>\n",
              "      <td>97.575163</td>\n",
              "      <td>96.792839</td>\n",
              "    </tr>\n",
              "    <tr>\n",
              "      <th>4</th>\n",
              "      <td>XGBoost</td>\n",
              "      <td>96.614379</td>\n",
              "      <td>96.398551</td>\n",
              "    </tr>\n",
              "  </tbody>\n",
              "</table>\n",
              "</div>"
            ],
            "text/plain": [
              "       Names       Wine  Breast_Cancer\n",
              "0   AdaBoost  91.696078      95.620631\n",
              "1  GradBoost  94.486928      96.706948\n",
              "2   CatBoost  97.852941      97.173274\n",
              "3   LightGBM  97.575163      96.792839\n",
              "4    XGBoost  96.614379      96.398551"
            ]
          },
          "execution_count": 120,
          "metadata": {},
          "output_type": "execute_result"
        }
      ],
      "source": [
        "Algo_results"
      ]
    },
    {
      "cell_type": "code",
      "execution_count": 121,
      "metadata": {},
      "outputs": [],
      "source": [
        "Algo_time_results['Breast_Cancer'] = pd.Series(execution_times)"
      ]
    },
    {
      "cell_type": "markdown",
      "metadata": {
        "id": "psAEuT3OvKVH"
      },
      "source": [
        "---"
      ]
    },
    {
      "cell_type": "markdown",
      "metadata": {
        "id": "uh2gSNp2vKVI"
      },
      "source": [
        "# **Sonar Dataset** #"
      ]
    },
    {
      "cell_type": "markdown",
      "metadata": {
        "id": "LLEAC4mFvKVI"
      },
      "source": [
        "---"
      ]
    },
    {
      "cell_type": "code",
      "execution_count": 122,
      "metadata": {
        "id": "gnAxpcCfvKVI"
      },
      "outputs": [],
      "source": [
        "sonar_df = pd.read_csv('E:\\Cursos\\MestradoCienciaComputação\\Seminario\\Datasets\\Sonar\\Sonar.csv', header=None)"
      ]
    },
    {
      "cell_type": "code",
      "execution_count": 123,
      "metadata": {
        "colab": {
          "base_uri": "https://localhost:8080/"
        },
        "id": "iS3eGHdcvKVI",
        "outputId": "d0f2e55c-6f53-493a-fa00-59fbec35d8c6"
      },
      "outputs": [
        {
          "data": {
            "text/plain": [
              "(208, 61)"
            ]
          },
          "execution_count": 123,
          "metadata": {},
          "output_type": "execute_result"
        }
      ],
      "source": [
        "sonar_df.shape"
      ]
    },
    {
      "cell_type": "code",
      "execution_count": 124,
      "metadata": {
        "colab": {
          "base_uri": "https://localhost:8080/",
          "height": 235
        },
        "id": "hvGtIR_mvKVI",
        "outputId": "720c3bc0-5b7e-474b-acbc-7e94f6f28b01"
      },
      "outputs": [
        {
          "data": {
            "text/html": [
              "<div>\n",
              "<style scoped>\n",
              "    .dataframe tbody tr th:only-of-type {\n",
              "        vertical-align: middle;\n",
              "    }\n",
              "\n",
              "    .dataframe tbody tr th {\n",
              "        vertical-align: top;\n",
              "    }\n",
              "\n",
              "    .dataframe thead th {\n",
              "        text-align: right;\n",
              "    }\n",
              "</style>\n",
              "<table border=\"1\" class=\"dataframe\">\n",
              "  <thead>\n",
              "    <tr style=\"text-align: right;\">\n",
              "      <th></th>\n",
              "      <th>0</th>\n",
              "      <th>1</th>\n",
              "      <th>2</th>\n",
              "      <th>3</th>\n",
              "      <th>4</th>\n",
              "      <th>5</th>\n",
              "      <th>6</th>\n",
              "      <th>7</th>\n",
              "      <th>8</th>\n",
              "      <th>9</th>\n",
              "      <th>...</th>\n",
              "      <th>51</th>\n",
              "      <th>52</th>\n",
              "      <th>53</th>\n",
              "      <th>54</th>\n",
              "      <th>55</th>\n",
              "      <th>56</th>\n",
              "      <th>57</th>\n",
              "      <th>58</th>\n",
              "      <th>59</th>\n",
              "      <th>60</th>\n",
              "    </tr>\n",
              "  </thead>\n",
              "  <tbody>\n",
              "    <tr>\n",
              "      <th>0</th>\n",
              "      <td>0.0200</td>\n",
              "      <td>0.0371</td>\n",
              "      <td>0.0428</td>\n",
              "      <td>0.0207</td>\n",
              "      <td>0.0954</td>\n",
              "      <td>0.0986</td>\n",
              "      <td>0.1539</td>\n",
              "      <td>0.1601</td>\n",
              "      <td>0.3109</td>\n",
              "      <td>0.2111</td>\n",
              "      <td>...</td>\n",
              "      <td>0.0027</td>\n",
              "      <td>0.0065</td>\n",
              "      <td>0.0159</td>\n",
              "      <td>0.0072</td>\n",
              "      <td>0.0167</td>\n",
              "      <td>0.0180</td>\n",
              "      <td>0.0084</td>\n",
              "      <td>0.0090</td>\n",
              "      <td>0.0032</td>\n",
              "      <td>R</td>\n",
              "    </tr>\n",
              "    <tr>\n",
              "      <th>1</th>\n",
              "      <td>0.0453</td>\n",
              "      <td>0.0523</td>\n",
              "      <td>0.0843</td>\n",
              "      <td>0.0689</td>\n",
              "      <td>0.1183</td>\n",
              "      <td>0.2583</td>\n",
              "      <td>0.2156</td>\n",
              "      <td>0.3481</td>\n",
              "      <td>0.3337</td>\n",
              "      <td>0.2872</td>\n",
              "      <td>...</td>\n",
              "      <td>0.0084</td>\n",
              "      <td>0.0089</td>\n",
              "      <td>0.0048</td>\n",
              "      <td>0.0094</td>\n",
              "      <td>0.0191</td>\n",
              "      <td>0.0140</td>\n",
              "      <td>0.0049</td>\n",
              "      <td>0.0052</td>\n",
              "      <td>0.0044</td>\n",
              "      <td>R</td>\n",
              "    </tr>\n",
              "    <tr>\n",
              "      <th>2</th>\n",
              "      <td>0.0262</td>\n",
              "      <td>0.0582</td>\n",
              "      <td>0.1099</td>\n",
              "      <td>0.1083</td>\n",
              "      <td>0.0974</td>\n",
              "      <td>0.2280</td>\n",
              "      <td>0.2431</td>\n",
              "      <td>0.3771</td>\n",
              "      <td>0.5598</td>\n",
              "      <td>0.6194</td>\n",
              "      <td>...</td>\n",
              "      <td>0.0232</td>\n",
              "      <td>0.0166</td>\n",
              "      <td>0.0095</td>\n",
              "      <td>0.0180</td>\n",
              "      <td>0.0244</td>\n",
              "      <td>0.0316</td>\n",
              "      <td>0.0164</td>\n",
              "      <td>0.0095</td>\n",
              "      <td>0.0078</td>\n",
              "      <td>R</td>\n",
              "    </tr>\n",
              "    <tr>\n",
              "      <th>3</th>\n",
              "      <td>0.0100</td>\n",
              "      <td>0.0171</td>\n",
              "      <td>0.0623</td>\n",
              "      <td>0.0205</td>\n",
              "      <td>0.0205</td>\n",
              "      <td>0.0368</td>\n",
              "      <td>0.1098</td>\n",
              "      <td>0.1276</td>\n",
              "      <td>0.0598</td>\n",
              "      <td>0.1264</td>\n",
              "      <td>...</td>\n",
              "      <td>0.0121</td>\n",
              "      <td>0.0036</td>\n",
              "      <td>0.0150</td>\n",
              "      <td>0.0085</td>\n",
              "      <td>0.0073</td>\n",
              "      <td>0.0050</td>\n",
              "      <td>0.0044</td>\n",
              "      <td>0.0040</td>\n",
              "      <td>0.0117</td>\n",
              "      <td>R</td>\n",
              "    </tr>\n",
              "    <tr>\n",
              "      <th>4</th>\n",
              "      <td>0.0762</td>\n",
              "      <td>0.0666</td>\n",
              "      <td>0.0481</td>\n",
              "      <td>0.0394</td>\n",
              "      <td>0.0590</td>\n",
              "      <td>0.0649</td>\n",
              "      <td>0.1209</td>\n",
              "      <td>0.2467</td>\n",
              "      <td>0.3564</td>\n",
              "      <td>0.4459</td>\n",
              "      <td>...</td>\n",
              "      <td>0.0031</td>\n",
              "      <td>0.0054</td>\n",
              "      <td>0.0105</td>\n",
              "      <td>0.0110</td>\n",
              "      <td>0.0015</td>\n",
              "      <td>0.0072</td>\n",
              "      <td>0.0048</td>\n",
              "      <td>0.0107</td>\n",
              "      <td>0.0094</td>\n",
              "      <td>R</td>\n",
              "    </tr>\n",
              "  </tbody>\n",
              "</table>\n",
              "<p>5 rows × 61 columns</p>\n",
              "</div>"
            ],
            "text/plain": [
              "       0       1       2       3       4       5       6       7       8   \\\n",
              "0  0.0200  0.0371  0.0428  0.0207  0.0954  0.0986  0.1539  0.1601  0.3109   \n",
              "1  0.0453  0.0523  0.0843  0.0689  0.1183  0.2583  0.2156  0.3481  0.3337   \n",
              "2  0.0262  0.0582  0.1099  0.1083  0.0974  0.2280  0.2431  0.3771  0.5598   \n",
              "3  0.0100  0.0171  0.0623  0.0205  0.0205  0.0368  0.1098  0.1276  0.0598   \n",
              "4  0.0762  0.0666  0.0481  0.0394  0.0590  0.0649  0.1209  0.2467  0.3564   \n",
              "\n",
              "       9   ...      51      52      53      54      55      56      57  \\\n",
              "0  0.2111  ...  0.0027  0.0065  0.0159  0.0072  0.0167  0.0180  0.0084   \n",
              "1  0.2872  ...  0.0084  0.0089  0.0048  0.0094  0.0191  0.0140  0.0049   \n",
              "2  0.6194  ...  0.0232  0.0166  0.0095  0.0180  0.0244  0.0316  0.0164   \n",
              "3  0.1264  ...  0.0121  0.0036  0.0150  0.0085  0.0073  0.0050  0.0044   \n",
              "4  0.4459  ...  0.0031  0.0054  0.0105  0.0110  0.0015  0.0072  0.0048   \n",
              "\n",
              "       58      59  60  \n",
              "0  0.0090  0.0032   R  \n",
              "1  0.0052  0.0044   R  \n",
              "2  0.0095  0.0078   R  \n",
              "3  0.0040  0.0117   R  \n",
              "4  0.0107  0.0094   R  \n",
              "\n",
              "[5 rows x 61 columns]"
            ]
          },
          "execution_count": 124,
          "metadata": {},
          "output_type": "execute_result"
        }
      ],
      "source": [
        "sonar_df.head()"
      ]
    },
    {
      "cell_type": "code",
      "execution_count": 125,
      "metadata": {
        "colab": {
          "base_uri": "https://localhost:8080/"
        },
        "id": "vuLm4_tJvKVI",
        "outputId": "cdc3c34e-b9de-4329-ee15-d3fe7f8b4429"
      },
      "outputs": [
        {
          "name": "stdout",
          "output_type": "stream",
          "text": [
            "<class 'pandas.core.frame.DataFrame'>\n",
            "RangeIndex: 208 entries, 0 to 207\n",
            "Data columns (total 61 columns):\n",
            " #   Column  Non-Null Count  Dtype  \n",
            "---  ------  --------------  -----  \n",
            " 0   0       208 non-null    float64\n",
            " 1   1       208 non-null    float64\n",
            " 2   2       208 non-null    float64\n",
            " 3   3       208 non-null    float64\n",
            " 4   4       208 non-null    float64\n",
            " 5   5       208 non-null    float64\n",
            " 6   6       208 non-null    float64\n",
            " 7   7       208 non-null    float64\n",
            " 8   8       208 non-null    float64\n",
            " 9   9       208 non-null    float64\n",
            " 10  10      208 non-null    float64\n",
            " 11  11      208 non-null    float64\n",
            " 12  12      208 non-null    float64\n",
            " 13  13      208 non-null    float64\n",
            " 14  14      208 non-null    float64\n",
            " 15  15      208 non-null    float64\n",
            " 16  16      208 non-null    float64\n",
            " 17  17      208 non-null    float64\n",
            " 18  18      208 non-null    float64\n",
            " 19  19      208 non-null    float64\n",
            " 20  20      208 non-null    float64\n",
            " 21  21      208 non-null    float64\n",
            " 22  22      208 non-null    float64\n",
            " 23  23      208 non-null    float64\n",
            " 24  24      208 non-null    float64\n",
            " 25  25      208 non-null    float64\n",
            " 26  26      208 non-null    float64\n",
            " 27  27      208 non-null    float64\n",
            " 28  28      208 non-null    float64\n",
            " 29  29      208 non-null    float64\n",
            " 30  30      208 non-null    float64\n",
            " 31  31      208 non-null    float64\n",
            " 32  32      208 non-null    float64\n",
            " 33  33      208 non-null    float64\n",
            " 34  34      208 non-null    float64\n",
            " 35  35      208 non-null    float64\n",
            " 36  36      208 non-null    float64\n",
            " 37  37      208 non-null    float64\n",
            " 38  38      208 non-null    float64\n",
            " 39  39      208 non-null    float64\n",
            " 40  40      208 non-null    float64\n",
            " 41  41      208 non-null    float64\n",
            " 42  42      208 non-null    float64\n",
            " 43  43      208 non-null    float64\n",
            " 44  44      208 non-null    float64\n",
            " 45  45      208 non-null    float64\n",
            " 46  46      208 non-null    float64\n",
            " 47  47      208 non-null    float64\n",
            " 48  48      208 non-null    float64\n",
            " 49  49      208 non-null    float64\n",
            " 50  50      208 non-null    float64\n",
            " 51  51      208 non-null    float64\n",
            " 52  52      208 non-null    float64\n",
            " 53  53      208 non-null    float64\n",
            " 54  54      208 non-null    float64\n",
            " 55  55      208 non-null    float64\n",
            " 56  56      208 non-null    float64\n",
            " 57  57      208 non-null    float64\n",
            " 58  58      208 non-null    float64\n",
            " 59  59      208 non-null    float64\n",
            " 60  60      208 non-null    object \n",
            "dtypes: float64(60), object(1)\n",
            "memory usage: 99.2+ KB\n"
          ]
        }
      ],
      "source": [
        "sonar_df.info()"
      ]
    },
    {
      "cell_type": "code",
      "execution_count": 126,
      "metadata": {
        "colab": {
          "base_uri": "https://localhost:8080/"
        },
        "id": "nsQE9tsOvKVI",
        "outputId": "2ec6749e-a206-40b7-9282-25a04100427a"
      },
      "outputs": [
        {
          "data": {
            "text/plain": [
              "60\n",
              "M    111\n",
              "R     97\n",
              "Name: count, dtype: int64"
            ]
          },
          "execution_count": 126,
          "metadata": {},
          "output_type": "execute_result"
        }
      ],
      "source": [
        "# A little unbalanced dataset\n",
        "\n",
        "sonar_df[60].value_counts()"
      ]
    },
    {
      "cell_type": "code",
      "execution_count": 127,
      "metadata": {
        "id": "lHhiZcIYvKVI"
      },
      "outputs": [],
      "source": [
        "X = sonar_df.iloc[:, :-1]\n",
        "y = sonar_df.iloc[:, -1]"
      ]
    },
    {
      "cell_type": "code",
      "execution_count": 128,
      "metadata": {
        "colab": {
          "base_uri": "https://localhost:8080/",
          "height": 235
        },
        "id": "XZ-2JZwqvKVI",
        "outputId": "3486bec5-6593-41e5-cd49-22d602e27150"
      },
      "outputs": [
        {
          "data": {
            "text/html": [
              "<div>\n",
              "<style scoped>\n",
              "    .dataframe tbody tr th:only-of-type {\n",
              "        vertical-align: middle;\n",
              "    }\n",
              "\n",
              "    .dataframe tbody tr th {\n",
              "        vertical-align: top;\n",
              "    }\n",
              "\n",
              "    .dataframe thead th {\n",
              "        text-align: right;\n",
              "    }\n",
              "</style>\n",
              "<table border=\"1\" class=\"dataframe\">\n",
              "  <thead>\n",
              "    <tr style=\"text-align: right;\">\n",
              "      <th></th>\n",
              "      <th>0</th>\n",
              "      <th>1</th>\n",
              "      <th>2</th>\n",
              "      <th>3</th>\n",
              "      <th>4</th>\n",
              "      <th>5</th>\n",
              "      <th>6</th>\n",
              "      <th>7</th>\n",
              "      <th>8</th>\n",
              "      <th>9</th>\n",
              "      <th>...</th>\n",
              "      <th>50</th>\n",
              "      <th>51</th>\n",
              "      <th>52</th>\n",
              "      <th>53</th>\n",
              "      <th>54</th>\n",
              "      <th>55</th>\n",
              "      <th>56</th>\n",
              "      <th>57</th>\n",
              "      <th>58</th>\n",
              "      <th>59</th>\n",
              "    </tr>\n",
              "  </thead>\n",
              "  <tbody>\n",
              "    <tr>\n",
              "      <th>0</th>\n",
              "      <td>0.0200</td>\n",
              "      <td>0.0371</td>\n",
              "      <td>0.0428</td>\n",
              "      <td>0.0207</td>\n",
              "      <td>0.0954</td>\n",
              "      <td>0.0986</td>\n",
              "      <td>0.1539</td>\n",
              "      <td>0.1601</td>\n",
              "      <td>0.3109</td>\n",
              "      <td>0.2111</td>\n",
              "      <td>...</td>\n",
              "      <td>0.0232</td>\n",
              "      <td>0.0027</td>\n",
              "      <td>0.0065</td>\n",
              "      <td>0.0159</td>\n",
              "      <td>0.0072</td>\n",
              "      <td>0.0167</td>\n",
              "      <td>0.0180</td>\n",
              "      <td>0.0084</td>\n",
              "      <td>0.0090</td>\n",
              "      <td>0.0032</td>\n",
              "    </tr>\n",
              "    <tr>\n",
              "      <th>1</th>\n",
              "      <td>0.0453</td>\n",
              "      <td>0.0523</td>\n",
              "      <td>0.0843</td>\n",
              "      <td>0.0689</td>\n",
              "      <td>0.1183</td>\n",
              "      <td>0.2583</td>\n",
              "      <td>0.2156</td>\n",
              "      <td>0.3481</td>\n",
              "      <td>0.3337</td>\n",
              "      <td>0.2872</td>\n",
              "      <td>...</td>\n",
              "      <td>0.0125</td>\n",
              "      <td>0.0084</td>\n",
              "      <td>0.0089</td>\n",
              "      <td>0.0048</td>\n",
              "      <td>0.0094</td>\n",
              "      <td>0.0191</td>\n",
              "      <td>0.0140</td>\n",
              "      <td>0.0049</td>\n",
              "      <td>0.0052</td>\n",
              "      <td>0.0044</td>\n",
              "    </tr>\n",
              "    <tr>\n",
              "      <th>2</th>\n",
              "      <td>0.0262</td>\n",
              "      <td>0.0582</td>\n",
              "      <td>0.1099</td>\n",
              "      <td>0.1083</td>\n",
              "      <td>0.0974</td>\n",
              "      <td>0.2280</td>\n",
              "      <td>0.2431</td>\n",
              "      <td>0.3771</td>\n",
              "      <td>0.5598</td>\n",
              "      <td>0.6194</td>\n",
              "      <td>...</td>\n",
              "      <td>0.0033</td>\n",
              "      <td>0.0232</td>\n",
              "      <td>0.0166</td>\n",
              "      <td>0.0095</td>\n",
              "      <td>0.0180</td>\n",
              "      <td>0.0244</td>\n",
              "      <td>0.0316</td>\n",
              "      <td>0.0164</td>\n",
              "      <td>0.0095</td>\n",
              "      <td>0.0078</td>\n",
              "    </tr>\n",
              "    <tr>\n",
              "      <th>3</th>\n",
              "      <td>0.0100</td>\n",
              "      <td>0.0171</td>\n",
              "      <td>0.0623</td>\n",
              "      <td>0.0205</td>\n",
              "      <td>0.0205</td>\n",
              "      <td>0.0368</td>\n",
              "      <td>0.1098</td>\n",
              "      <td>0.1276</td>\n",
              "      <td>0.0598</td>\n",
              "      <td>0.1264</td>\n",
              "      <td>...</td>\n",
              "      <td>0.0241</td>\n",
              "      <td>0.0121</td>\n",
              "      <td>0.0036</td>\n",
              "      <td>0.0150</td>\n",
              "      <td>0.0085</td>\n",
              "      <td>0.0073</td>\n",
              "      <td>0.0050</td>\n",
              "      <td>0.0044</td>\n",
              "      <td>0.0040</td>\n",
              "      <td>0.0117</td>\n",
              "    </tr>\n",
              "    <tr>\n",
              "      <th>4</th>\n",
              "      <td>0.0762</td>\n",
              "      <td>0.0666</td>\n",
              "      <td>0.0481</td>\n",
              "      <td>0.0394</td>\n",
              "      <td>0.0590</td>\n",
              "      <td>0.0649</td>\n",
              "      <td>0.1209</td>\n",
              "      <td>0.2467</td>\n",
              "      <td>0.3564</td>\n",
              "      <td>0.4459</td>\n",
              "      <td>...</td>\n",
              "      <td>0.0156</td>\n",
              "      <td>0.0031</td>\n",
              "      <td>0.0054</td>\n",
              "      <td>0.0105</td>\n",
              "      <td>0.0110</td>\n",
              "      <td>0.0015</td>\n",
              "      <td>0.0072</td>\n",
              "      <td>0.0048</td>\n",
              "      <td>0.0107</td>\n",
              "      <td>0.0094</td>\n",
              "    </tr>\n",
              "  </tbody>\n",
              "</table>\n",
              "<p>5 rows × 60 columns</p>\n",
              "</div>"
            ],
            "text/plain": [
              "       0       1       2       3       4       5       6       7       8   \\\n",
              "0  0.0200  0.0371  0.0428  0.0207  0.0954  0.0986  0.1539  0.1601  0.3109   \n",
              "1  0.0453  0.0523  0.0843  0.0689  0.1183  0.2583  0.2156  0.3481  0.3337   \n",
              "2  0.0262  0.0582  0.1099  0.1083  0.0974  0.2280  0.2431  0.3771  0.5598   \n",
              "3  0.0100  0.0171  0.0623  0.0205  0.0205  0.0368  0.1098  0.1276  0.0598   \n",
              "4  0.0762  0.0666  0.0481  0.0394  0.0590  0.0649  0.1209  0.2467  0.3564   \n",
              "\n",
              "       9   ...      50      51      52      53      54      55      56  \\\n",
              "0  0.2111  ...  0.0232  0.0027  0.0065  0.0159  0.0072  0.0167  0.0180   \n",
              "1  0.2872  ...  0.0125  0.0084  0.0089  0.0048  0.0094  0.0191  0.0140   \n",
              "2  0.6194  ...  0.0033  0.0232  0.0166  0.0095  0.0180  0.0244  0.0316   \n",
              "3  0.1264  ...  0.0241  0.0121  0.0036  0.0150  0.0085  0.0073  0.0050   \n",
              "4  0.4459  ...  0.0156  0.0031  0.0054  0.0105  0.0110  0.0015  0.0072   \n",
              "\n",
              "       57      58      59  \n",
              "0  0.0084  0.0090  0.0032  \n",
              "1  0.0049  0.0052  0.0044  \n",
              "2  0.0164  0.0095  0.0078  \n",
              "3  0.0044  0.0040  0.0117  \n",
              "4  0.0048  0.0107  0.0094  \n",
              "\n",
              "[5 rows x 60 columns]"
            ]
          },
          "execution_count": 128,
          "metadata": {},
          "output_type": "execute_result"
        }
      ],
      "source": [
        "X.head()"
      ]
    },
    {
      "cell_type": "code",
      "execution_count": 129,
      "metadata": {
        "colab": {
          "base_uri": "https://localhost:8080/"
        },
        "id": "kK7NhaJlvKVI",
        "outputId": "609e232d-08d3-4483-9a82-1cfc4de233ea"
      },
      "outputs": [
        {
          "data": {
            "text/plain": [
              "0    R\n",
              "1    R\n",
              "2    R\n",
              "3    R\n",
              "4    R\n",
              "Name: 60, dtype: object"
            ]
          },
          "execution_count": 129,
          "metadata": {},
          "output_type": "execute_result"
        }
      ],
      "source": [
        "y.head()"
      ]
    },
    {
      "cell_type": "code",
      "execution_count": 130,
      "metadata": {
        "id": "_0G-s7zTvKVJ"
      },
      "outputs": [],
      "source": [
        "# Since version 1.3.2 XGBoost needs target columns to start with 0 value\n",
        "\n",
        "le = LabelEncoder()\n",
        "y = le.fit_transform(y)"
      ]
    },
    {
      "cell_type": "code",
      "execution_count": 131,
      "metadata": {
        "colab": {
          "base_uri": "https://localhost:8080/"
        },
        "id": "ujjuEscsvKVJ",
        "outputId": "6364ee97-e5cb-42e1-89e2-a0401a83e6e8"
      },
      "outputs": [
        {
          "name": "stdout",
          "output_type": "stream",
          "text": [
            "--------- AdaBoost on Sonar Dataset ---------\n",
            "[0.95238095 0.66666667 0.71428571 0.76190476 0.61904762 0.80952381\n",
            " 0.71428571 0.76190476 0.8        0.9        0.76190476 0.9047619\n",
            " 0.85714286 0.9047619  0.71428571 0.85714286 0.76190476 0.76190476\n",
            " 0.8        0.65       0.80952381 0.80952381 0.95238095 0.9047619\n",
            " 0.85714286 0.80952381 0.85714286 0.95238095 0.85       0.8\n",
            " 0.95238095 0.9047619  0.85714286 0.71428571 0.80952381 0.9047619\n",
            " 0.80952381 0.85714286 0.75       0.65       0.80952381 0.80952381\n",
            " 0.9047619  0.57142857 0.80952381 0.85714286 0.80952381 0.66666667\n",
            " 0.75       0.9        0.95238095 0.9047619  0.76190476 0.80952381\n",
            " 0.76190476 0.85714286 0.85714286 0.9047619  0.9        0.8\n",
            " 0.76190476 0.85714286 0.9047619  0.80952381 0.80952381 0.76190476\n",
            " 0.9047619  0.9047619  0.65       1.         0.85714286 0.80952381\n",
            " 0.76190476 0.9047619  0.9047619  0.80952381 0.80952381 0.85714286\n",
            " 0.7        0.75       0.9047619  0.76190476 0.71428571 0.9047619\n",
            " 0.80952381 0.9047619  0.85714286 0.95238095 0.9        0.85\n",
            " 0.76190476 0.85714286 0.71428571 0.9047619  0.95238095 0.85714286\n",
            " 0.71428571 0.85714286 0.75       0.7       ]\n",
            "Accuracy: 82.04% (8.56%)\n",
            "Execution Time: 17.34 seconds\n",
            "------------------------------\n",
            "--------- GradBoost on Sonar Dataset ---------\n",
            "[0.9047619  0.71428571 0.80952381 0.9047619  0.80952381 0.9047619\n",
            " 0.80952381 0.9047619  0.85       0.95       0.66666667 0.85714286\n",
            " 0.85714286 0.95238095 0.80952381 0.85714286 0.80952381 0.80952381\n",
            " 0.95       0.7        0.85714286 0.76190476 1.         0.9047619\n",
            " 0.80952381 0.80952381 0.80952381 0.9047619  0.9        0.75\n",
            " 0.95238095 0.9047619  0.85714286 0.71428571 0.85714286 0.80952381\n",
            " 0.76190476 0.80952381 0.8        0.7        0.85714286 0.76190476\n",
            " 0.85714286 0.61904762 0.71428571 0.85714286 0.85714286 0.80952381\n",
            " 0.85       0.85       0.95238095 0.71428571 0.85714286 0.71428571\n",
            " 0.80952381 0.85714286 0.9047619  0.95238095 0.95       0.8\n",
            " 0.71428571 0.76190476 0.9047619  0.80952381 0.80952381 0.9047619\n",
            " 0.85714286 0.71428571 0.7        0.95       0.9047619  0.95238095\n",
            " 0.80952381 0.9047619  0.9047619  0.76190476 0.80952381 0.80952381\n",
            " 0.85       0.85       0.85714286 0.61904762 0.71428571 0.85714286\n",
            " 0.80952381 0.9047619  0.9047619  0.9047619  0.9        0.85\n",
            " 0.61904762 0.9047619  0.71428571 0.85714286 0.95238095 0.9047619\n",
            " 0.76190476 0.85714286 0.75       0.95      ]\n",
            "Accuracy: 83.33% (8.35%)\n",
            "Execution Time: 72.54 seconds\n",
            "------------------------------\n",
            "--------- CatBoost on Sonar Dataset ---------\n",
            "[1.         0.71428571 0.80952381 0.85714286 0.71428571 0.95238095\n",
            " 0.85714286 0.85714286 0.8        0.95       0.76190476 0.85714286\n",
            " 0.95238095 0.95238095 0.80952381 0.9047619  0.9047619  0.76190476\n",
            " 0.95       0.7        0.9047619  0.66666667 1.         0.9047619\n",
            " 0.76190476 0.80952381 0.85714286 0.9047619  0.95       0.85\n",
            " 0.95238095 0.95238095 0.85714286 0.80952381 0.85714286 0.80952381\n",
            " 0.9047619  0.85714286 0.85       0.8        0.9047619  0.76190476\n",
            " 0.9047619  0.76190476 0.76190476 0.80952381 0.85714286 0.85714286\n",
            " 0.9        0.85       0.95238095 0.85714286 0.85714286 0.9047619\n",
            " 0.66666667 0.9047619  0.85714286 0.95238095 0.9        0.85\n",
            " 0.85714286 0.9047619  0.9047619  0.85714286 0.85714286 0.95238095\n",
            " 0.95238095 0.9047619  0.65       0.85       0.9047619  0.95238095\n",
            " 0.80952381 0.9047619  0.95238095 0.76190476 0.80952381 0.85714286\n",
            " 0.8        0.9        0.85714286 0.71428571 0.76190476 0.9047619\n",
            " 0.85714286 0.9047619  0.95238095 0.95238095 0.95       0.85\n",
            " 0.85714286 0.80952381 0.76190476 0.85714286 0.95238095 0.9047619\n",
            " 0.80952381 0.9047619  0.8        1.        ]\n",
            "Accuracy: 86.10% (7.67%)\n",
            "Execution Time: 378.38 seconds\n",
            "------------------------------\n",
            "--------- LightGBM on Sonar Dataset ---------\n",
            "[1.         0.85714286 0.95238095 0.95238095 0.76190476 0.9047619\n",
            " 0.95238095 0.9047619  0.9        0.95       0.71428571 0.9047619\n",
            " 0.9047619  0.95238095 0.85714286 0.95238095 0.85714286 0.85714286\n",
            " 0.85       0.7        0.9047619  0.80952381 1.         0.9047619\n",
            " 0.80952381 0.76190476 0.85714286 0.9047619  0.95       0.85\n",
            " 0.95238095 0.95238095 0.95238095 0.85714286 0.85714286 0.85714286\n",
            " 0.76190476 0.76190476 0.8        0.9        0.80952381 0.80952381\n",
            " 0.95238095 0.71428571 0.71428571 0.9047619  0.9047619  0.9047619\n",
            " 0.85       0.85       0.95238095 0.80952381 0.80952381 0.76190476\n",
            " 0.76190476 0.9047619  0.85714286 1.         0.95       0.9\n",
            " 0.71428571 0.9047619  0.9047619  0.80952381 0.85714286 0.9047619\n",
            " 0.95238095 0.95238095 0.8        0.95       0.9047619  0.85714286\n",
            " 0.80952381 1.         0.9047619  0.76190476 0.9047619  0.80952381\n",
            " 0.85       0.85       0.80952381 0.76190476 0.9047619  0.9047619\n",
            " 0.9047619  0.85714286 0.95238095 0.95238095 0.95       0.85\n",
            " 0.9047619  0.85714286 0.71428571 0.9047619  0.9047619  0.9047619\n",
            " 0.85714286 0.9047619  0.9        1.        ]\n",
            "Accuracy: 87.31% (7.34%)\n",
            "Execution Time: 2.35 seconds\n",
            "------------------------------\n",
            "--------- XGBoost on Sonar Dataset ---------\n",
            "[1.         0.80952381 0.76190476 0.95238095 0.71428571 0.95238095\n",
            " 0.76190476 0.85714286 0.9        0.95       0.71428571 0.9047619\n",
            " 0.9047619  0.85714286 0.85714286 0.9047619  0.80952381 0.9047619\n",
            " 0.9        0.7        0.95238095 0.85714286 0.95238095 0.9047619\n",
            " 0.80952381 0.76190476 0.9047619  0.95238095 0.8        0.85\n",
            " 0.95238095 0.9047619  0.85714286 0.66666667 0.71428571 0.80952381\n",
            " 0.80952381 0.9047619  0.8        0.85       0.9047619  0.76190476\n",
            " 0.9047619  0.76190476 0.85714286 0.85714286 0.80952381 0.76190476\n",
            " 0.9        0.85       0.95238095 0.85714286 0.80952381 0.66666667\n",
            " 0.71428571 0.9047619  0.76190476 0.95238095 0.95       0.85\n",
            " 0.85714286 0.85714286 0.9047619  0.80952381 0.9047619  0.9047619\n",
            " 0.95238095 0.85714286 0.65       0.8        0.85714286 0.95238095\n",
            " 0.80952381 1.         0.85714286 0.80952381 0.80952381 0.85714286\n",
            " 0.8        0.9        0.9047619  0.61904762 0.76190476 0.85714286\n",
            " 0.9047619  0.9047619  0.85714286 0.95238095 0.95       0.95\n",
            " 0.76190476 0.85714286 0.80952381 0.85714286 0.9047619  0.85714286\n",
            " 0.85714286 0.9047619  0.8        0.9       ]\n",
            "Accuracy: 85.24% (7.93%)\n",
            "Execution Time: 5.58 seconds\n",
            "------------------------------\n"
          ]
        }
      ],
      "source": [
        "sonar_scores = []\n",
        "sonar_mean = []\n",
        "sonar_std = []\n",
        "model_names = []\n",
        "execution_times = []\n",
        "\n",
        "\n",
        "for name, clf in zip(names, classifiers):\n",
        "  start_time = time.time()\n",
        "  results = cross_val_score(clf, X, y, cv=rskf)\n",
        "  end_time = time.time()\n",
        "\n",
        "  sonar_scores.append(results)\n",
        "  sonar_mean.append(results.mean()*100)\n",
        "  sonar_std.append(results.std()*100)\n",
        "  model_names.append(name)\n",
        "  execution_time = end_time - start_time  \n",
        "  execution_times.append(execution_time)\n",
        "\n",
        "  print(f'--------- {name} on Sonar Dataset ---------')\n",
        "  print(results)\n",
        "  print('Accuracy: %.2f%% (%.2f%%)' % (results.mean()*100, results.std()*100))\n",
        "  print(f'Execution Time: {execution_time:.2f} seconds')\n",
        "  print('------------------------------')"
      ]
    },
    {
      "cell_type": "code",
      "execution_count": 132,
      "metadata": {
        "colab": {
          "base_uri": "https://localhost:8080/"
        },
        "id": "VkXigirLvKVJ",
        "outputId": "33c7971b-be47-4a79-fffa-de81d8015900"
      },
      "outputs": [
        {
          "data": {
            "text/plain": [
              "[82.0404761904762,\n",
              " 83.32619047619048,\n",
              " 86.10238095238094,\n",
              " 87.31428571428572,\n",
              " 85.24047619047619]"
            ]
          },
          "execution_count": 132,
          "metadata": {},
          "output_type": "execute_result"
        }
      ],
      "source": [
        "sonar_mean"
      ]
    },
    {
      "cell_type": "code",
      "execution_count": 133,
      "metadata": {
        "colab": {
          "base_uri": "https://localhost:8080/"
        },
        "id": "f-vh58owvKVJ",
        "outputId": "94283853-2653-4f6e-8d35-68f85f4995cf"
      },
      "outputs": [
        {
          "data": {
            "text/plain": [
              "[8.562446020817324,\n",
              " 8.347501900680191,\n",
              " 7.673662513551277,\n",
              " 7.344617169093581,\n",
              " 7.930715783235906]"
            ]
          },
          "execution_count": 133,
          "metadata": {},
          "output_type": "execute_result"
        }
      ],
      "source": [
        "sonar_std"
      ]
    },
    {
      "cell_type": "code",
      "execution_count": 134,
      "metadata": {
        "colab": {
          "base_uri": "https://localhost:8080/",
          "height": 478
        },
        "id": "-QLomc6MvKVJ",
        "outputId": "d05e78d6-acab-4df8-c39c-a5194d72aa6d"
      },
      "outputs": [
        {
          "data": {
            "image/png": "[encoded data removed]",
            "text/plain": [
              "<Figure size 640x480 with 1 Axes>"
            ]
          },
          "metadata": {},
          "output_type": "display_data"
        }
      ],
      "source": [
        "# algorithm comparison\n",
        "\n",
        "fig = plt.figure()\n",
        "fig.suptitle('Comparison between different Sonar scores')\n",
        "ax = fig.add_subplot(111)\n",
        "plt.ylim(0.3, 1)\n",
        "plt.boxplot(sonar_scores, showmeans=True)\n",
        "ax.set_xticklabels(model_names)\n",
        "plt.show()"
      ]
    },
    {
      "cell_type": "code",
      "execution_count": 135,
      "metadata": {
        "id": "lsdpGQS6vKVK"
      },
      "outputs": [],
      "source": [
        "Algo_results['Sonar'] = sonar_mean"
      ]
    },
    {
      "cell_type": "code",
      "execution_count": 136,
      "metadata": {
        "colab": {
          "base_uri": "https://localhost:8080/",
          "height": 206
        },
        "id": "xwtISDu-vKVK",
        "outputId": "bfc5933b-781a-46bd-d7fe-828f622145a5"
      },
      "outputs": [
        {
          "data": {
            "text/html": [
              "<div>\n",
              "<style scoped>\n",
              "    .dataframe tbody tr th:only-of-type {\n",
              "        vertical-align: middle;\n",
              "    }\n",
              "\n",
              "    .dataframe tbody tr th {\n",
              "        vertical-align: top;\n",
              "    }\n",
              "\n",
              "    .dataframe thead th {\n",
              "        text-align: right;\n",
              "    }\n",
              "</style>\n",
              "<table border=\"1\" class=\"dataframe\">\n",
              "  <thead>\n",
              "    <tr style=\"text-align: right;\">\n",
              "      <th></th>\n",
              "      <th>Names</th>\n",
              "      <th>Wine</th>\n",
              "      <th>Breast_Cancer</th>\n",
              "      <th>Sonar</th>\n",
              "    </tr>\n",
              "  </thead>\n",
              "  <tbody>\n",
              "    <tr>\n",
              "      <th>0</th>\n",
              "      <td>AdaBoost</td>\n",
              "      <td>91.696078</td>\n",
              "      <td>95.620631</td>\n",
              "      <td>82.040476</td>\n",
              "    </tr>\n",
              "    <tr>\n",
              "      <th>1</th>\n",
              "      <td>GradBoost</td>\n",
              "      <td>94.486928</td>\n",
              "      <td>96.706948</td>\n",
              "      <td>83.326190</td>\n",
              "    </tr>\n",
              "    <tr>\n",
              "      <th>2</th>\n",
              "      <td>CatBoost</td>\n",
              "      <td>97.852941</td>\n",
              "      <td>97.173274</td>\n",
              "      <td>86.102381</td>\n",
              "    </tr>\n",
              "    <tr>\n",
              "      <th>3</th>\n",
              "      <td>LightGBM</td>\n",
              "      <td>97.575163</td>\n",
              "      <td>96.792839</td>\n",
              "      <td>87.314286</td>\n",
              "    </tr>\n",
              "    <tr>\n",
              "      <th>4</th>\n",
              "      <td>XGBoost</td>\n",
              "      <td>96.614379</td>\n",
              "      <td>96.398551</td>\n",
              "      <td>85.240476</td>\n",
              "    </tr>\n",
              "  </tbody>\n",
              "</table>\n",
              "</div>"
            ],
            "text/plain": [
              "       Names       Wine  Breast_Cancer      Sonar\n",
              "0   AdaBoost  91.696078      95.620631  82.040476\n",
              "1  GradBoost  94.486928      96.706948  83.326190\n",
              "2   CatBoost  97.852941      97.173274  86.102381\n",
              "3   LightGBM  97.575163      96.792839  87.314286\n",
              "4    XGBoost  96.614379      96.398551  85.240476"
            ]
          },
          "execution_count": 136,
          "metadata": {},
          "output_type": "execute_result"
        }
      ],
      "source": [
        "Algo_results"
      ]
    },
    {
      "cell_type": "code",
      "execution_count": 137,
      "metadata": {},
      "outputs": [],
      "source": [
        "Algo_time_results['Sonar'] = pd.Series(execution_times)"
      ]
    },
    {
      "cell_type": "markdown",
      "metadata": {
        "id": "ApuCQjlbvKVK"
      },
      "source": [
        "---"
      ]
    },
    {
      "cell_type": "markdown",
      "metadata": {
        "id": "1vYuRJjgvKVK"
      },
      "source": [
        "# **Ionosphere Dataset**"
      ]
    },
    {
      "cell_type": "markdown",
      "metadata": {
        "id": "X5gdLs4SvKVK"
      },
      "source": [
        "---"
      ]
    },
    {
      "cell_type": "code",
      "execution_count": 138,
      "metadata": {
        "id": "rDazJWPWvKVK"
      },
      "outputs": [],
      "source": [
        "ionosphere_df = pd.read_csv('E:\\Cursos\\MestradoCienciaComputação\\Seminario\\Datasets\\Ionosphere\\ionosphere.data', header=None)"
      ]
    },
    {
      "cell_type": "code",
      "execution_count": 139,
      "metadata": {
        "colab": {
          "base_uri": "https://localhost:8080/"
        },
        "id": "7TGRoREqvKVK",
        "outputId": "60247033-10d8-4513-9775-e368fee250eb"
      },
      "outputs": [
        {
          "data": {
            "text/plain": [
              "(351, 35)"
            ]
          },
          "execution_count": 139,
          "metadata": {},
          "output_type": "execute_result"
        }
      ],
      "source": [
        "ionosphere_df.shape"
      ]
    },
    {
      "cell_type": "code",
      "execution_count": 140,
      "metadata": {
        "colab": {
          "base_uri": "https://localhost:8080/",
          "height": 255
        },
        "id": "UXewNniQvKVK",
        "outputId": "97bde013-4558-42e7-b9fd-7c7add3abe8e"
      },
      "outputs": [
        {
          "data": {
            "text/html": [
              "<div>\n",
              "<style scoped>\n",
              "    .dataframe tbody tr th:only-of-type {\n",
              "        vertical-align: middle;\n",
              "    }\n",
              "\n",
              "    .dataframe tbody tr th {\n",
              "        vertical-align: top;\n",
              "    }\n",
              "\n",
              "    .dataframe thead th {\n",
              "        text-align: right;\n",
              "    }\n",
              "</style>\n",
              "<table border=\"1\" class=\"dataframe\">\n",
              "  <thead>\n",
              "    <tr style=\"text-align: right;\">\n",
              "      <th></th>\n",
              "      <th>0</th>\n",
              "      <th>1</th>\n",
              "      <th>2</th>\n",
              "      <th>3</th>\n",
              "      <th>4</th>\n",
              "      <th>5</th>\n",
              "      <th>6</th>\n",
              "      <th>7</th>\n",
              "      <th>8</th>\n",
              "      <th>9</th>\n",
              "      <th>...</th>\n",
              "      <th>25</th>\n",
              "      <th>26</th>\n",
              "      <th>27</th>\n",
              "      <th>28</th>\n",
              "      <th>29</th>\n",
              "      <th>30</th>\n",
              "      <th>31</th>\n",
              "      <th>32</th>\n",
              "      <th>33</th>\n",
              "      <th>34</th>\n",
              "    </tr>\n",
              "  </thead>\n",
              "  <tbody>\n",
              "    <tr>\n",
              "      <th>0</th>\n",
              "      <td>1</td>\n",
              "      <td>0</td>\n",
              "      <td>0.99539</td>\n",
              "      <td>-0.05889</td>\n",
              "      <td>0.85243</td>\n",
              "      <td>0.02306</td>\n",
              "      <td>0.83398</td>\n",
              "      <td>-0.37708</td>\n",
              "      <td>1.00000</td>\n",
              "      <td>0.03760</td>\n",
              "      <td>...</td>\n",
              "      <td>-0.51171</td>\n",
              "      <td>0.41078</td>\n",
              "      <td>-0.46168</td>\n",
              "      <td>0.21266</td>\n",
              "      <td>-0.34090</td>\n",
              "      <td>0.42267</td>\n",
              "      <td>-0.54487</td>\n",
              "      <td>0.18641</td>\n",
              "      <td>-0.45300</td>\n",
              "      <td>g</td>\n",
              "    </tr>\n",
              "    <tr>\n",
              "      <th>1</th>\n",
              "      <td>1</td>\n",
              "      <td>0</td>\n",
              "      <td>1.00000</td>\n",
              "      <td>-0.18829</td>\n",
              "      <td>0.93035</td>\n",
              "      <td>-0.36156</td>\n",
              "      <td>-0.10868</td>\n",
              "      <td>-0.93597</td>\n",
              "      <td>1.00000</td>\n",
              "      <td>-0.04549</td>\n",
              "      <td>...</td>\n",
              "      <td>-0.26569</td>\n",
              "      <td>-0.20468</td>\n",
              "      <td>-0.18401</td>\n",
              "      <td>-0.19040</td>\n",
              "      <td>-0.11593</td>\n",
              "      <td>-0.16626</td>\n",
              "      <td>-0.06288</td>\n",
              "      <td>-0.13738</td>\n",
              "      <td>-0.02447</td>\n",
              "      <td>b</td>\n",
              "    </tr>\n",
              "    <tr>\n",
              "      <th>2</th>\n",
              "      <td>1</td>\n",
              "      <td>0</td>\n",
              "      <td>1.00000</td>\n",
              "      <td>-0.03365</td>\n",
              "      <td>1.00000</td>\n",
              "      <td>0.00485</td>\n",
              "      <td>1.00000</td>\n",
              "      <td>-0.12062</td>\n",
              "      <td>0.88965</td>\n",
              "      <td>0.01198</td>\n",
              "      <td>...</td>\n",
              "      <td>-0.40220</td>\n",
              "      <td>0.58984</td>\n",
              "      <td>-0.22145</td>\n",
              "      <td>0.43100</td>\n",
              "      <td>-0.17365</td>\n",
              "      <td>0.60436</td>\n",
              "      <td>-0.24180</td>\n",
              "      <td>0.56045</td>\n",
              "      <td>-0.38238</td>\n",
              "      <td>g</td>\n",
              "    </tr>\n",
              "    <tr>\n",
              "      <th>3</th>\n",
              "      <td>1</td>\n",
              "      <td>0</td>\n",
              "      <td>1.00000</td>\n",
              "      <td>-0.45161</td>\n",
              "      <td>1.00000</td>\n",
              "      <td>1.00000</td>\n",
              "      <td>0.71216</td>\n",
              "      <td>-1.00000</td>\n",
              "      <td>0.00000</td>\n",
              "      <td>0.00000</td>\n",
              "      <td>...</td>\n",
              "      <td>0.90695</td>\n",
              "      <td>0.51613</td>\n",
              "      <td>1.00000</td>\n",
              "      <td>1.00000</td>\n",
              "      <td>-0.20099</td>\n",
              "      <td>0.25682</td>\n",
              "      <td>1.00000</td>\n",
              "      <td>-0.32382</td>\n",
              "      <td>1.00000</td>\n",
              "      <td>b</td>\n",
              "    </tr>\n",
              "    <tr>\n",
              "      <th>4</th>\n",
              "      <td>1</td>\n",
              "      <td>0</td>\n",
              "      <td>1.00000</td>\n",
              "      <td>-0.02401</td>\n",
              "      <td>0.94140</td>\n",
              "      <td>0.06531</td>\n",
              "      <td>0.92106</td>\n",
              "      <td>-0.23255</td>\n",
              "      <td>0.77152</td>\n",
              "      <td>-0.16399</td>\n",
              "      <td>...</td>\n",
              "      <td>-0.65158</td>\n",
              "      <td>0.13290</td>\n",
              "      <td>-0.53206</td>\n",
              "      <td>0.02431</td>\n",
              "      <td>-0.62197</td>\n",
              "      <td>-0.05707</td>\n",
              "      <td>-0.59573</td>\n",
              "      <td>-0.04608</td>\n",
              "      <td>-0.65697</td>\n",
              "      <td>g</td>\n",
              "    </tr>\n",
              "  </tbody>\n",
              "</table>\n",
              "<p>5 rows × 35 columns</p>\n",
              "</div>"
            ],
            "text/plain": [
              "   0   1        2        3        4        5        6        7        8   \\\n",
              "0   1   0  0.99539 -0.05889  0.85243  0.02306  0.83398 -0.37708  1.00000   \n",
              "1   1   0  1.00000 -0.18829  0.93035 -0.36156 -0.10868 -0.93597  1.00000   \n",
              "2   1   0  1.00000 -0.03365  1.00000  0.00485  1.00000 -0.12062  0.88965   \n",
              "3   1   0  1.00000 -0.45161  1.00000  1.00000  0.71216 -1.00000  0.00000   \n",
              "4   1   0  1.00000 -0.02401  0.94140  0.06531  0.92106 -0.23255  0.77152   \n",
              "\n",
              "        9   ...       25       26       27       28       29       30  \\\n",
              "0  0.03760  ... -0.51171  0.41078 -0.46168  0.21266 -0.34090  0.42267   \n",
              "1 -0.04549  ... -0.26569 -0.20468 -0.18401 -0.19040 -0.11593 -0.16626   \n",
              "2  0.01198  ... -0.40220  0.58984 -0.22145  0.43100 -0.17365  0.60436   \n",
              "3  0.00000  ...  0.90695  0.51613  1.00000  1.00000 -0.20099  0.25682   \n",
              "4 -0.16399  ... -0.65158  0.13290 -0.53206  0.02431 -0.62197 -0.05707   \n",
              "\n",
              "        31       32       33  34  \n",
              "0 -0.54487  0.18641 -0.45300   g  \n",
              "1 -0.06288 -0.13738 -0.02447   b  \n",
              "2 -0.24180  0.56045 -0.38238   g  \n",
              "3  1.00000 -0.32382  1.00000   b  \n",
              "4 -0.59573 -0.04608 -0.65697   g  \n",
              "\n",
              "[5 rows x 35 columns]"
            ]
          },
          "execution_count": 140,
          "metadata": {},
          "output_type": "execute_result"
        }
      ],
      "source": [
        "ionosphere_df.head()"
      ]
    },
    {
      "cell_type": "code",
      "execution_count": 141,
      "metadata": {
        "colab": {
          "base_uri": "https://localhost:8080/"
        },
        "id": "k6mzRwqJvKVK",
        "outputId": "693d04d7-1665-47a9-e212-23a594466188"
      },
      "outputs": [
        {
          "name": "stdout",
          "output_type": "stream",
          "text": [
            "<class 'pandas.core.frame.DataFrame'>\n",
            "RangeIndex: 351 entries, 0 to 350\n",
            "Data columns (total 35 columns):\n",
            " #   Column  Non-Null Count  Dtype  \n",
            "---  ------  --------------  -----  \n",
            " 0   0       351 non-null    int64  \n",
            " 1   1       351 non-null    int64  \n",
            " 2   2       351 non-null    float64\n",
            " 3   3       351 non-null    float64\n",
            " 4   4       351 non-null    float64\n",
            " 5   5       351 non-null    float64\n",
            " 6   6       351 non-null    float64\n",
            " 7   7       351 non-null    float64\n",
            " 8   8       351 non-null    float64\n",
            " 9   9       351 non-null    float64\n",
            " 10  10      351 non-null    float64\n",
            " 11  11      351 non-null    float64\n",
            " 12  12      351 non-null    float64\n",
            " 13  13      351 non-null    float64\n",
            " 14  14      351 non-null    float64\n",
            " 15  15      351 non-null    float64\n",
            " 16  16      351 non-null    float64\n",
            " 17  17      351 non-null    float64\n",
            " 18  18      351 non-null    float64\n",
            " 19  19      351 non-null    float64\n",
            " 20  20      351 non-null    float64\n",
            " 21  21      351 non-null    float64\n",
            " 22  22      351 non-null    float64\n",
            " 23  23      351 non-null    float64\n",
            " 24  24      351 non-null    float64\n",
            " 25  25      351 non-null    float64\n",
            " 26  26      351 non-null    float64\n",
            " 27  27      351 non-null    float64\n",
            " 28  28      351 non-null    float64\n",
            " 29  29      351 non-null    float64\n",
            " 30  30      351 non-null    float64\n",
            " 31  31      351 non-null    float64\n",
            " 32  32      351 non-null    float64\n",
            " 33  33      351 non-null    float64\n",
            " 34  34      351 non-null    object \n",
            "dtypes: float64(32), int64(2), object(1)\n",
            "memory usage: 96.1+ KB\n"
          ]
        }
      ],
      "source": [
        "ionosphere_df.info()"
      ]
    },
    {
      "cell_type": "code",
      "execution_count": 142,
      "metadata": {
        "colab": {
          "base_uri": "https://localhost:8080/"
        },
        "id": "86gNikR2vKVL",
        "outputId": "c62ce090-1043-4b45-d839-fdfd570e4d11"
      },
      "outputs": [
        {
          "data": {
            "text/plain": [
              "0       2\n",
              "1       1\n",
              "2     219\n",
              "3     269\n",
              "4     204\n",
              "5     259\n",
              "6     231\n",
              "7     260\n",
              "8     244\n",
              "9     267\n",
              "10    246\n",
              "11    269\n",
              "12    238\n",
              "13    266\n",
              "14    234\n",
              "15    270\n",
              "16    254\n",
              "17    280\n",
              "18    254\n",
              "19    266\n",
              "20    248\n",
              "21    265\n",
              "22    248\n",
              "23    264\n",
              "24    256\n",
              "25    273\n",
              "26    256\n",
              "27    281\n",
              "28    244\n",
              "29    266\n",
              "30    243\n",
              "31    263\n",
              "32    245\n",
              "33    263\n",
              "34      2\n",
              "dtype: int64"
            ]
          },
          "execution_count": 142,
          "metadata": {},
          "output_type": "execute_result"
        }
      ],
      "source": [
        "ionosphere_df.nunique()"
      ]
    },
    {
      "cell_type": "code",
      "execution_count": 143,
      "metadata": {
        "colab": {
          "base_uri": "https://localhost:8080/"
        },
        "id": "EAOz4s4bvKVL",
        "outputId": "b29945bb-078c-41af-d100-dd3a9ef15149"
      },
      "outputs": [
        {
          "data": {
            "text/plain": [
              "0     0\n",
              "1     0\n",
              "2     0\n",
              "3     0\n",
              "4     0\n",
              "5     0\n",
              "6     0\n",
              "7     0\n",
              "8     0\n",
              "9     0\n",
              "10    0\n",
              "11    0\n",
              "12    0\n",
              "13    0\n",
              "14    0\n",
              "15    0\n",
              "16    0\n",
              "17    0\n",
              "18    0\n",
              "19    0\n",
              "20    0\n",
              "21    0\n",
              "22    0\n",
              "23    0\n",
              "24    0\n",
              "25    0\n",
              "26    0\n",
              "27    0\n",
              "28    0\n",
              "29    0\n",
              "30    0\n",
              "31    0\n",
              "32    0\n",
              "33    0\n",
              "34    0\n",
              "dtype: int64"
            ]
          },
          "execution_count": 143,
          "metadata": {},
          "output_type": "execute_result"
        }
      ],
      "source": [
        "ionosphere_df.isna().sum()"
      ]
    },
    {
      "cell_type": "code",
      "execution_count": 144,
      "metadata": {
        "colab": {
          "base_uri": "https://localhost:8080/"
        },
        "id": "lXzeqEcIvKVL",
        "outputId": "4abc882a-b23f-48c7-d479-e3195560357d"
      },
      "outputs": [
        {
          "data": {
            "text/plain": [
              "34\n",
              "g    225\n",
              "b    126\n",
              "Name: count, dtype: int64"
            ]
          },
          "execution_count": 144,
          "metadata": {},
          "output_type": "execute_result"
        }
      ],
      "source": [
        "# This is a unbalanced dataset\n",
        "\n",
        "ionosphere_df[34].value_counts()"
      ]
    },
    {
      "cell_type": "code",
      "execution_count": 145,
      "metadata": {
        "id": "1okSc6NdvKVL"
      },
      "outputs": [],
      "source": [
        "X = ionosphere_df.iloc[:, :-1]\n",
        "y = ionosphere_df.iloc[:, -1]"
      ]
    },
    {
      "cell_type": "code",
      "execution_count": 146,
      "metadata": {
        "colab": {
          "base_uri": "https://localhost:8080/",
          "height": 255
        },
        "id": "DvrESwfOvKVL",
        "outputId": "7f82aa52-6739-4392-8e04-a2958a4183f0"
      },
      "outputs": [
        {
          "data": {
            "text/html": [
              "<div>\n",
              "<style scoped>\n",
              "    .dataframe tbody tr th:only-of-type {\n",
              "        vertical-align: middle;\n",
              "    }\n",
              "\n",
              "    .dataframe tbody tr th {\n",
              "        vertical-align: top;\n",
              "    }\n",
              "\n",
              "    .dataframe thead th {\n",
              "        text-align: right;\n",
              "    }\n",
              "</style>\n",
              "<table border=\"1\" class=\"dataframe\">\n",
              "  <thead>\n",
              "    <tr style=\"text-align: right;\">\n",
              "      <th></th>\n",
              "      <th>0</th>\n",
              "      <th>1</th>\n",
              "      <th>2</th>\n",
              "      <th>3</th>\n",
              "      <th>4</th>\n",
              "      <th>5</th>\n",
              "      <th>6</th>\n",
              "      <th>7</th>\n",
              "      <th>8</th>\n",
              "      <th>9</th>\n",
              "      <th>...</th>\n",
              "      <th>24</th>\n",
              "      <th>25</th>\n",
              "      <th>26</th>\n",
              "      <th>27</th>\n",
              "      <th>28</th>\n",
              "      <th>29</th>\n",
              "      <th>30</th>\n",
              "      <th>31</th>\n",
              "      <th>32</th>\n",
              "      <th>33</th>\n",
              "    </tr>\n",
              "  </thead>\n",
              "  <tbody>\n",
              "    <tr>\n",
              "      <th>0</th>\n",
              "      <td>1</td>\n",
              "      <td>0</td>\n",
              "      <td>0.99539</td>\n",
              "      <td>-0.05889</td>\n",
              "      <td>0.85243</td>\n",
              "      <td>0.02306</td>\n",
              "      <td>0.83398</td>\n",
              "      <td>-0.37708</td>\n",
              "      <td>1.00000</td>\n",
              "      <td>0.03760</td>\n",
              "      <td>...</td>\n",
              "      <td>0.56811</td>\n",
              "      <td>-0.51171</td>\n",
              "      <td>0.41078</td>\n",
              "      <td>-0.46168</td>\n",
              "      <td>0.21266</td>\n",
              "      <td>-0.34090</td>\n",
              "      <td>0.42267</td>\n",
              "      <td>-0.54487</td>\n",
              "      <td>0.18641</td>\n",
              "      <td>-0.45300</td>\n",
              "    </tr>\n",
              "    <tr>\n",
              "      <th>1</th>\n",
              "      <td>1</td>\n",
              "      <td>0</td>\n",
              "      <td>1.00000</td>\n",
              "      <td>-0.18829</td>\n",
              "      <td>0.93035</td>\n",
              "      <td>-0.36156</td>\n",
              "      <td>-0.10868</td>\n",
              "      <td>-0.93597</td>\n",
              "      <td>1.00000</td>\n",
              "      <td>-0.04549</td>\n",
              "      <td>...</td>\n",
              "      <td>-0.20332</td>\n",
              "      <td>-0.26569</td>\n",
              "      <td>-0.20468</td>\n",
              "      <td>-0.18401</td>\n",
              "      <td>-0.19040</td>\n",
              "      <td>-0.11593</td>\n",
              "      <td>-0.16626</td>\n",
              "      <td>-0.06288</td>\n",
              "      <td>-0.13738</td>\n",
              "      <td>-0.02447</td>\n",
              "    </tr>\n",
              "    <tr>\n",
              "      <th>2</th>\n",
              "      <td>1</td>\n",
              "      <td>0</td>\n",
              "      <td>1.00000</td>\n",
              "      <td>-0.03365</td>\n",
              "      <td>1.00000</td>\n",
              "      <td>0.00485</td>\n",
              "      <td>1.00000</td>\n",
              "      <td>-0.12062</td>\n",
              "      <td>0.88965</td>\n",
              "      <td>0.01198</td>\n",
              "      <td>...</td>\n",
              "      <td>0.57528</td>\n",
              "      <td>-0.40220</td>\n",
              "      <td>0.58984</td>\n",
              "      <td>-0.22145</td>\n",
              "      <td>0.43100</td>\n",
              "      <td>-0.17365</td>\n",
              "      <td>0.60436</td>\n",
              "      <td>-0.24180</td>\n",
              "      <td>0.56045</td>\n",
              "      <td>-0.38238</td>\n",
              "    </tr>\n",
              "    <tr>\n",
              "      <th>3</th>\n",
              "      <td>1</td>\n",
              "      <td>0</td>\n",
              "      <td>1.00000</td>\n",
              "      <td>-0.45161</td>\n",
              "      <td>1.00000</td>\n",
              "      <td>1.00000</td>\n",
              "      <td>0.71216</td>\n",
              "      <td>-1.00000</td>\n",
              "      <td>0.00000</td>\n",
              "      <td>0.00000</td>\n",
              "      <td>...</td>\n",
              "      <td>1.00000</td>\n",
              "      <td>0.90695</td>\n",
              "      <td>0.51613</td>\n",
              "      <td>1.00000</td>\n",
              "      <td>1.00000</td>\n",
              "      <td>-0.20099</td>\n",
              "      <td>0.25682</td>\n",
              "      <td>1.00000</td>\n",
              "      <td>-0.32382</td>\n",
              "      <td>1.00000</td>\n",
              "    </tr>\n",
              "    <tr>\n",
              "      <th>4</th>\n",
              "      <td>1</td>\n",
              "      <td>0</td>\n",
              "      <td>1.00000</td>\n",
              "      <td>-0.02401</td>\n",
              "      <td>0.94140</td>\n",
              "      <td>0.06531</td>\n",
              "      <td>0.92106</td>\n",
              "      <td>-0.23255</td>\n",
              "      <td>0.77152</td>\n",
              "      <td>-0.16399</td>\n",
              "      <td>...</td>\n",
              "      <td>0.03286</td>\n",
              "      <td>-0.65158</td>\n",
              "      <td>0.13290</td>\n",
              "      <td>-0.53206</td>\n",
              "      <td>0.02431</td>\n",
              "      <td>-0.62197</td>\n",
              "      <td>-0.05707</td>\n",
              "      <td>-0.59573</td>\n",
              "      <td>-0.04608</td>\n",
              "      <td>-0.65697</td>\n",
              "    </tr>\n",
              "  </tbody>\n",
              "</table>\n",
              "<p>5 rows × 34 columns</p>\n",
              "</div>"
            ],
            "text/plain": [
              "   0   1        2        3        4        5        6        7        8   \\\n",
              "0   1   0  0.99539 -0.05889  0.85243  0.02306  0.83398 -0.37708  1.00000   \n",
              "1   1   0  1.00000 -0.18829  0.93035 -0.36156 -0.10868 -0.93597  1.00000   \n",
              "2   1   0  1.00000 -0.03365  1.00000  0.00485  1.00000 -0.12062  0.88965   \n",
              "3   1   0  1.00000 -0.45161  1.00000  1.00000  0.71216 -1.00000  0.00000   \n",
              "4   1   0  1.00000 -0.02401  0.94140  0.06531  0.92106 -0.23255  0.77152   \n",
              "\n",
              "        9   ...       24       25       26       27       28       29  \\\n",
              "0  0.03760  ...  0.56811 -0.51171  0.41078 -0.46168  0.21266 -0.34090   \n",
              "1 -0.04549  ... -0.20332 -0.26569 -0.20468 -0.18401 -0.19040 -0.11593   \n",
              "2  0.01198  ...  0.57528 -0.40220  0.58984 -0.22145  0.43100 -0.17365   \n",
              "3  0.00000  ...  1.00000  0.90695  0.51613  1.00000  1.00000 -0.20099   \n",
              "4 -0.16399  ...  0.03286 -0.65158  0.13290 -0.53206  0.02431 -0.62197   \n",
              "\n",
              "        30       31       32       33  \n",
              "0  0.42267 -0.54487  0.18641 -0.45300  \n",
              "1 -0.16626 -0.06288 -0.13738 -0.02447  \n",
              "2  0.60436 -0.24180  0.56045 -0.38238  \n",
              "3  0.25682  1.00000 -0.32382  1.00000  \n",
              "4 -0.05707 -0.59573 -0.04608 -0.65697  \n",
              "\n",
              "[5 rows x 34 columns]"
            ]
          },
          "execution_count": 146,
          "metadata": {},
          "output_type": "execute_result"
        }
      ],
      "source": [
        "X.head()"
      ]
    },
    {
      "cell_type": "code",
      "execution_count": 147,
      "metadata": {
        "colab": {
          "base_uri": "https://localhost:8080/"
        },
        "id": "16XiHUlHvKVL",
        "outputId": "0648d3be-bbde-4bed-99c9-452b3801036f"
      },
      "outputs": [
        {
          "data": {
            "text/plain": [
              "0    g\n",
              "1    b\n",
              "2    g\n",
              "3    b\n",
              "4    g\n",
              "Name: 34, dtype: object"
            ]
          },
          "execution_count": 147,
          "metadata": {},
          "output_type": "execute_result"
        }
      ],
      "source": [
        "y.head()"
      ]
    },
    {
      "cell_type": "code",
      "execution_count": 148,
      "metadata": {
        "id": "P9NAkNp1vKVL"
      },
      "outputs": [],
      "source": [
        "# Since version 1.3.2 XGBoost needs target columns to start with 0 value\n",
        "\n",
        "le = LabelEncoder()\n",
        "y = le.fit_transform(y)"
      ]
    },
    {
      "cell_type": "code",
      "execution_count": 149,
      "metadata": {
        "colab": {
          "base_uri": "https://localhost:8080/"
        },
        "id": "B7UQjQtovKVL",
        "outputId": "3d74181f-f669-4979-a1d2-06a70607519c"
      },
      "outputs": [
        {
          "name": "stdout",
          "output_type": "stream",
          "text": [
            "--------- AdaBoost on Ionosphere Dataset ---------\n",
            "[1.         0.94285714 0.97142857 0.88571429 0.97142857 0.88571429\n",
            " 0.91428571 1.         0.97142857 0.85714286 0.97222222 0.94285714\n",
            " 0.97142857 0.97142857 0.85714286 0.91428571 0.94285714 0.91428571\n",
            " 0.94285714 0.88571429 0.91666667 0.85714286 0.91428571 0.91428571\n",
            " 0.94285714 0.91428571 0.91428571 0.91428571 0.97142857 0.94285714\n",
            " 0.94444444 0.97142857 1.         1.         0.88571429 0.91428571\n",
            " 0.8        0.94285714 0.94285714 0.88571429 0.91666667 1.\n",
            " 0.97142857 0.94285714 0.94285714 0.82857143 0.94285714 0.97142857\n",
            " 0.91428571 0.8        0.94444444 0.97142857 0.94285714 0.94285714\n",
            " 0.94285714 0.97142857 0.97142857 0.91428571 0.94285714 0.85714286\n",
            " 0.94444444 0.97142857 0.94285714 0.88571429 0.97142857 0.91428571\n",
            " 0.88571429 0.94285714 0.97142857 0.97142857 0.94444444 0.91428571\n",
            " 0.91428571 0.91428571 0.88571429 0.88571429 0.97142857 0.94285714\n",
            " 0.94285714 0.97142857 0.86111111 0.94285714 1.         0.97142857\n",
            " 0.82857143 0.97142857 0.85714286 0.94285714 0.91428571 0.88571429\n",
            " 0.94444444 0.97142857 1.         0.85714286 0.94285714 0.88571429\n",
            " 0.82857143 0.91428571 0.94285714 0.94285714]\n",
            "Accuracy: 92.93% (4.52%)\n",
            "Execution Time: 14.72 seconds\n",
            "------------------------------\n",
            "--------- GradBoost on Ionosphere Dataset ---------\n",
            "[1.         0.91428571 0.97142857 0.91428571 0.91428571 0.91428571\n",
            " 0.91428571 1.         0.94285714 0.88571429 0.94444444 0.97142857\n",
            " 0.97142857 0.97142857 0.88571429 0.91428571 0.97142857 0.91428571\n",
            " 0.88571429 0.91428571 0.91666667 0.85714286 0.97142857 0.94285714\n",
            " 0.97142857 0.91428571 0.94285714 0.91428571 0.94285714 0.97142857\n",
            " 0.94444444 1.         1.         0.97142857 0.91428571 0.91428571\n",
            " 0.8        0.97142857 0.88571429 0.85714286 0.94444444 1.\n",
            " 1.         0.94285714 0.97142857 0.82857143 0.94285714 1.\n",
            " 0.91428571 0.85714286 0.94444444 0.97142857 0.94285714 0.94285714\n",
            " 0.91428571 0.97142857 0.97142857 0.85714286 0.85714286 0.88571429\n",
            " 0.88888889 0.97142857 0.91428571 0.88571429 0.94285714 0.85714286\n",
            " 0.91428571 0.94285714 1.         0.97142857 0.97222222 0.88571429\n",
            " 0.88571429 0.88571429 0.91428571 0.88571429 0.97142857 0.94285714\n",
            " 0.97142857 0.97142857 0.91666667 0.91428571 0.97142857 0.97142857\n",
            " 0.85714286 1.         0.94285714 0.97142857 0.94285714 0.94285714\n",
            " 0.94444444 0.94285714 1.         0.91428571 0.97142857 0.91428571\n",
            " 0.88571429 0.97142857 0.85714286 0.97142857]\n",
            "Accuracy: 93.36% (4.41%)\n",
            "Execution Time: 55.39 seconds\n",
            "------------------------------\n",
            "--------- CatBoost on Ionosphere Dataset ---------\n",
            "[0.91666667 0.94285714 0.94285714 0.94285714 0.97142857 0.88571429\n",
            " 0.91428571 1.         0.94285714 0.91428571 0.91666667 0.97142857\n",
            " 1.         0.97142857 0.88571429 0.91428571 0.97142857 0.91428571\n",
            " 0.88571429 0.94285714 0.94444444 0.82857143 0.97142857 0.94285714\n",
            " 1.         0.94285714 0.94285714 0.91428571 0.94285714 0.97142857\n",
            " 1.         1.         1.         0.97142857 0.88571429 0.91428571\n",
            " 0.85714286 0.97142857 0.88571429 0.82857143 0.94444444 0.94285714\n",
            " 1.         0.94285714 0.94285714 0.82857143 0.94285714 1.\n",
            " 0.91428571 0.85714286 0.94444444 0.97142857 0.97142857 0.94285714\n",
            " 0.94285714 0.97142857 0.97142857 0.91428571 0.88571429 0.88571429\n",
            " 0.94444444 0.97142857 0.91428571 0.88571429 0.94285714 0.85714286\n",
            " 0.91428571 0.94285714 1.         1.         0.97222222 0.88571429\n",
            " 0.94285714 0.88571429 0.94285714 0.91428571 0.97142857 0.91428571\n",
            " 0.97142857 0.97142857 0.94444444 0.94285714 0.94285714 0.97142857\n",
            " 0.82857143 1.         0.91428571 0.97142857 0.94285714 0.91428571\n",
            " 0.94444444 0.94285714 1.         0.91428571 0.94285714 0.91428571\n",
            " 0.88571429 0.94285714 0.91428571 0.97142857]\n",
            "Accuracy: 93.67% (4.21%)\n",
            "Execution Time: 315.38 seconds\n",
            "------------------------------\n",
            "--------- LightGBM on Ionosphere Dataset ---------\n",
            "[0.91666667 0.94285714 0.94285714 0.94285714 0.97142857 0.88571429\n",
            " 0.91428571 1.         0.97142857 0.91428571 0.88888889 0.97142857\n",
            " 1.         0.94285714 0.88571429 0.91428571 0.97142857 0.91428571\n",
            " 0.94285714 0.91428571 0.91666667 0.82857143 0.97142857 0.94285714\n",
            " 0.97142857 0.91428571 0.94285714 0.91428571 0.91428571 0.97142857\n",
            " 1.         1.         1.         0.97142857 0.91428571 0.91428571\n",
            " 0.85714286 0.97142857 0.94285714 0.82857143 0.94444444 1.\n",
            " 1.         0.94285714 0.97142857 0.82857143 0.94285714 0.97142857\n",
            " 0.91428571 0.88571429 0.97222222 0.97142857 0.97142857 0.97142857\n",
            " 0.88571429 0.97142857 0.97142857 0.88571429 0.88571429 0.88571429\n",
            " 0.94444444 0.97142857 0.94285714 0.88571429 0.94285714 0.91428571\n",
            " 0.91428571 0.94285714 1.         1.         0.97222222 0.88571429\n",
            " 0.91428571 0.88571429 0.94285714 0.91428571 0.97142857 0.91428571\n",
            " 0.94285714 0.97142857 0.91666667 0.94285714 0.97142857 0.97142857\n",
            " 0.85714286 1.         0.91428571 0.97142857 0.94285714 0.91428571\n",
            " 0.94444444 0.94285714 1.         0.94285714 0.94285714 0.88571429\n",
            " 0.91428571 0.97142857 0.94285714 0.97142857]\n",
            "Accuracy: 93.85% (4.07%)\n",
            "Execution Time: 4.18 seconds\n",
            "------------------------------\n",
            "--------- XGBoost on Ionosphere Dataset ---------\n",
            "[0.91666667 0.94285714 0.94285714 0.94285714 0.97142857 0.85714286\n",
            " 0.94285714 1.         0.88571429 0.91428571 0.91666667 0.91428571\n",
            " 0.97142857 0.97142857 0.85714286 0.91428571 0.97142857 0.91428571\n",
            " 0.88571429 0.94285714 0.86111111 0.8        0.94285714 0.94285714\n",
            " 0.97142857 1.         0.94285714 0.91428571 0.94285714 0.97142857\n",
            " 0.91666667 1.         0.97142857 0.97142857 0.91428571 0.88571429\n",
            " 0.82857143 0.94285714 0.91428571 0.82857143 0.91666667 0.97142857\n",
            " 1.         0.94285714 0.97142857 0.82857143 0.88571429 0.97142857\n",
            " 0.94285714 0.85714286 0.94444444 0.94285714 0.88571429 0.97142857\n",
            " 0.85714286 0.97142857 0.97142857 0.85714286 0.91428571 0.91428571\n",
            " 0.91666667 0.97142857 0.91428571 0.85714286 0.94285714 0.88571429\n",
            " 0.88571429 0.97142857 1.         0.97142857 0.97222222 0.88571429\n",
            " 0.91428571 0.85714286 0.94285714 0.91428571 0.97142857 0.85714286\n",
            " 0.94285714 0.94285714 0.91666667 0.97142857 0.94285714 0.97142857\n",
            " 0.82857143 1.         0.91428571 0.97142857 0.94285714 0.94285714\n",
            " 0.94444444 0.94285714 1.         0.91428571 0.91428571 0.91428571\n",
            " 0.88571429 0.97142857 0.94285714 0.97142857]\n",
            "Accuracy: 92.88% (4.55%)\n",
            "Execution Time: 4.84 seconds\n",
            "------------------------------\n"
          ]
        }
      ],
      "source": [
        "ionosphere_scores = []\n",
        "ionosphere_mean = []\n",
        "ionosphere_std = []\n",
        "model_names = []\n",
        "execution_times = []\n",
        "\n",
        "for name, clf in zip(names, classifiers):\n",
        "  start_time = time.time()\n",
        "  results = cross_val_score(clf, X, y, cv=rskf)\n",
        "  end_time = time.time()\n",
        "\n",
        "  ionosphere_scores.append(results)\n",
        "  ionosphere_mean.append(results.mean()*100)\n",
        "  ionosphere_std.append(results.std()*100)\n",
        "  model_names.append(name)\n",
        "  execution_time = end_time - start_time  \n",
        "  execution_times.append(execution_time)\n",
        "  \n",
        "  print(f'--------- {name} on Ionosphere Dataset ---------')\n",
        "  print(results)\n",
        "  print('Accuracy: %.2f%% (%.2f%%)' % (results.mean()*100, results.std()*100))\n",
        "  print(f'Execution Time: {execution_time:.2f} seconds')\n",
        "  print('------------------------------')"
      ]
    },
    {
      "cell_type": "code",
      "execution_count": 150,
      "metadata": {
        "colab": {
          "base_uri": "https://localhost:8080/"
        },
        "id": "UeEGZ0eNvKVL",
        "outputId": "69ba3fe4-ac8c-4d97-c0d4-193e2a1524a3"
      },
      "outputs": [
        {
          "data": {
            "text/plain": [
              "[92.93174603174602,\n",
              " 93.35952380952382,\n",
              " 93.67222222222222,\n",
              " 93.8452380952381,\n",
              " 92.87936507936509]"
            ]
          },
          "execution_count": 150,
          "metadata": {},
          "output_type": "execute_result"
        }
      ],
      "source": [
        "ionosphere_mean"
      ]
    },
    {
      "cell_type": "code",
      "execution_count": 151,
      "metadata": {
        "colab": {
          "base_uri": "https://localhost:8080/"
        },
        "id": "dDnVCg0SvKVM",
        "outputId": "b2fac3a5-4706-4931-f3c4-8d79b8888f56"
      },
      "outputs": [
        {
          "data": {
            "text/plain": [
              "[4.521885137893525,\n",
              " 4.406042356430728,\n",
              " 4.210238618114936,\n",
              " 4.069136317496672,\n",
              " 4.554090799304999]"
            ]
          },
          "execution_count": 151,
          "metadata": {},
          "output_type": "execute_result"
        }
      ],
      "source": [
        "ionosphere_std"
      ]
    },
    {
      "cell_type": "code",
      "execution_count": 152,
      "metadata": {
        "colab": {
          "base_uri": "https://localhost:8080/",
          "height": 478
        },
        "id": "kZzylv6QvKVM",
        "outputId": "a6b5fcca-8df5-4ef5-c013-980ea9249924"
      },
      "outputs": [
        {
          "data": {
            "image/png": "[encoded data removed]",
            "text/plain": [
              "<Figure size 640x480 with 1 Axes>"
            ]
          },
          "metadata": {},
          "output_type": "display_data"
        }
      ],
      "source": [
        "# algorithm comparison\n",
        "\n",
        "fig = plt.figure()\n",
        "fig.suptitle('Comparison between different Ionosphere scores')\n",
        "ax = fig.add_subplot(111)\n",
        "plt.ylim(0.3, 1)\n",
        "plt.boxplot(ionosphere_scores, showmeans=True)\n",
        "ax.set_xticklabels(model_names)\n",
        "plt.show()"
      ]
    },
    {
      "cell_type": "code",
      "execution_count": 153,
      "metadata": {
        "id": "1O_cwqS2vKVM"
      },
      "outputs": [],
      "source": [
        "Algo_results['Ionosphere'] = ionosphere_mean"
      ]
    },
    {
      "cell_type": "code",
      "execution_count": 154,
      "metadata": {
        "colab": {
          "base_uri": "https://localhost:8080/",
          "height": 206
        },
        "id": "YpiWcY90vKVM",
        "outputId": "f88d6fe6-8616-4548-a8b4-995fdb443ec7"
      },
      "outputs": [
        {
          "data": {
            "text/html": [
              "<div>\n",
              "<style scoped>\n",
              "    .dataframe tbody tr th:only-of-type {\n",
              "        vertical-align: middle;\n",
              "    }\n",
              "\n",
              "    .dataframe tbody tr th {\n",
              "        vertical-align: top;\n",
              "    }\n",
              "\n",
              "    .dataframe thead th {\n",
              "        text-align: right;\n",
              "    }\n",
              "</style>\n",
              "<table border=\"1\" class=\"dataframe\">\n",
              "  <thead>\n",
              "    <tr style=\"text-align: right;\">\n",
              "      <th></th>\n",
              "      <th>Names</th>\n",
              "      <th>Wine</th>\n",
              "      <th>Breast_Cancer</th>\n",
              "      <th>Sonar</th>\n",
              "      <th>Ionosphere</th>\n",
              "    </tr>\n",
              "  </thead>\n",
              "  <tbody>\n",
              "    <tr>\n",
              "      <th>0</th>\n",
              "      <td>AdaBoost</td>\n",
              "      <td>91.696078</td>\n",
              "      <td>95.620631</td>\n",
              "      <td>82.040476</td>\n",
              "      <td>92.931746</td>\n",
              "    </tr>\n",
              "    <tr>\n",
              "      <th>1</th>\n",
              "      <td>GradBoost</td>\n",
              "      <td>94.486928</td>\n",
              "      <td>96.706948</td>\n",
              "      <td>83.326190</td>\n",
              "      <td>93.359524</td>\n",
              "    </tr>\n",
              "    <tr>\n",
              "      <th>2</th>\n",
              "      <td>CatBoost</td>\n",
              "      <td>97.852941</td>\n",
              "      <td>97.173274</td>\n",
              "      <td>86.102381</td>\n",
              "      <td>93.672222</td>\n",
              "    </tr>\n",
              "    <tr>\n",
              "      <th>3</th>\n",
              "      <td>LightGBM</td>\n",
              "      <td>97.575163</td>\n",
              "      <td>96.792839</td>\n",
              "      <td>87.314286</td>\n",
              "      <td>93.845238</td>\n",
              "    </tr>\n",
              "    <tr>\n",
              "      <th>4</th>\n",
              "      <td>XGBoost</td>\n",
              "      <td>96.614379</td>\n",
              "      <td>96.398551</td>\n",
              "      <td>85.240476</td>\n",
              "      <td>92.879365</td>\n",
              "    </tr>\n",
              "  </tbody>\n",
              "</table>\n",
              "</div>"
            ],
            "text/plain": [
              "       Names       Wine  Breast_Cancer      Sonar  Ionosphere\n",
              "0   AdaBoost  91.696078      95.620631  82.040476   92.931746\n",
              "1  GradBoost  94.486928      96.706948  83.326190   93.359524\n",
              "2   CatBoost  97.852941      97.173274  86.102381   93.672222\n",
              "3   LightGBM  97.575163      96.792839  87.314286   93.845238\n",
              "4    XGBoost  96.614379      96.398551  85.240476   92.879365"
            ]
          },
          "execution_count": 154,
          "metadata": {},
          "output_type": "execute_result"
        }
      ],
      "source": [
        "Algo_results"
      ]
    },
    {
      "cell_type": "code",
      "execution_count": 155,
      "metadata": {},
      "outputs": [],
      "source": [
        "Algo_time_results['Ionosphere'] = pd.Series(execution_times)"
      ]
    },
    {
      "cell_type": "markdown",
      "metadata": {
        "id": "XkxDDuHGvKVM"
      },
      "source": [
        "---"
      ]
    },
    {
      "cell_type": "markdown",
      "metadata": {
        "id": "phuNoGM8vKVM"
      },
      "source": [
        "# **Tic-Tac-Toe Dataset**"
      ]
    },
    {
      "cell_type": "markdown",
      "metadata": {
        "id": "xNvjDzSYvKVM"
      },
      "source": [
        "---"
      ]
    },
    {
      "cell_type": "code",
      "execution_count": 156,
      "metadata": {
        "id": "Z09q652wvKVM"
      },
      "outputs": [],
      "source": [
        "tictactoe_df = pd.read_csv('E:\\Cursos\\MestradoCienciaComputação\\Seminario\\Datasets\\TicTacToe\\TicTacToe.data', header=None)"
      ]
    },
    {
      "cell_type": "code",
      "execution_count": 157,
      "metadata": {
        "colab": {
          "base_uri": "https://localhost:8080/"
        },
        "id": "qoNFejIAvKVM",
        "outputId": "1f897d5b-824b-4d86-b215-3fa58cf0fc8d"
      },
      "outputs": [
        {
          "data": {
            "text/plain": [
              "(958, 10)"
            ]
          },
          "execution_count": 157,
          "metadata": {},
          "output_type": "execute_result"
        }
      ],
      "source": [
        "tictactoe_df.shape"
      ]
    },
    {
      "cell_type": "code",
      "execution_count": 158,
      "metadata": {
        "colab": {
          "base_uri": "https://localhost:8080/",
          "height": 206
        },
        "id": "lzNotWGsvKVN",
        "outputId": "a12676a5-c774-47d8-b8c1-12b97b1d3639"
      },
      "outputs": [
        {
          "data": {
            "text/html": [
              "<div>\n",
              "<style scoped>\n",
              "    .dataframe tbody tr th:only-of-type {\n",
              "        vertical-align: middle;\n",
              "    }\n",
              "\n",
              "    .dataframe tbody tr th {\n",
              "        vertical-align: top;\n",
              "    }\n",
              "\n",
              "    .dataframe thead th {\n",
              "        text-align: right;\n",
              "    }\n",
              "</style>\n",
              "<table border=\"1\" class=\"dataframe\">\n",
              "  <thead>\n",
              "    <tr style=\"text-align: right;\">\n",
              "      <th></th>\n",
              "      <th>0</th>\n",
              "      <th>1</th>\n",
              "      <th>2</th>\n",
              "      <th>3</th>\n",
              "      <th>4</th>\n",
              "      <th>5</th>\n",
              "      <th>6</th>\n",
              "      <th>7</th>\n",
              "      <th>8</th>\n",
              "      <th>9</th>\n",
              "    </tr>\n",
              "  </thead>\n",
              "  <tbody>\n",
              "    <tr>\n",
              "      <th>0</th>\n",
              "      <td>x</td>\n",
              "      <td>x</td>\n",
              "      <td>x</td>\n",
              "      <td>x</td>\n",
              "      <td>o</td>\n",
              "      <td>o</td>\n",
              "      <td>x</td>\n",
              "      <td>o</td>\n",
              "      <td>o</td>\n",
              "      <td>positive</td>\n",
              "    </tr>\n",
              "    <tr>\n",
              "      <th>1</th>\n",
              "      <td>x</td>\n",
              "      <td>x</td>\n",
              "      <td>x</td>\n",
              "      <td>x</td>\n",
              "      <td>o</td>\n",
              "      <td>o</td>\n",
              "      <td>o</td>\n",
              "      <td>x</td>\n",
              "      <td>o</td>\n",
              "      <td>positive</td>\n",
              "    </tr>\n",
              "    <tr>\n",
              "      <th>2</th>\n",
              "      <td>x</td>\n",
              "      <td>x</td>\n",
              "      <td>x</td>\n",
              "      <td>x</td>\n",
              "      <td>o</td>\n",
              "      <td>o</td>\n",
              "      <td>o</td>\n",
              "      <td>o</td>\n",
              "      <td>x</td>\n",
              "      <td>positive</td>\n",
              "    </tr>\n",
              "    <tr>\n",
              "      <th>3</th>\n",
              "      <td>x</td>\n",
              "      <td>x</td>\n",
              "      <td>x</td>\n",
              "      <td>x</td>\n",
              "      <td>o</td>\n",
              "      <td>o</td>\n",
              "      <td>o</td>\n",
              "      <td>b</td>\n",
              "      <td>b</td>\n",
              "      <td>positive</td>\n",
              "    </tr>\n",
              "    <tr>\n",
              "      <th>4</th>\n",
              "      <td>x</td>\n",
              "      <td>x</td>\n",
              "      <td>x</td>\n",
              "      <td>x</td>\n",
              "      <td>o</td>\n",
              "      <td>o</td>\n",
              "      <td>b</td>\n",
              "      <td>o</td>\n",
              "      <td>b</td>\n",
              "      <td>positive</td>\n",
              "    </tr>\n",
              "  </tbody>\n",
              "</table>\n",
              "</div>"
            ],
            "text/plain": [
              "   0  1  2  3  4  5  6  7  8         9\n",
              "0  x  x  x  x  o  o  x  o  o  positive\n",
              "1  x  x  x  x  o  o  o  x  o  positive\n",
              "2  x  x  x  x  o  o  o  o  x  positive\n",
              "3  x  x  x  x  o  o  o  b  b  positive\n",
              "4  x  x  x  x  o  o  b  o  b  positive"
            ]
          },
          "execution_count": 158,
          "metadata": {},
          "output_type": "execute_result"
        }
      ],
      "source": [
        "tictactoe_df.head()"
      ]
    },
    {
      "cell_type": "code",
      "execution_count": 159,
      "metadata": {
        "colab": {
          "base_uri": "https://localhost:8080/"
        },
        "id": "TFm6ZnhevKVN",
        "outputId": "d98dab96-e4e4-4f6b-f9aa-3cbe5710e08d"
      },
      "outputs": [
        {
          "name": "stdout",
          "output_type": "stream",
          "text": [
            "<class 'pandas.core.frame.DataFrame'>\n",
            "RangeIndex: 958 entries, 0 to 957\n",
            "Data columns (total 10 columns):\n",
            " #   Column  Non-Null Count  Dtype \n",
            "---  ------  --------------  ----- \n",
            " 0   0       958 non-null    object\n",
            " 1   1       958 non-null    object\n",
            " 2   2       958 non-null    object\n",
            " 3   3       958 non-null    object\n",
            " 4   4       958 non-null    object\n",
            " 5   5       958 non-null    object\n",
            " 6   6       958 non-null    object\n",
            " 7   7       958 non-null    object\n",
            " 8   8       958 non-null    object\n",
            " 9   9       958 non-null    object\n",
            "dtypes: object(10)\n",
            "memory usage: 75.0+ KB\n"
          ]
        }
      ],
      "source": [
        "tictactoe_df.info()"
      ]
    },
    {
      "cell_type": "code",
      "execution_count": 160,
      "metadata": {
        "colab": {
          "base_uri": "https://localhost:8080/"
        },
        "id": "xRPdeE0gvKVN",
        "outputId": "46db8063-f889-4496-809b-e364d1ec350c"
      },
      "outputs": [
        {
          "data": {
            "text/plain": [
              "0    3\n",
              "1    3\n",
              "2    3\n",
              "3    3\n",
              "4    3\n",
              "5    3\n",
              "6    3\n",
              "7    3\n",
              "8    3\n",
              "9    2\n",
              "dtype: int64"
            ]
          },
          "execution_count": 160,
          "metadata": {},
          "output_type": "execute_result"
        }
      ],
      "source": [
        "tictactoe_df.nunique()"
      ]
    },
    {
      "cell_type": "code",
      "execution_count": 161,
      "metadata": {
        "colab": {
          "base_uri": "https://localhost:8080/"
        },
        "id": "Zi-P07QavKVN",
        "outputId": "a41557db-fd0d-4eba-d97b-308539b1a869"
      },
      "outputs": [
        {
          "data": {
            "text/plain": [
              "9\n",
              "positive    626\n",
              "negative    332\n",
              "Name: count, dtype: int64"
            ]
          },
          "execution_count": 161,
          "metadata": {},
          "output_type": "execute_result"
        }
      ],
      "source": [
        "# Unbalanced\n",
        "\n",
        "tictactoe_df[9].value_counts()"
      ]
    },
    {
      "cell_type": "code",
      "execution_count": 162,
      "metadata": {
        "id": "w43x2ybFvKVN"
      },
      "outputs": [],
      "source": [
        "dummies = {\n",
        "            'x': 0,\n",
        "            'o': 1,\n",
        "            'b': 2,\n",
        "          }\n",
        "tictactoe_df = tictactoe_df.iloc[:, 0: 9].replace(dummies)"
      ]
    },
    {
      "cell_type": "code",
      "execution_count": 163,
      "metadata": {
        "colab": {
          "base_uri": "https://localhost:8080/",
          "height": 206
        },
        "id": "wijWLWV4vKVN",
        "outputId": "27df56fe-b5db-4986-abfb-82fe691579f5"
      },
      "outputs": [
        {
          "data": {
            "text/html": [
              "<div>\n",
              "<style scoped>\n",
              "    .dataframe tbody tr th:only-of-type {\n",
              "        vertical-align: middle;\n",
              "    }\n",
              "\n",
              "    .dataframe tbody tr th {\n",
              "        vertical-align: top;\n",
              "    }\n",
              "\n",
              "    .dataframe thead th {\n",
              "        text-align: right;\n",
              "    }\n",
              "</style>\n",
              "<table border=\"1\" class=\"dataframe\">\n",
              "  <thead>\n",
              "    <tr style=\"text-align: right;\">\n",
              "      <th></th>\n",
              "      <th>0</th>\n",
              "      <th>1</th>\n",
              "      <th>2</th>\n",
              "      <th>3</th>\n",
              "      <th>4</th>\n",
              "      <th>5</th>\n",
              "      <th>6</th>\n",
              "      <th>7</th>\n",
              "      <th>8</th>\n",
              "    </tr>\n",
              "  </thead>\n",
              "  <tbody>\n",
              "    <tr>\n",
              "      <th>0</th>\n",
              "      <td>0</td>\n",
              "      <td>0</td>\n",
              "      <td>0</td>\n",
              "      <td>0</td>\n",
              "      <td>1</td>\n",
              "      <td>1</td>\n",
              "      <td>0</td>\n",
              "      <td>1</td>\n",
              "      <td>1</td>\n",
              "    </tr>\n",
              "    <tr>\n",
              "      <th>1</th>\n",
              "      <td>0</td>\n",
              "      <td>0</td>\n",
              "      <td>0</td>\n",
              "      <td>0</td>\n",
              "      <td>1</td>\n",
              "      <td>1</td>\n",
              "      <td>1</td>\n",
              "      <td>0</td>\n",
              "      <td>1</td>\n",
              "    </tr>\n",
              "    <tr>\n",
              "      <th>2</th>\n",
              "      <td>0</td>\n",
              "      <td>0</td>\n",
              "      <td>0</td>\n",
              "      <td>0</td>\n",
              "      <td>1</td>\n",
              "      <td>1</td>\n",
              "      <td>1</td>\n",
              "      <td>1</td>\n",
              "      <td>0</td>\n",
              "    </tr>\n",
              "    <tr>\n",
              "      <th>3</th>\n",
              "      <td>0</td>\n",
              "      <td>0</td>\n",
              "      <td>0</td>\n",
              "      <td>0</td>\n",
              "      <td>1</td>\n",
              "      <td>1</td>\n",
              "      <td>1</td>\n",
              "      <td>2</td>\n",
              "      <td>2</td>\n",
              "    </tr>\n",
              "    <tr>\n",
              "      <th>4</th>\n",
              "      <td>0</td>\n",
              "      <td>0</td>\n",
              "      <td>0</td>\n",
              "      <td>0</td>\n",
              "      <td>1</td>\n",
              "      <td>1</td>\n",
              "      <td>2</td>\n",
              "      <td>1</td>\n",
              "      <td>2</td>\n",
              "    </tr>\n",
              "  </tbody>\n",
              "</table>\n",
              "</div>"
            ],
            "text/plain": [
              "   0  1  2  3  4  5  6  7  8\n",
              "0  0  0  0  0  1  1  0  1  1\n",
              "1  0  0  0  0  1  1  1  0  1\n",
              "2  0  0  0  0  1  1  1  1  0\n",
              "3  0  0  0  0  1  1  1  2  2\n",
              "4  0  0  0  0  1  1  2  1  2"
            ]
          },
          "execution_count": 163,
          "metadata": {},
          "output_type": "execute_result"
        }
      ],
      "source": [
        "tictactoe_df.head()"
      ]
    },
    {
      "cell_type": "code",
      "execution_count": 164,
      "metadata": {
        "id": "7NGM3AwbvKVN"
      },
      "outputs": [],
      "source": [
        "X = tictactoe_df.iloc[:, :-1]\n",
        "y = tictactoe_df.iloc[:, -1]"
      ]
    },
    {
      "cell_type": "code",
      "execution_count": 165,
      "metadata": {
        "id": "tfZl8W04vKVN"
      },
      "outputs": [],
      "source": [
        "# Since version 1.3.2 XGBoost needs target columns to start with 0 value\n",
        "\n",
        "le = LabelEncoder()\n",
        "y = le.fit_transform(y)"
      ]
    },
    {
      "cell_type": "code",
      "execution_count": 166,
      "metadata": {
        "colab": {
          "base_uri": "https://localhost:8080/"
        },
        "id": "OVk0x2QOvKVN",
        "outputId": "95592448-c353-46ef-99dc-a654b0ebe9a0"
      },
      "outputs": [
        {
          "name": "stdout",
          "output_type": "stream",
          "text": [
            "--------- AdaBoost on Tictactoe Dataset ---------\n",
            "[0.77083333 0.72916667 0.77083333 0.66666667 0.70833333 0.72916667\n",
            " 0.80208333 0.69791667 0.75789474 0.74736842 0.78125    0.76041667\n",
            " 0.67708333 0.66666667 0.70833333 0.73958333 0.72916667 0.83333333\n",
            " 0.8        0.77894737 0.75       0.70833333 0.71875    0.76041667\n",
            " 0.80208333 0.69791667 0.73958333 0.66666667 0.72631579 0.70526316\n",
            " 0.79166667 0.69791667 0.75       0.72916667 0.69791667 0.75\n",
            " 0.76041667 0.69791667 0.75789474 0.75789474 0.6875     0.71875\n",
            " 0.77083333 0.70833333 0.71875    0.77083333 0.77083333 0.77083333\n",
            " 0.75789474 0.82105263 0.77083333 0.75       0.65625    0.73958333\n",
            " 0.77083333 0.6875     0.69791667 0.76041667 0.65263158 0.78947368\n",
            " 0.77083333 0.71875    0.77083333 0.73958333 0.73958333 0.6875\n",
            " 0.73958333 0.66666667 0.74736842 0.74736842 0.78125    0.67708333\n",
            " 0.72916667 0.75       0.69791667 0.72916667 0.73958333 0.80208333\n",
            " 0.74736842 0.78947368 0.72916667 0.77083333 0.75       0.77083333\n",
            " 0.76041667 0.73958333 0.77083333 0.77083333 0.76842105 0.72631579\n",
            " 0.77083333 0.70833333 0.71875    0.72916667 0.75       0.78125\n",
            " 0.78125    0.73958333 0.65263158 0.74736842]\n",
            "Accuracy: 74.00% (3.85%)\n",
            "Execution Time: 7.13 seconds\n",
            "------------------------------\n",
            "--------- GradBoost on Tictactoe Dataset ---------\n",
            "[0.71875    0.63541667 0.63541667 0.61458333 0.67708333 0.59375\n",
            " 0.66666667 0.60416667 0.64210526 0.64210526 0.65625    0.61458333\n",
            " 0.57291667 0.60416667 0.63541667 0.65625    0.67708333 0.65625\n",
            " 0.65263158 0.68421053 0.67708333 0.60416667 0.60416667 0.64583333\n",
            " 0.67708333 0.61458333 0.70833333 0.625      0.63157895 0.64210526\n",
            " 0.66666667 0.70833333 0.625      0.65625    0.61458333 0.61458333\n",
            " 0.60416667 0.60416667 0.67368421 0.68421053 0.64583333 0.65625\n",
            " 0.64583333 0.65625    0.625      0.55208333 0.65625    0.63541667\n",
            " 0.71578947 0.63157895 0.64583333 0.625      0.66666667 0.67708333\n",
            " 0.60416667 0.625      0.65625    0.65625    0.70526316 0.63157895\n",
            " 0.625      0.66666667 0.64583333 0.60416667 0.63541667 0.6875\n",
            " 0.625      0.63541667 0.62105263 0.65263158 0.65625    0.63541667\n",
            " 0.59375    0.625      0.63541667 0.6875     0.61458333 0.6875\n",
            " 0.65263158 0.61052632 0.58333333 0.64583333 0.60416667 0.67708333\n",
            " 0.625      0.72916667 0.66666667 0.65625    0.61052632 0.66315789\n",
            " 0.58333333 0.60416667 0.69791667 0.64583333 0.70833333 0.64583333\n",
            " 0.625      0.65625    0.61052632 0.6       ]\n",
            "Accuracy: 64.27% (3.40%)\n",
            "Execution Time: 27.54 seconds\n",
            "------------------------------\n",
            "--------- CatBoost on Tictactoe Dataset ---------\n",
            "[0.625      0.51041667 0.5625     0.4375     0.59375    0.41666667\n",
            " 0.5        0.47916667 0.48421053 0.52631579 0.5625     0.46875\n",
            " 0.46875    0.54166667 0.55208333 0.5625     0.54166667 0.46875\n",
            " 0.53684211 0.58947368 0.60416667 0.47916667 0.51041667 0.51041667\n",
            " 0.55208333 0.48958333 0.61458333 0.4375     0.55789474 0.49473684\n",
            " 0.55208333 0.5625     0.54166667 0.4375     0.53125    0.5\n",
            " 0.45833333 0.47916667 0.57894737 0.55789474 0.46875    0.54166667\n",
            " 0.57291667 0.5        0.57291667 0.40625    0.55208333 0.5\n",
            " 0.56842105 0.51578947 0.48958333 0.54166667 0.53125    0.44791667\n",
            " 0.46875    0.55208333 0.57291667 0.57291667 0.57894737 0.51578947\n",
            " 0.48958333 0.52083333 0.5        0.46875    0.51041667 0.60416667\n",
            " 0.38541667 0.52083333 0.47368421 0.52631579 0.58333333 0.51041667\n",
            " 0.51041667 0.53125    0.4375     0.53125    0.51041667 0.48958333\n",
            " 0.49473684 0.46315789 0.4375     0.53125    0.51041667 0.55208333\n",
            " 0.5625     0.60416667 0.53125    0.54166667 0.45263158 0.49473684\n",
            " 0.44791667 0.4375     0.55208333 0.51041667 0.48958333 0.57291667\n",
            " 0.54166667 0.61458333 0.55789474 0.52631579]\n",
            "Accuracy: 51.88% (5.01%)\n",
            "Execution Time: 105.86 seconds\n",
            "------------------------------\n",
            "--------- LightGBM on Tictactoe Dataset ---------\n",
            "[0.64583333 0.59375    0.61458333 0.53125    0.61458333 0.46875\n",
            " 0.59375    0.48958333 0.53684211 0.6        0.61458333 0.5\n",
            " 0.47916667 0.61458333 0.5625     0.625      0.58333333 0.5625\n",
            " 0.55789474 0.62105263 0.61458333 0.55208333 0.51041667 0.58333333\n",
            " 0.60416667 0.55208333 0.64583333 0.52083333 0.56842105 0.53684211\n",
            " 0.61458333 0.58333333 0.5625     0.55208333 0.54166667 0.55208333\n",
            " 0.51041667 0.51041667 0.61052632 0.65263158 0.55208333 0.59375\n",
            " 0.55208333 0.57291667 0.53125    0.52083333 0.51041667 0.55208333\n",
            " 0.61052632 0.6        0.55208333 0.54166667 0.625      0.5\n",
            " 0.5        0.58333333 0.61458333 0.5625     0.64210526 0.52631579\n",
            " 0.54166667 0.58333333 0.5625     0.55208333 0.57291667 0.61458333\n",
            " 0.47916667 0.52083333 0.57894737 0.58947368 0.61458333 0.53125\n",
            " 0.54166667 0.60416667 0.54166667 0.60416667 0.5625     0.52083333\n",
            " 0.53684211 0.55789474 0.46875    0.55208333 0.51041667 0.58333333\n",
            " 0.5625     0.61458333 0.5625     0.59375    0.47368421 0.57894737\n",
            " 0.5        0.44791667 0.59375    0.5625     0.55208333 0.59375\n",
            " 0.5625     0.66666667 0.56842105 0.54736842]\n",
            "Accuracy: 56.34% (4.52%)\n",
            "Execution Time: 12.16 seconds\n",
            "------------------------------\n",
            "--------- XGBoost on Tictactoe Dataset ---------\n",
            "[0.57291667 0.47916667 0.5        0.45833333 0.48958333 0.34375\n",
            " 0.45833333 0.375      0.45263158 0.37894737 0.51041667 0.40625\n",
            " 0.41666667 0.5        0.41666667 0.45833333 0.52083333 0.42708333\n",
            " 0.50526316 0.56842105 0.53125    0.41666667 0.4375     0.44791667\n",
            " 0.5        0.48958333 0.57291667 0.42708333 0.44210526 0.43157895\n",
            " 0.47916667 0.44791667 0.48958333 0.45833333 0.44791667 0.46875\n",
            " 0.39583333 0.41666667 0.50526316 0.46315789 0.44791667 0.46875\n",
            " 0.48958333 0.44791667 0.48958333 0.375      0.51041667 0.41666667\n",
            " 0.50526316 0.47368421 0.4375     0.45833333 0.47916667 0.42708333\n",
            " 0.44791667 0.5        0.5        0.45833333 0.52631579 0.49473684\n",
            " 0.40625    0.48958333 0.45833333 0.44791667 0.47916667 0.46875\n",
            " 0.375      0.375      0.43157895 0.48421053 0.52083333 0.46875\n",
            " 0.45833333 0.53125    0.42708333 0.51041667 0.39583333 0.44791667\n",
            " 0.45263158 0.37894737 0.35416667 0.42708333 0.45833333 0.5\n",
            " 0.51041667 0.48958333 0.5        0.45833333 0.36842105 0.41052632\n",
            " 0.4375     0.39583333 0.44791667 0.42708333 0.39583333 0.45833333\n",
            " 0.45833333 0.54166667 0.44210526 0.49473684]\n",
            "Accuracy: 45.85% (4.75%)\n",
            "Execution Time: 12.43 seconds\n",
            "------------------------------\n"
          ]
        }
      ],
      "source": [
        "tictactoe_scores = []\n",
        "tictactoe_mean = []\n",
        "tictactoe_std = []\n",
        "model_names = []\n",
        "execution_times = []\n",
        "\n",
        "for name, clf in zip(names, classifiers):\n",
        "  start_time = time.time()\n",
        "  results = cross_val_score(clf, X, y, cv=rskf)\n",
        "  end_time = time.time()\n",
        "\n",
        "  tictactoe_scores.append(results)\n",
        "  tictactoe_mean.append(results.mean()*100)\n",
        "  tictactoe_std.append(results.std()*100)\n",
        "  model_names.append(name)\n",
        "  execution_time = end_time - start_time  \n",
        "  execution_times.append(execution_time)\n",
        "\n",
        "  print(f'--------- {name} on Tictactoe Dataset ---------')\n",
        "  print(results)\n",
        "  print('Accuracy: %.2f%% (%.2f%%)' % (results.mean()*100, results.std()*100))\n",
        "  print(f'Execution Time: {execution_time:.2f} seconds')\n",
        "  print('------------------------------')"
      ]
    },
    {
      "cell_type": "code",
      "execution_count": 167,
      "metadata": {
        "colab": {
          "base_uri": "https://localhost:8080/"
        },
        "id": "OZKp5r2jvKVN",
        "outputId": "dc8cafa6-209a-474a-e325-0d3854025f6d"
      },
      "outputs": [
        {
          "data": {
            "text/plain": [
              "[73.99978070175437,\n",
              " 64.27039473684209,\n",
              " 51.88015350877193,\n",
              " 56.33848684210526,\n",
              " 45.84594298245613]"
            ]
          },
          "execution_count": 167,
          "metadata": {},
          "output_type": "execute_result"
        }
      ],
      "source": [
        "tictactoe_mean"
      ]
    },
    {
      "cell_type": "code",
      "execution_count": 168,
      "metadata": {
        "colab": {
          "base_uri": "https://localhost:8080/"
        },
        "id": "az4xJC3VvKVO",
        "outputId": "463fa524-fa2c-477c-89a7-2793b4f5c4c9"
      },
      "outputs": [
        {
          "data": {
            "text/plain": [
              "[3.8458296443891884,\n",
              " 3.4017280692254035,\n",
              " 5.007130393732132,\n",
              " 4.515817954836898,\n",
              " 4.745613116700222]"
            ]
          },
          "execution_count": 168,
          "metadata": {},
          "output_type": "execute_result"
        }
      ],
      "source": [
        "tictactoe_std"
      ]
    },
    {
      "cell_type": "code",
      "execution_count": 169,
      "metadata": {
        "colab": {
          "base_uri": "https://localhost:8080/",
          "height": 478
        },
        "id": "kY3O-sxvvKVO",
        "outputId": "e2633bbd-ed84-43a9-dd68-7cea04962467"
      },
      "outputs": [
        {
          "data": {
            "image/png": "[encoded data removed]",
            "text/plain": [
              "<Figure size 640x480 with 1 Axes>"
            ]
          },
          "metadata": {},
          "output_type": "display_data"
        }
      ],
      "source": [
        "# algorithm comparison\n",
        "\n",
        "fig = plt.figure()\n",
        "fig.suptitle('Comparison between different Tictactoe scores')\n",
        "ax = fig.add_subplot(111)\n",
        "plt.ylim(0.3, 1)\n",
        "plt.boxplot(tictactoe_scores, showmeans=True)\n",
        "ax.set_xticklabels(model_names)\n",
        "plt.show()"
      ]
    },
    {
      "cell_type": "code",
      "execution_count": 170,
      "metadata": {
        "id": "RbkEk82OvKVO"
      },
      "outputs": [],
      "source": [
        "Algo_results['TicTacToe'] = tictactoe_mean"
      ]
    },
    {
      "cell_type": "code",
      "execution_count": 171,
      "metadata": {
        "colab": {
          "base_uri": "https://localhost:8080/",
          "height": 206
        },
        "id": "uRN-opfpvKVO",
        "outputId": "4878c0b8-32de-4846-efc9-3ba45e22e876"
      },
      "outputs": [
        {
          "data": {
            "text/html": [
              "<div>\n",
              "<style scoped>\n",
              "    .dataframe tbody tr th:only-of-type {\n",
              "        vertical-align: middle;\n",
              "    }\n",
              "\n",
              "    .dataframe tbody tr th {\n",
              "        vertical-align: top;\n",
              "    }\n",
              "\n",
              "    .dataframe thead th {\n",
              "        text-align: right;\n",
              "    }\n",
              "</style>\n",
              "<table border=\"1\" class=\"dataframe\">\n",
              "  <thead>\n",
              "    <tr style=\"text-align: right;\">\n",
              "      <th></th>\n",
              "      <th>Names</th>\n",
              "      <th>Wine</th>\n",
              "      <th>Breast_Cancer</th>\n",
              "      <th>Sonar</th>\n",
              "      <th>Ionosphere</th>\n",
              "      <th>TicTacToe</th>\n",
              "    </tr>\n",
              "  </thead>\n",
              "  <tbody>\n",
              "    <tr>\n",
              "      <th>0</th>\n",
              "      <td>AdaBoost</td>\n",
              "      <td>91.696078</td>\n",
              "      <td>95.620631</td>\n",
              "      <td>82.040476</td>\n",
              "      <td>92.931746</td>\n",
              "      <td>73.999781</td>\n",
              "    </tr>\n",
              "    <tr>\n",
              "      <th>1</th>\n",
              "      <td>GradBoost</td>\n",
              "      <td>94.486928</td>\n",
              "      <td>96.706948</td>\n",
              "      <td>83.326190</td>\n",
              "      <td>93.359524</td>\n",
              "      <td>64.270395</td>\n",
              "    </tr>\n",
              "    <tr>\n",
              "      <th>2</th>\n",
              "      <td>CatBoost</td>\n",
              "      <td>97.852941</td>\n",
              "      <td>97.173274</td>\n",
              "      <td>86.102381</td>\n",
              "      <td>93.672222</td>\n",
              "      <td>51.880154</td>\n",
              "    </tr>\n",
              "    <tr>\n",
              "      <th>3</th>\n",
              "      <td>LightGBM</td>\n",
              "      <td>97.575163</td>\n",
              "      <td>96.792839</td>\n",
              "      <td>87.314286</td>\n",
              "      <td>93.845238</td>\n",
              "      <td>56.338487</td>\n",
              "    </tr>\n",
              "    <tr>\n",
              "      <th>4</th>\n",
              "      <td>XGBoost</td>\n",
              "      <td>96.614379</td>\n",
              "      <td>96.398551</td>\n",
              "      <td>85.240476</td>\n",
              "      <td>92.879365</td>\n",
              "      <td>45.845943</td>\n",
              "    </tr>\n",
              "  </tbody>\n",
              "</table>\n",
              "</div>"
            ],
            "text/plain": [
              "       Names       Wine  Breast_Cancer      Sonar  Ionosphere  TicTacToe\n",
              "0   AdaBoost  91.696078      95.620631  82.040476   92.931746  73.999781\n",
              "1  GradBoost  94.486928      96.706948  83.326190   93.359524  64.270395\n",
              "2   CatBoost  97.852941      97.173274  86.102381   93.672222  51.880154\n",
              "3   LightGBM  97.575163      96.792839  87.314286   93.845238  56.338487\n",
              "4    XGBoost  96.614379      96.398551  85.240476   92.879365  45.845943"
            ]
          },
          "execution_count": 171,
          "metadata": {},
          "output_type": "execute_result"
        }
      ],
      "source": [
        "Algo_results"
      ]
    },
    {
      "cell_type": "code",
      "execution_count": 172,
      "metadata": {},
      "outputs": [],
      "source": [
        "Algo_time_results['TicTacToe'] = pd.Series(execution_times)"
      ]
    },
    {
      "cell_type": "markdown",
      "metadata": {
        "id": "XxKdNE2UvKVO"
      },
      "source": [
        "---"
      ]
    },
    {
      "cell_type": "markdown",
      "metadata": {
        "id": "fijSqisRvKVO"
      },
      "source": [
        "# **Bupa**"
      ]
    },
    {
      "cell_type": "markdown",
      "metadata": {
        "id": "W7CUDWoZvKVO"
      },
      "source": [
        "---"
      ]
    },
    {
      "cell_type": "code",
      "execution_count": 173,
      "metadata": {
        "id": "y-LgornavKVO"
      },
      "outputs": [],
      "source": [
        "bupa_df = pd.read_csv('E:\\Cursos\\MestradoCienciaComputação\\Seminario\\Datasets\\Bupa\\Bupa.data', header=None)"
      ]
    },
    {
      "cell_type": "code",
      "execution_count": 174,
      "metadata": {
        "colab": {
          "base_uri": "https://localhost:8080/"
        },
        "id": "h0tN5YDwvKVO",
        "outputId": "bf0b757f-7922-4ad0-83f6-7c7c962613f4"
      },
      "outputs": [
        {
          "data": {
            "text/plain": [
              "(345, 7)"
            ]
          },
          "execution_count": 174,
          "metadata": {},
          "output_type": "execute_result"
        }
      ],
      "source": [
        "bupa_df.shape"
      ]
    },
    {
      "cell_type": "code",
      "execution_count": 175,
      "metadata": {
        "colab": {
          "base_uri": "https://localhost:8080/",
          "height": 206
        },
        "id": "jM5nX-0dvKVO",
        "outputId": "ab345a84-31d2-4760-aca8-53ff4d5b82cf"
      },
      "outputs": [
        {
          "data": {
            "text/html": [
              "<div>\n",
              "<style scoped>\n",
              "    .dataframe tbody tr th:only-of-type {\n",
              "        vertical-align: middle;\n",
              "    }\n",
              "\n",
              "    .dataframe tbody tr th {\n",
              "        vertical-align: top;\n",
              "    }\n",
              "\n",
              "    .dataframe thead th {\n",
              "        text-align: right;\n",
              "    }\n",
              "</style>\n",
              "<table border=\"1\" class=\"dataframe\">\n",
              "  <thead>\n",
              "    <tr style=\"text-align: right;\">\n",
              "      <th></th>\n",
              "      <th>0</th>\n",
              "      <th>1</th>\n",
              "      <th>2</th>\n",
              "      <th>3</th>\n",
              "      <th>4</th>\n",
              "      <th>5</th>\n",
              "      <th>6</th>\n",
              "    </tr>\n",
              "  </thead>\n",
              "  <tbody>\n",
              "    <tr>\n",
              "      <th>0</th>\n",
              "      <td>85</td>\n",
              "      <td>92</td>\n",
              "      <td>45</td>\n",
              "      <td>27</td>\n",
              "      <td>31</td>\n",
              "      <td>0.0</td>\n",
              "      <td>1</td>\n",
              "    </tr>\n",
              "    <tr>\n",
              "      <th>1</th>\n",
              "      <td>85</td>\n",
              "      <td>64</td>\n",
              "      <td>59</td>\n",
              "      <td>32</td>\n",
              "      <td>23</td>\n",
              "      <td>0.0</td>\n",
              "      <td>2</td>\n",
              "    </tr>\n",
              "    <tr>\n",
              "      <th>2</th>\n",
              "      <td>86</td>\n",
              "      <td>54</td>\n",
              "      <td>33</td>\n",
              "      <td>16</td>\n",
              "      <td>54</td>\n",
              "      <td>0.0</td>\n",
              "      <td>2</td>\n",
              "    </tr>\n",
              "    <tr>\n",
              "      <th>3</th>\n",
              "      <td>91</td>\n",
              "      <td>78</td>\n",
              "      <td>34</td>\n",
              "      <td>24</td>\n",
              "      <td>36</td>\n",
              "      <td>0.0</td>\n",
              "      <td>2</td>\n",
              "    </tr>\n",
              "    <tr>\n",
              "      <th>4</th>\n",
              "      <td>87</td>\n",
              "      <td>70</td>\n",
              "      <td>12</td>\n",
              "      <td>28</td>\n",
              "      <td>10</td>\n",
              "      <td>0.0</td>\n",
              "      <td>2</td>\n",
              "    </tr>\n",
              "  </tbody>\n",
              "</table>\n",
              "</div>"
            ],
            "text/plain": [
              "    0   1   2   3   4    5  6\n",
              "0  85  92  45  27  31  0.0  1\n",
              "1  85  64  59  32  23  0.0  2\n",
              "2  86  54  33  16  54  0.0  2\n",
              "3  91  78  34  24  36  0.0  2\n",
              "4  87  70  12  28  10  0.0  2"
            ]
          },
          "execution_count": 175,
          "metadata": {},
          "output_type": "execute_result"
        }
      ],
      "source": [
        "bupa_df.head()"
      ]
    },
    {
      "cell_type": "code",
      "execution_count": 176,
      "metadata": {
        "colab": {
          "base_uri": "https://localhost:8080/"
        },
        "id": "e7VUDmkEvKVQ",
        "outputId": "b10fd7ca-159d-4e86-f621-b735e1e42c64"
      },
      "outputs": [
        {
          "name": "stdout",
          "output_type": "stream",
          "text": [
            "<class 'pandas.core.frame.DataFrame'>\n",
            "RangeIndex: 345 entries, 0 to 344\n",
            "Data columns (total 7 columns):\n",
            " #   Column  Non-Null Count  Dtype  \n",
            "---  ------  --------------  -----  \n",
            " 0   0       345 non-null    int64  \n",
            " 1   1       345 non-null    int64  \n",
            " 2   2       345 non-null    int64  \n",
            " 3   3       345 non-null    int64  \n",
            " 4   4       345 non-null    int64  \n",
            " 5   5       345 non-null    float64\n",
            " 6   6       345 non-null    int64  \n",
            "dtypes: float64(1), int64(6)\n",
            "memory usage: 19.0 KB\n"
          ]
        }
      ],
      "source": [
        "bupa_df.info()"
      ]
    },
    {
      "cell_type": "code",
      "execution_count": 177,
      "metadata": {
        "colab": {
          "base_uri": "https://localhost:8080/"
        },
        "id": "A3535_ykvKVQ",
        "outputId": "14d29882-a4f3-4971-f9ce-4a9db4f99995"
      },
      "outputs": [
        {
          "data": {
            "text/plain": [
              "0    26\n",
              "1    78\n",
              "2    67\n",
              "3    47\n",
              "4    94\n",
              "5    16\n",
              "6     2\n",
              "dtype: int64"
            ]
          },
          "execution_count": 177,
          "metadata": {},
          "output_type": "execute_result"
        }
      ],
      "source": [
        "bupa_df.nunique()"
      ]
    },
    {
      "cell_type": "code",
      "execution_count": 178,
      "metadata": {
        "colab": {
          "base_uri": "https://localhost:8080/"
        },
        "id": "Ulfb18G4vKVQ",
        "outputId": "b8603bd7-4834-4a0b-a4fd-e39a2180586f"
      },
      "outputs": [
        {
          "data": {
            "text/plain": [
              "0    0\n",
              "1    0\n",
              "2    0\n",
              "3    0\n",
              "4    0\n",
              "5    0\n",
              "6    0\n",
              "dtype: int64"
            ]
          },
          "execution_count": 178,
          "metadata": {},
          "output_type": "execute_result"
        }
      ],
      "source": [
        "bupa_df.isna().sum()"
      ]
    },
    {
      "cell_type": "code",
      "execution_count": 179,
      "metadata": {
        "colab": {
          "base_uri": "https://localhost:8080/"
        },
        "id": "zA-f3pP9vKVQ",
        "outputId": "efa49979-4896-4313-8b49-2ae6ae0a0d3c"
      },
      "outputs": [
        {
          "data": {
            "text/plain": [
              "6\n",
              "2    200\n",
              "1    145\n",
              "Name: count, dtype: int64"
            ]
          },
          "execution_count": 179,
          "metadata": {},
          "output_type": "execute_result"
        }
      ],
      "source": [
        "# Unbalanced dataset\n",
        "\n",
        "bupa_df[6].value_counts()"
      ]
    },
    {
      "cell_type": "code",
      "execution_count": 180,
      "metadata": {
        "id": "gB3pquijvKVQ"
      },
      "outputs": [],
      "source": [
        "X = bupa_df.iloc[:, :-1]\n",
        "y = bupa_df.iloc[:, -1]"
      ]
    },
    {
      "cell_type": "code",
      "execution_count": 181,
      "metadata": {
        "colab": {
          "base_uri": "https://localhost:8080/",
          "height": 206
        },
        "id": "ROyRG4WIvKVQ",
        "outputId": "c75205e1-60cb-4df1-db22-87c3243b4f70"
      },
      "outputs": [
        {
          "data": {
            "text/html": [
              "<div>\n",
              "<style scoped>\n",
              "    .dataframe tbody tr th:only-of-type {\n",
              "        vertical-align: middle;\n",
              "    }\n",
              "\n",
              "    .dataframe tbody tr th {\n",
              "        vertical-align: top;\n",
              "    }\n",
              "\n",
              "    .dataframe thead th {\n",
              "        text-align: right;\n",
              "    }\n",
              "</style>\n",
              "<table border=\"1\" class=\"dataframe\">\n",
              "  <thead>\n",
              "    <tr style=\"text-align: right;\">\n",
              "      <th></th>\n",
              "      <th>0</th>\n",
              "      <th>1</th>\n",
              "      <th>2</th>\n",
              "      <th>3</th>\n",
              "      <th>4</th>\n",
              "      <th>5</th>\n",
              "    </tr>\n",
              "  </thead>\n",
              "  <tbody>\n",
              "    <tr>\n",
              "      <th>0</th>\n",
              "      <td>85</td>\n",
              "      <td>92</td>\n",
              "      <td>45</td>\n",
              "      <td>27</td>\n",
              "      <td>31</td>\n",
              "      <td>0.0</td>\n",
              "    </tr>\n",
              "    <tr>\n",
              "      <th>1</th>\n",
              "      <td>85</td>\n",
              "      <td>64</td>\n",
              "      <td>59</td>\n",
              "      <td>32</td>\n",
              "      <td>23</td>\n",
              "      <td>0.0</td>\n",
              "    </tr>\n",
              "    <tr>\n",
              "      <th>2</th>\n",
              "      <td>86</td>\n",
              "      <td>54</td>\n",
              "      <td>33</td>\n",
              "      <td>16</td>\n",
              "      <td>54</td>\n",
              "      <td>0.0</td>\n",
              "    </tr>\n",
              "    <tr>\n",
              "      <th>3</th>\n",
              "      <td>91</td>\n",
              "      <td>78</td>\n",
              "      <td>34</td>\n",
              "      <td>24</td>\n",
              "      <td>36</td>\n",
              "      <td>0.0</td>\n",
              "    </tr>\n",
              "    <tr>\n",
              "      <th>4</th>\n",
              "      <td>87</td>\n",
              "      <td>70</td>\n",
              "      <td>12</td>\n",
              "      <td>28</td>\n",
              "      <td>10</td>\n",
              "      <td>0.0</td>\n",
              "    </tr>\n",
              "  </tbody>\n",
              "</table>\n",
              "</div>"
            ],
            "text/plain": [
              "    0   1   2   3   4    5\n",
              "0  85  92  45  27  31  0.0\n",
              "1  85  64  59  32  23  0.0\n",
              "2  86  54  33  16  54  0.0\n",
              "3  91  78  34  24  36  0.0\n",
              "4  87  70  12  28  10  0.0"
            ]
          },
          "execution_count": 181,
          "metadata": {},
          "output_type": "execute_result"
        }
      ],
      "source": [
        "X.head()"
      ]
    },
    {
      "cell_type": "code",
      "execution_count": 182,
      "metadata": {
        "colab": {
          "base_uri": "https://localhost:8080/"
        },
        "id": "xzY1BkcuvKVR",
        "outputId": "3260d93d-af8c-496d-d0f6-09b358783c1b"
      },
      "outputs": [
        {
          "data": {
            "text/plain": [
              "0    1\n",
              "1    2\n",
              "2    2\n",
              "3    2\n",
              "4    2\n",
              "Name: 6, dtype: int64"
            ]
          },
          "execution_count": 182,
          "metadata": {},
          "output_type": "execute_result"
        }
      ],
      "source": [
        "y.head()"
      ]
    },
    {
      "cell_type": "code",
      "execution_count": 183,
      "metadata": {
        "id": "1g1UhAbBvKVR"
      },
      "outputs": [],
      "source": [
        "# Since version 1.3.2 XGBoost needs target columns to start with 0 value\n",
        "\n",
        "le = LabelEncoder()\n",
        "y = le.fit_transform(y)"
      ]
    },
    {
      "cell_type": "code",
      "execution_count": 184,
      "metadata": {
        "colab": {
          "base_uri": "https://localhost:8080/"
        },
        "id": "u0U64umkvKVR",
        "outputId": "dcab3c3c-4dba-4276-d160-f3374e0bcb81"
      },
      "outputs": [
        {
          "name": "stdout",
          "output_type": "stream",
          "text": [
            "--------- AdaBoost on Bupa Dataset ---------\n",
            "[0.8        0.74285714 0.6        0.8        0.68571429 0.82352941\n",
            " 0.76470588 0.64705882 0.70588235 0.76470588 0.77142857 0.54285714\n",
            " 0.48571429 0.8        0.65714286 0.73529412 0.88235294 0.64705882\n",
            " 0.73529412 0.79411765 0.77142857 0.6        0.68571429 0.82857143\n",
            " 0.74285714 0.73529412 0.79411765 0.58823529 0.64705882 0.76470588\n",
            " 0.77142857 0.8        0.65714286 0.77142857 0.74285714 0.79411765\n",
            " 0.55882353 0.76470588 0.82352941 0.67647059 0.77142857 0.77142857\n",
            " 0.74285714 0.62857143 0.8        0.76470588 0.67647059 0.64705882\n",
            " 0.73529412 0.73529412 0.71428571 0.77142857 0.74285714 0.68571429\n",
            " 0.71428571 0.73529412 0.73529412 0.76470588 0.61764706 0.64705882\n",
            " 0.77142857 0.91428571 0.65714286 0.65714286 0.68571429 0.76470588\n",
            " 0.70588235 0.79411765 0.79411765 0.67647059 0.77142857 0.62857143\n",
            " 0.82857143 0.82857143 0.68571429 0.79411765 0.79411765 0.64705882\n",
            " 0.67647059 0.70588235 0.77142857 0.77142857 0.77142857 0.8\n",
            " 0.68571429 0.61764706 0.76470588 0.76470588 0.73529412 0.70588235\n",
            " 0.65714286 0.71428571 0.8        0.65714286 0.77142857 0.88235294\n",
            " 0.73529412 0.70588235 0.76470588 0.70588235]\n",
            "Accuracy: 72.87% (7.41%)\n",
            "Execution Time: 6.44 seconds\n",
            "------------------------------\n",
            "--------- GradBoost on Bupa Dataset ---------\n",
            "[0.88571429 0.77142857 0.74285714 0.71428571 0.68571429 0.82352941\n",
            " 0.73529412 0.67647059 0.61764706 0.67647059 0.8        0.65714286\n",
            " 0.65714286 0.82857143 0.71428571 0.67647059 0.79411765 0.70588235\n",
            " 0.58823529 0.79411765 0.74285714 0.68571429 0.77142857 0.77142857\n",
            " 0.77142857 0.79411765 0.88235294 0.70588235 0.67647059 0.73529412\n",
            " 0.74285714 0.65714286 0.68571429 0.82857143 0.8        0.88235294\n",
            " 0.52941176 0.67647059 0.79411765 0.61764706 0.8        0.74285714\n",
            " 0.71428571 0.68571429 0.85714286 0.73529412 0.76470588 0.67647059\n",
            " 0.79411765 0.64705882 0.65714286 0.8        0.77142857 0.68571429\n",
            " 0.8        0.73529412 0.70588235 0.73529412 0.64705882 0.64705882\n",
            " 0.71428571 0.8        0.65714286 0.65714286 0.71428571 0.67647059\n",
            " 0.61764706 0.76470588 0.79411765 0.70588235 0.8        0.62857143\n",
            " 0.88571429 0.8        0.77142857 0.82352941 0.67647059 0.58823529\n",
            " 0.67647059 0.70588235 0.8        0.74285714 0.68571429 0.8\n",
            " 0.74285714 0.67647059 0.64705882 0.70588235 0.64705882 0.73529412\n",
            " 0.71428571 0.82857143 0.71428571 0.62857143 0.65714286 0.88235294\n",
            " 0.76470588 0.67647059 0.82352941 0.73529412]\n",
            "Accuracy: 72.97% (7.33%)\n",
            "Execution Time: 8.89 seconds\n",
            "------------------------------\n",
            "--------- CatBoost on Bupa Dataset ---------\n",
            "[0.94285714 0.74285714 0.62857143 0.74285714 0.77142857 0.82352941\n",
            " 0.67647059 0.70588235 0.73529412 0.61764706 0.82857143 0.71428571\n",
            " 0.65714286 0.8        0.77142857 0.82352941 0.76470588 0.70588235\n",
            " 0.67647059 0.79411765 0.74285714 0.68571429 0.74285714 0.8\n",
            " 0.88571429 0.76470588 0.79411765 0.67647059 0.73529412 0.79411765\n",
            " 0.77142857 0.74285714 0.77142857 0.88571429 0.8        0.73529412\n",
            " 0.55882353 0.76470588 0.76470588 0.70588235 0.74285714 0.74285714\n",
            " 0.71428571 0.71428571 0.8        0.76470588 0.70588235 0.70588235\n",
            " 0.76470588 0.79411765 0.74285714 0.8        0.77142857 0.68571429\n",
            " 0.71428571 0.82352941 0.70588235 0.76470588 0.67647059 0.73529412\n",
            " 0.71428571 0.8        0.74285714 0.62857143 0.65714286 0.61764706\n",
            " 0.64705882 0.85294118 0.91176471 0.70588235 0.8        0.71428571\n",
            " 0.88571429 0.8        0.8        0.76470588 0.73529412 0.67647059\n",
            " 0.67647059 0.73529412 0.68571429 0.74285714 0.85714286 0.8\n",
            " 0.65714286 0.73529412 0.70588235 0.70588235 0.61764706 0.76470588\n",
            " 0.68571429 0.8        0.77142857 0.62857143 0.71428571 0.88235294\n",
            " 0.82352941 0.73529412 0.79411765 0.70588235]\n",
            "Accuracy: 74.60% (6.90%)\n",
            "Execution Time: 136.62 seconds\n",
            "------------------------------\n",
            "--------- LightGBM on Bupa Dataset ---------\n",
            "[0.85714286 0.74285714 0.8        0.71428571 0.71428571 0.79411765\n",
            " 0.67647059 0.64705882 0.58823529 0.64705882 0.74285714 0.74285714\n",
            " 0.68571429 0.77142857 0.77142857 0.70588235 0.79411765 0.70588235\n",
            " 0.73529412 0.73529412 0.74285714 0.65714286 0.8        0.8\n",
            " 0.85714286 0.76470588 0.76470588 0.70588235 0.67647059 0.70588235\n",
            " 0.8        0.82857143 0.74285714 0.8        0.65714286 0.73529412\n",
            " 0.61764706 0.67647059 0.70588235 0.64705882 0.74285714 0.82857143\n",
            " 0.77142857 0.65714286 0.71428571 0.82352941 0.64705882 0.55882353\n",
            " 0.73529412 0.76470588 0.68571429 0.8        0.74285714 0.68571429\n",
            " 0.8        0.67647059 0.79411765 0.61764706 0.64705882 0.67647059\n",
            " 0.68571429 0.82857143 0.65714286 0.65714286 0.65714286 0.64705882\n",
            " 0.55882353 0.91176471 0.82352941 0.64705882 0.77142857 0.6\n",
            " 0.77142857 0.77142857 0.77142857 0.76470588 0.70588235 0.55882353\n",
            " 0.67647059 0.85294118 0.74285714 0.68571429 0.74285714 0.82857143\n",
            " 0.65714286 0.70588235 0.70588235 0.64705882 0.61764706 0.67647059\n",
            " 0.74285714 0.77142857 0.85714286 0.57142857 0.6        0.88235294\n",
            " 0.67647059 0.70588235 0.61764706 0.76470588]\n",
            "Accuracy: 72.15% (7.65%)\n",
            "Execution Time: 2.17 seconds\n",
            "------------------------------\n",
            "--------- XGBoost on Bupa Dataset ---------\n",
            "[0.82857143 0.82857143 0.71428571 0.74285714 0.8        0.82352941\n",
            " 0.61764706 0.64705882 0.61764706 0.64705882 0.74285714 0.68571429\n",
            " 0.65714286 0.71428571 0.68571429 0.64705882 0.73529412 0.67647059\n",
            " 0.70588235 0.79411765 0.68571429 0.62857143 0.77142857 0.71428571\n",
            " 0.85714286 0.79411765 0.73529412 0.67647059 0.58823529 0.73529412\n",
            " 0.8        0.68571429 0.74285714 0.74285714 0.71428571 0.73529412\n",
            " 0.64705882 0.67647059 0.73529412 0.76470588 0.74285714 0.74285714\n",
            " 0.71428571 0.71428571 0.71428571 0.79411765 0.70588235 0.55882353\n",
            " 0.79411765 0.70588235 0.68571429 0.74285714 0.74285714 0.68571429\n",
            " 0.77142857 0.73529412 0.76470588 0.73529412 0.64705882 0.73529412\n",
            " 0.62857143 0.74285714 0.65714286 0.62857143 0.62857143 0.70588235\n",
            " 0.55882353 0.85294118 0.76470588 0.70588235 0.8        0.6\n",
            " 0.8        0.74285714 0.71428571 0.73529412 0.67647059 0.58823529\n",
            " 0.64705882 0.76470588 0.77142857 0.65714286 0.71428571 0.77142857\n",
            " 0.68571429 0.67647059 0.64705882 0.58823529 0.61764706 0.67647059\n",
            " 0.68571429 0.77142857 0.82857143 0.57142857 0.65714286 0.88235294\n",
            " 0.70588235 0.67647059 0.67647059 0.76470588]\n",
            "Accuracy: 71.15% (6.81%)\n",
            "Execution Time: 3.26 seconds\n",
            "------------------------------\n"
          ]
        }
      ],
      "source": [
        "bupa_scores = []\n",
        "bupa_mean = []\n",
        "bupa_std = []\n",
        "model_names = []\n",
        "execution_times = []\n",
        "\n",
        "for name, clf in zip(names, classifiers):\n",
        "  start_time = time.time()\n",
        "  results = cross_val_score(clf, X, y, cv=rskf)\n",
        "  end_time = time.time()\n",
        "\n",
        "  bupa_scores.append(results)\n",
        "  bupa_mean.append(results.mean()*100)\n",
        "  bupa_std.append(results.std()*100)\n",
        "  model_names.append(name)\n",
        "  execution_time = end_time - start_time  \n",
        "  execution_times.append(execution_time)\n",
        "\n",
        "  print(f'--------- {name} on Bupa Dataset ---------')\n",
        "  print(results)\n",
        "  print('Accuracy: %.2f%% (%.2f%%)' % (results.mean()*100, results.std()*100))\n",
        "  print(f'Execution Time: {execution_time:.2f} seconds')\n",
        "  print('------------------------------')"
      ]
    },
    {
      "cell_type": "code",
      "execution_count": 185,
      "metadata": {
        "colab": {
          "base_uri": "https://localhost:8080/"
        },
        "id": "NeyvY7rkvKVR",
        "outputId": "e00f176d-a5d1-4954-9896-9579a3a53084"
      },
      "outputs": [
        {
          "data": {
            "text/plain": [
              "[72.86974789915966,\n",
              " 72.96554621848739,\n",
              " 74.59579831932773,\n",
              " 72.14621848739496,\n",
              " 71.1453781512605]"
            ]
          },
          "execution_count": 185,
          "metadata": {},
          "output_type": "execute_result"
        }
      ],
      "source": [
        "bupa_mean"
      ]
    },
    {
      "cell_type": "code",
      "execution_count": 186,
      "metadata": {
        "colab": {
          "base_uri": "https://localhost:8080/"
        },
        "id": "HnUn8eiHvKVR",
        "outputId": "1bf8f23b-f799-4987-aa06-c7dd4c945c58"
      },
      "outputs": [
        {
          "data": {
            "text/plain": [
              "[7.414006930412971,\n",
              " 7.330576263235048,\n",
              " 6.89718592223879,\n",
              " 7.651263226871813,\n",
              " 6.813355571039844]"
            ]
          },
          "execution_count": 186,
          "metadata": {},
          "output_type": "execute_result"
        }
      ],
      "source": [
        "bupa_std"
      ]
    },
    {
      "cell_type": "code",
      "execution_count": 187,
      "metadata": {
        "colab": {
          "base_uri": "https://localhost:8080/",
          "height": 478
        },
        "id": "VUg-0NfgvKVR",
        "outputId": "f47e1738-7559-4015-8f68-c75a97349e65"
      },
      "outputs": [
        {
          "data": {
            "image/png": "[encoded data removed]",
            "text/plain": [
              "<Figure size 640x480 with 1 Axes>"
            ]
          },
          "metadata": {},
          "output_type": "display_data"
        }
      ],
      "source": [
        "# algorithm comparison\n",
        "\n",
        "fig = plt.figure()\n",
        "fig.suptitle('Comparison between different Bupa scores')\n",
        "ax = fig.add_subplot(111)\n",
        "plt.ylim(0.3, 1)\n",
        "plt.boxplot(bupa_scores, showmeans=True)\n",
        "ax.set_xticklabels(model_names)\n",
        "plt.show()"
      ]
    },
    {
      "cell_type": "code",
      "execution_count": 188,
      "metadata": {
        "id": "XEF3m_vfvKVR"
      },
      "outputs": [],
      "source": [
        "Algo_results['Bupa'] = bupa_mean"
      ]
    },
    {
      "cell_type": "code",
      "execution_count": 189,
      "metadata": {
        "colab": {
          "base_uri": "https://localhost:8080/",
          "height": 206
        },
        "id": "tc-cWoT6vKVR",
        "outputId": "493cd5cd-f044-4ff7-9f8b-588758a1701c"
      },
      "outputs": [
        {
          "data": {
            "text/html": [
              "<div>\n",
              "<style scoped>\n",
              "    .dataframe tbody tr th:only-of-type {\n",
              "        vertical-align: middle;\n",
              "    }\n",
              "\n",
              "    .dataframe tbody tr th {\n",
              "        vertical-align: top;\n",
              "    }\n",
              "\n",
              "    .dataframe thead th {\n",
              "        text-align: right;\n",
              "    }\n",
              "</style>\n",
              "<table border=\"1\" class=\"dataframe\">\n",
              "  <thead>\n",
              "    <tr style=\"text-align: right;\">\n",
              "      <th></th>\n",
              "      <th>Names</th>\n",
              "      <th>Wine</th>\n",
              "      <th>Breast_Cancer</th>\n",
              "      <th>Sonar</th>\n",
              "      <th>Ionosphere</th>\n",
              "      <th>TicTacToe</th>\n",
              "      <th>Bupa</th>\n",
              "    </tr>\n",
              "  </thead>\n",
              "  <tbody>\n",
              "    <tr>\n",
              "      <th>0</th>\n",
              "      <td>AdaBoost</td>\n",
              "      <td>91.696078</td>\n",
              "      <td>95.620631</td>\n",
              "      <td>82.040476</td>\n",
              "      <td>92.931746</td>\n",
              "      <td>73.999781</td>\n",
              "      <td>72.869748</td>\n",
              "    </tr>\n",
              "    <tr>\n",
              "      <th>1</th>\n",
              "      <td>GradBoost</td>\n",
              "      <td>94.486928</td>\n",
              "      <td>96.706948</td>\n",
              "      <td>83.326190</td>\n",
              "      <td>93.359524</td>\n",
              "      <td>64.270395</td>\n",
              "      <td>72.965546</td>\n",
              "    </tr>\n",
              "    <tr>\n",
              "      <th>2</th>\n",
              "      <td>CatBoost</td>\n",
              "      <td>97.852941</td>\n",
              "      <td>97.173274</td>\n",
              "      <td>86.102381</td>\n",
              "      <td>93.672222</td>\n",
              "      <td>51.880154</td>\n",
              "      <td>74.595798</td>\n",
              "    </tr>\n",
              "    <tr>\n",
              "      <th>3</th>\n",
              "      <td>LightGBM</td>\n",
              "      <td>97.575163</td>\n",
              "      <td>96.792839</td>\n",
              "      <td>87.314286</td>\n",
              "      <td>93.845238</td>\n",
              "      <td>56.338487</td>\n",
              "      <td>72.146218</td>\n",
              "    </tr>\n",
              "    <tr>\n",
              "      <th>4</th>\n",
              "      <td>XGBoost</td>\n",
              "      <td>96.614379</td>\n",
              "      <td>96.398551</td>\n",
              "      <td>85.240476</td>\n",
              "      <td>92.879365</td>\n",
              "      <td>45.845943</td>\n",
              "      <td>71.145378</td>\n",
              "    </tr>\n",
              "  </tbody>\n",
              "</table>\n",
              "</div>"
            ],
            "text/plain": [
              "       Names       Wine  Breast_Cancer      Sonar  Ionosphere  TicTacToe  \\\n",
              "0   AdaBoost  91.696078      95.620631  82.040476   92.931746  73.999781   \n",
              "1  GradBoost  94.486928      96.706948  83.326190   93.359524  64.270395   \n",
              "2   CatBoost  97.852941      97.173274  86.102381   93.672222  51.880154   \n",
              "3   LightGBM  97.575163      96.792839  87.314286   93.845238  56.338487   \n",
              "4    XGBoost  96.614379      96.398551  85.240476   92.879365  45.845943   \n",
              "\n",
              "        Bupa  \n",
              "0  72.869748  \n",
              "1  72.965546  \n",
              "2  74.595798  \n",
              "3  72.146218  \n",
              "4  71.145378  "
            ]
          },
          "execution_count": 189,
          "metadata": {},
          "output_type": "execute_result"
        }
      ],
      "source": [
        "Algo_results"
      ]
    },
    {
      "cell_type": "code",
      "execution_count": 190,
      "metadata": {},
      "outputs": [],
      "source": [
        "Algo_time_results['Bupa'] = pd.Series(execution_times)"
      ]
    },
    {
      "cell_type": "markdown",
      "metadata": {
        "id": "Tu3GF1GOvKVR"
      },
      "source": [
        "---"
      ]
    },
    {
      "cell_type": "markdown",
      "metadata": {
        "id": "d-ypSbL9vKVS"
      },
      "source": [
        "# **Pima**"
      ]
    },
    {
      "cell_type": "markdown",
      "metadata": {
        "id": "fk4Yh5F8vKVS"
      },
      "source": [
        "---"
      ]
    },
    {
      "cell_type": "code",
      "execution_count": 191,
      "metadata": {
        "id": "gvENKeFRvKVS"
      },
      "outputs": [],
      "source": [
        "pima_df = pd.read_csv('E:\\Cursos\\MestradoCienciaComputação\\Seminario\\Datasets\\Pima\\Diabetes.csv')"
      ]
    },
    {
      "cell_type": "code",
      "execution_count": 192,
      "metadata": {
        "colab": {
          "base_uri": "https://localhost:8080/",
          "height": 206
        },
        "id": "O7LtaM7hvKVS",
        "outputId": "2d2f0e96-ecb8-461b-ab9e-f9ef2fd37bf8"
      },
      "outputs": [
        {
          "data": {
            "text/html": [
              "<div>\n",
              "<style scoped>\n",
              "    .dataframe tbody tr th:only-of-type {\n",
              "        vertical-align: middle;\n",
              "    }\n",
              "\n",
              "    .dataframe tbody tr th {\n",
              "        vertical-align: top;\n",
              "    }\n",
              "\n",
              "    .dataframe thead th {\n",
              "        text-align: right;\n",
              "    }\n",
              "</style>\n",
              "<table border=\"1\" class=\"dataframe\">\n",
              "  <thead>\n",
              "    <tr style=\"text-align: right;\">\n",
              "      <th></th>\n",
              "      <th>Pregnancies</th>\n",
              "      <th>Glucose</th>\n",
              "      <th>BloodPressure</th>\n",
              "      <th>SkinThickness</th>\n",
              "      <th>Insulin</th>\n",
              "      <th>BMI</th>\n",
              "      <th>DiabetesPedigreeFunction</th>\n",
              "      <th>Age</th>\n",
              "      <th>Outcome</th>\n",
              "    </tr>\n",
              "  </thead>\n",
              "  <tbody>\n",
              "    <tr>\n",
              "      <th>0</th>\n",
              "      <td>6</td>\n",
              "      <td>148</td>\n",
              "      <td>72</td>\n",
              "      <td>35</td>\n",
              "      <td>0</td>\n",
              "      <td>33.6</td>\n",
              "      <td>0.627</td>\n",
              "      <td>50</td>\n",
              "      <td>1</td>\n",
              "    </tr>\n",
              "    <tr>\n",
              "      <th>1</th>\n",
              "      <td>1</td>\n",
              "      <td>85</td>\n",
              "      <td>66</td>\n",
              "      <td>29</td>\n",
              "      <td>0</td>\n",
              "      <td>26.6</td>\n",
              "      <td>0.351</td>\n",
              "      <td>31</td>\n",
              "      <td>0</td>\n",
              "    </tr>\n",
              "    <tr>\n",
              "      <th>2</th>\n",
              "      <td>8</td>\n",
              "      <td>183</td>\n",
              "      <td>64</td>\n",
              "      <td>0</td>\n",
              "      <td>0</td>\n",
              "      <td>23.3</td>\n",
              "      <td>0.672</td>\n",
              "      <td>32</td>\n",
              "      <td>1</td>\n",
              "    </tr>\n",
              "    <tr>\n",
              "      <th>3</th>\n",
              "      <td>1</td>\n",
              "      <td>89</td>\n",
              "      <td>66</td>\n",
              "      <td>23</td>\n",
              "      <td>94</td>\n",
              "      <td>28.1</td>\n",
              "      <td>0.167</td>\n",
              "      <td>21</td>\n",
              "      <td>0</td>\n",
              "    </tr>\n",
              "    <tr>\n",
              "      <th>4</th>\n",
              "      <td>0</td>\n",
              "      <td>137</td>\n",
              "      <td>40</td>\n",
              "      <td>35</td>\n",
              "      <td>168</td>\n",
              "      <td>43.1</td>\n",
              "      <td>2.288</td>\n",
              "      <td>33</td>\n",
              "      <td>1</td>\n",
              "    </tr>\n",
              "  </tbody>\n",
              "</table>\n",
              "</div>"
            ],
            "text/plain": [
              "   Pregnancies  Glucose  BloodPressure  SkinThickness  Insulin   BMI  \\\n",
              "0            6      148             72             35        0  33.6   \n",
              "1            1       85             66             29        0  26.6   \n",
              "2            8      183             64              0        0  23.3   \n",
              "3            1       89             66             23       94  28.1   \n",
              "4            0      137             40             35      168  43.1   \n",
              "\n",
              "   DiabetesPedigreeFunction  Age  Outcome  \n",
              "0                     0.627   50        1  \n",
              "1                     0.351   31        0  \n",
              "2                     0.672   32        1  \n",
              "3                     0.167   21        0  \n",
              "4                     2.288   33        1  "
            ]
          },
          "execution_count": 192,
          "metadata": {},
          "output_type": "execute_result"
        }
      ],
      "source": [
        "pima_df.head()"
      ]
    },
    {
      "cell_type": "code",
      "execution_count": 193,
      "metadata": {
        "colab": {
          "base_uri": "https://localhost:8080/"
        },
        "id": "NRIOX6VNvKVS",
        "outputId": "4b285a65-030d-4764-929d-486aa3e5cfde"
      },
      "outputs": [
        {
          "data": {
            "text/plain": [
              "(768, 9)"
            ]
          },
          "execution_count": 193,
          "metadata": {},
          "output_type": "execute_result"
        }
      ],
      "source": [
        "pima_df.shape"
      ]
    },
    {
      "cell_type": "code",
      "execution_count": 194,
      "metadata": {
        "colab": {
          "base_uri": "https://localhost:8080/"
        },
        "id": "M3RDkR5OvKVS",
        "outputId": "2ed2d495-382e-411e-b62d-e003fdce5e7f"
      },
      "outputs": [
        {
          "name": "stdout",
          "output_type": "stream",
          "text": [
            "<class 'pandas.core.frame.DataFrame'>\n",
            "RangeIndex: 768 entries, 0 to 767\n",
            "Data columns (total 9 columns):\n",
            " #   Column                    Non-Null Count  Dtype  \n",
            "---  ------                    --------------  -----  \n",
            " 0   Pregnancies               768 non-null    int64  \n",
            " 1   Glucose                   768 non-null    int64  \n",
            " 2   BloodPressure             768 non-null    int64  \n",
            " 3   SkinThickness             768 non-null    int64  \n",
            " 4   Insulin                   768 non-null    int64  \n",
            " 5   BMI                       768 non-null    float64\n",
            " 6   DiabetesPedigreeFunction  768 non-null    float64\n",
            " 7   Age                       768 non-null    int64  \n",
            " 8   Outcome                   768 non-null    int64  \n",
            "dtypes: float64(2), int64(7)\n",
            "memory usage: 54.1 KB\n"
          ]
        }
      ],
      "source": [
        "pima_df.info()"
      ]
    },
    {
      "cell_type": "code",
      "execution_count": 195,
      "metadata": {
        "colab": {
          "base_uri": "https://localhost:8080/"
        },
        "id": "LyqJ66IZvKVS",
        "outputId": "9d00c647-e5dc-4606-d53d-e79076cb7f80"
      },
      "outputs": [
        {
          "data": {
            "text/plain": [
              "Pregnancies                 0\n",
              "Glucose                     0\n",
              "BloodPressure               0\n",
              "SkinThickness               0\n",
              "Insulin                     0\n",
              "BMI                         0\n",
              "DiabetesPedigreeFunction    0\n",
              "Age                         0\n",
              "Outcome                     0\n",
              "dtype: int64"
            ]
          },
          "execution_count": 195,
          "metadata": {},
          "output_type": "execute_result"
        }
      ],
      "source": [
        "pima_df.isna().sum()"
      ]
    },
    {
      "cell_type": "code",
      "execution_count": 196,
      "metadata": {
        "colab": {
          "base_uri": "https://localhost:8080/"
        },
        "id": "RDdn_rcrvKVS",
        "outputId": "94a7294c-db14-440b-9082-d0afe72bc9f1"
      },
      "outputs": [
        {
          "data": {
            "text/plain": [
              "Pregnancies                  17\n",
              "Glucose                     136\n",
              "BloodPressure                47\n",
              "SkinThickness                51\n",
              "Insulin                     186\n",
              "BMI                         248\n",
              "DiabetesPedigreeFunction    517\n",
              "Age                          52\n",
              "Outcome                       2\n",
              "dtype: int64"
            ]
          },
          "execution_count": 196,
          "metadata": {},
          "output_type": "execute_result"
        }
      ],
      "source": [
        "pima_df.nunique()"
      ]
    },
    {
      "cell_type": "code",
      "execution_count": 197,
      "metadata": {
        "colab": {
          "base_uri": "https://localhost:8080/"
        },
        "id": "nx6TlYunvKVS",
        "outputId": "d556ff06-44a0-4808-c236-d26bbb4d64d4"
      },
      "outputs": [
        {
          "data": {
            "text/plain": [
              "Outcome\n",
              "0    500\n",
              "1    268\n",
              "Name: count, dtype: int64"
            ]
          },
          "execution_count": 197,
          "metadata": {},
          "output_type": "execute_result"
        }
      ],
      "source": [
        "# It is a unbalanced dataset\n",
        "\n",
        "pima_df['Outcome'].value_counts()"
      ]
    },
    {
      "cell_type": "code",
      "execution_count": 198,
      "metadata": {
        "id": "WVcvlP4hvKVT"
      },
      "outputs": [],
      "source": [
        "X = pima_df.iloc[:, :-1]\n",
        "y = pima_df.iloc[:, -1]"
      ]
    },
    {
      "cell_type": "code",
      "execution_count": 199,
      "metadata": {
        "colab": {
          "base_uri": "https://localhost:8080/",
          "height": 206
        },
        "id": "kA_Z_F-BvKVT",
        "outputId": "6f95ce5d-2468-45f7-d262-1f2a9792bbf8"
      },
      "outputs": [
        {
          "data": {
            "text/html": [
              "<div>\n",
              "<style scoped>\n",
              "    .dataframe tbody tr th:only-of-type {\n",
              "        vertical-align: middle;\n",
              "    }\n",
              "\n",
              "    .dataframe tbody tr th {\n",
              "        vertical-align: top;\n",
              "    }\n",
              "\n",
              "    .dataframe thead th {\n",
              "        text-align: right;\n",
              "    }\n",
              "</style>\n",
              "<table border=\"1\" class=\"dataframe\">\n",
              "  <thead>\n",
              "    <tr style=\"text-align: right;\">\n",
              "      <th></th>\n",
              "      <th>Pregnancies</th>\n",
              "      <th>Glucose</th>\n",
              "      <th>BloodPressure</th>\n",
              "      <th>SkinThickness</th>\n",
              "      <th>Insulin</th>\n",
              "      <th>BMI</th>\n",
              "      <th>DiabetesPedigreeFunction</th>\n",
              "      <th>Age</th>\n",
              "    </tr>\n",
              "  </thead>\n",
              "  <tbody>\n",
              "    <tr>\n",
              "      <th>0</th>\n",
              "      <td>6</td>\n",
              "      <td>148</td>\n",
              "      <td>72</td>\n",
              "      <td>35</td>\n",
              "      <td>0</td>\n",
              "      <td>33.6</td>\n",
              "      <td>0.627</td>\n",
              "      <td>50</td>\n",
              "    </tr>\n",
              "    <tr>\n",
              "      <th>1</th>\n",
              "      <td>1</td>\n",
              "      <td>85</td>\n",
              "      <td>66</td>\n",
              "      <td>29</td>\n",
              "      <td>0</td>\n",
              "      <td>26.6</td>\n",
              "      <td>0.351</td>\n",
              "      <td>31</td>\n",
              "    </tr>\n",
              "    <tr>\n",
              "      <th>2</th>\n",
              "      <td>8</td>\n",
              "      <td>183</td>\n",
              "      <td>64</td>\n",
              "      <td>0</td>\n",
              "      <td>0</td>\n",
              "      <td>23.3</td>\n",
              "      <td>0.672</td>\n",
              "      <td>32</td>\n",
              "    </tr>\n",
              "    <tr>\n",
              "      <th>3</th>\n",
              "      <td>1</td>\n",
              "      <td>89</td>\n",
              "      <td>66</td>\n",
              "      <td>23</td>\n",
              "      <td>94</td>\n",
              "      <td>28.1</td>\n",
              "      <td>0.167</td>\n",
              "      <td>21</td>\n",
              "    </tr>\n",
              "    <tr>\n",
              "      <th>4</th>\n",
              "      <td>0</td>\n",
              "      <td>137</td>\n",
              "      <td>40</td>\n",
              "      <td>35</td>\n",
              "      <td>168</td>\n",
              "      <td>43.1</td>\n",
              "      <td>2.288</td>\n",
              "      <td>33</td>\n",
              "    </tr>\n",
              "  </tbody>\n",
              "</table>\n",
              "</div>"
            ],
            "text/plain": [
              "   Pregnancies  Glucose  BloodPressure  SkinThickness  Insulin   BMI  \\\n",
              "0            6      148             72             35        0  33.6   \n",
              "1            1       85             66             29        0  26.6   \n",
              "2            8      183             64              0        0  23.3   \n",
              "3            1       89             66             23       94  28.1   \n",
              "4            0      137             40             35      168  43.1   \n",
              "\n",
              "   DiabetesPedigreeFunction  Age  \n",
              "0                     0.627   50  \n",
              "1                     0.351   31  \n",
              "2                     0.672   32  \n",
              "3                     0.167   21  \n",
              "4                     2.288   33  "
            ]
          },
          "execution_count": 199,
          "metadata": {},
          "output_type": "execute_result"
        }
      ],
      "source": [
        "X.head()"
      ]
    },
    {
      "cell_type": "code",
      "execution_count": 200,
      "metadata": {
        "colab": {
          "base_uri": "https://localhost:8080/"
        },
        "id": "dYtNkhyLvKVT",
        "outputId": "ba64bc4a-aee3-4259-edaf-3e1400f85396"
      },
      "outputs": [
        {
          "data": {
            "text/plain": [
              "0    1\n",
              "1    0\n",
              "2    1\n",
              "3    0\n",
              "4    1\n",
              "Name: Outcome, dtype: int64"
            ]
          },
          "execution_count": 200,
          "metadata": {},
          "output_type": "execute_result"
        }
      ],
      "source": [
        "y.head()"
      ]
    },
    {
      "cell_type": "code",
      "execution_count": 201,
      "metadata": {
        "colab": {
          "base_uri": "https://localhost:8080/"
        },
        "id": "aPii6AETvKVT",
        "outputId": "5bf40a68-c8fb-4174-942a-01f66053bcc1"
      },
      "outputs": [
        {
          "name": "stdout",
          "output_type": "stream",
          "text": [
            "--------- AdaBoost on Pima Dataset ---------\n",
            "[0.74025974 0.77922078 0.7012987  0.84415584 0.81818182 0.7012987\n",
            " 0.74025974 0.75324675 0.71052632 0.72368421 0.71428571 0.68831169\n",
            " 0.72727273 0.75324675 0.76623377 0.83116883 0.80519481 0.7012987\n",
            " 0.65789474 0.80263158 0.76623377 0.74025974 0.83116883 0.71428571\n",
            " 0.75324675 0.76623377 0.72727273 0.74025974 0.73684211 0.67105263\n",
            " 0.79220779 0.72727273 0.68831169 0.74025974 0.83116883 0.7012987\n",
            " 0.75324675 0.81818182 0.76315789 0.63157895 0.74025974 0.75324675\n",
            " 0.83116883 0.75324675 0.79220779 0.79220779 0.68831169 0.79220779\n",
            " 0.71052632 0.71052632 0.79220779 0.74025974 0.75324675 0.7012987\n",
            " 0.77922078 0.79220779 0.63636364 0.74025974 0.72368421 0.73684211\n",
            " 0.77922078 0.75324675 0.75324675 0.76623377 0.76623377 0.77922078\n",
            " 0.72727273 0.72727273 0.72368421 0.77631579 0.77922078 0.72727273\n",
            " 0.74025974 0.81818182 0.71428571 0.74025974 0.75324675 0.75324675\n",
            " 0.71052632 0.73684211 0.75324675 0.72727273 0.81818182 0.79220779\n",
            " 0.80519481 0.80519481 0.71428571 0.67532468 0.77631579 0.82894737\n",
            " 0.75324675 0.76623377 0.79220779 0.75324675 0.76623377 0.68831169\n",
            " 0.77922078 0.72727273 0.75       0.78947368]\n",
            "Accuracy: 75.10% (4.36%)\n",
            "Execution Time: 8.41 seconds\n",
            "------------------------------\n",
            "--------- GradBoost on Pima Dataset ---------\n",
            "[0.80519481 0.76623377 0.67532468 0.87012987 0.80519481 0.72727273\n",
            " 0.76623377 0.77922078 0.76315789 0.68421053 0.71428571 0.72727273\n",
            " 0.77922078 0.74025974 0.77922078 0.80519481 0.80519481 0.72727273\n",
            " 0.73684211 0.84210526 0.79220779 0.81818182 0.75324675 0.71428571\n",
            " 0.71428571 0.80519481 0.76623377 0.83116883 0.72368421 0.72368421\n",
            " 0.81818182 0.71428571 0.76623377 0.81818182 0.79220779 0.72727273\n",
            " 0.81818182 0.80519481 0.73684211 0.69736842 0.74025974 0.80519481\n",
            " 0.80519481 0.80519481 0.83116883 0.77922078 0.7012987  0.77922078\n",
            " 0.73684211 0.77631579 0.83116883 0.79220779 0.76623377 0.72727273\n",
            " 0.81818182 0.79220779 0.71428571 0.76623377 0.77631579 0.72368421\n",
            " 0.81818182 0.74025974 0.79220779 0.72727273 0.72727273 0.81818182\n",
            " 0.71428571 0.71428571 0.76315789 0.76315789 0.75324675 0.72727273\n",
            " 0.75324675 0.81818182 0.72727273 0.71428571 0.80519481 0.79220779\n",
            " 0.75       0.72368421 0.77922078 0.75324675 0.75324675 0.79220779\n",
            " 0.77922078 0.74025974 0.71428571 0.66233766 0.75       0.76315789\n",
            " 0.71428571 0.77922078 0.77922078 0.72727273 0.76623377 0.77922078\n",
            " 0.74025974 0.74025974 0.69736842 0.75      ]\n",
            "Accuracy: 76.21% (4.10%)\n",
            "Execution Time: 18.44 seconds\n",
            "------------------------------\n",
            "--------- CatBoost on Pima Dataset ---------\n",
            "[0.77922078 0.76623377 0.71428571 0.88311688 0.80519481 0.75324675\n",
            " 0.75324675 0.79220779 0.73684211 0.72368421 0.72727273 0.68831169\n",
            " 0.80519481 0.75324675 0.74025974 0.84415584 0.77922078 0.72727273\n",
            " 0.72368421 0.81578947 0.75324675 0.80519481 0.76623377 0.71428571\n",
            " 0.72727273 0.81818182 0.75324675 0.81818182 0.69736842 0.69736842\n",
            " 0.81818182 0.75324675 0.76623377 0.77922078 0.79220779 0.68831169\n",
            " 0.83116883 0.80519481 0.72368421 0.65789474 0.74025974 0.75324675\n",
            " 0.83116883 0.77922078 0.76623377 0.76623377 0.7012987  0.81818182\n",
            " 0.76315789 0.71052632 0.81818182 0.79220779 0.76623377 0.74025974\n",
            " 0.75324675 0.83116883 0.71428571 0.7012987  0.77631579 0.71052632\n",
            " 0.77922078 0.72727273 0.77922078 0.75324675 0.74025974 0.80519481\n",
            " 0.7012987  0.72727273 0.77631579 0.72368421 0.77922078 0.7012987\n",
            " 0.75324675 0.87012987 0.72727273 0.71428571 0.79220779 0.74025974\n",
            " 0.77631579 0.75       0.79220779 0.76623377 0.80519481 0.81818182\n",
            " 0.80519481 0.79220779 0.72727273 0.72727273 0.73684211 0.77631579\n",
            " 0.76623377 0.79220779 0.80519481 0.76623377 0.77922078 0.75324675\n",
            " 0.80519481 0.77922078 0.71052632 0.77631579]\n",
            "Accuracy: 76.31% (4.22%)\n",
            "Execution Time: 173.96 seconds\n",
            "------------------------------\n",
            "--------- LightGBM on Pima Dataset ---------\n",
            "[0.71428571 0.74025974 0.7012987  0.83116883 0.76623377 0.71428571\n",
            " 0.71428571 0.80519481 0.69736842 0.61842105 0.68831169 0.75324675\n",
            " 0.75324675 0.76623377 0.74025974 0.80519481 0.76623377 0.72727273\n",
            " 0.73684211 0.88157895 0.71428571 0.80519481 0.76623377 0.71428571\n",
            " 0.74025974 0.74025974 0.75324675 0.79220779 0.72368421 0.63157895\n",
            " 0.76623377 0.67532468 0.71428571 0.72727273 0.75324675 0.7012987\n",
            " 0.81818182 0.79220779 0.72368421 0.68421053 0.74025974 0.77922078\n",
            " 0.79220779 0.77922078 0.77922078 0.75324675 0.74025974 0.71428571\n",
            " 0.73684211 0.75       0.79220779 0.76623377 0.76623377 0.7012987\n",
            " 0.7012987  0.79220779 0.71428571 0.7012987  0.76315789 0.73684211\n",
            " 0.81818182 0.76623377 0.74025974 0.76623377 0.7012987  0.75324675\n",
            " 0.7012987  0.75324675 0.75       0.77631579 0.79220779 0.68831169\n",
            " 0.79220779 0.79220779 0.71428571 0.66233766 0.76623377 0.71428571\n",
            " 0.73684211 0.71052632 0.79220779 0.76623377 0.76623377 0.77922078\n",
            " 0.76623377 0.75324675 0.72727273 0.67532468 0.69736842 0.77631579\n",
            " 0.74025974 0.75324675 0.80519481 0.74025974 0.79220779 0.7012987\n",
            " 0.77922078 0.74025974 0.68421053 0.76315789]\n",
            "Accuracy: 74.55% (4.25%)\n",
            "Execution Time: 4.77 seconds\n",
            "------------------------------\n",
            "--------- XGBoost on Pima Dataset ---------\n",
            "[0.75324675 0.72727273 0.71428571 0.80519481 0.77922078 0.71428571\n",
            " 0.75324675 0.77922078 0.69736842 0.64473684 0.66233766 0.64935065\n",
            " 0.74025974 0.79220779 0.71428571 0.75324675 0.72727273 0.71428571\n",
            " 0.71052632 0.84210526 0.75324675 0.83116883 0.72727273 0.71428571\n",
            " 0.75324675 0.72727273 0.74025974 0.76623377 0.71052632 0.63157895\n",
            " 0.77922078 0.74025974 0.72727273 0.75324675 0.75324675 0.68831169\n",
            " 0.77922078 0.75324675 0.73684211 0.69736842 0.74025974 0.74025974\n",
            " 0.75324675 0.77922078 0.75324675 0.72727273 0.71428571 0.75324675\n",
            " 0.69736842 0.72368421 0.81818182 0.74025974 0.71428571 0.71428571\n",
            " 0.74025974 0.71428571 0.68831169 0.71428571 0.75       0.73684211\n",
            " 0.79220779 0.72727273 0.74025974 0.75324675 0.68831169 0.72727273\n",
            " 0.71428571 0.77922078 0.73684211 0.73684211 0.80519481 0.68831169\n",
            " 0.72727273 0.80519481 0.75324675 0.66233766 0.75324675 0.74025974\n",
            " 0.77631579 0.72368421 0.79220779 0.74025974 0.76623377 0.80519481\n",
            " 0.75324675 0.71428571 0.7012987  0.71428571 0.75       0.76315789\n",
            " 0.75324675 0.74025974 0.77922078 0.75324675 0.79220779 0.66233766\n",
            " 0.74025974 0.72727273 0.68421053 0.80263158]\n",
            "Accuracy: 73.92% (3.93%)\n",
            "Execution Time: 5.41 seconds\n",
            "------------------------------\n"
          ]
        }
      ],
      "source": [
        "pima_scores = []\n",
        "pima_mean = []\n",
        "pima_std = []\n",
        "model_names = []\n",
        "execution_times = []\n",
        "\n",
        "for name, clf in zip(names, classifiers):\n",
        "  start_time = time.time()\n",
        "  results = cross_val_score(clf, X, y, cv=rskf)\n",
        "  end_time = time.time()\n",
        "\n",
        "  pima_scores.append(results)\n",
        "  pima_mean.append(results.mean()*100)\n",
        "  pima_std.append(results.std()*100)\n",
        "  model_names.append(name)\n",
        "  execution_time = end_time - start_time  \n",
        "  execution_times.append(execution_time)\n",
        "\n",
        "  print(f'--------- {name} on Pima Dataset ---------')\n",
        "  print(results)\n",
        "  print('Accuracy: %.2f%% (%.2f%%)' % (results.mean()*100, results.std()*100))\n",
        "  print(f'Execution Time: {execution_time:.2f} seconds')\n",
        "  print('------------------------------')"
      ]
    },
    {
      "cell_type": "code",
      "execution_count": 202,
      "metadata": {
        "colab": {
          "base_uri": "https://localhost:8080/"
        },
        "id": "bLuks8-svKVT",
        "outputId": "487e08a1-82ca-472e-e418-8607af97fd77"
      },
      "outputs": [
        {
          "data": {
            "text/plain": [
              "[75.09962406015038,\n",
              " 76.20625427204376,\n",
              " 76.3086124401914,\n",
              " 74.55297334244703,\n",
              " 73.91626794258374]"
            ]
          },
          "execution_count": 202,
          "metadata": {},
          "output_type": "execute_result"
        }
      ],
      "source": [
        "pima_mean"
      ]
    },
    {
      "cell_type": "code",
      "execution_count": 203,
      "metadata": {
        "colab": {
          "base_uri": "https://localhost:8080/"
        },
        "id": "6OTOtGx_vKVT",
        "outputId": "4ec9a331-5ba2-4003-fb8a-1c441c4f5ccd"
      },
      "outputs": [
        {
          "data": {
            "text/plain": [
              "[4.355035334186671,\n",
              " 4.099370974123496,\n",
              " 4.221326546518267,\n",
              " 4.249331092789857,\n",
              " 3.9269103357209207]"
            ]
          },
          "execution_count": 203,
          "metadata": {},
          "output_type": "execute_result"
        }
      ],
      "source": [
        "pima_std"
      ]
    },
    {
      "cell_type": "code",
      "execution_count": 204,
      "metadata": {
        "colab": {
          "base_uri": "https://localhost:8080/",
          "height": 478
        },
        "id": "QhXOWNGMvKVT",
        "outputId": "7065609b-1062-415f-d341-6b0c48b1a789"
      },
      "outputs": [
        {
          "data": {
            "image/png": "[encoded data removed]",
            "text/plain": [
              "<Figure size 640x480 with 1 Axes>"
            ]
          },
          "metadata": {},
          "output_type": "display_data"
        }
      ],
      "source": [
        "# algorithm comparison\n",
        "\n",
        "fig = plt.figure()\n",
        "fig.suptitle('Comparison between different Pima scores')\n",
        "ax = fig.add_subplot(111)\n",
        "plt.ylim(0.3, 1)\n",
        "plt.boxplot(pima_scores, showmeans=True)\n",
        "ax.set_xticklabels(model_names)\n",
        "plt.show()"
      ]
    },
    {
      "cell_type": "code",
      "execution_count": 205,
      "metadata": {
        "id": "gWHHnjB-vKVT"
      },
      "outputs": [],
      "source": [
        "Algo_results['Pima'] = pima_mean"
      ]
    },
    {
      "cell_type": "code",
      "execution_count": 206,
      "metadata": {},
      "outputs": [],
      "source": [
        "Algo_time_results['Pima'] = pd.Series(execution_times)"
      ]
    },
    {
      "cell_type": "markdown",
      "metadata": {
        "id": "J3LozOMCvKVT"
      },
      "source": [
        "---"
      ]
    },
    {
      "cell_type": "markdown",
      "metadata": {
        "id": "lExY-ekwvKVU"
      },
      "source": [
        "# **Heart**"
      ]
    },
    {
      "cell_type": "markdown",
      "metadata": {
        "id": "dcFvlMoOvKVU"
      },
      "source": [
        "---"
      ]
    },
    {
      "cell_type": "code",
      "execution_count": 247,
      "metadata": {
        "id": "tBrWupdbvKVU"
      },
      "outputs": [],
      "source": [
        "heart_df = pd.read_csv('E:\\Cursos\\MestradoCienciaComputação\\Seminario\\Datasets\\Heart\\Heart.csv')"
      ]
    },
    {
      "cell_type": "code",
      "execution_count": 248,
      "metadata": {
        "colab": {
          "base_uri": "https://localhost:8080/",
          "height": 206
        },
        "id": "Vtqu5vLfvKVU",
        "outputId": "3774dfb0-eb96-422c-a3ea-946c232cab95"
      },
      "outputs": [
        {
          "data": {
            "text/html": [
              "<div>\n",
              "<style scoped>\n",
              "    .dataframe tbody tr th:only-of-type {\n",
              "        vertical-align: middle;\n",
              "    }\n",
              "\n",
              "    .dataframe tbody tr th {\n",
              "        vertical-align: top;\n",
              "    }\n",
              "\n",
              "    .dataframe thead th {\n",
              "        text-align: right;\n",
              "    }\n",
              "</style>\n",
              "<table border=\"1\" class=\"dataframe\">\n",
              "  <thead>\n",
              "    <tr style=\"text-align: right;\">\n",
              "      <th></th>\n",
              "      <th>age</th>\n",
              "      <th>sex</th>\n",
              "      <th>cp</th>\n",
              "      <th>trestbps</th>\n",
              "      <th>chol</th>\n",
              "      <th>fbs</th>\n",
              "      <th>restecg</th>\n",
              "      <th>thalach</th>\n",
              "      <th>exang</th>\n",
              "      <th>oldpeak</th>\n",
              "      <th>slope</th>\n",
              "      <th>ca</th>\n",
              "      <th>thal</th>\n",
              "      <th>presence</th>\n",
              "    </tr>\n",
              "  </thead>\n",
              "  <tbody>\n",
              "    <tr>\n",
              "      <th>0</th>\n",
              "      <td>70.0</td>\n",
              "      <td>1.0</td>\n",
              "      <td>4.0</td>\n",
              "      <td>130.0</td>\n",
              "      <td>322.0</td>\n",
              "      <td>0.0</td>\n",
              "      <td>2.0</td>\n",
              "      <td>109.0</td>\n",
              "      <td>0.0</td>\n",
              "      <td>2.4</td>\n",
              "      <td>2.0</td>\n",
              "      <td>3.0</td>\n",
              "      <td>3.0</td>\n",
              "      <td>2</td>\n",
              "    </tr>\n",
              "    <tr>\n",
              "      <th>1</th>\n",
              "      <td>67.0</td>\n",
              "      <td>0.0</td>\n",
              "      <td>3.0</td>\n",
              "      <td>115.0</td>\n",
              "      <td>564.0</td>\n",
              "      <td>0.0</td>\n",
              "      <td>2.0</td>\n",
              "      <td>160.0</td>\n",
              "      <td>0.0</td>\n",
              "      <td>1.6</td>\n",
              "      <td>2.0</td>\n",
              "      <td>0.0</td>\n",
              "      <td>7.0</td>\n",
              "      <td>1</td>\n",
              "    </tr>\n",
              "    <tr>\n",
              "      <th>2</th>\n",
              "      <td>57.0</td>\n",
              "      <td>1.0</td>\n",
              "      <td>2.0</td>\n",
              "      <td>124.0</td>\n",
              "      <td>261.0</td>\n",
              "      <td>0.0</td>\n",
              "      <td>0.0</td>\n",
              "      <td>141.0</td>\n",
              "      <td>0.0</td>\n",
              "      <td>0.3</td>\n",
              "      <td>1.0</td>\n",
              "      <td>0.0</td>\n",
              "      <td>7.0</td>\n",
              "      <td>2</td>\n",
              "    </tr>\n",
              "    <tr>\n",
              "      <th>3</th>\n",
              "      <td>64.0</td>\n",
              "      <td>1.0</td>\n",
              "      <td>4.0</td>\n",
              "      <td>128.0</td>\n",
              "      <td>263.0</td>\n",
              "      <td>0.0</td>\n",
              "      <td>0.0</td>\n",
              "      <td>105.0</td>\n",
              "      <td>1.0</td>\n",
              "      <td>0.2</td>\n",
              "      <td>2.0</td>\n",
              "      <td>1.0</td>\n",
              "      <td>7.0</td>\n",
              "      <td>1</td>\n",
              "    </tr>\n",
              "    <tr>\n",
              "      <th>4</th>\n",
              "      <td>74.0</td>\n",
              "      <td>0.0</td>\n",
              "      <td>2.0</td>\n",
              "      <td>120.0</td>\n",
              "      <td>269.0</td>\n",
              "      <td>0.0</td>\n",
              "      <td>2.0</td>\n",
              "      <td>121.0</td>\n",
              "      <td>1.0</td>\n",
              "      <td>0.2</td>\n",
              "      <td>1.0</td>\n",
              "      <td>1.0</td>\n",
              "      <td>3.0</td>\n",
              "      <td>1</td>\n",
              "    </tr>\n",
              "  </tbody>\n",
              "</table>\n",
              "</div>"
            ],
            "text/plain": [
              "    age  sex   cp  trestbps   chol  fbs  restecg  thalach  exang  oldpeak  \\\n",
              "0  70.0  1.0  4.0     130.0  322.0  0.0      2.0    109.0    0.0      2.4   \n",
              "1  67.0  0.0  3.0     115.0  564.0  0.0      2.0    160.0    0.0      1.6   \n",
              "2  57.0  1.0  2.0     124.0  261.0  0.0      0.0    141.0    0.0      0.3   \n",
              "3  64.0  1.0  4.0     128.0  263.0  0.0      0.0    105.0    1.0      0.2   \n",
              "4  74.0  0.0  2.0     120.0  269.0  0.0      2.0    121.0    1.0      0.2   \n",
              "\n",
              "   slope   ca  thal  presence  \n",
              "0    2.0  3.0   3.0         2  \n",
              "1    2.0  0.0   7.0         1  \n",
              "2    1.0  0.0   7.0         2  \n",
              "3    2.0  1.0   7.0         1  \n",
              "4    1.0  1.0   3.0         1  "
            ]
          },
          "execution_count": 248,
          "metadata": {},
          "output_type": "execute_result"
        }
      ],
      "source": [
        "heart_df.head()"
      ]
    },
    {
      "cell_type": "code",
      "execution_count": 249,
      "metadata": {
        "colab": {
          "base_uri": "https://localhost:8080/"
        },
        "id": "Mdtj-c2OvKVU",
        "outputId": "dff042f9-334d-4c8b-af64-64d21a0409a1"
      },
      "outputs": [
        {
          "data": {
            "text/plain": [
              "(270, 14)"
            ]
          },
          "execution_count": 249,
          "metadata": {},
          "output_type": "execute_result"
        }
      ],
      "source": [
        "heart_df.shape"
      ]
    },
    {
      "cell_type": "code",
      "execution_count": 250,
      "metadata": {
        "colab": {
          "base_uri": "https://localhost:8080/"
        },
        "id": "P7EsIoLWvKVU",
        "outputId": "ba04698d-cec5-4a67-8ca0-2ffdbc2d3604"
      },
      "outputs": [
        {
          "name": "stdout",
          "output_type": "stream",
          "text": [
            "<class 'pandas.core.frame.DataFrame'>\n",
            "RangeIndex: 270 entries, 0 to 269\n",
            "Data columns (total 14 columns):\n",
            " #   Column    Non-Null Count  Dtype  \n",
            "---  ------    --------------  -----  \n",
            " 0   age       270 non-null    float64\n",
            " 1   sex       270 non-null    float64\n",
            " 2   cp        270 non-null    float64\n",
            " 3   trestbps  270 non-null    float64\n",
            " 4   chol      270 non-null    float64\n",
            " 5   fbs       270 non-null    float64\n",
            " 6   restecg   270 non-null    float64\n",
            " 7   thalach   270 non-null    float64\n",
            " 8   exang     270 non-null    float64\n",
            " 9   oldpeak   270 non-null    float64\n",
            " 10  slope     270 non-null    float64\n",
            " 11  ca        270 non-null    float64\n",
            " 12  thal      270 non-null    float64\n",
            " 13  presence  270 non-null    int64  \n",
            "dtypes: float64(13), int64(1)\n",
            "memory usage: 29.7 KB\n"
          ]
        }
      ],
      "source": [
        "heart_df.info()"
      ]
    },
    {
      "cell_type": "code",
      "execution_count": 251,
      "metadata": {
        "colab": {
          "base_uri": "https://localhost:8080/"
        },
        "id": "guv22JSsvKVU",
        "outputId": "8ce10a64-7d03-4f48-f08b-ab9a0868a686"
      },
      "outputs": [
        {
          "data": {
            "text/plain": [
              "age         0\n",
              "sex         0\n",
              "cp          0\n",
              "trestbps    0\n",
              "chol        0\n",
              "fbs         0\n",
              "restecg     0\n",
              "thalach     0\n",
              "exang       0\n",
              "oldpeak     0\n",
              "slope       0\n",
              "ca          0\n",
              "thal        0\n",
              "presence    0\n",
              "dtype: int64"
            ]
          },
          "execution_count": 251,
          "metadata": {},
          "output_type": "execute_result"
        }
      ],
      "source": [
        "heart_df.isna().sum()"
      ]
    },
    {
      "cell_type": "code",
      "execution_count": 252,
      "metadata": {
        "colab": {
          "base_uri": "https://localhost:8080/"
        },
        "id": "7A0Vgv8YvKVU",
        "outputId": "eeab976e-6d62-4beb-8e0e-267d2e3164c8"
      },
      "outputs": [
        {
          "data": {
            "text/plain": [
              "presence\n",
              "1    150\n",
              "2    120\n",
              "Name: count, dtype: int64"
            ]
          },
          "execution_count": 252,
          "metadata": {},
          "output_type": "execute_result"
        }
      ],
      "source": [
        "# Almost balanced dataset\n",
        "\n",
        "heart_df['presence'].value_counts()"
      ]
    },
    {
      "cell_type": "code",
      "execution_count": 253,
      "metadata": {
        "id": "gSWK3UJXvKVU"
      },
      "outputs": [],
      "source": [
        "X = heart_df.iloc[:, :-1]\n",
        "y = heart_df.iloc[:, -1]"
      ]
    },
    {
      "cell_type": "code",
      "execution_count": 254,
      "metadata": {
        "colab": {
          "base_uri": "https://localhost:8080/",
          "height": 206
        },
        "id": "MktNtFKpvKVV",
        "outputId": "a45bb508-19b6-40f7-f3ee-fa0b08407968"
      },
      "outputs": [
        {
          "data": {
            "text/html": [
              "<div>\n",
              "<style scoped>\n",
              "    .dataframe tbody tr th:only-of-type {\n",
              "        vertical-align: middle;\n",
              "    }\n",
              "\n",
              "    .dataframe tbody tr th {\n",
              "        vertical-align: top;\n",
              "    }\n",
              "\n",
              "    .dataframe thead th {\n",
              "        text-align: right;\n",
              "    }\n",
              "</style>\n",
              "<table border=\"1\" class=\"dataframe\">\n",
              "  <thead>\n",
              "    <tr style=\"text-align: right;\">\n",
              "      <th></th>\n",
              "      <th>age</th>\n",
              "      <th>sex</th>\n",
              "      <th>cp</th>\n",
              "      <th>trestbps</th>\n",
              "      <th>chol</th>\n",
              "      <th>fbs</th>\n",
              "      <th>restecg</th>\n",
              "      <th>thalach</th>\n",
              "      <th>exang</th>\n",
              "      <th>oldpeak</th>\n",
              "      <th>slope</th>\n",
              "      <th>ca</th>\n",
              "      <th>thal</th>\n",
              "    </tr>\n",
              "  </thead>\n",
              "  <tbody>\n",
              "    <tr>\n",
              "      <th>0</th>\n",
              "      <td>70.0</td>\n",
              "      <td>1.0</td>\n",
              "      <td>4.0</td>\n",
              "      <td>130.0</td>\n",
              "      <td>322.0</td>\n",
              "      <td>0.0</td>\n",
              "      <td>2.0</td>\n",
              "      <td>109.0</td>\n",
              "      <td>0.0</td>\n",
              "      <td>2.4</td>\n",
              "      <td>2.0</td>\n",
              "      <td>3.0</td>\n",
              "      <td>3.0</td>\n",
              "    </tr>\n",
              "    <tr>\n",
              "      <th>1</th>\n",
              "      <td>67.0</td>\n",
              "      <td>0.0</td>\n",
              "      <td>3.0</td>\n",
              "      <td>115.0</td>\n",
              "      <td>564.0</td>\n",
              "      <td>0.0</td>\n",
              "      <td>2.0</td>\n",
              "      <td>160.0</td>\n",
              "      <td>0.0</td>\n",
              "      <td>1.6</td>\n",
              "      <td>2.0</td>\n",
              "      <td>0.0</td>\n",
              "      <td>7.0</td>\n",
              "    </tr>\n",
              "    <tr>\n",
              "      <th>2</th>\n",
              "      <td>57.0</td>\n",
              "      <td>1.0</td>\n",
              "      <td>2.0</td>\n",
              "      <td>124.0</td>\n",
              "      <td>261.0</td>\n",
              "      <td>0.0</td>\n",
              "      <td>0.0</td>\n",
              "      <td>141.0</td>\n",
              "      <td>0.0</td>\n",
              "      <td>0.3</td>\n",
              "      <td>1.0</td>\n",
              "      <td>0.0</td>\n",
              "      <td>7.0</td>\n",
              "    </tr>\n",
              "    <tr>\n",
              "      <th>3</th>\n",
              "      <td>64.0</td>\n",
              "      <td>1.0</td>\n",
              "      <td>4.0</td>\n",
              "      <td>128.0</td>\n",
              "      <td>263.0</td>\n",
              "      <td>0.0</td>\n",
              "      <td>0.0</td>\n",
              "      <td>105.0</td>\n",
              "      <td>1.0</td>\n",
              "      <td>0.2</td>\n",
              "      <td>2.0</td>\n",
              "      <td>1.0</td>\n",
              "      <td>7.0</td>\n",
              "    </tr>\n",
              "    <tr>\n",
              "      <th>4</th>\n",
              "      <td>74.0</td>\n",
              "      <td>0.0</td>\n",
              "      <td>2.0</td>\n",
              "      <td>120.0</td>\n",
              "      <td>269.0</td>\n",
              "      <td>0.0</td>\n",
              "      <td>2.0</td>\n",
              "      <td>121.0</td>\n",
              "      <td>1.0</td>\n",
              "      <td>0.2</td>\n",
              "      <td>1.0</td>\n",
              "      <td>1.0</td>\n",
              "      <td>3.0</td>\n",
              "    </tr>\n",
              "  </tbody>\n",
              "</table>\n",
              "</div>"
            ],
            "text/plain": [
              "    age  sex   cp  trestbps   chol  fbs  restecg  thalach  exang  oldpeak  \\\n",
              "0  70.0  1.0  4.0     130.0  322.0  0.0      2.0    109.0    0.0      2.4   \n",
              "1  67.0  0.0  3.0     115.0  564.0  0.0      2.0    160.0    0.0      1.6   \n",
              "2  57.0  1.0  2.0     124.0  261.0  0.0      0.0    141.0    0.0      0.3   \n",
              "3  64.0  1.0  4.0     128.0  263.0  0.0      0.0    105.0    1.0      0.2   \n",
              "4  74.0  0.0  2.0     120.0  269.0  0.0      2.0    121.0    1.0      0.2   \n",
              "\n",
              "   slope   ca  thal  \n",
              "0    2.0  3.0   3.0  \n",
              "1    2.0  0.0   7.0  \n",
              "2    1.0  0.0   7.0  \n",
              "3    2.0  1.0   7.0  \n",
              "4    1.0  1.0   3.0  "
            ]
          },
          "execution_count": 254,
          "metadata": {},
          "output_type": "execute_result"
        }
      ],
      "source": [
        "X.head()"
      ]
    },
    {
      "cell_type": "code",
      "execution_count": 255,
      "metadata": {
        "colab": {
          "base_uri": "https://localhost:8080/"
        },
        "id": "9QxcXrl6vKVV",
        "outputId": "110f3c8b-7e44-4347-c30b-018853e56a63"
      },
      "outputs": [
        {
          "data": {
            "text/plain": [
              "0    2\n",
              "1    1\n",
              "2    2\n",
              "3    1\n",
              "4    1\n",
              "Name: presence, dtype: int64"
            ]
          },
          "execution_count": 255,
          "metadata": {},
          "output_type": "execute_result"
        }
      ],
      "source": [
        "y.head()"
      ]
    },
    {
      "cell_type": "code",
      "execution_count": 256,
      "metadata": {
        "id": "zldUCd0ivKVV"
      },
      "outputs": [],
      "source": [
        "# Since version 1.3.2 XGBoost needs target columns to start with 0 value\n",
        "\n",
        "le = LabelEncoder()\n",
        "y = le.fit_transform(y)"
      ]
    },
    {
      "cell_type": "code",
      "execution_count": 257,
      "metadata": {
        "colab": {
          "base_uri": "https://localhost:8080/"
        },
        "id": "oyKhkbVwvKVV",
        "outputId": "5a0f27c4-3c64-4cde-b4f5-ebca4dbec1ab"
      },
      "outputs": [
        {
          "data": {
            "text/plain": [
              "array([1, 0, 1, 0, 0, 0, 1, 1, 1, 1, 0, 0, 0, 1, 0, 0, 1, 1, 0, 0, 1, 0,\n",
              "       0, 0, 0, 0, 0, 0, 1, 0, 1, 0, 0, 1, 1, 1, 1, 1, 0, 0, 1, 0, 0, 0,\n",
              "       1, 0, 1, 1, 1, 1, 1, 0, 0, 0, 0, 0, 1, 0, 1, 1, 0, 1, 0, 0, 0, 1,\n",
              "       0, 1, 0, 1, 1, 0, 0, 0, 0, 1, 0, 0, 0, 0, 1, 1, 1, 0, 0, 0, 0, 0,\n",
              "       0, 1, 0, 1, 1, 1, 1, 1, 0, 1, 0, 0, 0, 1, 0, 1, 1, 1, 0, 1, 1, 0,\n",
              "       1, 0, 1, 0, 0, 0, 1, 1, 0, 1, 1, 1, 1, 0, 0, 0, 1, 0, 0, 1, 1, 1,\n",
              "       0, 1, 0, 0, 0, 1, 0, 0, 1, 0, 1, 0, 1, 1, 1, 1, 1, 0, 0, 0, 0, 0,\n",
              "       0, 0, 1, 0, 0, 1, 1, 1, 0, 1, 0, 0, 0, 0, 0, 1, 0, 1, 1, 0, 0, 1,\n",
              "       1, 1, 1, 0, 0, 1, 1, 0, 0, 0, 1, 0, 0, 1, 0, 1, 0, 1, 0, 0, 0, 0,\n",
              "       0, 1, 0, 1, 1, 1, 1, 0, 0, 0, 1, 0, 1, 0, 0, 1, 0, 0, 0, 0, 0, 0,\n",
              "       1, 1, 0, 1, 0, 0, 1, 1, 0, 0, 1, 1, 0, 1, 0, 1, 0, 1, 0, 0, 1, 0,\n",
              "       0, 1, 0, 1, 1, 0, 1, 1, 1, 0, 1, 0, 0, 0, 0, 1, 1, 0, 0, 1, 1, 0,\n",
              "       1, 0, 0, 0, 0, 1], dtype=int64)"
            ]
          },
          "execution_count": 257,
          "metadata": {},
          "output_type": "execute_result"
        }
      ],
      "source": [
        "y"
      ]
    },
    {
      "cell_type": "code",
      "execution_count": 258,
      "metadata": {
        "colab": {
          "base_uri": "https://localhost:8080/"
        },
        "id": "BfTPm2civKVV",
        "outputId": "5a6afa7b-0af6-42c1-9b05-77c122370d90"
      },
      "outputs": [
        {
          "name": "stdout",
          "output_type": "stream",
          "text": [
            "--------- AdaBoost on Heart Dataset ---------\n",
            "[0.81481481 0.81481481 0.81481481 0.92592593 0.7037037  0.74074074\n",
            " 0.81481481 0.62962963 0.81481481 0.85185185 0.7037037  0.81481481\n",
            " 0.88888889 0.77777778 0.85185185 0.77777778 0.92592593 0.55555556\n",
            " 0.77777778 0.81481481 0.77777778 0.88888889 0.77777778 0.74074074\n",
            " 0.77777778 0.85185185 0.85185185 0.7037037  0.81481481 0.81481481\n",
            " 0.81481481 0.81481481 0.7037037  0.77777778 0.74074074 0.96296296\n",
            " 0.77777778 0.77777778 0.77777778 0.77777778 0.85185185 0.85185185\n",
            " 0.81481481 0.74074074 0.7037037  0.85185185 0.81481481 0.77777778\n",
            " 0.81481481 0.81481481 0.62962963 0.77777778 0.77777778 0.88888889\n",
            " 0.77777778 0.85185185 0.77777778 0.81481481 0.81481481 0.85185185\n",
            " 0.85185185 0.81481481 0.81481481 0.85185185 0.81481481 0.7037037\n",
            " 0.7037037  0.74074074 0.74074074 0.92592593 0.92592593 0.85185185\n",
            " 0.74074074 0.88888889 0.85185185 0.77777778 0.74074074 0.92592593\n",
            " 0.77777778 0.85185185 0.85185185 0.88888889 0.77777778 0.77777778\n",
            " 0.7037037  0.85185185 0.81481481 0.74074074 0.85185185 0.77777778\n",
            " 0.88888889 0.85185185 0.77777778 0.7037037  0.81481481 0.66666667\n",
            " 0.85185185 0.77777778 0.74074074 0.85185185]\n",
            "Accuracy: 80.00% (6.91%)\n",
            "Execution Time: 6.17 seconds\n",
            "------------------------------\n",
            "--------- GradBoost on Heart Dataset ---------\n",
            "[0.77777778 0.81481481 0.74074074 0.88888889 0.62962963 0.74074074\n",
            " 0.81481481 0.7037037  0.77777778 0.96296296 0.81481481 0.81481481\n",
            " 0.85185185 0.81481481 0.81481481 0.81481481 0.88888889 0.7037037\n",
            " 0.85185185 0.81481481 0.74074074 0.92592593 0.77777778 0.81481481\n",
            " 0.88888889 0.77777778 0.85185185 0.77777778 0.74074074 0.81481481\n",
            " 0.85185185 0.85185185 0.74074074 0.81481481 0.7037037  0.92592593\n",
            " 0.74074074 0.7037037  0.74074074 0.7037037  0.81481481 0.92592593\n",
            " 0.77777778 0.74074074 0.7037037  0.77777778 0.7037037  0.85185185\n",
            " 0.85185185 0.81481481 0.66666667 0.81481481 0.81481481 0.81481481\n",
            " 0.74074074 0.85185185 0.81481481 0.85185185 0.74074074 0.92592593\n",
            " 0.85185185 0.85185185 0.85185185 0.88888889 0.81481481 0.77777778\n",
            " 0.77777778 0.74074074 0.81481481 0.85185185 0.96296296 0.77777778\n",
            " 0.77777778 0.74074074 0.81481481 0.74074074 0.74074074 0.81481481\n",
            " 0.77777778 0.81481481 0.85185185 0.81481481 0.74074074 0.81481481\n",
            " 0.74074074 0.85185185 0.77777778 0.74074074 0.88888889 0.81481481\n",
            " 0.85185185 0.74074074 0.77777778 0.74074074 0.88888889 0.66666667\n",
            " 0.77777778 0.74074074 0.77777778 0.88888889]\n",
            "Accuracy: 80.00% (6.54%)\n",
            "Execution Time: 9.24 seconds\n",
            "------------------------------\n",
            "--------- CatBoost on Heart Dataset ---------\n",
            "[0.81481481 0.85185185 0.81481481 0.88888889 0.74074074 0.74074074\n",
            " 0.81481481 0.7037037  0.77777778 0.96296296 0.85185185 0.85185185\n",
            " 0.85185185 0.81481481 0.85185185 0.85185185 0.85185185 0.62962963\n",
            " 0.85185185 0.81481481 0.74074074 0.92592593 0.81481481 0.77777778\n",
            " 0.92592593 0.74074074 0.85185185 0.81481481 0.77777778 0.96296296\n",
            " 0.85185185 0.88888889 0.85185185 0.81481481 0.85185185 0.85185185\n",
            " 0.77777778 0.81481481 0.7037037  0.74074074 0.81481481 0.88888889\n",
            " 0.81481481 0.85185185 0.7037037  0.85185185 0.85185185 0.85185185\n",
            " 0.77777778 0.85185185 0.66666667 0.77777778 0.88888889 0.81481481\n",
            " 0.81481481 0.92592593 0.81481481 0.81481481 0.81481481 0.81481481\n",
            " 0.88888889 0.88888889 0.88888889 0.88888889 0.85185185 0.74074074\n",
            " 0.77777778 0.7037037  0.81481481 0.92592593 0.96296296 0.81481481\n",
            " 0.77777778 0.85185185 0.92592593 0.77777778 0.77777778 0.85185185\n",
            " 0.81481481 0.85185185 0.92592593 0.85185185 0.81481481 0.85185185\n",
            " 0.74074074 0.81481481 0.77777778 0.74074074 0.88888889 0.77777778\n",
            " 0.81481481 0.77777778 0.85185185 0.81481481 0.88888889 0.7037037\n",
            " 0.77777778 0.81481481 0.77777778 0.92592593]\n",
            "Accuracy: 82.33% (6.45%)\n",
            "Execution Time: 147.83 seconds\n",
            "------------------------------\n",
            "--------- LightGBM on Heart Dataset ---------\n",
            "[0.77777778 0.88888889 0.81481481 0.92592593 0.81481481 0.66666667\n",
            " 0.77777778 0.74074074 0.81481481 0.92592593 0.85185185 0.81481481\n",
            " 0.88888889 0.85185185 0.77777778 0.85185185 0.85185185 0.62962963\n",
            " 0.81481481 0.81481481 0.7037037  0.92592593 0.77777778 0.74074074\n",
            " 0.92592593 0.74074074 0.85185185 0.77777778 0.81481481 0.88888889\n",
            " 0.85185185 0.88888889 0.77777778 0.81481481 0.74074074 0.85185185\n",
            " 0.77777778 0.77777778 0.74074074 0.77777778 0.77777778 0.88888889\n",
            " 0.77777778 0.77777778 0.77777778 0.77777778 0.77777778 0.85185185\n",
            " 0.85185185 0.85185185 0.59259259 0.7037037  0.81481481 0.81481481\n",
            " 0.7037037  0.81481481 0.81481481 0.88888889 0.77777778 0.85185185\n",
            " 0.92592593 0.81481481 0.81481481 0.85185185 0.81481481 0.81481481\n",
            " 0.81481481 0.77777778 0.81481481 0.85185185 0.96296296 0.85185185\n",
            " 0.77777778 0.81481481 0.92592593 0.77777778 0.74074074 0.88888889\n",
            " 0.74074074 0.88888889 0.81481481 0.88888889 0.77777778 0.85185185\n",
            " 0.7037037  0.77777778 0.88888889 0.74074074 0.92592593 0.81481481\n",
            " 0.81481481 0.85185185 0.88888889 0.77777778 0.85185185 0.74074074\n",
            " 0.81481481 0.7037037  0.74074074 0.85185185]\n",
            "Accuracy: 81.22% (6.67%)\n",
            "Execution Time: 2.38 seconds\n",
            "------------------------------\n",
            "--------- XGBoost on Heart Dataset ---------\n",
            "[0.74074074 0.81481481 0.81481481 0.85185185 0.74074074 0.66666667\n",
            " 0.77777778 0.7037037  0.81481481 0.92592593 0.81481481 0.74074074\n",
            " 0.88888889 0.85185185 0.81481481 0.81481481 0.88888889 0.66666667\n",
            " 0.81481481 0.85185185 0.74074074 0.88888889 0.81481481 0.81481481\n",
            " 0.92592593 0.77777778 0.81481481 0.77777778 0.77777778 0.92592593\n",
            " 0.85185185 0.85185185 0.77777778 0.81481481 0.74074074 0.85185185\n",
            " 0.74074074 0.81481481 0.74074074 0.74074074 0.77777778 0.88888889\n",
            " 0.85185185 0.7037037  0.66666667 0.81481481 0.77777778 0.85185185\n",
            " 0.81481481 0.81481481 0.62962963 0.7037037  0.85185185 0.85185185\n",
            " 0.7037037  0.88888889 0.77777778 0.81481481 0.77777778 0.85185185\n",
            " 0.85185185 0.85185185 0.92592593 0.88888889 0.81481481 0.81481481\n",
            " 0.77777778 0.77777778 0.81481481 0.88888889 0.92592593 0.81481481\n",
            " 0.77777778 0.85185185 0.81481481 0.74074074 0.74074074 0.85185185\n",
            " 0.81481481 0.81481481 0.85185185 0.85185185 0.77777778 0.85185185\n",
            " 0.74074074 0.81481481 0.74074074 0.74074074 0.88888889 0.81481481\n",
            " 0.81481481 0.77777778 0.85185185 0.81481481 0.85185185 0.66666667\n",
            " 0.85185185 0.74074074 0.74074074 0.85185185]\n",
            "Accuracy: 80.59% (6.33%)\n",
            "Execution Time: 3.66 seconds\n",
            "------------------------------\n"
          ]
        }
      ],
      "source": [
        "heart_scores = []\n",
        "heart_mean = []\n",
        "heart_std = []\n",
        "model_names = []\n",
        "execution_times = []\n",
        "\n",
        "for name, clf in zip(names, classifiers):\n",
        "  start_time = time.time()\n",
        "  results = cross_val_score(clf, X, y, cv=rskf)\n",
        "  end_time = time.time()\n",
        "\n",
        "  heart_scores.append(results)\n",
        "  heart_mean.append(results.mean()*100)\n",
        "  heart_std.append(results.std()*100)\n",
        "  model_names.append(name)\n",
        "  execution_time = end_time - start_time  \n",
        "  execution_times.append(execution_time)\n",
        "  \n",
        "  print(f'--------- {name} on Heart Dataset ---------')\n",
        "  print(results)\n",
        "  print('Accuracy: %.2f%% (%.2f%%)' % (results.mean()*100, results.std()*100))\n",
        "  print(f'Execution Time: {execution_time:.2f} seconds')\n",
        "  print('------------------------------')"
      ]
    },
    {
      "cell_type": "code",
      "execution_count": 259,
      "metadata": {
        "colab": {
          "base_uri": "https://localhost:8080/"
        },
        "id": "S-rkDuvLvKVV",
        "outputId": "5b0c27a7-1ca3-491b-d74b-ca7245b0ccb5"
      },
      "outputs": [
        {
          "data": {
            "text/plain": [
              "[79.99999999999999,\n",
              " 79.99999999999999,\n",
              " 82.33333333333331,\n",
              " 81.22222222222223,\n",
              " 80.5925925925926]"
            ]
          },
          "execution_count": 259,
          "metadata": {},
          "output_type": "execute_result"
        }
      ],
      "source": [
        "heart_mean"
      ]
    },
    {
      "cell_type": "code",
      "execution_count": 260,
      "metadata": {
        "colab": {
          "base_uri": "https://localhost:8080/"
        },
        "id": "OkjCM-oLvKVV",
        "outputId": "cd55e4e3-ce19-49d5-ab86-d1f33aaf7169"
      },
      "outputs": [
        {
          "data": {
            "text/plain": [
              "[6.909169668954678,\n",
              " 6.542045086168775,\n",
              " 6.454547210937164,\n",
              " 6.671911517112698,\n",
              " 6.331492043365363]"
            ]
          },
          "execution_count": 260,
          "metadata": {},
          "output_type": "execute_result"
        }
      ],
      "source": [
        "heart_std"
      ]
    },
    {
      "cell_type": "code",
      "execution_count": 261,
      "metadata": {
        "colab": {
          "base_uri": "https://localhost:8080/",
          "height": 478
        },
        "id": "t_YCZYZmvKVV",
        "outputId": "33701596-e389-45f8-da26-d11dc7a6af6d"
      },
      "outputs": [
        {
          "data": {
            "image/png": "[encoded data removed]",
            "text/plain": [
              "<Figure size 640x480 with 1 Axes>"
            ]
          },
          "metadata": {},
          "output_type": "display_data"
        }
      ],
      "source": [
        "# algorithm comparison\n",
        "\n",
        "fig = plt.figure()\n",
        "fig.suptitle('Comparison between different Heart scores')\n",
        "ax = fig.add_subplot(111)\n",
        "plt.ylim(0.3, 1)\n",
        "plt.boxplot(heart_scores, showmeans=True)\n",
        "ax.set_xticklabels(model_names)\n",
        "plt.show()"
      ]
    },
    {
      "cell_type": "code",
      "execution_count": 262,
      "metadata": {
        "id": "Mer_vK1UvKVV"
      },
      "outputs": [],
      "source": [
        "Algo_results['Heart'] = heart_mean"
      ]
    },
    {
      "cell_type": "code",
      "execution_count": 263,
      "metadata": {},
      "outputs": [],
      "source": [
        "Algo_time_results['Heart'] = pd.Series(execution_times)"
      ]
    },
    {
      "cell_type": "markdown",
      "metadata": {
        "id": "Sk60-vInvKVW"
      },
      "source": [
        "---"
      ]
    },
    {
      "cell_type": "markdown",
      "metadata": {
        "id": "DE9j5xZ9vKVW"
      },
      "source": [
        "# **Liver**"
      ]
    },
    {
      "cell_type": "markdown",
      "metadata": {
        "id": "yT3-P-DHvKVW"
      },
      "source": [
        "---"
      ]
    },
    {
      "cell_type": "code",
      "execution_count": 264,
      "metadata": {
        "id": "7-zVK8zBvKVW"
      },
      "outputs": [],
      "source": [
        "liver_df = pd.read_csv('E:\\Cursos\\MestradoCienciaComputação\\Seminario\\Datasets\\Liver\\Bupa.data', header=None)"
      ]
    },
    {
      "cell_type": "code",
      "execution_count": 265,
      "metadata": {
        "colab": {
          "base_uri": "https://localhost:8080/"
        },
        "id": "knsrF9tKvKVW",
        "outputId": "04414932-9073-410b-d855-e418d5b08d3f"
      },
      "outputs": [
        {
          "data": {
            "text/plain": [
              "(345, 7)"
            ]
          },
          "execution_count": 265,
          "metadata": {},
          "output_type": "execute_result"
        }
      ],
      "source": [
        "liver_df.shape"
      ]
    },
    {
      "cell_type": "code",
      "execution_count": 266,
      "metadata": {
        "colab": {
          "base_uri": "https://localhost:8080/",
          "height": 206
        },
        "id": "2m_MWCqWvKVW",
        "outputId": "7e4dec10-7de7-44e8-b537-826e4eb06e9c"
      },
      "outputs": [
        {
          "data": {
            "text/html": [
              "<div>\n",
              "<style scoped>\n",
              "    .dataframe tbody tr th:only-of-type {\n",
              "        vertical-align: middle;\n",
              "    }\n",
              "\n",
              "    .dataframe tbody tr th {\n",
              "        vertical-align: top;\n",
              "    }\n",
              "\n",
              "    .dataframe thead th {\n",
              "        text-align: right;\n",
              "    }\n",
              "</style>\n",
              "<table border=\"1\" class=\"dataframe\">\n",
              "  <thead>\n",
              "    <tr style=\"text-align: right;\">\n",
              "      <th></th>\n",
              "      <th>0</th>\n",
              "      <th>1</th>\n",
              "      <th>2</th>\n",
              "      <th>3</th>\n",
              "      <th>4</th>\n",
              "      <th>5</th>\n",
              "      <th>6</th>\n",
              "    </tr>\n",
              "  </thead>\n",
              "  <tbody>\n",
              "    <tr>\n",
              "      <th>0</th>\n",
              "      <td>85</td>\n",
              "      <td>92</td>\n",
              "      <td>45</td>\n",
              "      <td>27</td>\n",
              "      <td>31</td>\n",
              "      <td>0.0</td>\n",
              "      <td>1</td>\n",
              "    </tr>\n",
              "    <tr>\n",
              "      <th>1</th>\n",
              "      <td>85</td>\n",
              "      <td>64</td>\n",
              "      <td>59</td>\n",
              "      <td>32</td>\n",
              "      <td>23</td>\n",
              "      <td>0.0</td>\n",
              "      <td>2</td>\n",
              "    </tr>\n",
              "    <tr>\n",
              "      <th>2</th>\n",
              "      <td>86</td>\n",
              "      <td>54</td>\n",
              "      <td>33</td>\n",
              "      <td>16</td>\n",
              "      <td>54</td>\n",
              "      <td>0.0</td>\n",
              "      <td>2</td>\n",
              "    </tr>\n",
              "    <tr>\n",
              "      <th>3</th>\n",
              "      <td>91</td>\n",
              "      <td>78</td>\n",
              "      <td>34</td>\n",
              "      <td>24</td>\n",
              "      <td>36</td>\n",
              "      <td>0.0</td>\n",
              "      <td>2</td>\n",
              "    </tr>\n",
              "    <tr>\n",
              "      <th>4</th>\n",
              "      <td>87</td>\n",
              "      <td>70</td>\n",
              "      <td>12</td>\n",
              "      <td>28</td>\n",
              "      <td>10</td>\n",
              "      <td>0.0</td>\n",
              "      <td>2</td>\n",
              "    </tr>\n",
              "  </tbody>\n",
              "</table>\n",
              "</div>"
            ],
            "text/plain": [
              "    0   1   2   3   4    5  6\n",
              "0  85  92  45  27  31  0.0  1\n",
              "1  85  64  59  32  23  0.0  2\n",
              "2  86  54  33  16  54  0.0  2\n",
              "3  91  78  34  24  36  0.0  2\n",
              "4  87  70  12  28  10  0.0  2"
            ]
          },
          "execution_count": 266,
          "metadata": {},
          "output_type": "execute_result"
        }
      ],
      "source": [
        "liver_df.head()"
      ]
    },
    {
      "cell_type": "code",
      "execution_count": 267,
      "metadata": {
        "colab": {
          "base_uri": "https://localhost:8080/"
        },
        "id": "7bxMq8PHvKVW",
        "outputId": "fa515170-390e-482d-956f-18aa883b9284"
      },
      "outputs": [
        {
          "name": "stdout",
          "output_type": "stream",
          "text": [
            "<class 'pandas.core.frame.DataFrame'>\n",
            "RangeIndex: 345 entries, 0 to 344\n",
            "Data columns (total 7 columns):\n",
            " #   Column  Non-Null Count  Dtype  \n",
            "---  ------  --------------  -----  \n",
            " 0   0       345 non-null    int64  \n",
            " 1   1       345 non-null    int64  \n",
            " 2   2       345 non-null    int64  \n",
            " 3   3       345 non-null    int64  \n",
            " 4   4       345 non-null    int64  \n",
            " 5   5       345 non-null    float64\n",
            " 6   6       345 non-null    int64  \n",
            "dtypes: float64(1), int64(6)\n",
            "memory usage: 19.0 KB\n"
          ]
        }
      ],
      "source": [
        "liver_df.info()"
      ]
    },
    {
      "cell_type": "code",
      "execution_count": 268,
      "metadata": {
        "colab": {
          "base_uri": "https://localhost:8080/"
        },
        "id": "CqXnNhZzvKVW",
        "outputId": "3978b9f0-36bc-4571-b425-5e6c5607c392"
      },
      "outputs": [
        {
          "data": {
            "text/plain": [
              "0    0\n",
              "1    0\n",
              "2    0\n",
              "3    0\n",
              "4    0\n",
              "5    0\n",
              "6    0\n",
              "dtype: int64"
            ]
          },
          "execution_count": 268,
          "metadata": {},
          "output_type": "execute_result"
        }
      ],
      "source": [
        "liver_df.isna().sum()"
      ]
    },
    {
      "cell_type": "code",
      "execution_count": 269,
      "metadata": {
        "colab": {
          "base_uri": "https://localhost:8080/"
        },
        "id": "PvHiF0JDvKVW",
        "outputId": "495c8411-c3c5-41d1-ee92-af510f17bd65"
      },
      "outputs": [
        {
          "data": {
            "text/plain": [
              "6\n",
              "2    200\n",
              "1    145\n",
              "Name: count, dtype: int64"
            ]
          },
          "execution_count": 269,
          "metadata": {},
          "output_type": "execute_result"
        }
      ],
      "source": [
        "# Unbalanced dataset\n",
        "\n",
        "liver_df[6].value_counts()"
      ]
    },
    {
      "cell_type": "code",
      "execution_count": 270,
      "metadata": {
        "id": "LeHix0NmvKVX"
      },
      "outputs": [],
      "source": [
        "X = liver_df.iloc[:, :-1]\n",
        "y = liver_df.iloc[:, -1]"
      ]
    },
    {
      "cell_type": "code",
      "execution_count": 271,
      "metadata": {
        "colab": {
          "base_uri": "https://localhost:8080/",
          "height": 206
        },
        "id": "M7IsVc1wvKVX",
        "outputId": "3d549feb-25fd-4a35-b1cc-8fbd8d9623e3"
      },
      "outputs": [
        {
          "data": {
            "text/html": [
              "<div>\n",
              "<style scoped>\n",
              "    .dataframe tbody tr th:only-of-type {\n",
              "        vertical-align: middle;\n",
              "    }\n",
              "\n",
              "    .dataframe tbody tr th {\n",
              "        vertical-align: top;\n",
              "    }\n",
              "\n",
              "    .dataframe thead th {\n",
              "        text-align: right;\n",
              "    }\n",
              "</style>\n",
              "<table border=\"1\" class=\"dataframe\">\n",
              "  <thead>\n",
              "    <tr style=\"text-align: right;\">\n",
              "      <th></th>\n",
              "      <th>0</th>\n",
              "      <th>1</th>\n",
              "      <th>2</th>\n",
              "      <th>3</th>\n",
              "      <th>4</th>\n",
              "      <th>5</th>\n",
              "    </tr>\n",
              "  </thead>\n",
              "  <tbody>\n",
              "    <tr>\n",
              "      <th>0</th>\n",
              "      <td>85</td>\n",
              "      <td>92</td>\n",
              "      <td>45</td>\n",
              "      <td>27</td>\n",
              "      <td>31</td>\n",
              "      <td>0.0</td>\n",
              "    </tr>\n",
              "    <tr>\n",
              "      <th>1</th>\n",
              "      <td>85</td>\n",
              "      <td>64</td>\n",
              "      <td>59</td>\n",
              "      <td>32</td>\n",
              "      <td>23</td>\n",
              "      <td>0.0</td>\n",
              "    </tr>\n",
              "    <tr>\n",
              "      <th>2</th>\n",
              "      <td>86</td>\n",
              "      <td>54</td>\n",
              "      <td>33</td>\n",
              "      <td>16</td>\n",
              "      <td>54</td>\n",
              "      <td>0.0</td>\n",
              "    </tr>\n",
              "    <tr>\n",
              "      <th>3</th>\n",
              "      <td>91</td>\n",
              "      <td>78</td>\n",
              "      <td>34</td>\n",
              "      <td>24</td>\n",
              "      <td>36</td>\n",
              "      <td>0.0</td>\n",
              "    </tr>\n",
              "    <tr>\n",
              "      <th>4</th>\n",
              "      <td>87</td>\n",
              "      <td>70</td>\n",
              "      <td>12</td>\n",
              "      <td>28</td>\n",
              "      <td>10</td>\n",
              "      <td>0.0</td>\n",
              "    </tr>\n",
              "  </tbody>\n",
              "</table>\n",
              "</div>"
            ],
            "text/plain": [
              "    0   1   2   3   4    5\n",
              "0  85  92  45  27  31  0.0\n",
              "1  85  64  59  32  23  0.0\n",
              "2  86  54  33  16  54  0.0\n",
              "3  91  78  34  24  36  0.0\n",
              "4  87  70  12  28  10  0.0"
            ]
          },
          "execution_count": 271,
          "metadata": {},
          "output_type": "execute_result"
        }
      ],
      "source": [
        "X.head()"
      ]
    },
    {
      "cell_type": "code",
      "execution_count": 272,
      "metadata": {
        "colab": {
          "base_uri": "https://localhost:8080/"
        },
        "id": "NJAy7Be_vKVX",
        "outputId": "b4d85ee5-89ac-4ecf-f15c-dfb1dc87d2a3"
      },
      "outputs": [
        {
          "data": {
            "text/plain": [
              "0    1\n",
              "1    2\n",
              "2    2\n",
              "3    2\n",
              "4    2\n",
              "Name: 6, dtype: int64"
            ]
          },
          "execution_count": 272,
          "metadata": {},
          "output_type": "execute_result"
        }
      ],
      "source": [
        "y.head()"
      ]
    },
    {
      "cell_type": "code",
      "execution_count": 273,
      "metadata": {
        "id": "6hGF-8yOvKVX"
      },
      "outputs": [],
      "source": [
        "# Since version 1.3.2 XGBoost needs target columns to start with 0 value\n",
        "\n",
        "le = LabelEncoder()\n",
        "y = le.fit_transform(y)"
      ]
    },
    {
      "cell_type": "code",
      "execution_count": 274,
      "metadata": {
        "colab": {
          "base_uri": "https://localhost:8080/"
        },
        "id": "RtZ7NkoMvKVX",
        "outputId": "5b17ef91-21cb-4b49-d555-523eccbec6df"
      },
      "outputs": [
        {
          "data": {
            "text/plain": [
              "array([0, 1, 1, 1, 1, 1, 0, 0, 0, 0, 0, 0, 0, 0, 0, 0, 0, 0, 0, 0, 0, 0,\n",
              "       0, 0, 0, 0, 0, 0, 0, 0, 0, 0, 0, 0, 0, 1, 1, 1, 1, 1, 1, 1, 1, 1,\n",
              "       1, 1, 1, 1, 1, 1, 1, 1, 1, 1, 1, 1, 1, 1, 1, 1, 1, 1, 1, 1, 0, 0,\n",
              "       1, 1, 1, 1, 0, 0, 0, 0, 0, 0, 1, 1, 1, 1, 1, 1, 1, 1, 1, 1, 1, 1,\n",
              "       0, 0, 0, 0, 0, 0, 0, 0, 1, 1, 1, 1, 1, 1, 0, 0, 0, 0, 0, 0, 0, 1,\n",
              "       1, 1, 1, 1, 1, 1, 1, 1, 1, 1, 1, 1, 1, 1, 1, 1, 1, 1, 1, 1, 0, 0,\n",
              "       1, 1, 1, 1, 1, 1, 1, 1, 0, 0, 0, 0, 0, 0, 0, 0, 0, 0, 1, 1, 1, 1,\n",
              "       1, 1, 1, 1, 1, 1, 1, 1, 1, 1, 1, 1, 0, 0, 1, 0, 0, 0, 0, 0, 0, 0,\n",
              "       1, 1, 1, 1, 1, 0, 0, 1, 1, 1, 1, 1, 0, 0, 0, 0, 1, 0, 0, 0, 0, 0,\n",
              "       0, 0, 0, 0, 0, 0, 0, 0, 0, 0, 0, 0, 0, 0, 0, 0, 0, 0, 0, 1, 1, 1,\n",
              "       1, 1, 1, 1, 1, 1, 1, 1, 1, 1, 1, 1, 1, 1, 1, 1, 1, 1, 1, 1, 1, 1,\n",
              "       1, 0, 0, 0, 0, 0, 0, 1, 1, 1, 1, 1, 0, 0, 0, 0, 0, 0, 0, 0, 0, 1,\n",
              "       1, 1, 1, 1, 1, 1, 1, 0, 0, 0, 1, 1, 1, 1, 0, 1, 1, 1, 1, 1, 1, 1,\n",
              "       1, 1, 1, 1, 1, 1, 1, 1, 1, 1, 1, 1, 1, 1, 1, 1, 1, 1, 1, 1, 1, 0,\n",
              "       0, 0, 0, 0, 0, 0, 0, 0, 0, 0, 1, 1, 1, 1, 1, 1, 0, 0, 0, 0, 0, 1,\n",
              "       1, 1, 1, 1, 0, 0, 1, 1, 1, 1, 0, 1, 0, 0, 0], dtype=int64)"
            ]
          },
          "execution_count": 274,
          "metadata": {},
          "output_type": "execute_result"
        }
      ],
      "source": [
        "y"
      ]
    },
    {
      "cell_type": "code",
      "execution_count": 275,
      "metadata": {
        "colab": {
          "base_uri": "https://localhost:8080/"
        },
        "id": "Ryh_VNofvKVX",
        "outputId": "a294b4d4-2a37-42fe-d6cc-1d7dd89afc76"
      },
      "outputs": [
        {
          "name": "stdout",
          "output_type": "stream",
          "text": [
            "--------- AdaBoost on Liver Dataset ---------\n",
            "[0.8        0.74285714 0.6        0.8        0.68571429 0.82352941\n",
            " 0.76470588 0.64705882 0.70588235 0.76470588 0.77142857 0.54285714\n",
            " 0.48571429 0.8        0.65714286 0.73529412 0.88235294 0.64705882\n",
            " 0.73529412 0.79411765 0.77142857 0.6        0.68571429 0.82857143\n",
            " 0.74285714 0.73529412 0.79411765 0.58823529 0.64705882 0.76470588\n",
            " 0.77142857 0.8        0.65714286 0.77142857 0.74285714 0.79411765\n",
            " 0.55882353 0.76470588 0.82352941 0.67647059 0.77142857 0.77142857\n",
            " 0.74285714 0.62857143 0.8        0.76470588 0.67647059 0.64705882\n",
            " 0.73529412 0.73529412 0.71428571 0.77142857 0.74285714 0.68571429\n",
            " 0.71428571 0.73529412 0.73529412 0.76470588 0.61764706 0.64705882\n",
            " 0.77142857 0.91428571 0.65714286 0.65714286 0.68571429 0.76470588\n",
            " 0.70588235 0.79411765 0.79411765 0.67647059 0.77142857 0.62857143\n",
            " 0.82857143 0.82857143 0.68571429 0.79411765 0.79411765 0.64705882\n",
            " 0.67647059 0.70588235 0.77142857 0.77142857 0.77142857 0.8\n",
            " 0.68571429 0.61764706 0.76470588 0.76470588 0.73529412 0.70588235\n",
            " 0.65714286 0.71428571 0.8        0.65714286 0.77142857 0.88235294\n",
            " 0.73529412 0.70588235 0.76470588 0.70588235]\n",
            "Accuracy: 72.87% (7.41%)\n",
            "Execution Time: 6.75 seconds\n",
            "------------------------------\n",
            "--------- GradBoost on Liver Dataset ---------\n",
            "[0.88571429 0.77142857 0.74285714 0.71428571 0.71428571 0.82352941\n",
            " 0.73529412 0.67647059 0.61764706 0.64705882 0.8        0.65714286\n",
            " 0.65714286 0.82857143 0.71428571 0.67647059 0.79411765 0.70588235\n",
            " 0.61764706 0.79411765 0.74285714 0.68571429 0.77142857 0.77142857\n",
            " 0.77142857 0.79411765 0.88235294 0.70588235 0.64705882 0.73529412\n",
            " 0.74285714 0.65714286 0.68571429 0.8        0.8        0.88235294\n",
            " 0.52941176 0.67647059 0.79411765 0.61764706 0.82857143 0.74285714\n",
            " 0.71428571 0.68571429 0.82857143 0.76470588 0.76470588 0.67647059\n",
            " 0.79411765 0.64705882 0.65714286 0.8        0.77142857 0.68571429\n",
            " 0.8        0.73529412 0.70588235 0.73529412 0.64705882 0.64705882\n",
            " 0.71428571 0.8        0.6        0.65714286 0.71428571 0.67647059\n",
            " 0.61764706 0.76470588 0.79411765 0.70588235 0.8        0.62857143\n",
            " 0.88571429 0.8        0.77142857 0.82352941 0.67647059 0.58823529\n",
            " 0.67647059 0.70588235 0.8        0.74285714 0.68571429 0.8\n",
            " 0.74285714 0.67647059 0.64705882 0.70588235 0.64705882 0.73529412\n",
            " 0.71428571 0.82857143 0.71428571 0.62857143 0.65714286 0.88235294\n",
            " 0.76470588 0.67647059 0.79411765 0.73529412]\n",
            "Accuracy: 72.88% (7.33%)\n",
            "Execution Time: 9.03 seconds\n",
            "------------------------------\n",
            "--------- CatBoost on Liver Dataset ---------\n",
            "[0.94285714 0.74285714 0.62857143 0.74285714 0.77142857 0.82352941\n",
            " 0.67647059 0.70588235 0.73529412 0.61764706 0.82857143 0.71428571\n",
            " 0.65714286 0.8        0.77142857 0.82352941 0.76470588 0.70588235\n",
            " 0.67647059 0.79411765 0.74285714 0.68571429 0.74285714 0.8\n",
            " 0.88571429 0.76470588 0.79411765 0.67647059 0.73529412 0.79411765\n",
            " 0.77142857 0.74285714 0.77142857 0.88571429 0.8        0.73529412\n",
            " 0.55882353 0.76470588 0.76470588 0.70588235 0.74285714 0.74285714\n",
            " 0.71428571 0.71428571 0.8        0.76470588 0.70588235 0.70588235\n",
            " 0.76470588 0.79411765 0.74285714 0.8        0.77142857 0.68571429\n",
            " 0.71428571 0.82352941 0.70588235 0.76470588 0.67647059 0.73529412\n",
            " 0.71428571 0.8        0.74285714 0.62857143 0.65714286 0.61764706\n",
            " 0.64705882 0.85294118 0.91176471 0.70588235 0.8        0.71428571\n",
            " 0.88571429 0.8        0.8        0.76470588 0.73529412 0.67647059\n",
            " 0.67647059 0.73529412 0.68571429 0.74285714 0.85714286 0.8\n",
            " 0.65714286 0.73529412 0.70588235 0.70588235 0.61764706 0.76470588\n",
            " 0.68571429 0.8        0.77142857 0.62857143 0.71428571 0.88235294\n",
            " 0.82352941 0.73529412 0.79411765 0.70588235]\n",
            "Accuracy: 74.60% (6.90%)\n",
            "Execution Time: 139.54 seconds\n",
            "------------------------------\n",
            "--------- LightGBM on Liver Dataset ---------\n",
            "[0.85714286 0.74285714 0.8        0.71428571 0.71428571 0.79411765\n",
            " 0.67647059 0.64705882 0.58823529 0.64705882 0.74285714 0.74285714\n",
            " 0.68571429 0.77142857 0.77142857 0.70588235 0.79411765 0.70588235\n",
            " 0.73529412 0.73529412 0.74285714 0.65714286 0.8        0.8\n",
            " 0.85714286 0.76470588 0.76470588 0.70588235 0.67647059 0.70588235\n",
            " 0.8        0.82857143 0.74285714 0.8        0.65714286 0.73529412\n",
            " 0.61764706 0.67647059 0.70588235 0.64705882 0.74285714 0.82857143\n",
            " 0.77142857 0.65714286 0.71428571 0.82352941 0.64705882 0.55882353\n",
            " 0.73529412 0.76470588 0.68571429 0.8        0.74285714 0.68571429\n",
            " 0.8        0.67647059 0.79411765 0.61764706 0.64705882 0.67647059\n",
            " 0.68571429 0.82857143 0.65714286 0.65714286 0.65714286 0.64705882\n",
            " 0.55882353 0.91176471 0.82352941 0.64705882 0.77142857 0.6\n",
            " 0.77142857 0.77142857 0.77142857 0.76470588 0.70588235 0.55882353\n",
            " 0.67647059 0.85294118 0.74285714 0.68571429 0.74285714 0.82857143\n",
            " 0.65714286 0.70588235 0.70588235 0.64705882 0.61764706 0.67647059\n",
            " 0.74285714 0.77142857 0.85714286 0.57142857 0.6        0.88235294\n",
            " 0.67647059 0.70588235 0.61764706 0.76470588]\n",
            "Accuracy: 72.15% (7.65%)\n",
            "Execution Time: 2.41 seconds\n",
            "------------------------------\n",
            "--------- XGBoost on Liver Dataset ---------\n",
            "[0.82857143 0.82857143 0.71428571 0.74285714 0.8        0.82352941\n",
            " 0.61764706 0.64705882 0.61764706 0.64705882 0.74285714 0.68571429\n",
            " 0.65714286 0.71428571 0.68571429 0.64705882 0.73529412 0.67647059\n",
            " 0.70588235 0.79411765 0.68571429 0.62857143 0.77142857 0.71428571\n",
            " 0.85714286 0.79411765 0.73529412 0.67647059 0.58823529 0.73529412\n",
            " 0.8        0.68571429 0.74285714 0.74285714 0.71428571 0.73529412\n",
            " 0.64705882 0.67647059 0.73529412 0.76470588 0.74285714 0.74285714\n",
            " 0.71428571 0.71428571 0.71428571 0.79411765 0.70588235 0.55882353\n",
            " 0.79411765 0.70588235 0.68571429 0.74285714 0.74285714 0.68571429\n",
            " 0.77142857 0.73529412 0.76470588 0.73529412 0.64705882 0.73529412\n",
            " 0.62857143 0.74285714 0.65714286 0.62857143 0.62857143 0.70588235\n",
            " 0.55882353 0.85294118 0.76470588 0.70588235 0.8        0.6\n",
            " 0.8        0.74285714 0.71428571 0.73529412 0.67647059 0.58823529\n",
            " 0.64705882 0.76470588 0.77142857 0.65714286 0.71428571 0.77142857\n",
            " 0.68571429 0.67647059 0.64705882 0.58823529 0.61764706 0.67647059\n",
            " 0.68571429 0.77142857 0.82857143 0.57142857 0.65714286 0.88235294\n",
            " 0.70588235 0.67647059 0.67647059 0.76470588]\n",
            "Accuracy: 71.15% (6.81%)\n",
            "Execution Time: 3.53 seconds\n",
            "------------------------------\n"
          ]
        }
      ],
      "source": [
        "liver_scores = []\n",
        "liver_mean = []\n",
        "liver_std = []\n",
        "model_names = []\n",
        "execution_times = []\n",
        "\n",
        "for name, clf in zip(names, classifiers):\n",
        "  start_time = time.time()\n",
        "  results = cross_val_score(clf, X, y, cv=rskf)\n",
        "  end_time = time.time()\n",
        "\n",
        "  liver_scores.append(results)\n",
        "  liver_mean.append(results.mean()*100)\n",
        "  liver_std.append(results.std()*100)\n",
        "  model_names.append(name)\n",
        "  execution_time = end_time - start_time  \n",
        "  execution_times.append(execution_time)\n",
        "\n",
        "  print(f'--------- {name} on Liver Dataset ---------')\n",
        "  print(results)\n",
        "  print('Accuracy: %.2f%% (%.2f%%)' % (results.mean()*100, results.std()*100))\n",
        "  print(f'Execution Time: {execution_time:.2f} seconds')\n",
        "  print('------------------------------')"
      ]
    },
    {
      "cell_type": "code",
      "execution_count": 276,
      "metadata": {
        "colab": {
          "base_uri": "https://localhost:8080/"
        },
        "id": "re7BlRaivKVX",
        "outputId": "7c99c618-81ba-4156-d2af-76223bb17614"
      },
      "outputs": [
        {
          "data": {
            "text/plain": [
              "[72.86974789915966,\n",
              " 72.87899159663866,\n",
              " 74.59579831932773,\n",
              " 72.14621848739496,\n",
              " 71.1453781512605]"
            ]
          },
          "execution_count": 276,
          "metadata": {},
          "output_type": "execute_result"
        }
      ],
      "source": [
        "liver_mean"
      ]
    },
    {
      "cell_type": "code",
      "execution_count": 277,
      "metadata": {
        "colab": {
          "base_uri": "https://localhost:8080/"
        },
        "id": "DVDWY-qcvKVX",
        "outputId": "9fb98db5-3da9-449c-9a4d-4605b894b8a0"
      },
      "outputs": [
        {
          "data": {
            "text/plain": [
              "[7.414006930412971,\n",
              " 7.33321839875865,\n",
              " 6.89718592223879,\n",
              " 7.651263226871813,\n",
              " 6.813355571039844]"
            ]
          },
          "execution_count": 277,
          "metadata": {},
          "output_type": "execute_result"
        }
      ],
      "source": [
        "liver_std"
      ]
    },
    {
      "cell_type": "code",
      "execution_count": 278,
      "metadata": {
        "colab": {
          "base_uri": "https://localhost:8080/",
          "height": 478
        },
        "id": "MLVctbxsvKVX",
        "outputId": "8a5f5160-3e61-4562-8db0-361e191b318e"
      },
      "outputs": [
        {
          "data": {
            "image/png": "[encoded data removed]",
            "text/plain": [
              "<Figure size 640x480 with 1 Axes>"
            ]
          },
          "metadata": {},
          "output_type": "display_data"
        }
      ],
      "source": [
        "# algorithm comparison\n",
        "\n",
        "fig = plt.figure()\n",
        "fig.suptitle('Comparison between different Liver scores')\n",
        "ax = fig.add_subplot(111)\n",
        "plt.ylim(0.3, 1)\n",
        "plt.boxplot(liver_scores, showmeans=True)\n",
        "ax.set_xticklabels(model_names)\n",
        "plt.show()"
      ]
    },
    {
      "cell_type": "code",
      "execution_count": 279,
      "metadata": {
        "id": "nNgkB5ezvKVY"
      },
      "outputs": [],
      "source": [
        "Algo_results['Liver'] = liver_mean"
      ]
    },
    {
      "cell_type": "code",
      "execution_count": 280,
      "metadata": {
        "colab": {
          "base_uri": "https://localhost:8080/",
          "height": 206
        },
        "id": "2JspZLZGvKVY",
        "outputId": "3c76128e-1bb8-4586-9d70-78d6b2407b5c"
      },
      "outputs": [
        {
          "data": {
            "text/html": [
              "<div>\n",
              "<style scoped>\n",
              "    .dataframe tbody tr th:only-of-type {\n",
              "        vertical-align: middle;\n",
              "    }\n",
              "\n",
              "    .dataframe tbody tr th {\n",
              "        vertical-align: top;\n",
              "    }\n",
              "\n",
              "    .dataframe thead th {\n",
              "        text-align: right;\n",
              "    }\n",
              "</style>\n",
              "<table border=\"1\" class=\"dataframe\">\n",
              "  <thead>\n",
              "    <tr style=\"text-align: right;\">\n",
              "      <th></th>\n",
              "      <th>Names</th>\n",
              "      <th>Wine</th>\n",
              "      <th>Breast_Cancer</th>\n",
              "      <th>Sonar</th>\n",
              "      <th>Ionosphere</th>\n",
              "      <th>TicTacToe</th>\n",
              "      <th>Bupa</th>\n",
              "      <th>Pima</th>\n",
              "      <th>Heart</th>\n",
              "      <th>Liver</th>\n",
              "    </tr>\n",
              "  </thead>\n",
              "  <tbody>\n",
              "    <tr>\n",
              "      <th>0</th>\n",
              "      <td>AdaBoost</td>\n",
              "      <td>91.696078</td>\n",
              "      <td>95.620631</td>\n",
              "      <td>82.040476</td>\n",
              "      <td>92.931746</td>\n",
              "      <td>73.999781</td>\n",
              "      <td>72.869748</td>\n",
              "      <td>75.099624</td>\n",
              "      <td>80.000000</td>\n",
              "      <td>72.869748</td>\n",
              "    </tr>\n",
              "    <tr>\n",
              "      <th>1</th>\n",
              "      <td>GradBoost</td>\n",
              "      <td>94.486928</td>\n",
              "      <td>96.706948</td>\n",
              "      <td>83.326190</td>\n",
              "      <td>93.359524</td>\n",
              "      <td>64.270395</td>\n",
              "      <td>72.965546</td>\n",
              "      <td>76.206254</td>\n",
              "      <td>80.000000</td>\n",
              "      <td>72.878992</td>\n",
              "    </tr>\n",
              "    <tr>\n",
              "      <th>2</th>\n",
              "      <td>CatBoost</td>\n",
              "      <td>97.852941</td>\n",
              "      <td>97.173274</td>\n",
              "      <td>86.102381</td>\n",
              "      <td>93.672222</td>\n",
              "      <td>51.880154</td>\n",
              "      <td>74.595798</td>\n",
              "      <td>76.308612</td>\n",
              "      <td>82.333333</td>\n",
              "      <td>74.595798</td>\n",
              "    </tr>\n",
              "    <tr>\n",
              "      <th>3</th>\n",
              "      <td>LightGBM</td>\n",
              "      <td>97.575163</td>\n",
              "      <td>96.792839</td>\n",
              "      <td>87.314286</td>\n",
              "      <td>93.845238</td>\n",
              "      <td>56.338487</td>\n",
              "      <td>72.146218</td>\n",
              "      <td>74.552973</td>\n",
              "      <td>81.222222</td>\n",
              "      <td>72.146218</td>\n",
              "    </tr>\n",
              "    <tr>\n",
              "      <th>4</th>\n",
              "      <td>XGBoost</td>\n",
              "      <td>96.614379</td>\n",
              "      <td>96.398551</td>\n",
              "      <td>85.240476</td>\n",
              "      <td>92.879365</td>\n",
              "      <td>45.845943</td>\n",
              "      <td>71.145378</td>\n",
              "      <td>73.916268</td>\n",
              "      <td>80.592593</td>\n",
              "      <td>71.145378</td>\n",
              "    </tr>\n",
              "  </tbody>\n",
              "</table>\n",
              "</div>"
            ],
            "text/plain": [
              "       Names       Wine  Breast_Cancer      Sonar  Ionosphere  TicTacToe  \\\n",
              "0   AdaBoost  91.696078      95.620631  82.040476   92.931746  73.999781   \n",
              "1  GradBoost  94.486928      96.706948  83.326190   93.359524  64.270395   \n",
              "2   CatBoost  97.852941      97.173274  86.102381   93.672222  51.880154   \n",
              "3   LightGBM  97.575163      96.792839  87.314286   93.845238  56.338487   \n",
              "4    XGBoost  96.614379      96.398551  85.240476   92.879365  45.845943   \n",
              "\n",
              "        Bupa       Pima      Heart      Liver  \n",
              "0  72.869748  75.099624  80.000000  72.869748  \n",
              "1  72.965546  76.206254  80.000000  72.878992  \n",
              "2  74.595798  76.308612  82.333333  74.595798  \n",
              "3  72.146218  74.552973  81.222222  72.146218  \n",
              "4  71.145378  73.916268  80.592593  71.145378  "
            ]
          },
          "execution_count": 280,
          "metadata": {},
          "output_type": "execute_result"
        }
      ],
      "source": [
        "Algo_results"
      ]
    },
    {
      "cell_type": "code",
      "execution_count": 281,
      "metadata": {
        "id": "qh9EVsZvvKVY"
      },
      "outputs": [],
      "source": [
        "Strat_Algo_results_tr = Algo_results.set_index('Names').T"
      ]
    },
    {
      "cell_type": "code",
      "execution_count": 290,
      "metadata": {
        "id": "t_BzHa_5vKVY"
      },
      "outputs": [],
      "source": [
        "Strat_Algo_results_tr.to_csv('E:\\Cursos\\MestradoCienciaComputação\\Seminario\\Datasets\\Algo_Results\\StratAlgoResults.csv', index=False)"
      ]
    },
    {
      "cell_type": "code",
      "execution_count": 283,
      "metadata": {
        "colab": {
          "base_uri": "https://localhost:8080/",
          "height": 331
        },
        "id": "KS9anfEXvKVY",
        "outputId": "806f637a-c4c6-466c-910b-5cf7f6a1a3b4"
      },
      "outputs": [
        {
          "data": {
            "text/html": [
              "<div>\n",
              "<style scoped>\n",
              "    .dataframe tbody tr th:only-of-type {\n",
              "        vertical-align: middle;\n",
              "    }\n",
              "\n",
              "    .dataframe tbody tr th {\n",
              "        vertical-align: top;\n",
              "    }\n",
              "\n",
              "    .dataframe thead th {\n",
              "        text-align: right;\n",
              "    }\n",
              "</style>\n",
              "<table border=\"1\" class=\"dataframe\">\n",
              "  <thead>\n",
              "    <tr style=\"text-align: right;\">\n",
              "      <th>Names</th>\n",
              "      <th>AdaBoost</th>\n",
              "      <th>GradBoost</th>\n",
              "      <th>CatBoost</th>\n",
              "      <th>LightGBM</th>\n",
              "      <th>XGBoost</th>\n",
              "    </tr>\n",
              "  </thead>\n",
              "  <tbody>\n",
              "    <tr>\n",
              "      <th>Wine</th>\n",
              "      <td>91.696078</td>\n",
              "      <td>94.486928</td>\n",
              "      <td>97.852941</td>\n",
              "      <td>97.575163</td>\n",
              "      <td>96.614379</td>\n",
              "    </tr>\n",
              "    <tr>\n",
              "      <th>Breast_Cancer</th>\n",
              "      <td>95.620631</td>\n",
              "      <td>96.706948</td>\n",
              "      <td>97.173274</td>\n",
              "      <td>96.792839</td>\n",
              "      <td>96.398551</td>\n",
              "    </tr>\n",
              "    <tr>\n",
              "      <th>Sonar</th>\n",
              "      <td>82.040476</td>\n",
              "      <td>83.326190</td>\n",
              "      <td>86.102381</td>\n",
              "      <td>87.314286</td>\n",
              "      <td>85.240476</td>\n",
              "    </tr>\n",
              "    <tr>\n",
              "      <th>Ionosphere</th>\n",
              "      <td>92.931746</td>\n",
              "      <td>93.359524</td>\n",
              "      <td>93.672222</td>\n",
              "      <td>93.845238</td>\n",
              "      <td>92.879365</td>\n",
              "    </tr>\n",
              "    <tr>\n",
              "      <th>TicTacToe</th>\n",
              "      <td>73.999781</td>\n",
              "      <td>64.270395</td>\n",
              "      <td>51.880154</td>\n",
              "      <td>56.338487</td>\n",
              "      <td>45.845943</td>\n",
              "    </tr>\n",
              "    <tr>\n",
              "      <th>Bupa</th>\n",
              "      <td>72.869748</td>\n",
              "      <td>72.965546</td>\n",
              "      <td>74.595798</td>\n",
              "      <td>72.146218</td>\n",
              "      <td>71.145378</td>\n",
              "    </tr>\n",
              "    <tr>\n",
              "      <th>Pima</th>\n",
              "      <td>75.099624</td>\n",
              "      <td>76.206254</td>\n",
              "      <td>76.308612</td>\n",
              "      <td>74.552973</td>\n",
              "      <td>73.916268</td>\n",
              "    </tr>\n",
              "    <tr>\n",
              "      <th>Heart</th>\n",
              "      <td>80.000000</td>\n",
              "      <td>80.000000</td>\n",
              "      <td>82.333333</td>\n",
              "      <td>81.222222</td>\n",
              "      <td>80.592593</td>\n",
              "    </tr>\n",
              "    <tr>\n",
              "      <th>Liver</th>\n",
              "      <td>72.869748</td>\n",
              "      <td>72.878992</td>\n",
              "      <td>74.595798</td>\n",
              "      <td>72.146218</td>\n",
              "      <td>71.145378</td>\n",
              "    </tr>\n",
              "  </tbody>\n",
              "</table>\n",
              "</div>"
            ],
            "text/plain": [
              "Names           AdaBoost  GradBoost   CatBoost   LightGBM    XGBoost\n",
              "Wine           91.696078  94.486928  97.852941  97.575163  96.614379\n",
              "Breast_Cancer  95.620631  96.706948  97.173274  96.792839  96.398551\n",
              "Sonar          82.040476  83.326190  86.102381  87.314286  85.240476\n",
              "Ionosphere     92.931746  93.359524  93.672222  93.845238  92.879365\n",
              "TicTacToe      73.999781  64.270395  51.880154  56.338487  45.845943\n",
              "Bupa           72.869748  72.965546  74.595798  72.146218  71.145378\n",
              "Pima           75.099624  76.206254  76.308612  74.552973  73.916268\n",
              "Heart          80.000000  80.000000  82.333333  81.222222  80.592593\n",
              "Liver          72.869748  72.878992  74.595798  72.146218  71.145378"
            ]
          },
          "execution_count": 283,
          "metadata": {},
          "output_type": "execute_result"
        }
      ],
      "source": [
        "Strat_Algo_results_tr"
      ]
    },
    {
      "cell_type": "code",
      "execution_count": 284,
      "metadata": {},
      "outputs": [],
      "source": [
        "Algo_time_results['Liver'] = pd.Series(execution_times)"
      ]
    },
    {
      "cell_type": "code",
      "execution_count": 285,
      "metadata": {},
      "outputs": [
        {
          "data": {
            "text/html": [
              "<div>\n",
              "<style scoped>\n",
              "    .dataframe tbody tr th:only-of-type {\n",
              "        vertical-align: middle;\n",
              "    }\n",
              "\n",
              "    .dataframe tbody tr th {\n",
              "        vertical-align: top;\n",
              "    }\n",
              "\n",
              "    .dataframe thead th {\n",
              "        text-align: right;\n",
              "    }\n",
              "</style>\n",
              "<table border=\"1\" class=\"dataframe\">\n",
              "  <thead>\n",
              "    <tr style=\"text-align: right;\">\n",
              "      <th></th>\n",
              "      <th>Names</th>\n",
              "      <th>Wine</th>\n",
              "      <th>Breast_Cancer</th>\n",
              "      <th>Sonar</th>\n",
              "      <th>Ionosphere</th>\n",
              "      <th>TicTacToe</th>\n",
              "      <th>Bupa</th>\n",
              "      <th>Pima</th>\n",
              "      <th>Heart</th>\n",
              "      <th>Liver</th>\n",
              "    </tr>\n",
              "  </thead>\n",
              "  <tbody>\n",
              "    <tr>\n",
              "      <th>0</th>\n",
              "      <td>AdaBoost</td>\n",
              "      <td>7.663740</td>\n",
              "      <td>6.763525</td>\n",
              "      <td>17.336914</td>\n",
              "      <td>14.721323</td>\n",
              "      <td>7.132614</td>\n",
              "      <td>6.436452</td>\n",
              "      <td>8.410844</td>\n",
              "      <td>6.165462</td>\n",
              "      <td>6.754525</td>\n",
              "    </tr>\n",
              "    <tr>\n",
              "      <th>1</th>\n",
              "      <td>GradBoost</td>\n",
              "      <td>44.714145</td>\n",
              "      <td>8.422902</td>\n",
              "      <td>72.544376</td>\n",
              "      <td>55.386888</td>\n",
              "      <td>27.543217</td>\n",
              "      <td>8.885006</td>\n",
              "      <td>18.438176</td>\n",
              "      <td>9.242087</td>\n",
              "      <td>9.025037</td>\n",
              "    </tr>\n",
              "    <tr>\n",
              "      <th>2</th>\n",
              "      <td>CatBoost</td>\n",
              "      <td>176.051039</td>\n",
              "      <td>131.680051</td>\n",
              "      <td>378.379707</td>\n",
              "      <td>315.377411</td>\n",
              "      <td>105.860007</td>\n",
              "      <td>136.621315</td>\n",
              "      <td>173.964505</td>\n",
              "      <td>147.828947</td>\n",
              "      <td>139.536585</td>\n",
              "    </tr>\n",
              "    <tr>\n",
              "      <th>3</th>\n",
              "      <td>LightGBM</td>\n",
              "      <td>4.273965</td>\n",
              "      <td>4.468008</td>\n",
              "      <td>2.350529</td>\n",
              "      <td>4.179942</td>\n",
              "      <td>12.158745</td>\n",
              "      <td>2.173491</td>\n",
              "      <td>4.773077</td>\n",
              "      <td>2.377537</td>\n",
              "      <td>2.410544</td>\n",
              "    </tr>\n",
              "    <tr>\n",
              "      <th>4</th>\n",
              "      <td>XGBoost</td>\n",
              "      <td>3.890878</td>\n",
              "      <td>3.221727</td>\n",
              "      <td>5.584261</td>\n",
              "      <td>4.841093</td>\n",
              "      <td>12.432807</td>\n",
              "      <td>3.263736</td>\n",
              "      <td>5.413222</td>\n",
              "      <td>3.655824</td>\n",
              "      <td>3.530435</td>\n",
              "    </tr>\n",
              "  </tbody>\n",
              "</table>\n",
              "</div>"
            ],
            "text/plain": [
              "       Names        Wine  Breast_Cancer       Sonar  Ionosphere   TicTacToe  \\\n",
              "0   AdaBoost    7.663740       6.763525   17.336914   14.721323    7.132614   \n",
              "1  GradBoost   44.714145       8.422902   72.544376   55.386888   27.543217   \n",
              "2   CatBoost  176.051039     131.680051  378.379707  315.377411  105.860007   \n",
              "3   LightGBM    4.273965       4.468008    2.350529    4.179942   12.158745   \n",
              "4    XGBoost    3.890878       3.221727    5.584261    4.841093   12.432807   \n",
              "\n",
              "         Bupa        Pima       Heart       Liver  \n",
              "0    6.436452    8.410844    6.165462    6.754525  \n",
              "1    8.885006   18.438176    9.242087    9.025037  \n",
              "2  136.621315  173.964505  147.828947  139.536585  \n",
              "3    2.173491    4.773077    2.377537    2.410544  \n",
              "4    3.263736    5.413222    3.655824    3.530435  "
            ]
          },
          "execution_count": 285,
          "metadata": {},
          "output_type": "execute_result"
        }
      ],
      "source": [
        "Algo_time_results"
      ]
    },
    {
      "cell_type": "code",
      "execution_count": 311,
      "metadata": {},
      "outputs": [],
      "source": [
        "Strat_Algo_time_results_tr = Algo_time_results.set_index('Names').T"
      ]
    },
    {
      "cell_type": "code",
      "execution_count": 312,
      "metadata": {},
      "outputs": [],
      "source": [
        "Strat_Algo_time_results_tr.to_csv('E:\\Cursos\\MestradoCienciaComputação\\Seminario\\Datasets\\Algo_Results\\StratAlgoTimeResults.csv', index=False)"
      ]
    },
    {
      "cell_type": "markdown",
      "metadata": {
        "id": "ZLQPG_4_CPeb"
      },
      "source": [
        "---"
      ]
    },
    {
      "cell_type": "markdown",
      "metadata": {
        "id": "sNRpYB2ACPec"
      },
      "source": [
        "# **Friedman's Test**"
      ]
    },
    {
      "cell_type": "markdown",
      "metadata": {
        "id": "bBxR_e77CPec"
      },
      "source": [
        "---"
      ]
    },
    {
      "cell_type": "code",
      "execution_count": null,
      "metadata": {
        "colab": {
          "base_uri": "https://localhost:8080/"
        },
        "id": "Bzs7malXCPec",
        "outputId": "7e0b6e41-5ec4-42df-f14c-59541a23e080"
      },
      "outputs": [
        {
          "name": "stdout",
          "output_type": "stream",
          "text": [
            "Collecting scikit-posthocs\n",
            "  Downloading scikit_posthocs-0.7.0-py3-none-any.whl (38 kB)\n",
            "Requirement already satisfied: numpy in /usr/local/lib/python3.10/dist-packages (from scikit-posthocs) (1.23.5)\n",
            "Requirement already satisfied: scipy in /usr/local/lib/python3.10/dist-packages (from scikit-posthocs) (1.10.1)\n",
            "Requirement already satisfied: statsmodels in /usr/local/lib/python3.10/dist-packages (from scikit-posthocs) (0.14.0)\n",
            "Requirement already satisfied: pandas>=0.20.0 in /usr/local/lib/python3.10/dist-packages (from scikit-posthocs) (1.5.3)\n",
            "Requirement already satisfied: seaborn in /usr/local/lib/python3.10/dist-packages (from scikit-posthocs) (0.12.2)\n",
            "Requirement already satisfied: matplotlib in /usr/local/lib/python3.10/dist-packages (from scikit-posthocs) (3.7.1)\n",
            "Requirement already satisfied: python-dateutil>=2.8.1 in /usr/local/lib/python3.10/dist-packages (from pandas>=0.20.0->scikit-posthocs) (2.8.2)\n",
            "Requirement already satisfied: pytz>=2020.1 in /usr/local/lib/python3.10/dist-packages (from pandas>=0.20.0->scikit-posthocs) (2023.3)\n",
            "Requirement already satisfied: contourpy>=1.0.1 in /usr/local/lib/python3.10/dist-packages (from matplotlib->scikit-posthocs) (1.1.0)\n",
            "Requirement already satisfied: cycler>=0.10 in /usr/local/lib/python3.10/dist-packages (from matplotlib->scikit-posthocs) (0.11.0)\n",
            "Requirement already satisfied: fonttools>=4.22.0 in /usr/local/lib/python3.10/dist-packages (from matplotlib->scikit-posthocs) (4.42.1)\n",
            "Requirement already satisfied: kiwisolver>=1.0.1 in /usr/local/lib/python3.10/dist-packages (from matplotlib->scikit-posthocs) (1.4.4)\n",
            "Requirement already satisfied: packaging>=20.0 in /usr/local/lib/python3.10/dist-packages (from matplotlib->scikit-posthocs) (23.1)\n",
            "Requirement already satisfied: pillow>=6.2.0 in /usr/local/lib/python3.10/dist-packages (from matplotlib->scikit-posthocs) (9.4.0)\n",
            "Requirement already satisfied: pyparsing>=2.3.1 in /usr/local/lib/python3.10/dist-packages (from matplotlib->scikit-posthocs) (3.1.1)\n",
            "Requirement already satisfied: patsy>=0.5.2 in /usr/local/lib/python3.10/dist-packages (from statsmodels->scikit-posthocs) (0.5.3)\n",
            "Requirement already satisfied: six in /usr/local/lib/python3.10/dist-packages (from patsy>=0.5.2->statsmodels->scikit-posthocs) (1.16.0)\n",
            "Installing collected packages: scikit-posthocs\n",
            "Successfully installed scikit-posthocs-0.7.0\n"
          ]
        }
      ],
      "source": [
        "!pip install scikit-posthocs"
      ]
    },
    {
      "cell_type": "code",
      "execution_count": 294,
      "metadata": {
        "id": "2wAWtQ29CPec"
      },
      "outputs": [],
      "source": [
        "import scikit_posthocs as sp\n",
        "from scipy.stats import friedmanchisquare"
      ]
    },
    {
      "cell_type": "code",
      "execution_count": 291,
      "metadata": {
        "id": "7LBtCmzBCPec"
      },
      "outputs": [],
      "source": [
        "Strat_Algo_results_tr = pd.read_csv('E:\\Cursos\\MestradoCienciaComputação\\Seminario\\Datasets\\Algo_Results\\StratAlgoResults.csv')"
      ]
    },
    {
      "cell_type": "code",
      "execution_count": 292,
      "metadata": {
        "colab": {
          "base_uri": "https://localhost:8080/",
          "height": 331
        },
        "id": "MAwFbX3iCPec",
        "outputId": "f6ce0d20-6048-43e2-c51b-fce271bd1277"
      },
      "outputs": [
        {
          "data": {
            "text/html": [
              "<div>\n",
              "<style scoped>\n",
              "    .dataframe tbody tr th:only-of-type {\n",
              "        vertical-align: middle;\n",
              "    }\n",
              "\n",
              "    .dataframe tbody tr th {\n",
              "        vertical-align: top;\n",
              "    }\n",
              "\n",
              "    .dataframe thead th {\n",
              "        text-align: right;\n",
              "    }\n",
              "</style>\n",
              "<table border=\"1\" class=\"dataframe\">\n",
              "  <thead>\n",
              "    <tr style=\"text-align: right;\">\n",
              "      <th></th>\n",
              "      <th>AdaBoost</th>\n",
              "      <th>GradBoost</th>\n",
              "      <th>CatBoost</th>\n",
              "      <th>LightGBM</th>\n",
              "      <th>XGBoost</th>\n",
              "    </tr>\n",
              "  </thead>\n",
              "  <tbody>\n",
              "    <tr>\n",
              "      <th>0</th>\n",
              "      <td>91.696078</td>\n",
              "      <td>94.486928</td>\n",
              "      <td>97.852941</td>\n",
              "      <td>97.575163</td>\n",
              "      <td>96.614379</td>\n",
              "    </tr>\n",
              "    <tr>\n",
              "      <th>1</th>\n",
              "      <td>95.620631</td>\n",
              "      <td>96.706948</td>\n",
              "      <td>97.173274</td>\n",
              "      <td>96.792839</td>\n",
              "      <td>96.398551</td>\n",
              "    </tr>\n",
              "    <tr>\n",
              "      <th>2</th>\n",
              "      <td>82.040476</td>\n",
              "      <td>83.326190</td>\n",
              "      <td>86.102381</td>\n",
              "      <td>87.314286</td>\n",
              "      <td>85.240476</td>\n",
              "    </tr>\n",
              "    <tr>\n",
              "      <th>3</th>\n",
              "      <td>92.931746</td>\n",
              "      <td>93.359524</td>\n",
              "      <td>93.672222</td>\n",
              "      <td>93.845238</td>\n",
              "      <td>92.879365</td>\n",
              "    </tr>\n",
              "    <tr>\n",
              "      <th>4</th>\n",
              "      <td>73.999781</td>\n",
              "      <td>64.270395</td>\n",
              "      <td>51.880154</td>\n",
              "      <td>56.338487</td>\n",
              "      <td>45.845943</td>\n",
              "    </tr>\n",
              "    <tr>\n",
              "      <th>5</th>\n",
              "      <td>72.869748</td>\n",
              "      <td>72.965546</td>\n",
              "      <td>74.595798</td>\n",
              "      <td>72.146218</td>\n",
              "      <td>71.145378</td>\n",
              "    </tr>\n",
              "    <tr>\n",
              "      <th>6</th>\n",
              "      <td>75.099624</td>\n",
              "      <td>76.206254</td>\n",
              "      <td>76.308612</td>\n",
              "      <td>74.552973</td>\n",
              "      <td>73.916268</td>\n",
              "    </tr>\n",
              "    <tr>\n",
              "      <th>7</th>\n",
              "      <td>80.000000</td>\n",
              "      <td>80.000000</td>\n",
              "      <td>82.333333</td>\n",
              "      <td>81.222222</td>\n",
              "      <td>80.592593</td>\n",
              "    </tr>\n",
              "    <tr>\n",
              "      <th>8</th>\n",
              "      <td>72.869748</td>\n",
              "      <td>72.878992</td>\n",
              "      <td>74.595798</td>\n",
              "      <td>72.146218</td>\n",
              "      <td>71.145378</td>\n",
              "    </tr>\n",
              "  </tbody>\n",
              "</table>\n",
              "</div>"
            ],
            "text/plain": [
              "    AdaBoost  GradBoost   CatBoost   LightGBM    XGBoost\n",
              "0  91.696078  94.486928  97.852941  97.575163  96.614379\n",
              "1  95.620631  96.706948  97.173274  96.792839  96.398551\n",
              "2  82.040476  83.326190  86.102381  87.314286  85.240476\n",
              "3  92.931746  93.359524  93.672222  93.845238  92.879365\n",
              "4  73.999781  64.270395  51.880154  56.338487  45.845943\n",
              "5  72.869748  72.965546  74.595798  72.146218  71.145378\n",
              "6  75.099624  76.206254  76.308612  74.552973  73.916268\n",
              "7  80.000000  80.000000  82.333333  81.222222  80.592593\n",
              "8  72.869748  72.878992  74.595798  72.146218  71.145378"
            ]
          },
          "execution_count": 292,
          "metadata": {},
          "output_type": "execute_result"
        }
      ],
      "source": [
        "Strat_Algo_results_tr"
      ]
    },
    {
      "cell_type": "code",
      "execution_count": 295,
      "metadata": {
        "id": "F1KgIs5_CPec"
      },
      "outputs": [],
      "source": [
        "stat, p_value = friedmanchisquare(Strat_Algo_results_tr['AdaBoost'], Strat_Algo_results_tr['GradBoost'], Strat_Algo_results_tr['CatBoost'], Strat_Algo_results_tr['LightGBM'], Strat_Algo_results_tr['XGBoost'])"
      ]
    },
    {
      "cell_type": "code",
      "execution_count": 296,
      "metadata": {
        "colab": {
          "base_uri": "https://localhost:8080/"
        },
        "id": "xX30uAgTCPec",
        "outputId": "0ff42f88-5248-46f0-b43d-892c39e5447d"
      },
      "outputs": [
        {
          "data": {
            "text/plain": [
              "0.0036451586102761494"
            ]
          },
          "execution_count": 296,
          "metadata": {},
          "output_type": "execute_result"
        }
      ],
      "source": [
        "p_value"
      ]
    },
    {
      "cell_type": "code",
      "execution_count": 297,
      "metadata": {
        "colab": {
          "base_uri": "https://localhost:8080/"
        },
        "id": "G3_rpLZXCPed",
        "outputId": "aa65de54-d522-4a8f-d8d0-0cc786c1a343"
      },
      "outputs": [
        {
          "name": "stdout",
          "output_type": "stream",
          "text": [
            "There are significant differences among the models.\n"
          ]
        }
      ],
      "source": [
        "alpha = 0.05\n",
        "if p_value < alpha:\n",
        "    print('There are significant differences among the models.')\n",
        "else:\n",
        "    print('There are no significant differences among the models.')"
      ]
    },
    {
      "cell_type": "markdown",
      "metadata": {
        "id": "MtfxEz0HCPed"
      },
      "source": [
        "---"
      ]
    },
    {
      "cell_type": "markdown",
      "metadata": {
        "id": "OY4GaDfvCPed"
      },
      "source": [
        "# **Nemenyi test**"
      ]
    },
    {
      "cell_type": "markdown",
      "metadata": {
        "id": "AKCogxoQCPed"
      },
      "source": [
        "---"
      ]
    },
    {
      "cell_type": "code",
      "execution_count": 298,
      "metadata": {
        "id": "QVZWiNBUCPed"
      },
      "outputs": [],
      "source": [
        "nemenyi_results = sp.posthoc_nemenyi_friedman(a=Strat_Algo_results_tr)"
      ]
    },
    {
      "cell_type": "code",
      "execution_count": 299,
      "metadata": {
        "colab": {
          "base_uri": "https://localhost:8080/",
          "height": 206
        },
        "id": "zOP2fohTCPed",
        "outputId": "9abd9657-924d-4068-b733-175c5536db2f"
      },
      "outputs": [
        {
          "data": {
            "text/html": [
              "<div>\n",
              "<style scoped>\n",
              "    .dataframe tbody tr th:only-of-type {\n",
              "        vertical-align: middle;\n",
              "    }\n",
              "\n",
              "    .dataframe tbody tr th {\n",
              "        vertical-align: top;\n",
              "    }\n",
              "\n",
              "    .dataframe thead th {\n",
              "        text-align: right;\n",
              "    }\n",
              "</style>\n",
              "<table border=\"1\" class=\"dataframe\">\n",
              "  <thead>\n",
              "    <tr style=\"text-align: right;\">\n",
              "      <th></th>\n",
              "      <th>AdaBoost</th>\n",
              "      <th>GradBoost</th>\n",
              "      <th>CatBoost</th>\n",
              "      <th>LightGBM</th>\n",
              "      <th>XGBoost</th>\n",
              "    </tr>\n",
              "  </thead>\n",
              "  <tbody>\n",
              "    <tr>\n",
              "      <th>AdaBoost</th>\n",
              "      <td>1.000000</td>\n",
              "      <td>0.813139</td>\n",
              "      <td>0.030006</td>\n",
              "      <td>0.517029</td>\n",
              "      <td>0.900000</td>\n",
              "    </tr>\n",
              "    <tr>\n",
              "      <th>GradBoost</th>\n",
              "      <td>0.813139</td>\n",
              "      <td>1.000000</td>\n",
              "      <td>0.337399</td>\n",
              "      <td>0.900000</td>\n",
              "      <td>0.426737</td>\n",
              "    </tr>\n",
              "    <tr>\n",
              "      <th>CatBoost</th>\n",
              "      <td>0.030006</td>\n",
              "      <td>0.337399</td>\n",
              "      <td>1.000000</td>\n",
              "      <td>0.643932</td>\n",
              "      <td>0.003195</td>\n",
              "    </tr>\n",
              "    <tr>\n",
              "      <th>LightGBM</th>\n",
              "      <td>0.517029</td>\n",
              "      <td>0.900000</td>\n",
              "      <td>0.643932</td>\n",
              "      <td>1.000000</td>\n",
              "      <td>0.166548</td>\n",
              "    </tr>\n",
              "    <tr>\n",
              "      <th>XGBoost</th>\n",
              "      <td>0.900000</td>\n",
              "      <td>0.426737</td>\n",
              "      <td>0.003195</td>\n",
              "      <td>0.166548</td>\n",
              "      <td>1.000000</td>\n",
              "    </tr>\n",
              "  </tbody>\n",
              "</table>\n",
              "</div>"
            ],
            "text/plain": [
              "           AdaBoost  GradBoost  CatBoost  LightGBM   XGBoost\n",
              "AdaBoost   1.000000   0.813139  0.030006  0.517029  0.900000\n",
              "GradBoost  0.813139   1.000000  0.337399  0.900000  0.426737\n",
              "CatBoost   0.030006   0.337399  1.000000  0.643932  0.003195\n",
              "LightGBM   0.517029   0.900000  0.643932  1.000000  0.166548\n",
              "XGBoost    0.900000   0.426737  0.003195  0.166548  1.000000"
            ]
          },
          "execution_count": 299,
          "metadata": {},
          "output_type": "execute_result"
        }
      ],
      "source": [
        "nemenyi_results"
      ]
    },
    {
      "cell_type": "code",
      "execution_count": 300,
      "metadata": {
        "colab": {
          "base_uri": "https://localhost:8080/"
        },
        "id": "AyqVbIBdCPed",
        "outputId": "140ac755-cb50-4641-91fe-e4dfb0da1013"
      },
      "outputs": [
        {
          "name": "stdout",
          "output_type": "stream",
          "text": [
            "Models 1 and 2 are not significantly different (p-value = 0.8131).\n",
            "Models 1 and 3 are significantly different (p-value = 0.0300).\n",
            "Models 1 and 4 are not significantly different (p-value = 0.5170).\n",
            "Models 1 and 5 are not significantly different (p-value = 0.9000).\n",
            "Models 2 and 3 are not significantly different (p-value = 0.3374).\n",
            "Models 2 and 4 are not significantly different (p-value = 0.9000).\n",
            "Models 2 and 5 are not significantly different (p-value = 0.4267).\n",
            "Models 3 and 4 are not significantly different (p-value = 0.6439).\n",
            "Models 3 and 5 are significantly different (p-value = 0.0032).\n",
            "Models 4 and 5 are not significantly different (p-value = 0.1665).\n"
          ]
        }
      ],
      "source": [
        "alpha = 0.05\n",
        "\n",
        "# Print p-values for all pairs of models\n",
        "for i in range(nemenyi_results.shape[0]):\n",
        "    for j in range(i + 1, nemenyi_results.shape[1]):\n",
        "        model1 = i + 1\n",
        "        model2 = j + 1\n",
        "        p_value = nemenyi_results.iloc[i, j]\n",
        "\n",
        "        if p_value < alpha:\n",
        "            print(f\"Models {model1} and {model2} are significantly different (p-value = {p_value:.4f}).\")\n",
        "        else:\n",
        "            print(f\"Models {model1} and {model2} are not significantly different (p-value = {p_value:.4f}).\")"
      ]
    },
    {
      "cell_type": "markdown",
      "metadata": {},
      "source": [
        "---"
      ]
    },
    {
      "cell_type": "markdown",
      "metadata": {},
      "source": [
        "# **Algorithms running time Friedman's Test**"
      ]
    },
    {
      "cell_type": "markdown",
      "metadata": {},
      "source": [
        "---"
      ]
    },
    {
      "cell_type": "code",
      "execution_count": 313,
      "metadata": {},
      "outputs": [],
      "source": [
        "Strat_Algo_time_results_tr = pd.read_csv('E:\\Cursos\\MestradoCienciaComputação\\Seminario\\Datasets\\Algo_Results\\StratAlgoTimeResults.csv')"
      ]
    },
    {
      "cell_type": "code",
      "execution_count": 314,
      "metadata": {},
      "outputs": [
        {
          "data": {
            "text/html": [
              "<div>\n",
              "<style scoped>\n",
              "    .dataframe tbody tr th:only-of-type {\n",
              "        vertical-align: middle;\n",
              "    }\n",
              "\n",
              "    .dataframe tbody tr th {\n",
              "        vertical-align: top;\n",
              "    }\n",
              "\n",
              "    .dataframe thead th {\n",
              "        text-align: right;\n",
              "    }\n",
              "</style>\n",
              "<table border=\"1\" class=\"dataframe\">\n",
              "  <thead>\n",
              "    <tr style=\"text-align: right;\">\n",
              "      <th></th>\n",
              "      <th>AdaBoost</th>\n",
              "      <th>GradBoost</th>\n",
              "      <th>CatBoost</th>\n",
              "      <th>LightGBM</th>\n",
              "      <th>XGBoost</th>\n",
              "    </tr>\n",
              "  </thead>\n",
              "  <tbody>\n",
              "    <tr>\n",
              "      <th>0</th>\n",
              "      <td>7.663740</td>\n",
              "      <td>44.714145</td>\n",
              "      <td>176.051039</td>\n",
              "      <td>4.273965</td>\n",
              "      <td>3.890878</td>\n",
              "    </tr>\n",
              "    <tr>\n",
              "      <th>1</th>\n",
              "      <td>6.763525</td>\n",
              "      <td>8.422902</td>\n",
              "      <td>131.680051</td>\n",
              "      <td>4.468008</td>\n",
              "      <td>3.221727</td>\n",
              "    </tr>\n",
              "    <tr>\n",
              "      <th>2</th>\n",
              "      <td>17.336914</td>\n",
              "      <td>72.544376</td>\n",
              "      <td>378.379707</td>\n",
              "      <td>2.350529</td>\n",
              "      <td>5.584261</td>\n",
              "    </tr>\n",
              "    <tr>\n",
              "      <th>3</th>\n",
              "      <td>14.721323</td>\n",
              "      <td>55.386888</td>\n",
              "      <td>315.377411</td>\n",
              "      <td>4.179942</td>\n",
              "      <td>4.841093</td>\n",
              "    </tr>\n",
              "    <tr>\n",
              "      <th>4</th>\n",
              "      <td>7.132614</td>\n",
              "      <td>27.543217</td>\n",
              "      <td>105.860007</td>\n",
              "      <td>12.158745</td>\n",
              "      <td>12.432807</td>\n",
              "    </tr>\n",
              "    <tr>\n",
              "      <th>5</th>\n",
              "      <td>6.436452</td>\n",
              "      <td>8.885006</td>\n",
              "      <td>136.621315</td>\n",
              "      <td>2.173491</td>\n",
              "      <td>3.263736</td>\n",
              "    </tr>\n",
              "    <tr>\n",
              "      <th>6</th>\n",
              "      <td>8.410844</td>\n",
              "      <td>18.438176</td>\n",
              "      <td>173.964505</td>\n",
              "      <td>4.773077</td>\n",
              "      <td>5.413222</td>\n",
              "    </tr>\n",
              "    <tr>\n",
              "      <th>7</th>\n",
              "      <td>6.165462</td>\n",
              "      <td>9.242087</td>\n",
              "      <td>147.828947</td>\n",
              "      <td>2.377537</td>\n",
              "      <td>3.655824</td>\n",
              "    </tr>\n",
              "    <tr>\n",
              "      <th>8</th>\n",
              "      <td>6.754525</td>\n",
              "      <td>9.025037</td>\n",
              "      <td>139.536585</td>\n",
              "      <td>2.410544</td>\n",
              "      <td>3.530435</td>\n",
              "    </tr>\n",
              "  </tbody>\n",
              "</table>\n",
              "</div>"
            ],
            "text/plain": [
              "    AdaBoost  GradBoost    CatBoost   LightGBM    XGBoost\n",
              "0   7.663740  44.714145  176.051039   4.273965   3.890878\n",
              "1   6.763525   8.422902  131.680051   4.468008   3.221727\n",
              "2  17.336914  72.544376  378.379707   2.350529   5.584261\n",
              "3  14.721323  55.386888  315.377411   4.179942   4.841093\n",
              "4   7.132614  27.543217  105.860007  12.158745  12.432807\n",
              "5   6.436452   8.885006  136.621315   2.173491   3.263736\n",
              "6   8.410844  18.438176  173.964505   4.773077   5.413222\n",
              "7   6.165462   9.242087  147.828947   2.377537   3.655824\n",
              "8   6.754525   9.025037  139.536585   2.410544   3.530435"
            ]
          },
          "execution_count": 314,
          "metadata": {},
          "output_type": "execute_result"
        }
      ],
      "source": [
        "Strat_Algo_time_results_tr"
      ]
    },
    {
      "cell_type": "code",
      "execution_count": 315,
      "metadata": {},
      "outputs": [],
      "source": [
        "stat, p_value = friedmanchisquare(Strat_Algo_time_results_tr['AdaBoost'], Strat_Algo_time_results_tr['GradBoost'], Strat_Algo_time_results_tr['CatBoost'], Strat_Algo_time_results_tr['LightGBM'], Strat_Algo_time_results_tr['XGBoost'])"
      ]
    },
    {
      "cell_type": "code",
      "execution_count": 316,
      "metadata": {},
      "outputs": [
        {
          "data": {
            "text/plain": [
              "1.427247840702767e-06"
            ]
          },
          "execution_count": 316,
          "metadata": {},
          "output_type": "execute_result"
        }
      ],
      "source": [
        "p_value"
      ]
    },
    {
      "cell_type": "code",
      "execution_count": 317,
      "metadata": {},
      "outputs": [
        {
          "name": "stdout",
          "output_type": "stream",
          "text": [
            "There are significant differences among the models.\n"
          ]
        }
      ],
      "source": [
        "alpha = 0.05\n",
        "if p_value < alpha:\n",
        "    print('There are significant differences among the models.')\n",
        "else:\n",
        "    print('There are no significant differences among the models.')"
      ]
    },
    {
      "cell_type": "markdown",
      "metadata": {},
      "source": [
        "---"
      ]
    },
    {
      "cell_type": "markdown",
      "metadata": {},
      "source": [
        "# **Algorithms running time Nemenyi test**"
      ]
    },
    {
      "cell_type": "markdown",
      "metadata": {},
      "source": [
        "---"
      ]
    },
    {
      "cell_type": "code",
      "execution_count": 323,
      "metadata": {},
      "outputs": [],
      "source": [
        "nemenyi_results = sp.posthoc_nemenyi_friedman(a=Strat_Algo_time_results_tr)"
      ]
    },
    {
      "cell_type": "code",
      "execution_count": 324,
      "metadata": {},
      "outputs": [
        {
          "data": {
            "text/html": [
              "<div>\n",
              "<style scoped>\n",
              "    .dataframe tbody tr th:only-of-type {\n",
              "        vertical-align: middle;\n",
              "    }\n",
              "\n",
              "    .dataframe tbody tr th {\n",
              "        vertical-align: top;\n",
              "    }\n",
              "\n",
              "    .dataframe thead th {\n",
              "        text-align: right;\n",
              "    }\n",
              "</style>\n",
              "<table border=\"1\" class=\"dataframe\">\n",
              "  <thead>\n",
              "    <tr style=\"text-align: right;\">\n",
              "      <th></th>\n",
              "      <th>AdaBoost</th>\n",
              "      <th>GradBoost</th>\n",
              "      <th>CatBoost</th>\n",
              "      <th>LightGBM</th>\n",
              "      <th>XGBoost</th>\n",
              "    </tr>\n",
              "  </thead>\n",
              "  <tbody>\n",
              "    <tr>\n",
              "      <th>AdaBoost</th>\n",
              "      <td>1.000000</td>\n",
              "      <td>0.472825</td>\n",
              "      <td>0.023982</td>\n",
              "      <td>0.297254</td>\n",
              "      <td>0.728536</td>\n",
              "    </tr>\n",
              "    <tr>\n",
              "      <th>GradBoost</th>\n",
              "      <td>0.472825</td>\n",
              "      <td>1.000000</td>\n",
              "      <td>0.643932</td>\n",
              "      <td>0.003195</td>\n",
              "      <td>0.037299</td>\n",
              "    </tr>\n",
              "    <tr>\n",
              "      <th>CatBoost</th>\n",
              "      <td>0.023982</td>\n",
              "      <td>0.643932</td>\n",
              "      <td>1.000000</td>\n",
              "      <td>0.001000</td>\n",
              "      <td>0.001000</td>\n",
              "    </tr>\n",
              "    <tr>\n",
              "      <th>LightGBM</th>\n",
              "      <td>0.297254</td>\n",
              "      <td>0.003195</td>\n",
              "      <td>0.001000</td>\n",
              "      <td>1.000000</td>\n",
              "      <td>0.900000</td>\n",
              "    </tr>\n",
              "    <tr>\n",
              "      <th>XGBoost</th>\n",
              "      <td>0.728536</td>\n",
              "      <td>0.037299</td>\n",
              "      <td>0.001000</td>\n",
              "      <td>0.900000</td>\n",
              "      <td>1.000000</td>\n",
              "    </tr>\n",
              "  </tbody>\n",
              "</table>\n",
              "</div>"
            ],
            "text/plain": [
              "           AdaBoost  GradBoost  CatBoost  LightGBM   XGBoost\n",
              "AdaBoost   1.000000   0.472825  0.023982  0.297254  0.728536\n",
              "GradBoost  0.472825   1.000000  0.643932  0.003195  0.037299\n",
              "CatBoost   0.023982   0.643932  1.000000  0.001000  0.001000\n",
              "LightGBM   0.297254   0.003195  0.001000  1.000000  0.900000\n",
              "XGBoost    0.728536   0.037299  0.001000  0.900000  1.000000"
            ]
          },
          "execution_count": 324,
          "metadata": {},
          "output_type": "execute_result"
        }
      ],
      "source": [
        "nemenyi_results"
      ]
    },
    {
      "cell_type": "code",
      "execution_count": 325,
      "metadata": {},
      "outputs": [
        {
          "name": "stdout",
          "output_type": "stream",
          "text": [
            "Models 1 and 2 are not significantly different (p-value = 0.4728).\n",
            "Models 1 and 3 are significantly different (p-value = 0.0240).\n",
            "Models 1 and 4 are not significantly different (p-value = 0.2973).\n",
            "Models 1 and 5 are not significantly different (p-value = 0.7285).\n",
            "Models 2 and 3 are not significantly different (p-value = 0.6439).\n",
            "Models 2 and 4 are significantly different (p-value = 0.0032).\n",
            "Models 2 and 5 are significantly different (p-value = 0.0373).\n",
            "Models 3 and 4 are significantly different (p-value = 0.0010).\n",
            "Models 3 and 5 are significantly different (p-value = 0.0010).\n",
            "Models 4 and 5 are not significantly different (p-value = 0.9000).\n"
          ]
        }
      ],
      "source": [
        "alpha = 0.05\n",
        "\n",
        "# Print p-values for all pairs of models\n",
        "for i in range(nemenyi_results.shape[0]):\n",
        "    for j in range(i + 1, nemenyi_results.shape[1]):\n",
        "        model1 = i + 1\n",
        "        model2 = j + 1\n",
        "        p_value = nemenyi_results.iloc[i, j]\n",
        "\n",
        "        if p_value < alpha:\n",
        "            print(f\"Models {model1} and {model2} are significantly different (p-value = {p_value:.4f}).\")\n",
        "        else:\n",
        "            print(f\"Models {model1} and {model2} are not significantly different (p-value = {p_value:.4f}).\")"
      ]
    },
    {
      "cell_type": "markdown",
      "metadata": {
        "id": "Ovui6IygCKFv"
      },
      "source": [
        "---"
      ]
    },
    {
      "cell_type": "markdown",
      "metadata": {
        "id": "Kq1yJ3_wCN2N"
      },
      "source": [
        "# **Comparison between the balanced and unbalanced dataset algorithm performance**"
      ]
    },
    {
      "cell_type": "markdown",
      "metadata": {
        "id": "IdOfaVtTCOjx"
      },
      "source": [
        "---"
      ]
    },
    {
      "cell_type": "code",
      "execution_count": 1,
      "metadata": {
        "id": "qmqT90z0XA8j"
      },
      "outputs": [],
      "source": [
        "import scipy.stats as stats"
      ]
    },
    {
      "cell_type": "code",
      "execution_count": 3,
      "metadata": {
        "id": "QlpvMAw8CLjJ"
      },
      "outputs": [],
      "source": [
        "unbalanced_df = pd.read_csv('E:\\Cursos\\MestradoCienciaComputação\\Seminario\\Datasets\\Algo_Results\\AlgoResults.csv')\n",
        "balanced_df = pd.read_csv('E:\\Cursos\\MestradoCienciaComputação\\Seminario\\Datasets\\Algo_Results\\StratAlgoResults.csv')"
      ]
    },
    {
      "cell_type": "code",
      "execution_count": 4,
      "metadata": {
        "colab": {
          "base_uri": "https://localhost:8080/"
        },
        "id": "8L_gd_NGU0Vk",
        "outputId": "38730e0f-c197-4a7a-caa1-03ff7996fd44"
      },
      "outputs": [
        {
          "name": "stdout",
          "output_type": "stream",
          "text": [
            "(9, 5)\n",
            "(9, 5)\n"
          ]
        }
      ],
      "source": [
        "print(unbalanced_df.shape)\n",
        "print(balanced_df.shape)"
      ]
    },
    {
      "cell_type": "code",
      "execution_count": 5,
      "metadata": {},
      "outputs": [
        {
          "data": {
            "text/html": [
              "<div>\n",
              "<style scoped>\n",
              "    .dataframe tbody tr th:only-of-type {\n",
              "        vertical-align: middle;\n",
              "    }\n",
              "\n",
              "    .dataframe tbody tr th {\n",
              "        vertical-align: top;\n",
              "    }\n",
              "\n",
              "    .dataframe thead th {\n",
              "        text-align: right;\n",
              "    }\n",
              "</style>\n",
              "<table border=\"1\" class=\"dataframe\">\n",
              "  <thead>\n",
              "    <tr style=\"text-align: right;\">\n",
              "      <th></th>\n",
              "      <th>AdaBoost</th>\n",
              "      <th>GradBoost</th>\n",
              "      <th>CatBoost</th>\n",
              "      <th>LightGBM</th>\n",
              "      <th>XGBoost</th>\n",
              "    </tr>\n",
              "  </thead>\n",
              "  <tbody>\n",
              "    <tr>\n",
              "      <th>0</th>\n",
              "      <td>89.830065</td>\n",
              "      <td>95.016340</td>\n",
              "      <td>97.977124</td>\n",
              "      <td>97.421569</td>\n",
              "      <td>96.676471</td>\n",
              "    </tr>\n",
              "    <tr>\n",
              "      <th>1</th>\n",
              "      <td>95.800512</td>\n",
              "      <td>96.574169</td>\n",
              "      <td>97.087170</td>\n",
              "      <td>96.632992</td>\n",
              "      <td>96.429028</td>\n",
              "    </tr>\n",
              "    <tr>\n",
              "      <th>2</th>\n",
              "      <td>83.188095</td>\n",
              "      <td>84.276190</td>\n",
              "      <td>87.152381</td>\n",
              "      <td>88.123810</td>\n",
              "      <td>85.007143</td>\n",
              "    </tr>\n",
              "    <tr>\n",
              "      <th>3</th>\n",
              "      <td>93.027778</td>\n",
              "      <td>92.943651</td>\n",
              "      <td>93.453175</td>\n",
              "      <td>93.706349</td>\n",
              "      <td>92.430159</td>\n",
              "    </tr>\n",
              "    <tr>\n",
              "      <th>4</th>\n",
              "      <td>73.707456</td>\n",
              "      <td>64.354715</td>\n",
              "      <td>51.491228</td>\n",
              "      <td>55.961513</td>\n",
              "      <td>45.988816</td>\n",
              "    </tr>\n",
              "    <tr>\n",
              "      <th>5</th>\n",
              "      <td>72.254622</td>\n",
              "      <td>72.440336</td>\n",
              "      <td>74.403361</td>\n",
              "      <td>71.801681</td>\n",
              "      <td>70.579832</td>\n",
              "    </tr>\n",
              "    <tr>\n",
              "      <th>6</th>\n",
              "      <td>75.118592</td>\n",
              "      <td>76.235988</td>\n",
              "      <td>76.249316</td>\n",
              "      <td>73.985133</td>\n",
              "      <td>73.842447</td>\n",
              "    </tr>\n",
              "    <tr>\n",
              "      <th>7</th>\n",
              "      <td>79.814815</td>\n",
              "      <td>80.074074</td>\n",
              "      <td>81.888889</td>\n",
              "      <td>80.888889</td>\n",
              "      <td>80.370370</td>\n",
              "    </tr>\n",
              "    <tr>\n",
              "      <th>8</th>\n",
              "      <td>72.254622</td>\n",
              "      <td>72.292437</td>\n",
              "      <td>74.403361</td>\n",
              "      <td>71.801681</td>\n",
              "      <td>70.579832</td>\n",
              "    </tr>\n",
              "  </tbody>\n",
              "</table>\n",
              "</div>"
            ],
            "text/plain": [
              "    AdaBoost  GradBoost   CatBoost   LightGBM    XGBoost\n",
              "0  89.830065  95.016340  97.977124  97.421569  96.676471\n",
              "1  95.800512  96.574169  97.087170  96.632992  96.429028\n",
              "2  83.188095  84.276190  87.152381  88.123810  85.007143\n",
              "3  93.027778  92.943651  93.453175  93.706349  92.430159\n",
              "4  73.707456  64.354715  51.491228  55.961513  45.988816\n",
              "5  72.254622  72.440336  74.403361  71.801681  70.579832\n",
              "6  75.118592  76.235988  76.249316  73.985133  73.842447\n",
              "7  79.814815  80.074074  81.888889  80.888889  80.370370\n",
              "8  72.254622  72.292437  74.403361  71.801681  70.579832"
            ]
          },
          "execution_count": 5,
          "metadata": {},
          "output_type": "execute_result"
        }
      ],
      "source": [
        "unbalanced_df"
      ]
    },
    {
      "cell_type": "code",
      "execution_count": 6,
      "metadata": {},
      "outputs": [
        {
          "data": {
            "text/html": [
              "<div>\n",
              "<style scoped>\n",
              "    .dataframe tbody tr th:only-of-type {\n",
              "        vertical-align: middle;\n",
              "    }\n",
              "\n",
              "    .dataframe tbody tr th {\n",
              "        vertical-align: top;\n",
              "    }\n",
              "\n",
              "    .dataframe thead th {\n",
              "        text-align: right;\n",
              "    }\n",
              "</style>\n",
              "<table border=\"1\" class=\"dataframe\">\n",
              "  <thead>\n",
              "    <tr style=\"text-align: right;\">\n",
              "      <th></th>\n",
              "      <th>AdaBoost</th>\n",
              "      <th>GradBoost</th>\n",
              "      <th>CatBoost</th>\n",
              "      <th>LightGBM</th>\n",
              "      <th>XGBoost</th>\n",
              "    </tr>\n",
              "  </thead>\n",
              "  <tbody>\n",
              "    <tr>\n",
              "      <th>0</th>\n",
              "      <td>91.696078</td>\n",
              "      <td>94.486928</td>\n",
              "      <td>97.852941</td>\n",
              "      <td>97.575163</td>\n",
              "      <td>96.614379</td>\n",
              "    </tr>\n",
              "    <tr>\n",
              "      <th>1</th>\n",
              "      <td>95.620631</td>\n",
              "      <td>96.706948</td>\n",
              "      <td>97.173274</td>\n",
              "      <td>96.792839</td>\n",
              "      <td>96.398551</td>\n",
              "    </tr>\n",
              "    <tr>\n",
              "      <th>2</th>\n",
              "      <td>82.040476</td>\n",
              "      <td>83.326190</td>\n",
              "      <td>86.102381</td>\n",
              "      <td>87.314286</td>\n",
              "      <td>85.240476</td>\n",
              "    </tr>\n",
              "    <tr>\n",
              "      <th>3</th>\n",
              "      <td>92.931746</td>\n",
              "      <td>93.359524</td>\n",
              "      <td>93.672222</td>\n",
              "      <td>93.845238</td>\n",
              "      <td>92.879365</td>\n",
              "    </tr>\n",
              "    <tr>\n",
              "      <th>4</th>\n",
              "      <td>73.999781</td>\n",
              "      <td>64.270395</td>\n",
              "      <td>51.880154</td>\n",
              "      <td>56.338487</td>\n",
              "      <td>45.845943</td>\n",
              "    </tr>\n",
              "    <tr>\n",
              "      <th>5</th>\n",
              "      <td>72.869748</td>\n",
              "      <td>72.965546</td>\n",
              "      <td>74.595798</td>\n",
              "      <td>72.146218</td>\n",
              "      <td>71.145378</td>\n",
              "    </tr>\n",
              "    <tr>\n",
              "      <th>6</th>\n",
              "      <td>75.099624</td>\n",
              "      <td>76.206254</td>\n",
              "      <td>76.308612</td>\n",
              "      <td>74.552973</td>\n",
              "      <td>73.916268</td>\n",
              "    </tr>\n",
              "    <tr>\n",
              "      <th>7</th>\n",
              "      <td>80.000000</td>\n",
              "      <td>80.000000</td>\n",
              "      <td>82.333333</td>\n",
              "      <td>81.222222</td>\n",
              "      <td>80.592593</td>\n",
              "    </tr>\n",
              "    <tr>\n",
              "      <th>8</th>\n",
              "      <td>72.869748</td>\n",
              "      <td>72.878992</td>\n",
              "      <td>74.595798</td>\n",
              "      <td>72.146218</td>\n",
              "      <td>71.145378</td>\n",
              "    </tr>\n",
              "  </tbody>\n",
              "</table>\n",
              "</div>"
            ],
            "text/plain": [
              "    AdaBoost  GradBoost   CatBoost   LightGBM    XGBoost\n",
              "0  91.696078  94.486928  97.852941  97.575163  96.614379\n",
              "1  95.620631  96.706948  97.173274  96.792839  96.398551\n",
              "2  82.040476  83.326190  86.102381  87.314286  85.240476\n",
              "3  92.931746  93.359524  93.672222  93.845238  92.879365\n",
              "4  73.999781  64.270395  51.880154  56.338487  45.845943\n",
              "5  72.869748  72.965546  74.595798  72.146218  71.145378\n",
              "6  75.099624  76.206254  76.308612  74.552973  73.916268\n",
              "7  80.000000  80.000000  82.333333  81.222222  80.592593\n",
              "8  72.869748  72.878992  74.595798  72.146218  71.145378"
            ]
          },
          "execution_count": 6,
          "metadata": {},
          "output_type": "execute_result"
        }
      ],
      "source": [
        "balanced_df"
      ]
    },
    {
      "cell_type": "code",
      "execution_count": null,
      "metadata": {
        "id": "0fCzOZ6DXSa5"
      },
      "outputs": [],
      "source": [
        "datasets = ['Wine', 'Breast Cancer', 'Sonar', 'Ionosphere', 'TicTacToe', 'Bupa', 'Pima', 'Heart', 'Liver']"
      ]
    },
    {
      "cell_type": "code",
      "execution_count": null,
      "metadata": {
        "colab": {
          "base_uri": "https://localhost:8080/"
        },
        "id": "Zw0BH8LqWjzX",
        "outputId": "256714d8-b068-4304-8d9f-9e987c1b4756"
      },
      "outputs": [
        {
          "name": "stdout",
          "output_type": "stream",
          "text": [
            "Comparison between Wine models results\n",
            "Test Statistic: 7.0\n",
            "P-value: 1.0\n",
            "Fail to reject the null hypothesis: There is no significant difference between Wine models.\n",
            "- - - - - - - - - - - - - - - - - - - - -\n",
            "Comparison between Breast Cancer models results\n",
            "Test Statistic: 6.0\n",
            "P-value: 0.8125\n",
            "Fail to reject the null hypothesis: There is no significant difference between Breast Cancer models.\n",
            "- - - - - - - - - - - - - - - - - - - - -\n",
            "Comparison between Sonar models results\n",
            "Test Statistic: 1.0\n",
            "P-value: 0.125\n",
            "Fail to reject the null hypothesis: There is no significant difference between Sonar models.\n",
            "- - - - - - - - - - - - - - - - - - - - -\n",
            "Comparison between Ionosphere models results\n",
            "Test Statistic: 1.0\n",
            "P-value: 0.125\n",
            "Fail to reject the null hypothesis: There is no significant difference between Ionosphere models.\n",
            "- - - - - - - - - - - - - - - - - - - - -\n",
            "Comparison between TicTacToe models results\n",
            "Test Statistic: 3.0\n",
            "P-value: 0.3125\n",
            "Fail to reject the null hypothesis: There is no significant difference between TicTacToe models.\n",
            "- - - - - - - - - - - - - - - - - - - - -\n",
            "Comparison between Bupa models results\n",
            "Test Statistic: 0.0\n",
            "P-value: 0.0625\n",
            "Fail to reject the null hypothesis: There is no significant difference between Bupa models.\n",
            "- - - - - - - - - - - - - - - - - - - - -\n",
            "Comparison between Pima models results\n",
            "Test Statistic: 1.0\n",
            "P-value: 0.125\n",
            "Fail to reject the null hypothesis: There is no significant difference between Pima models.\n",
            "- - - - - - - - - - - - - - - - - - - - -\n",
            "Comparison between Heart models results\n",
            "Test Statistic: 1.0\n",
            "P-value: 0.125\n",
            "Fail to reject the null hypothesis: There is no significant difference between Heart models.\n",
            "- - - - - - - - - - - - - - - - - - - - -\n",
            "Comparison between Liver models results\n",
            "Test Statistic: 0.0\n",
            "P-value: 0.0625\n",
            "Fail to reject the null hypothesis: There is no significant difference between Liver models.\n",
            "- - - - - - - - - - - - - - - - - - - - -\n"
          ]
        }
      ],
      "source": [
        "for i, name in enumerate(datasets):\n",
        "  # Creating two lists of paired data\n",
        "  before = unbalanced_df.iloc[i, :]\n",
        "  after = balanced_df.iloc[i, :]\n",
        "\n",
        "  # Performing the Wilcoxon signed-rank test\n",
        "  statistic, p_value = stats.wilcoxon(before, after)\n",
        "\n",
        "  print (f'Comparison between {name} models results')\n",
        "\n",
        "  # Printing the test statistic and p-value\n",
        "  print(f\"Test Statistic: {statistic}\")\n",
        "  print(f\"P-value: {p_value}\")\n",
        "\n",
        "  # Interpreting the results\n",
        "  alpha = 0.05\n",
        "  if p_value < alpha:\n",
        "      print(f'Reject the null hypothesis: There is a significant difference between {name} models.')\n",
        "  else:\n",
        "      print(f'Fail to reject the null hypothesis: There is no significant difference between {name} models.')\n",
        "  print ('- - - - - - - - - - - - - - - - - - - - -')"
      ]
    }
  ],
  "metadata": {
    "colab": {
      "authorship_tag": "ABX9TyNFYjysocotleN4v8hqG0Oa",
      "include_colab_link": true,
      "provenance": []
    },
    "kernelspec": {
      "display_name": "Python 3",
      "name": "python3"
    },
    "language_info": {
      "codemirror_mode": {
        "name": "ipython",
        "version": 3
      },
      "file_extension": ".py",
      "mimetype": "text/x-python",
      "name": "python",
      "nbconvert_exporter": "python",
      "pygments_lexer": "ipython3",
      "version": "3.9.17"
    }
  },
  "nbformat": 4,
  "nbformat_minor": 0
}
